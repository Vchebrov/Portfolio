{
 "cells": [
  {
   "cell_type": "code",
   "execution_count": null,
   "metadata": {
    "scrolled": false
   },
   "outputs": [],
   "source": [
    "print ('Hello' + 'World!')"
   ]
  },
  {
   "cell_type": "code",
   "execution_count": null,
   "metadata": {
    "scrolled": true
   },
   "outputs": [],
   "source": [
    "print(((67+33)*(25-20))/25)"
   ]
  },
  {
   "cell_type": "code",
   "execution_count": null,
   "metadata": {},
   "outputs": [],
   "source": [
    "print((4+5*60-17+65/4)**(1/2))\n"
   ]
  },
  {
   "cell_type": "code",
   "execution_count": null,
   "metadata": {},
   "outputs": [],
   "source": [
    "print(6.996+45*((13/2)**2)+2*(18**(1/2)))"
   ]
  },
  {
   "cell_type": "code",
   "execution_count": null,
   "metadata": {},
   "outputs": [],
   "source": [
    "a = 1267 - 20*((5**3)/2)**2\n",
    "print(a)\n",
    "b = (8**5)*(36**(1/2))\n",
    "print(b)\n",
    "\n",
    "print(a/b)\n"
   ]
  },
  {
   "cell_type": "code",
   "execution_count": null,
   "metadata": {},
   "outputs": [],
   "source": []
  },
  {
   "cell_type": "code",
   "execution_count": null,
   "metadata": {},
   "outputs": [],
   "source": [
    "a = (((((9**(1/2))**3)**2)**2))\n",
    "print(a)\n",
    "b = (-2)**(-3)\n",
    "print(b)\n",
    "print(a/b)"
   ]
  },
  {
   "cell_type": "code",
   "execution_count": null,
   "metadata": {},
   "outputs": [],
   "source": [
    "print('hey'+'!')"
   ]
  },
  {
   "cell_type": "code",
   "execution_count": null,
   "metadata": {},
   "outputs": [],
   "source": [
    "type(2+3.4)"
   ]
  },
  {
   "cell_type": "code",
   "execution_count": null,
   "metadata": {},
   "outputs": [],
   "source": [
    "'hey'+'!'"
   ]
  },
  {
   "cell_type": "code",
   "execution_count": null,
   "metadata": {},
   "outputs": [],
   "source": [
    "5+0.7"
   ]
  },
  {
   "cell_type": "code",
   "execution_count": null,
   "metadata": {},
   "outputs": [],
   "source": [
    "str(int(float('2.4')))"
   ]
  },
  {
   "cell_type": "code",
   "execution_count": null,
   "metadata": {},
   "outputs": [],
   "source": [
    "type(4 ** (1/2))"
   ]
  },
  {
   "cell_type": "code",
   "execution_count": null,
   "metadata": {},
   "outputs": [],
   "source": [
    "4 ** (1/2)"
   ]
  },
  {
   "cell_type": "code",
   "execution_count": null,
   "metadata": {},
   "outputs": [],
   "source": [
    "'42'*2"
   ]
  },
  {
   "cell_type": "code",
   "execution_count": null,
   "metadata": {},
   "outputs": [],
   "source": [
    " type('I' + 'love' + 'Python')"
   ]
  },
  {
   "cell_type": "code",
   "execution_count": null,
   "metadata": {},
   "outputs": [],
   "source": [
    "word = 'Очаровательно'\n",
    "print(len(word)"
   ]
  },
  {
   "cell_type": "code",
   "execution_count": null,
   "metadata": {},
   "outputs": [],
   "source": [
    "a = 117\n",
    "b = 23\n",
    "print(a%b)"
   ]
  },
  {
   "cell_type": "code",
   "execution_count": null,
   "metadata": {},
   "outputs": [],
   "source": [
    "a = 12\n",
    "b = 17\n",
    "c = 25\n",
    "print((a*b*c)**(1/3))\n",
    "\n",
    "\n"
   ]
  },
  {
   "cell_type": "code",
   "execution_count": null,
   "metadata": {},
   "outputs": [],
   "source": [
    "x = 100500.0\n",
    "fx = 6.996 + 45*((x/2)**2)+2*x\n",
    "print(fx)"
   ]
  },
  {
   "cell_type": "code",
   "execution_count": null,
   "metadata": {},
   "outputs": [],
   "source": [
    "weight = 80\n",
    "height = 1.8\n",
    "print(weight/(height)**2)"
   ]
  },
  {
   "cell_type": "code",
   "execution_count": null,
   "metadata": {},
   "outputs": [],
   "source": [
    "a = 270.0\n",
    "b = 12.8\n",
    "print(((a+b)/2)**(1/3))"
   ]
  },
  {
   "cell_type": "code",
   "execution_count": null,
   "metadata": {},
   "outputs": [],
   "source": [
    "a = 23\n",
    "b = a*3\n",
    "print('Вы ввели число, которое при умножении на 3 даёт',b)"
   ]
  },
  {
   "cell_type": "code",
   "execution_count": null,
   "metadata": {},
   "outputs": [],
   "source": [
    "string_1 = 'Hello, world'\n",
    "string_2 = 'Python <3'\n",
    "string_3 = 'qwerty'\n",
    "print((len(string_1)*len(string_2)*len(string_3))**(1/3))"
   ]
  },
  {
   "cell_type": "code",
   "execution_count": null,
   "metadata": {},
   "outputs": [],
   "source": [
    "string = 'Привет!'\n",
    "power = 5\n",
    "print(string, len(string), (len(string)**power))"
   ]
  },
  {
   "cell_type": "code",
   "execution_count": null,
   "metadata": {},
   "outputs": [],
   "source": [
    "word = 'ОченьДлинноеСлово'\n",
    "if len(word)>7:\n",
    "    print('Это слово длинное')\n",
    "else:\n",
    "    print('Это слово короткое')"
   ]
  },
  {
   "cell_type": "code",
   "execution_count": null,
   "metadata": {},
   "outputs": [],
   "source": [
    "word = 'ОченьДлинноеСлово'\n",
    "letter = 'и'\n",
    "# word = 'ОченьДлинноеСлово'\n",
    "# letter = input('Insert letter:')\n",
    "if letter in word:\n",
    "    print('Выбранная буква есть в веденном слове')\n",
    "else:\n",
    "    print('Выбранной буквы нет в введённом слове')\n",
    "    "
   ]
  },
  {
   "cell_type": "code",
   "execution_count": null,
   "metadata": {},
   "outputs": [],
   "source": [
    "number = 169\n",
    "if number**(1/2)==int(number**(1/2)):\n",
    "    print(int(169**(1/2)))\n",
    "else:\n",
    "    print('Квадратный корень из {} - не целое число.'.format(number))"
   ]
  },
  {
   "cell_type": "code",
   "execution_count": null,
   "metadata": {},
   "outputs": [],
   "source": [
    "number = int(input('Insert value:'))\n",
    "number = 5\n",
    "\n",
    "if number == 1:\n",
    "    print('понедельник')\n",
    "elif number == 2:\n",
    "    print('вторник')\n",
    "elif number == 3:\n",
    "    print('среда')\n",
    "elif number == 4:\n",
    "    print('четверг')\n",
    "elif number == 5:\n",
    "    print('пятница')\n",
    "elif number == 6:\n",
    "    print('суббота')\n",
    "elif number == 7:\n",
    "    print('воскресенье')"
   ]
  },
  {
   "cell_type": "code",
   "execution_count": null,
   "metadata": {},
   "outputs": [],
   "source": [
    "# weight = float(input('insert your weight:'))\n",
    "# height = float(input('Insert your height:'))\n",
    "weight = 80\n",
    "height = 1.8\n",
    "imt = weight/height**2\n",
    "print(imt)\n",
    "\n",
    "if 18.5 < imt <= 24.99:\n",
    "    print('норма')\n",
    "elif imt < 18.5:\n",
    "    print('Недостаточная масса тела')\n",
    "elif imt>24.99:\n",
    "    print('Избыточная масса тела')\n",
    " "
   ]
  },
  {
   "cell_type": "code",
   "execution_count": null,
   "metadata": {},
   "outputs": [],
   "source": [
    "mark = int(input('insert mark:'))\n",
    "# mark = 7\n",
    "\n",
    "\n",
    "if mark < 4:\n",
    "    print('неудовлетворительно')\n",
    "elif 4 <= mark <=5:\n",
    "    print('удовлетворительно')\n",
    "elif 6 <= mark <=7:\n",
    "    print('хорошо')\n",
    "elif 8 < mark <= 10:\n",
    "    print('отлично')"
   ]
  },
  {
   "cell_type": "code",
   "execution_count": null,
   "metadata": {},
   "outputs": [],
   "source": [
    "balance = 455\n",
    "\n",
    "if balance > 5:\n",
    "    print(\"Сегодня твой выбор - ресторан!\")\n",
    "elif 2.5 < balance < 5:\n",
    "    print('Эх, только фастфуд.')\n",
    "elif balance < 2.5:\n",
    "    print('Придётся потерпеть')"
   ]
  },
  {
   "cell_type": "code",
   "execution_count": null,
   "metadata": {
    "scrolled": true
   },
   "outputs": [],
   "source": [
    "number = 452\n",
    "\n",
    "if number%2==0:\n",
    "    print('Число делится на 2 без остатка.')\n",
    "elif number%3==0:\n",
    "    print('Число делится на 3 без остатка.')\n",
    "elif number%5==0:\n",
    "    print('Число делится на 5 без остатка.')\n",
    "else:\n",
    "    print(\"Число не делится ни на 2, ни на 3, ни на 5 без остатка!\")\n",
    "        \n"
   ]
  },
  {
   "cell_type": "code",
   "execution_count": null,
   "metadata": {},
   "outputs": [],
   "source": [
    "\"Android\" > \"Apple\" or \"Apple\" > \"Android\""
   ]
  },
  {
   "cell_type": "code",
   "execution_count": null,
   "metadata": {},
   "outputs": [],
   "source": [
    "\"test\" > \"push\""
   ]
  },
  {
   "cell_type": "code",
   "execution_count": null,
   "metadata": {},
   "outputs": [],
   "source": [
    "flower = 'роза'\n",
    "color = 'фиолетовый'\n",
    "\n",
    "if flower == 'роза' and (color == 'синие' or color == 'белый') :\n",
    "    print(\"Ане понравятся эти цветы\")\n",
    "else:\n",
    "    print('Аня не фанат таких цветов')"
   ]
  },
  {
   "cell_type": "code",
   "execution_count": null,
   "metadata": {},
   "outputs": [],
   "source": [
    "height = 180\n",
    "weight = 92\n",
    "color = 'синий'\n",
    "\n",
    "if weight < 80 and height > 170 and color == 'красный':\n",
    "    print('Ваша половинка нашлась!')\n",
    "else:\n",
    "    print('Попробуем поискать ещё...')"
   ]
  },
  {
   "cell_type": "code",
   "execution_count": null,
   "metadata": {},
   "outputs": [],
   "source": [
    "number = 346\n",
    "\n",
    "if number%2 == 0 or number%5 == 0 or number%173 == 0 or number%821 == 0:\n",
    "    print('Вова, это нужное число')\n",
    "else:\n",
    "    print('Вова, в этот раз ты не попал')"
   ]
  },
  {
   "cell_type": "code",
   "execution_count": null,
   "metadata": {},
   "outputs": [],
   "source": [
    "fav_word = 'Аппликация'\n",
    "\n",
    "if fav_word == 'змея' or fav_word == 'рептилия' or fav_word == 'питон':\n",
    "    print('Python')\n",
    "elif fav_word == '+' or fav_word == '++':\n",
    "    print('C++')\n",
    "elif fav_word == 'рубин' or fav_word == 'кристалл':\n",
    "    print('Ruby')\n",
    "else:\n",
    "    print('Python')"
   ]
  },
  {
   "cell_type": "code",
   "execution_count": null,
   "metadata": {},
   "outputs": [],
   "source": [
    "hour = 19\n",
    "minutes = 47\n",
    "\n",
    "if (10 <= hour <= 11 and 59 >= minutes >30) or (11 < hour < 12 and 0 <= minutes <=59):\n",
    "    print(\"Преподаватель занят.\")\n",
    "elif (13 < hour < 14 and minutes > 40) or (14 <= hour < 15 and 0 <= minutes <= 59):\n",
    "    print(\"Преподаватель занят.\")\n",
    "elif (18 <= hour < 19 and 0 <= minutes < 59) or (19 < hour < 20 and 0 <= minutes <= 30):\n",
    "    print(\"Преподаватель занят.\")\n",
    "else:\n",
    "    print(\"Преподаватель свободен.\")"
   ]
  },
  {
   "cell_type": "code",
   "execution_count": null,
   "metadata": {},
   "outputs": [],
   "source": [
    "hour = 18\n",
    "minute = 47\n",
    "\n",
    "if (10 < hour < 11 and 0 <= minute < 30):\n",
    "     print(\"Преподаватель свободен.\")\n",
    "\n",
    "elif (12 <=hour < 13 and 0 <= minute <=59):\n",
    "     print(\"Преподаватель свободен.\")\n",
    "\n",
    "elif (13 <= hour < 14 and 0 <= minute < 30):\n",
    "     print(\"Преподаватель свободен.\")\n",
    "\n",
    "elif (15 <= hour < 18 and 0 <= minute <= 59):\n",
    "     print(\"Преподаватель свободен.\")\n",
    "\n",
    "elif (19 <= hour <20 and 30 <= minute < 59):\n",
    "     print(\"Преподаватель свободен.\")\n",
    "    \n",
    "else:\n",
    "    print(\"Преподаватель занят.\")\n"
   ]
  },
  {
   "cell_type": "code",
   "execution_count": null,
   "metadata": {},
   "outputs": [],
   "source": [
    "word = 'подшипник'\n",
    "\n",
    "for i,letter in enumerate(word):\n",
    "#     print(i, letter)\n",
    "    if (i+1)%2!=0:\n",
    "        print(letter)"
   ]
  },
  {
   "cell_type": "code",
   "execution_count": null,
   "metadata": {},
   "outputs": [],
   "source": [
    "year_1 = 2013\n",
    "year_2 = 2020\n",
    "\n",
    "for i in range(year_1, year_2+1):\n",
    "    if i%4==0:\n",
    "        print(i,'год високосный')\n",
    "    else:\n",
    "        print(i,'год невисокосный')"
   ]
  },
  {
   "cell_type": "code",
   "execution_count": null,
   "metadata": {},
   "outputs": [],
   "source": [
    "word = 'Зимушка-зима'\n",
    "\n",
    "for i in word:\n",
    "    if i =='и' or i == 'у' or i == 'а':\n",
    "        print(i)\n",
    "        "
   ]
  },
  {
   "cell_type": "code",
   "execution_count": null,
   "metadata": {},
   "outputs": [],
   "source": [
    "name = 'Сергей'\n",
    "\n",
    "for i, letter in enumerate(name):\n",
    "    print('Буква {} в этом имени - {}'.format(i+1, letter))"
   ]
  },
  {
   "cell_type": "code",
   "execution_count": null,
   "metadata": {},
   "outputs": [],
   "source": [
    "num_1 = 25\n",
    "num_2 = 45\n",
    "if (num_1 > num_2) or num_1 < 0:\n",
    "    print(\"Введён неверный диапазон чисел\")\n",
    "elif num_1 < num_2:\n",
    "    for i in range(num_1, num_2+1):\n",
    "        if (i%3==0 or i%5==0) and i%2!=0:\n",
    "            print(i)\n",
    "        else:\n",
    "            pass"
   ]
  },
  {
   "cell_type": "code",
   "execution_count": null,
   "metadata": {},
   "outputs": [],
   "source": [
    "for i in range(1,11):\n",
    "    print(i, i**2, i**3)\n",
    "# else:\n",
    "#     print('end')"
   ]
  },
  {
   "cell_type": "code",
   "execution_count": null,
   "metadata": {},
   "outputs": [],
   "source": [
    "number = 84\n",
    "\n",
    "for i in range(1, number+1):\n",
    "    if number%i==0:\n",
    "        print(i)"
   ]
  },
  {
   "cell_type": "code",
   "execution_count": null,
   "metadata": {},
   "outputs": [],
   "source": [
    "num_1 = 12\n",
    "num_2 = 38\n",
    "\n",
    "for i in range(2,num_2+1):\n",
    "    if num_1%i==0 and num_2%i==0:\n",
    "        print(i)       \n",
    "\n"
   ]
  },
  {
   "cell_type": "code",
   "execution_count": null,
   "metadata": {},
   "outputs": [],
   "source": [
    "fib1 = fib2 = 1\n",
    "n = 10\n",
    "for i in range( n-2):\n",
    "    fib_sum = fib1 + fib2\n",
    "    fib1 = fib2\n",
    "    fib2 = fib_sum\n",
    "print(fib2)\n"
   ]
  },
  {
   "cell_type": "code",
   "execution_count": null,
   "metadata": {},
   "outputs": [],
   "source": [
    "number = 15\n",
    "a = []\n",
    "for i in range(1,11):\n",
    "    a.append(i)\n",
    "for i in a:\n",
    "    print('{} X {} ='.format(number,i), number*i)"
   ]
  },
  {
   "cell_type": "code",
   "execution_count": null,
   "metadata": {},
   "outputs": [],
   "source": [
    "for i in range(5):\n",
    "    i = i+1\n",
    "    if i == 3:\n",
    "        continue\n",
    "    print('Идёт итерация цикла  №', i)\n",
    "print('Выполнение цикла закончено')"
   ]
  },
  {
   "cell_type": "code",
   "execution_count": null,
   "metadata": {},
   "outputs": [],
   "source": [
    "num_1 = 1812\n",
    "num_2 = 2500\n",
    "a = []\n",
    "\n",
    "for i in range(2,num_2+1):\n",
    "    if num_1%i==0 and num_2%i==0:\n",
    "#         print(i)\n",
    "        a.append(i)\n",
    "    else:\n",
    "        continue\n",
    "print(max(a))"
   ]
  },
  {
   "cell_type": "code",
   "execution_count": null,
   "metadata": {},
   "outputs": [],
   "source": [
    "string = 'абстракция'\n",
    "\n",
    "for i in string:\n",
    "    if i == 'а' or i == 'б' or i == 'в':\n",
    "        continue\n",
    "    else:\n",
    "        print(i, end = '')"
   ]
  },
  {
   "cell_type": "code",
   "execution_count": null,
   "metadata": {},
   "outputs": [],
   "source": [
    "string = 'Нет'\n",
    "no = 0\n",
    "\n",
    "for i in range(5):\n",
    "    if string == 'Да':\n",
    "        print('Это отлично!')\n",
    "    else:\n",
    "        print('Увы, это неправильный ответ')\n",
    "        no +=1\n",
    "        if no == 5:\n",
    "            print(\"Это безнадёжно!\")\n",
    "        "
   ]
  },
  {
   "cell_type": "code",
   "execution_count": null,
   "metadata": {},
   "outputs": [],
   "source": [
    "number = 173\n",
    "prost = 0\n",
    "\n",
    "for i in range(1,number+1):\n",
    "    if number%i==0:\n",
    "        \n",
    "        prost +=1\n",
    "    else:\n",
    "        continue\n",
    "if prost == 2:\n",
    "    print('Простое')\n",
    "else:\n",
    "    print('Не является простым')\n"
   ]
  },
  {
   "cell_type": "code",
   "execution_count": null,
   "metadata": {},
   "outputs": [],
   "source": [
    "string = 'прелестная строка'\n",
    "vowel = 'аеёиоуыэюя'\n",
    "\n",
    "for i,letter in enumerate(string):\n",
    "    if (i+1)%2==0:\n",
    "        pass\n",
    "\n",
    "if letter in vowel:\n",
    "    print( \"Строка мне не нравится!\")\n",
    "else:\n",
    "    print(\"Какая хорошая строка!\")\n",
    "   \n",
    "    "
   ]
  },
  {
   "cell_type": "code",
   "execution_count": null,
   "metadata": {},
   "outputs": [],
   "source": [
    "Y = 170000\n",
    "Z = 1000000\n",
    "year = 0\n",
    "\n",
    "while Y < Z:\n",
    "    Y += Y/100*10\n",
    "    year += 1\n",
    "\n",
    "print(year)"
   ]
  },
  {
   "cell_type": "code",
   "execution_count": null,
   "metadata": {},
   "outputs": [],
   "source": [
    "weight = 77\n",
    "\n",
    "lift = 0\n",
    "\n",
    "while lift<400:\n",
    "    lift += weight\n",
    "overload = lift - 400\n",
    "print('Перевес {} кг'.format(overload))"
   ]
  },
  {
   "cell_type": "code",
   "execution_count": null,
   "metadata": {},
   "outputs": [],
   "source": [
    "current_health = 500\n",
    "attack = 80\n",
    "seconds = 0\n",
    "\n",
    "while current_health > 0:\n",
    "    current_health -= attack\n",
    "    seconds += 1\n",
    "print(seconds)"
   ]
  },
  {
   "cell_type": "code",
   "execution_count": null,
   "metadata": {},
   "outputs": [],
   "source": [
    "balance = 10000\n",
    "spent = 2800\n",
    "print(balance)\n",
    "\n",
    "while balance > 0:\n",
    "    balance -= spent\n",
    "    if balance > 0:\n",
    "        print(balance)\n",
    "    else:\n",
    "        print(\"Слишком большие расходы\")\n"
   ]
  },
  {
   "cell_type": "code",
   "execution_count": null,
   "metadata": {},
   "outputs": [],
   "source": [
    "volume = 1000\n",
    "step = 0\n",
    "backet = 5\n",
    "\n",
    "while volume > 0:\n",
    "    volume -= backet\n",
    "    step += 1\n",
    "    backet += 5\n",
    "\n",
    "print(step)"
   ]
  },
  {
   "cell_type": "code",
   "execution_count": null,
   "metadata": {},
   "outputs": [],
   "source": [
    "count = 1\n",
    "while count < 27:\n",
    "    print(count)\n",
    "    if count%2 == 0:\n",
    "        to_print = 12\n",
    "    else:\n",
    "        to_print = 10\n",
    "    count += 1\n",
    "print(to_print)"
   ]
  },
  {
   "cell_type": "code",
   "execution_count": null,
   "metadata": {},
   "outputs": [],
   "source": [
    "animals = 'кошка,собака,хомяк,морская, свинка,попугай,лошадь'.split(',')\n",
    "print(animals[1])\n"
   ]
  },
  {
   "cell_type": "code",
   "execution_count": null,
   "metadata": {},
   "outputs": [],
   "source": [
    "OurBestStudents = ['Александр', 'Константин', 'Мария', 'Диана', 'Алексей', \n",
    "                   'Максим', 'Светлана', 'Арина', 'Серафим', 'Doomer', \n",
    "                   'Павел', 'Виктория', 'Елена', 'Галина', 'Вячеслав']\n",
    "for index,item in enumerate(OurBestStudents):\n",
    "    print(index, item)\n"
   ]
  },
  {
   "cell_type": "code",
   "execution_count": null,
   "metadata": {},
   "outputs": [],
   "source": [
    "body = ['голова', 'руки', 'ноги', 'глаза', 'уши', 'рот', 'нос', 'туловище']\n",
    "body[-7:-5]"
   ]
  },
  {
   "cell_type": "code",
   "execution_count": null,
   "metadata": {},
   "outputs": [],
   "source": [
    "sparta = ['Иванов', 'Петров', 'Сидоров', 'Зайцев', 'Дятлов', \n",
    "          'Козлов', 'Лисичкин', 'Огурцов', 'Капустин', 'Арбузов']\n",
    "sparta[-2:1:-3]"
   ]
  },
  {
   "cell_type": "code",
   "execution_count": null,
   "metadata": {},
   "outputs": [],
   "source": [
    "my_list = [1, 10, 45, 31, 12, 54, 111, 398, 97, 63]\n",
    "my_list.sort(reverse = True)\n",
    "new_list = my_list[::2]\n",
    "result = 0\n",
    "for number in new_list:\n",
    "    result += number\n",
    "print(result)\n",
    "      "
   ]
  },
  {
   "cell_type": "code",
   "execution_count": null,
   "metadata": {},
   "outputs": [],
   "source": [
    "my_list = [1]\n",
    "for i in range(10):\n",
    "    my_list.append(my_list[i] * 2)\n",
    "my_list.sort(reverse = True)\n",
    "print(my_list)"
   ]
  },
  {
   "cell_type": "code",
   "execution_count": null,
   "metadata": {},
   "outputs": [],
   "source": [
    "fruits = 'яблоко банан апельсин баклажан перец помидор арбуз ананас'.split()\n",
    "print(fruits)\n",
    "my_list = []\n",
    "for fruit in fruits:\n",
    "    print(fruit)\n",
    "    my_list.append(fruit[0])\n",
    "my_list.sort()\n",
    "print(my_list)\n",
    "my_list.count(my_list[0]) == 3"
   ]
  },
  {
   "cell_type": "code",
   "execution_count": null,
   "metadata": {},
   "outputs": [],
   "source": [
    "a = []\n",
    "\n",
    "for i in range(0,51):\n",
    "    if i%3==0:\n",
    "        a.append(i)\n",
    "    else:\n",
    "        pass\n",
    "\n",
    "result = sum(a)"
   ]
  },
  {
   "cell_type": "code",
   "execution_count": null,
   "metadata": {},
   "outputs": [],
   "source": [
    "my_list = []\n",
    "raw_list = ['переменные', 'циклы', 'условия', 'списки', 'словари', 'файлы', 'функции']\n",
    "for i in raw_list:\n",
    "    my_list.append(len(i))\n",
    "    \n",
    "result = min(my_list) + max(my_list)\n"
   ]
  },
  {
   "cell_type": "code",
   "execution_count": null,
   "metadata": {},
   "outputs": [],
   "source": [
    "raw_list = [2, 8, 10, 23, 64, 49, 11, 52, 71, 14]\n",
    "x_min = min(raw_list)\n",
    "\n",
    "x_max = max(raw_list)\n",
    "\n",
    "my_list = []\n",
    "\n",
    "for i in raw_list:\n",
    "    if i%2==0:\n",
    "        i *=x_min\n",
    "      \n",
    "        my_list.append(i)\n",
    "    else:\n",
    "        my_list.append(i*x_max)\n",
    "\n",
    "\n",
    "result = max(my_list)\n",
    "print(result)\n"
   ]
  },
  {
   "cell_type": "code",
   "execution_count": null,
   "metadata": {},
   "outputs": [],
   "source": [
    "a = [x for x in range(10,20,1)]\n",
    "print(a)"
   ]
  },
  {
   "cell_type": "code",
   "execution_count": null,
   "metadata": {},
   "outputs": [],
   "source": [
    "numbers = sorted([x for x in 'синхрофазотрон'])\n",
    "numbers\n"
   ]
  },
  {
   "cell_type": "code",
   "execution_count": null,
   "metadata": {},
   "outputs": [],
   "source": [
    "my_list = [x**y for x in range(1,50) for y in [0.5] if x%7==0]\n",
    "# for x in range(1, 50):\n",
    "#     if x%7 == 0:\n",
    "#         my_list.append(x**0.5)\n",
    "my_list"
   ]
  },
  {
   "cell_type": "code",
   "execution_count": null,
   "metadata": {},
   "outputs": [],
   "source": [
    "my_list = []\n",
    "for x in range(90, 100):\n",
    "    first_digit = x//10\n",
    "    print(first_digit)\n",
    "    last_digit = x%10\n",
    "    print(last_digit)\n",
    "    my_list.append(first_digit + last_digit)\n",
    "my_list"
   ]
  },
  {
   "cell_type": "code",
   "execution_count": null,
   "metadata": {},
   "outputs": [],
   "source": [
    "my_list = [(x//10 + x%10) for x in range(90, 100)]\n",
    "my_list"
   ]
  },
  {
   "cell_type": "code",
   "execution_count": null,
   "metadata": {},
   "outputs": [],
   "source": [
    "phones = ['+79033923029', '+78125849204', '+79053049385', '+79265748370', '+79030598495']\n",
    "phones"
   ]
  },
  {
   "cell_type": "code",
   "execution_count": null,
   "metadata": {},
   "outputs": [],
   "source": [
    "employee_base = {\n",
    "    'Мария Никитина': '+79033923029',\n",
    "    'Егор Савичев': '+78125849204',\n",
    "    'Алина Егорова': '+79265748370',\n",
    "    'Руслан Башаров': '+79030598495',\n",
    "   'Александр Пахомов':'+79053049385'\n",
    "}\n",
    "employee_base['Мария Никитина']"
   ]
  },
  {
   "cell_type": "code",
   "execution_count": null,
   "metadata": {},
   "outputs": [],
   "source": [
    "print(employee_base['Алина Егорова'])"
   ]
  },
  {
   "cell_type": "code",
   "execution_count": null,
   "metadata": {},
   "outputs": [],
   "source": [
    "draw_dict = {\n",
    "\t'Россия': 'A',\n",
    "\t'Португалия': 'B',\n",
    "\t'Франция': 'C',\n",
    "\t'Дания': 'C',\n",
    "\t'Египет': 'A'\n",
    "}\n",
    "\n",
    "# country = 'Италия'\n",
    "# draw_dict.setdefault(country, 'unknown')\n",
    "# group = draw_dict[country]\n",
    "# print(group)    \n",
    "for index, item in draw_dict.items():\n",
    "    print(index, item)\n",
    "\n"
   ]
  },
  {
   "cell_type": "code",
   "execution_count": null,
   "metadata": {},
   "outputs": [],
   "source": [
    "simple_dict = {'a': 1}\n",
    "simple_dict.setdefault('a',0)\n",
    "simple_dict"
   ]
  },
  {
   "cell_type": "code",
   "execution_count": null,
   "metadata": {},
   "outputs": [],
   "source": [
    "count = 0\n",
    "employee_base = {'Мария Никитина': 'менеджер', 'Егор Савичев': 'разработчик',\n",
    "                 'Александр Пахомов': 'дизайнер', 'Алина Егорова': 'разработчик',\n",
    "                 'Руслан Башаров': 'верстальщик'}\n",
    "for index in employee_base:\n",
    "    \n",
    "    if employee_base[index]=='разработчик':\n",
    "        print(index, employee_base[index])\n",
    "        count +=1\n",
    "print(count)\n",
    "    "
   ]
  },
  {
   "cell_type": "code",
   "execution_count": null,
   "metadata": {},
   "outputs": [],
   "source": [
    "draw_dict = {\n",
    "\t'Россия': 'A',\n",
    "\t'Португалия': 'B',\n",
    "\t'Франция': 'C',\n",
    "\t'Дания': 'C',\n",
    "\t'Египет': 'A'\n",
    "}\n",
    "draw_new = {}\n",
    "\n",
    "for index in draw_dict:\n",
    "    \n",
    "    if draw_dict[index] == 'A':\n",
    "        draw_new[index] = draw_dict[index]\n",
    "print(draw_new)"
   ]
  },
  {
   "cell_type": "code",
   "execution_count": null,
   "metadata": {},
   "outputs": [],
   "source": [
    "employee_base = {'Мария Никитина': 'менеджер', 'Егор Савичев': 'разработчик',\n",
    "                 'Александр Пахомов': 'дизайнер', 'Алина Егорова': 'разработчик',\n",
    "                 'Руслан Башаров': 'верстальщик'}\n",
    "\n",
    "for index,item in employee_base.items():\n",
    "    print(index, item)"
   ]
  },
  {
   "cell_type": "code",
   "execution_count": null,
   "metadata": {},
   "outputs": [],
   "source": [
    "draw_dict = {\n",
    "\t'Россия': 'A',\n",
    "\t'Португалия': 'B',\n",
    "\t'Франция': 'C',\n",
    "\t'Дания': 'C',\n",
    "\t'Египет': 'A'\n",
    "}\n",
    "draw_new = {}\n",
    "\n",
    "for index,item in draw_dict.items():\n",
    "    if item == 'A':\n",
    "        draw_new[index] = draw_dict[index]\n"
   ]
  },
  {
   "cell_type": "code",
   "execution_count": null,
   "metadata": {},
   "outputs": [],
   "source": [
    "costs = {'2019-04-01': 2504, '2019-04-02': 4994, '2019-04-03': 6343}\n",
    "amount = 0\n",
    "\n",
    "for value in costs.values():\n",
    "    amount += value\n",
    "print(amount)"
   ]
  },
  {
   "cell_type": "code",
   "execution_count": null,
   "metadata": {},
   "outputs": [],
   "source": [
    "phones = {\n",
    "\t'Гордиенко Виктория': 5140,\n",
    "\t'Анисимов Кирилл': 5145,\n",
    "\t'Кузнецова Дарья': 5142\n",
    "}\n",
    "\n",
    "if phones['Кузнецова Дарья'] == 5142:\n",
    "\tprint('Номер верен')"
   ]
  },
  {
   "cell_type": "code",
   "execution_count": null,
   "metadata": {},
   "outputs": [],
   "source": [
    "csv_file = [\n",
    "    ['100412', 'Ботинки для горных лыж ATOMIC Hawx Prime 100', 9],\n",
    "    ['100728', 'Скейтборд Jdbug RT03', 32],\n",
    "    ['100732', 'Роллерсерф Razor RipStik Bright', 11],\n",
    "    ['100803', 'Ботинки для сноуборда DC Tucknee', 20],\n",
    "    ['100898', 'Шагомер Omron HJA-306', 2],\n",
    "    ['100934', 'Пульсометр Beurer PM62', 17],\n",
    "]\n",
    "for i in csv_file:\n",
    "    print(i)\n",
    "\n",
    "    if i[1]=='Шагомер Omron HJA-306':\n",
    "        print('Количество товара на складе:{}'.format(i[2]))"
   ]
  },
  {
   "cell_type": "code",
   "execution_count": null,
   "metadata": {},
   "outputs": [],
   "source": [
    "csv_file_filtered=[]\n",
    "csv_file = [\n",
    "    ['100412', 'Ботинки для горных лыж ATOMIC Hawx Prime 100', 9],\n",
    "    ['100728', 'Скейтборд Jdbug RT03', 32],\n",
    "    ['100732', 'Роллерсерф Razor RipStik Bright', 11],\n",
    "    ['100803', 'Ботинки для сноуборда DC Tucknee', 20],\n",
    "    ['100898', 'Шагомер Omron HJA-306', 2],\n",
    "    ['100934', 'Пульсометр Beurer PM62', 17],\n",
    "]\n",
    "\n",
    "for position in csv_file:\n",
    "    if position[2] > 10:\n",
    "        csv_file_filtered.append(position)\n",
    "print(csv_file_filtered)\n"
   ]
  },
  {
   "cell_type": "code",
   "execution_count": null,
   "metadata": {},
   "outputs": [],
   "source": [
    "csv_dict_boots = []\n",
    "csv_dict = [\n",
    "    {'id': '100412', 'position': 'Ботинки для горных лыж ATOMIC Hawx Prime 100', 'count': 9},\n",
    "    {'id': '100728', 'position': 'Скейтборд Jdbug RT03', 'count': 32},\n",
    "    {'id': '100732', 'position': 'Роллерсерф Razor RipStik Bright', 'count': 11},\n",
    "    {'id': '100803', 'position': 'Ботинки для сноуборда DC Tucknee', 'count': 20},\n",
    "    {'id': '100898', 'position': 'Шагомер Omron HJA-306', 'count': 2},\n",
    "    {'id': '100934', 'position': 'Пульсометр Beurer PM62', 'count': 17},\n",
    "]\n",
    "\n",
    "for position in csv_dict:\n",
    "    for value in position.values():\n",
    "\n",
    "        if 'Ботинки' in str(value):\n",
    "            csv_dict_boots.append(position)\n",
    "print(csv_dict_boots)"
   ]
  },
  {
   "cell_type": "code",
   "execution_count": null,
   "metadata": {},
   "outputs": [],
   "source": [
    "contacts = {\n",
    "    'Борискин Владимир': {\n",
    "        'tel': '5387',\n",
    "        'position': 'менеджер'\n",
    "    },\n",
    "    \n",
    "    'Сомова Наталья': {\n",
    "        'tel': '5443',\n",
    "        'position': 'разработчик'\n",
    "    },\n",
    "}\n",
    "print(contacts['Сомова Наталья']['position'])"
   ]
  },
  {
   "cell_type": "code",
   "execution_count": null,
   "metadata": {},
   "outputs": [],
   "source": [
    "cost = []\n",
    "results = [\n",
    "\t{'cost': 98, 'source': 'vk'},\n",
    "\t{'cost': 153, 'source': 'yandex'},\n",
    "\t{'cost': 110, 'source': 'facebook'},\n",
    "]\n",
    "\n",
    "for items in results:\n",
    "\n",
    "    for val in items.values():\n",
    "        \n",
    "        if type(val) == int:\n",
    "            cost.append(val)\n",
    "        else:\n",
    "            pass\n",
    "print(min(cost))\n",
    "        \n",
    "        \n",
    "       \n",
    "    \n"
   ]
  },
  {
   "cell_type": "code",
   "execution_count": null,
   "metadata": {},
   "outputs": [],
   "source": [
    "a = 10\n",
    "if type(a)==int:\n",
    "    print('true')"
   ]
  },
  {
   "cell_type": "code",
   "execution_count": null,
   "metadata": {},
   "outputs": [],
   "source": [
    "defect_stats = [\n",
    "\t{'step number': 1, 'damage': 0.98},\n",
    "\t{'step number': 2, 'damage': 0.99},\n",
    "\t{'step number': 3, 'damage': 0.99},\n",
    "\t{'step number': 4, 'damage': 0.96},\n",
    "\t{'step number': 5, 'damage': 0.97},\n",
    "\t{'step number': 6, 'damage': 0.97},\n",
    "]\n",
    "\n",
    "condition = 100\n",
    "count = 0\n",
    "\n",
    "for i in defect_stats:\n",
    "    for value in i.values():\n",
    "            \n",
    "        if type(value) == float and condition>90:\n",
    "            print('value',value)\n",
    "            condition *= value\n",
    "            print(condition)\n",
    "            count += 1\n",
    "print(condition)\n",
    "print(count)\n",
    "            "
   ]
  },
  {
   "cell_type": "code",
   "execution_count": null,
   "metadata": {},
   "outputs": [],
   "source": [
    "currency = {\n",
    "\t'AMD': {\n",
    "\t\t'Name': 'Армянских драмов',\n",
    "\t\t'Nominal': 100,\n",
    "\t\t'Value': 13.121\n",
    "\t},\n",
    "\n",
    "\t'AUD': {\n",
    "\t\t'Name': 'Австралийский доллар',\n",
    "\t\t'Nominal': 1,\n",
    "\t\t'Value': 45.5309\n",
    "\t},\n",
    "\n",
    "\t'INR': {\n",
    "\t\t'Name': 'Индийских рупий',\n",
    "\t\t'Nominal': 100,\n",
    "\t\t'Value': 92.9658\n",
    "\t},\n",
    "\n",
    "\t'MDL': {\n",
    "\t\t'Name': 'Молдавских леев',\n",
    "\t\t'Nominal': 10,\n",
    "\t\t'Value': 36.9305\n",
    "\t},\n",
    "}\n",
    "\n",
    "new_dict = {}\n",
    "\n",
    "\n",
    "for dict in currency:\n",
    "\n",
    "    new_dict[dict] = (currency[dict]['Value']/currency[dict]['Nominal'])\n",
    "print(new_dict)\n",
    "\n",
    "min = 1\n",
    "for value in new_dict.values():\n",
    "    if value < min:\n",
    "        min = value\n",
    "    else:\n",
    "        pass\n",
    "print(min)\n",
    "\n",
    "for key,item in new_dict.items():\n",
    "    if item == min:\n",
    "        print(key, item)\n",
    "    \n"
   ]
  },
  {
   "cell_type": "code",
   "execution_count": null,
   "metadata": {},
   "outputs": [],
   "source": [
    "bodycount = {\n",
    "\t'Проклятие Черной жемчужины': {\n",
    "\t\t'человек': 17\n",
    "\t}, \n",
    "\n",
    "\t'Сундук мертвеца': {\n",
    "\t\t'человек': 56,\n",
    "\t\t'раков-отшельников': 1\n",
    "\t},\n",
    "\n",
    "\t'На краю света': {\n",
    "\t\t'человек': 88\n",
    "\t},\n",
    "\n",
    "\t'На странных берегах': {\n",
    "\t\t'человек': 56,\n",
    "\t\t'русалок': 2,\n",
    "\t\t'ядовитых жаб': 3,\n",
    "\t\t'пиратов зомби': 2\n",
    "\t}\n",
    "}\n",
    "\n",
    "count = []\n",
    "\n",
    "# print(bodycount)\n",
    "for i in bodycount:\n",
    "#     print(bodycount[i])\n",
    "    for n in bodycount[i]:\n",
    "        count.append(bodycount[i][n])\n",
    "print(sum(count))"
   ]
  },
  {
   "cell_type": "code",
   "execution_count": null,
   "metadata": {},
   "outputs": [],
   "source": [
    "import json #импорт модуля json\n",
    "with open('data.json','rb') as infile: #открываем файл (находится в папке с файлом проекта)\n",
    "    data = json.load(infile) #объявляем переменную и в неё сохраняем данные\n",
    "# print(type(data)) #проверяем тип переменной. Получаем класс словарь\n",
    "# print(data.keys()) #смотрим, какие ключи доступны для взаимодействия. Видим, что есть events_data\n",
    "# print(data['events_data']) #выводим значения по ключу event_data\n",
    "data_list = data['events_data'] #значения по ключу events_data собраем в отдеьный словарь\n",
    "# print(len(data_list)) #проверяем длину словаря\n",
    "\n",
    "categories = [] #создаем новый список, чтоб в негг поместить значения по ключу category из словаря\n",
    "for item in data_list: #перербираем ключи. Теперь item представляет одтельные словари \n",
    "#     print('Item', item)\n",
    "    category = item['category'] #переменной category присваиваем значение, соответствующее ключу category в словаре item\n",
    "#     print('category', category)\n",
    "    categories.append(category) #вносим в созданный список categories\n",
    "# print(categories) #в списке имеем множество значений, соответствующих ключу category\n",
    "\n",
    "#сейчас будем считать частоту встречаемости каждого события в списке. Будем использовать конструкуцию Counter\n",
    "#из библиотеки Collections\n",
    "\n",
    "import collections #импортируем библиотеку collections\n",
    "\n",
    "c = collections.Counter() #объявляем переменную 'c' и присваиваем ей метод Counter для краткости \n",
    "print(c)    # collections.Counter - вид словаря, который позволяет нам считать количество неизменяемых объектов \n",
    "for category in categories: #перебираем список categories\n",
    "    c[category]+=1\n",
    "print(c)  #Counter({'page': 74, 'datepicker': 15, 'table': 10, 'report': 8}) - результат - количество повторений\n",
    "# в качестве значений, изначальное значение ключа Category (к примеру Page) теперь само есть ключ.\n",
    "\n",
    "\n",
    "#теперь посмотрим, какие клиенты совершают события table\n",
    "\n",
    "table_clients = [] #создаем пустой список\n",
    "for item in data_list: #перебираем ключи в словаре\n",
    "    client_id = item['client_id'] #значение ключа client_id присваиваем переменной client_id\n",
    "    category = item['category'] #переменной category присваиваем значение, соответствующее ключу category в словаре\n",
    "    if category =='table': #если категория table\n",
    "        table_clients.append(client_id) #то добавляем client_id в список \n",
    "print('table_clients',table_clients)\n",
    "\n",
    "f = collections.Counter() #объявляем переменную 'c' и присваиваем ей метод Counter для краткости \n",
    "for table_client in table_clients: #по table_clients перебираем\n",
    "    f[table_client]+=1 #вносим в список повторения\n",
    "print('f',f)\n",
    "print(len(f)) #выводим длину списка, чтоб определить общее количество пользователей"
   ]
  },
  {
   "cell_type": "code",
   "execution_count": null,
   "metadata": {},
   "outputs": [],
   "source": [
    "count = 0\n",
    "action_dict={}\n",
    "report_dict={}\n",
    "report_list = []\n",
    "clients = []\n",
    "import json\n",
    "\n",
    "with open('data.json', 'rb') as file:\n",
    "    data_file = json.load(file)\n",
    "\n",
    "\n",
    "data = data_file['events_data']\n",
    "# print('data',data)\n",
    "\n",
    "# for item in data:\n",
    "#     if item['client_id'] == 62602 and item['category']=='page':\n",
    "#         count += 1\n",
    "#     else:\n",
    "#         pass\n",
    "# print(count)        \n",
    "\n",
    "for item in data:\n",
    "    category = item['category']\n",
    "    client_id = item['client_id']\n",
    "    if category == 'report':\n",
    "        report_dict[client_id] = category\n",
    "        \n",
    "    else:\n",
    "        pass\n",
    "for report in report_dict.keys():\n",
    "    print(report)\n",
    "    report_list.append(report)\n",
    "    count+=1\n",
    "\n",
    "print(report_dict)\n",
    "print(count)\n",
    "print(sorted(report_list))\n",
    "    \n",
    "\n",
    "\n",
    "# import collections\n",
    "\n",
    "# c = collections.Counter()\n",
    "\n",
    "# for clients in data:\n",
    "# #     print(clients)\n",
    "#     c[clients]+=1\n",
    "# print(c)\n",
    "# # print(len(c))\n",
    "\n",
    "\n",
    "\n",
    "\n",
    "    \n",
    "\n",
    "    \n"
   ]
  },
  {
   "cell_type": "code",
   "execution_count": null,
   "metadata": {},
   "outputs": [],
   "source": [
    "string = 'Вы - самый крутой студент в SkillFactory'\n",
    "for letter in string:\n",
    "    print(letter, end = '') #end='' чтоб выводить в строку"
   ]
  },
  {
   "cell_type": "code",
   "execution_count": null,
   "metadata": {},
   "outputs": [],
   "source": [
    "proverb = 'Программисты - это устройства, преобразующие кофеин в код.'\n",
    "# proverb[0:11]\n",
    "# proverb[-13:-9]\n",
    "# proverb[19:28]+'о'\n",
    "proverb[19:29].split()+'о'"
   ]
  },
  {
   "cell_type": "code",
   "execution_count": 57,
   "metadata": {},
   "outputs": [
    {
     "name": "stdout",
     "output_type": "stream",
     "text": [
      "рПгоарммсиыт- э оту тсорсйвт,ап ербоарузщюеик фоие н вок.д\n"
     ]
    }
   ],
   "source": [
    "proverb = 'Программисты - это устройства, преобразующие кофеин в код.'\n",
    "n_proverb = []\n",
    "new_proverb = ''\n",
    "i = 0\n",
    "\n",
    "for index, item in enumerate(proverb):\n",
    "    if index%2==0:\n",
    "        n_proverb.append(proverb[index+1])\n",
    "        n_proverb.append(proverb[index])\n",
    "# print(n_proverb)\n",
    "new_proverb =''.join(n_proverb)\n",
    "print(new_proverb)\n",
    "\n",
    "\n",
    "    \n",
    "        \n",
    "\n"
   ]
  },
  {
   "cell_type": "code",
   "execution_count": null,
   "metadata": {},
   "outputs": [],
   "source": [
    "basic_word = 'программирование'\n",
    "inverted_word = basic_word[::-1]\n",
    "\n",
    "if basic_word == inverted_word:\n",
    "    print('Слово \\'{}\\' является палиндромом'.format(basic_word))\n",
    "else:\n",
    "    print('Слово \\'{}\\' - это не палиндром'.format(basic_word))"
   ]
  },
  {
   "cell_type": "code",
   "execution_count": null,
   "metadata": {},
   "outputs": [],
   "source": [
    "# предположим есть писок крупных городов. Надо посчитать, сколько городов состоит из двух слов\n",
    "city_list = ['Москва', 'Санкт-Петербург', 'Новосибирск', \n",
    "             'Екатеринбург', 'Нижний Новгород', 'Казань', \n",
    "             'Челябинск', 'Омск', 'Самара', 'Ростов-на-Дону']\n",
    "counter = 0\n",
    "for city in city_list:\n",
    "    if ' ' in city or '-' in city:\n",
    "        counter +=1\n",
    "print(counter)"
   ]
  },
  {
   "cell_type": "code",
   "execution_count": null,
   "metadata": {},
   "outputs": [],
   "source": [
    "email = 'VeryBigBoss@skillfactory.ru'\n",
    "# pos = email.find('@')\n",
    "domain = email[email.find('@')+1:]\n",
    "print(domain)"
   ]
  },
  {
   "cell_type": "code",
   "execution_count": null,
   "metadata": {},
   "outputs": [],
   "source": [
    "string = 'vchebrov@gmail.com'\n",
    "position = string.find('@') #метод поиска совпадений в строке\n",
    "domain = string[position+1:] #выводим всё, что далее символа собаки\n",
    "print(domain)"
   ]
  },
  {
   "cell_type": "code",
   "execution_count": null,
   "metadata": {},
   "outputs": [],
   "source": [
    "tongue_twister = 'Ехал Грека через реку, видит Грека - в реке рак. Сунул Грека руку в реку, рак за руку Греку - цап!'\n",
    "counter = tongue_twister.count('Греку') #считаем количество совпадений в строке\n",
    "print(counter)"
   ]
  },
  {
   "cell_type": "code",
   "execution_count": null,
   "metadata": {},
   "outputs": [],
   "source": [
    "proverb = 'Хорошо написанная программа - это программа, написанная 2 раза'\n",
    "\n",
    "while True:\n",
    "    index = proverb.find('программа')\n",
    "    if index == -1:\n",
    "        break\n",
    "    secret = proverb[:index].split()[-1]\n",
    "    proverb = proverb[index+9:] \n",
    "print(secret)\n",
    "print(proverb)"
   ]
  },
  {
   "cell_type": "code",
   "execution_count": null,
   "metadata": {},
   "outputs": [],
   "source": [
    "list = []\n",
    "number = 56.257\n",
    "number_str = str(number)\n",
    "position = number_str.find('.')\n",
    "digits = number_str[position+1:]\n",
    "\n",
    "for i in digits:\n",
    "    i = int(i)\n",
    "    list.append(i)\n",
    "print(sum(list))"
   ]
  },
  {
   "cell_type": "code",
   "execution_count": null,
   "metadata": {},
   "outputs": [],
   "source": [
    "emails_dict = {}\n",
    "\n",
    "emails_list = ['vasya@mail.ru', \n",
    "          'akakiy@yandex.ru', \n",
    "          'spyderman@yandex.ru', \n",
    "          'XFiles@gmail.com', \n",
    "          'hello@mail.ru', \n",
    "          'noname@gmail.com', \n",
    "          'DonaldTrump@mail.ru', \n",
    "          'a768#af@yandex.ru', \n",
    "          'Ivan_Ivanovich@yandex.ru', \n",
    "          'thebestmail@yandex.ru']\n",
    "\n",
    "domain_list = []\n",
    "\n",
    "for i in emails_list:\n",
    "    position = i.find('@')\n",
    "    domain = i[position+1:]\n",
    "    domain_list.append(domain)\n",
    "\n",
    "\n",
    "import collections\n",
    "\n",
    "c = collections.Counter()\n",
    "\n",
    "dom_list = []\n",
    "for index in domain_list:\n",
    "    c[index] += 1\n",
    "\n",
    "emails_dict = c\n",
    "\n",
    "    "
   ]
  },
  {
   "cell_type": "code",
   "execution_count": null,
   "metadata": {},
   "outputs": [],
   "source": [
    "float_list = ['1,23','2,2']\n",
    "for i in float_list:\n",
    "    print(i)\n",
    "    i = i.replace(',','.'): \n",
    "        print(type(float(i)))\n"
   ]
  },
  {
   "cell_type": "code",
   "execution_count": null,
   "metadata": {},
   "outputs": [],
   "source": [
    "string = 'Тяжёлая интернет-зависимость - это когда ты выходишь из интернета, а он из тебя нет.'\n",
    "\n",
    "for i in string:\n",
    "    string = string.replace(',',':)')\n",
    "    string = string.replace('.',':)')\n",
    "    string = string.replace('-',':)')\n",
    "print(string)"
   ]
  },
  {
   "cell_type": "code",
   "execution_count": null,
   "metadata": {},
   "outputs": [],
   "source": [
    "name = 'Севастиан'\n",
    "vowels = 'аеёиоуыэюя'\n",
    "vowel_list = []\n",
    "name_list = []\n",
    "\n",
    "for i in vowels:\n",
    "    vowel_list.append(i)\n",
    "for i in name:\n",
    "    name_list.append(i)\n",
    "\n",
    "\n",
    "for letter in name_list:\n",
    "\n",
    "    if letter in vowel_list:\n",
    "        print(\"{} - гласная буква\".format(letter))\n",
    "    else:\n",
    "        print(\"{} - согласная буква\".format(letter))\n"
   ]
  },
  {
   "cell_type": "code",
   "execution_count": null,
   "metadata": {},
   "outputs": [],
   "source": [
    "import re\n",
    "\n",
    "pattern = re.compile('[А-Я][а-я]*\\W')\n",
    "string = '!!! Йо! Учиться, учиться и учиться! Вперёд! Только вперёд!' \n",
    "print(pattern.match(string)) #match ищет символы соответствующие шаблону в начале строки. Вернёт None, в начале !!!\n",
    "print(pattern.search(string)) #search ищет символы во всей строке. Match Odject если объект найден\n",
    "print(pattern.findall(string))#findall ищет во всей строке и выводит список соввпадений\n",
    "\n"
   ]
  },
  {
   "cell_type": "code",
   "execution_count": null,
   "metadata": {},
   "outputs": [],
   "source": [
    "list = []\n",
    "import re\n",
    "\n",
    "pattern = re.compile('\\d+')\n",
    "pattern_second = re.compile('[A-Za-z]+')\n",
    "pattern_third = re.compile('[А-Яа-я]+ка')\n",
    "pattern_four = re.compile('[а]..[и]')\n",
    "text = 'Разработка языка Python была начата в конце 1980-х годов сотрудником голландского института CWI Гвидо ван Россумом. Для распределённой ОС Amoeba требовался расширяемый скриптовый язык, и Гвидо начал писать Python на досуге, позаимствовав некоторые наработки для языка ABC (Гвидо участвовал в разработке этого языка, ориентированного на обучение программированию). В феврале 1991 года Гвидо опубликовал исходный текст в группе новостей alt.sources. Название языка произошло вовсе не от вида пресмыкающихся. Автор назвал язык в честь популярного британского комедийного телешоу 1970-х \"Летающий цирк Монти Пайтона\".'\n",
    "count = 0\n",
    "list = pattern_four.findall(text)\n",
    "print(list)\n",
    "for i in list:\n",
    "    count += 1\n",
    "print(count)"
   ]
  },
  {
   "cell_type": "code",
   "execution_count": null,
   "metadata": {},
   "outputs": [],
   "source": [
    "import re\n",
    "\n",
    "pattern = re.compile('([абвгдеёжзийклмнопрстуфхцчшщъыьэюяАБВГДЕЁЖЗИЙКЛМНОПРСТУФХЦЧШЩЪЫЬЭЮЯ]*[аоиеёэыуюяАЕЁИОУЭЮЯ])\\s(?=([бвгджзйклмнпрстфхцчшщБВГДЖЗЙКЛМНПРСТФХЦЧШЩ][абвгдеёжзийклмнопрстуфхцчшщъыьэюяАБВГДЕЁЖЗИЙКЛМНОПРСТУФХЦЧШЩЪЫЬЭЮЯ]*))')\n",
    "\n",
    "text = '''Разработка языка Python была начата в конце 1980-х годов \n",
    "сотрудником голландского института CWI Гвидо ван Россумом. \n",
    "Для распределённой ОС Amoeba требовался расширяемый скриптовый язык, \n",
    "и Гвидо начал писать Python на досуге, позаимствовав \n",
    "некоторые наработки для языка ABC \n",
    "(Гвидо участвовал в разработке этого языка, ориентированного на обучение программированию). \n",
    "В феврале 1991 года Гвидо опубликовал исходный текст в группе новостей alt.sources. \n",
    "Название языка произошло вовсе не от вида пресмыкающихся. \n",
    "Автор назвал язык в честь популярного британского комедийного телешоу 1970-х \"Летающий цирк Монти Пайтона'''\n",
    "\n",
    "list = []\n",
    "list = pattern.findall(text)\n",
    "print(list)\n",
    "count = 0\n",
    "for i in list:\n",
    "    count += 1\n",
    "print(count)"
   ]
  },
  {
   "cell_type": "code",
   "execution_count": null,
   "metadata": {},
   "outputs": [],
   "source": [
    "f = open('StudentsPerformance.xls')\n",
    "list = []\n",
    "males = 0 #\n",
    "females = 0 #\n",
    "for line in f: #перебираем файл построчно\n",
    "    info = line.split(',') # создаем списки из каждой строки с помощью SPLIT по запятой.\n",
    "    gender = info[0][1:-1] # для определния указанного пола берем первый элемент и срезом обрезаем кавычки\n",
    "    print(info)\n",
    "#     print(gender)\n",
    "    if gender == 'female': #\n",
    "        females += 1 #\n",
    "    elif gender == 'male': #\n",
    "        males += 1  #\n",
    "\n",
    "print('мальчиков {}, девочек {}'.format(males, females))\n",
    "        \n",
    "f.close()"
   ]
  },
  {
   "cell_type": "code",
   "execution_count": null,
   "metadata": {},
   "outputs": [],
   "source": [
    "f = open('StudentsPerformance.xls')\n",
    "count = 0\n",
    "for line in f:\n",
    "    list = line.split(',')\n",
    "#     print(list)\n",
    "    degree = list[2][1:-1]\n",
    "#     print(degree)\n",
    "    if degree == '''bachelor's degree''':\n",
    "        count += 1\n",
    "    else:\n",
    "        pass\n",
    "\n",
    "print(count)\n",
    "f.close()"
   ]
  },
  {
   "cell_type": "code",
   "execution_count": null,
   "metadata": {},
   "outputs": [],
   "source": [
    "f = open('StudentsPerformance.xls')\n",
    "degree_list = []\n",
    "\n",
    "for line in f:\n",
    "    list = line.split(',')\n",
    "    degree = list[2][1:-1]\n",
    "    degree_list.append(degree)\n",
    "\n",
    "import collections\n",
    "\n",
    "c = collections.Counter()\n",
    "\n",
    "for degree in degree_list:\n",
    "    c[degree] += 1\n",
    "print(c)\n",
    "\n",
    "count = 0\n",
    "for num in c:\n",
    "    count += 1\n",
    "print(count-1)\n",
    "\n",
    "# print(degree_list)\n",
    "f.close()"
   ]
  },
  {
   "cell_type": "code",
   "execution_count": null,
   "metadata": {},
   "outputs": [],
   "source": [
    "f = open('StudentsPerformance.xls')\n",
    "\n",
    "count = 0\n",
    "lunch_list = []\n",
    "for line in f:\n",
    "    prelim = line.split(',')\n",
    "#     print(prelim)\n",
    "    lunch = prelim[3][1:-1]\n",
    "    lunch_list.append(lunch)\n",
    "    if lunch == 'standard':\n",
    "        count += 1\n",
    "    else:\n",
    "        pass\n",
    "\n",
    "print(count)\n",
    "# print(lunch_list)\n",
    "    \n",
    "    \n",
    "\n",
    "\n",
    "f.close()"
   ]
  },
  {
   "cell_type": "code",
   "execution_count": null,
   "metadata": {},
   "outputs": [],
   "source": [
    "f = open('StudentsPerformance.xls')\n",
    "count = 0\n",
    "for line in f:\n",
    "    etnic = line.split(',')\n",
    "    \n",
    "    group = etnic[1][1:-1]\n",
    "    if group == 'group C':\n",
    "        count += 1\n",
    "    else:\n",
    "        pass\n",
    "print(count)\n",
    "f.close()"
   ]
  },
  {
   "cell_type": "code",
   "execution_count": null,
   "metadata": {},
   "outputs": [],
   "source": [
    "f = open('StudentsPerformance.xls')\n",
    "list = []\n",
    "\n",
    "for line in f:\n",
    "    etnic = line.split(',')\n",
    "    group = etnic[1][1:-1]\n",
    "    list.append(group)\n",
    "    \n",
    "# print(list)\n",
    "print(set(list))\n",
    "print(len(set(list)))\n",
    "\n",
    "f.close()\n",
    "\n",
    "\n",
    "print('closed', list)"
   ]
  },
  {
   "cell_type": "code",
   "execution_count": null,
   "metadata": {},
   "outputs": [],
   "source": [
    "import re\n",
    "pattern = re.compile('\\d+')\n",
    "\n",
    "exams = []\n",
    "\n",
    "f = open('StudentsPerformance.xls')\n",
    "\n",
    "for line in f:\n",
    "    info = line.split(',')\n",
    "    if info[0] == '\"gender\"':\n",
    "        continue\n",
    "    else:\n",
    "        new_line = []\n",
    "        for item in info:\n",
    "            if pattern.search(item) != None:\n",
    "                \n",
    "                new_line.append(int(pattern.search(item)[0]))\n",
    "            else:\n",
    "                new_line.append(item[1:-1])\n",
    "        exams.append(new_line)\n",
    "print(exams)\n",
    "# print(new_line)"
   ]
  },
  {
   "cell_type": "code",
   "execution_count": null,
   "metadata": {},
   "outputs": [],
   "source": [
    "f = open('StudentsPerformance.xls')\n",
    "\n",
    "score_list = []\n",
    "\n",
    "for line in f:\n",
    "    string = line.split(',')\n",
    "    score = string[6][1:-1]\n",
    "    if score == 'reading score':\n",
    "        continue\n",
    "    else:\n",
    "        score_list.append(int(score))\n",
    "# print(score_list)\n",
    "print(sum(score_list)/len(score_list))\n",
    "x = \n",
    "\n",
    "f.close()\n",
    "\n",
    "count = 0\n",
    "\n",
    "for i in in score_list:\n",
    "    if i <\n",
    " \n"
   ]
  },
  {
   "cell_type": "code",
   "execution_count": null,
   "metadata": {},
   "outputs": [],
   "source": [
    "f = open('StudentsPerformance.xls')\n",
    "count = 0\n",
    "marks = []\n",
    "count_lunch = 0\n",
    "\n",
    "for i in f:\n",
    "    string = i.split(',')\n",
    "#     for n in string:\n",
    "#         print(n, string.index(n))\n",
    "#     print(string)\n",
    "    score = string[7][1:-2]\n",
    "    lunch = string[3][1:-1]\n",
    "    \n",
    "    if score == 'writing score':\n",
    "        pass\n",
    "    else:\n",
    "        if int(score) > 90:\n",
    "            count +=1\n",
    "            if lunch == 'standard':\n",
    "                count_lunch += 1\n",
    "            else:\n",
    "                pass\n",
    "        else:\n",
    "            pass\n",
    "        \n",
    "print(count)\n",
    "print((count_lunch/count))\n",
    "\n",
    "\n",
    "\n",
    "f.close()\n",
    "    "
   ]
  },
  {
   "cell_type": "code",
   "execution_count": null,
   "metadata": {
    "scrolled": true
   },
   "outputs": [],
   "source": [
    "a = {}\n",
    "\n",
    "a['abc']=1\n",
    "\n",
    "print(a)"
   ]
  },
  {
   "cell_type": "code",
   "execution_count": null,
   "metadata": {},
   "outputs": [],
   "source": [
    "f = open('StudentsPerformance.xls')\n",
    "\n",
    "groups = {}\n",
    "\n",
    "for line in f:\n",
    "    string = line.split(',')\n",
    "#     for i in string:\n",
    "#         print(i, string.index(i))\n",
    "    ethnic = string[1][1:-1]\n",
    "    if ethnic == 'race/ethnicity':\n",
    "        pass\n",
    "    else:\n",
    "        if ethnic in groups:\n",
    "            groups[ethnic] +=1\n",
    "        else:\n",
    "            groups[ethnic] = 1\n",
    "\n",
    "for index, item in groups.items():\n",
    "    print(index, item)\n",
    "f.close()"
   ]
  },
  {
   "cell_type": "code",
   "execution_count": null,
   "metadata": {},
   "outputs": [],
   "source": [
    "f = open('StudentsPerformance.xls')\n",
    "\n",
    "students = {}\n",
    "\n",
    "for line in f:\n",
    "    general = line.split(',')\n",
    "    if general[0] == '\"gender\"':\n",
    "        continue\n",
    "    else:\n",
    "        ethnic = general[1][1:-1]\n",
    "        parents = general[2][1:-1]\n",
    "        if ethnic in students:\n",
    "            if parents in students[ethnic]:\n",
    "                students[ethnic][parents] += 1\n",
    "            else:\n",
    "                students[ethnic][parents] = 1\n",
    "        else:\n",
    "            students[ethnic] = {}\n",
    "            students[ethnic][parents] = 1\n",
    "\n",
    "print(students)\n",
    "\n",
    "f.close()\n"
   ]
  },
  {
   "cell_type": "code",
   "execution_count": null,
   "metadata": {},
   "outputs": [],
   "source": [
    "f = open('StudentsPerformance.xls')\n",
    "count = 0\n",
    "for line in f:\n",
    "    general = line.split(',')\n",
    "#     for i in general:\n",
    "#         print(i, general.index(i))\n",
    "    gender = general[0][1:-1]\n",
    "    lunch = general[3][1:-1]\n",
    "#     print(gender, lunch)\n",
    "    if gender == 'male' and lunch == 'standard':\n",
    "        count += 1\n",
    "    else:\n",
    "        pass\n",
    "print(count)\n",
    "f.close()\n",
    "    "
   ]
  },
  {
   "cell_type": "code",
   "execution_count": null,
   "metadata": {},
   "outputs": [],
   "source": [
    "f = open('StudentsPerformance.xls')\n",
    "count = 0\n",
    "for line in f:\n",
    "    general = line.split(',')\n",
    "    for i in general:\n",
    "        print(i, general.index(i))\n",
    "    gender = general[0][1:-1]\n",
    "    tests = general[4][1:-1]\n",
    "#     print(gender, lunch)\n",
    "    if tests == 'completed' and gender == 'female':\n",
    "        count += 1\n",
    "    else:\n",
    "        pass\n",
    "print(count)\n",
    "f.close()"
   ]
  },
  {
   "cell_type": "code",
   "execution_count": null,
   "metadata": {},
   "outputs": [],
   "source": [
    "f = open('StudentsPerformance.xls')\n",
    "count = 0\n",
    "for line in f:\n",
    "    general = line.split(',')\n",
    "#     for i in general:\n",
    "#         print(i, general.index(i))\n",
    "    gender = general[0][1:-1]\n",
    "    parents = general[2][1:-1]\n",
    "#     print(gender, lunch)\n",
    "    if parents == '''master's degree''' and gender == 'female':\n",
    "        count += 1\n",
    "    else:\n",
    "        pass\n",
    "print(count)\n",
    "f.close()"
   ]
  },
  {
   "cell_type": "code",
   "execution_count": null,
   "metadata": {},
   "outputs": [],
   "source": [
    "f = open('StudentsPerformance.xls')\n",
    "count = 0\n",
    "for line in f:\n",
    "    general = line.split(',')\n",
    "    for i in general:\n",
    "        print(i, general.index(i))\n",
    "    group = general[1][1:-1]\n",
    "    tests = general[4][1:-1]\n",
    "#     print(gender, lunch)\n",
    "    if group == 'group C' and tests == 'completed':\n",
    "        count += 1\n",
    "    else:\n",
    "        pass\n",
    "print(count)\n",
    "f.close()"
   ]
  },
  {
   "cell_type": "code",
   "execution_count": null,
   "metadata": {},
   "outputs": [],
   "source": [
    "f = open('StudentsPerformance.xls')\n",
    "count = 0\n",
    "for line in f:\n",
    "    general = line.split(',')\n",
    "    \n",
    "#     for i in general:\n",
    "#         print(i, general.index(i))\n",
    "    gender = general[0][1:-1]\n",
    "    parents = general[2][1:-1]\n",
    "    math = general[5][1:-1]\n",
    "    \n",
    "#     print(gender, lunch)\n",
    "    if parents == '''master's degree''' and gender == 'female' and int(math) > 90:\n",
    "        count += 1\n",
    "    else:\n",
    "        pass\n",
    "print(count)\n",
    "f.close()"
   ]
  },
  {
   "cell_type": "code",
   "execution_count": null,
   "metadata": {},
   "outputs": [],
   "source": [
    "string = 'qwert'\n",
    "print(string[::-1])"
   ]
  },
  {
   "cell_type": "code",
   "execution_count": null,
   "metadata": {},
   "outputs": [],
   "source": [
    "'your' in 'WhAt Is YoUr NaMe?'.lower()"
   ]
  },
  {
   "cell_type": "code",
   "execution_count": null,
   "metadata": {},
   "outputs": [],
   "source": [
    "'apples'.upper() in 'I like APPLES'.upper()"
   ]
  },
  {
   "cell_type": "code",
   "execution_count": null,
   "metadata": {},
   "outputs": [],
   "source": [
    "X = '55,66'\n",
    "X = int(X.replace(',', '.'))\n",
    "print(X)"
   ]
  },
  {
   "cell_type": "code",
   "execution_count": null,
   "metadata": {},
   "outputs": [],
   "source": [
    "import re\n",
    "pattern = re.compile('\\d\\d\\d')\n",
    "secret = pattern.findall('2 x 2 = 4') \n",
    "print(secret)"
   ]
  },
  {
   "cell_type": "code",
   "execution_count": null,
   "metadata": {},
   "outputs": [],
   "source": [
    "f = open('StudentsPerformance.xls')\n",
    "list = []\n",
    "for line in f:\n",
    "    \n",
    "    general = line.split(',')\n",
    "    if gender == '\"gender\"':\n",
    "        continue\n",
    "    else:\n",
    "        gender = general[0][1:-1]\n",
    "        reading = general[6][1:-1]   \n",
    "        if gender == 'male':\n",
    "            list.append(int(reading))\n",
    "print(sum(list)/len(list))\n",
    "f.close()        \n",
    "        "
   ]
  },
  {
   "cell_type": "code",
   "execution_count": null,
   "metadata": {},
   "outputs": [],
   "source": [
    "f = open('StudentsPerformance.xls')\n",
    "count =0\n",
    "list = []\n",
    "read_list = []\n",
    "students = {}\n",
    "for line in f:\n",
    "    general = line.split(',')\n",
    "    math = general[5][1:-1]\n",
    "    read = general[6][1:-1]\n",
    "    if math == '100':\n",
    "        print(math, read)\n",
    "        read_list.append(int(read))\n",
    "    else:\n",
    "        pass\n",
    "print(sum(read_list)/len(read_list))\n",
    "    \n",
    "    \n",
    "f.close()        "
   ]
  },
  {
   "cell_type": "code",
   "execution_count": null,
   "metadata": {},
   "outputs": [],
   "source": [
    "if ethnic in students:\n",
    "            if parents in students[ethnic]:\n",
    "                students[ethnic][parents] += 1\n",
    "            else:\n",
    "                students[ethnic][parents] = 1\n",
    "        else:\n",
    "            students[ethnic] = {}\n",
    "            students[ethnic][parents] = 1\n"
   ]
  },
  {
   "cell_type": "code",
   "execution_count": null,
   "metadata": {},
   "outputs": [],
   "source": [
    "f = open('StudentsPerformance.xls')\n",
    "list = []\n",
    "for line in f:\n",
    "    general = line.split(',')\n",
    "    score = general[7][1:-2]\n",
    "    lunch = general[3][1:-1]\n",
    "    \n",
    "    if lunch == 'free/reduced':\n",
    "        list.append(int(score))\n",
    "    else:\n",
    "        pass\n",
    "print(sum(list)/len(list))\n",
    "\n",
    "f.close()"
   ]
  },
  {
   "cell_type": "code",
   "execution_count": null,
   "metadata": {},
   "outputs": [],
   "source": [
    "def square(x):\n",
    "    return x**2\n",
    "\n",
    "square_result = square(20)\n",
    "\n",
    "print(square_result)"
   ]
  },
  {
   "cell_type": "code",
   "execution_count": null,
   "metadata": {},
   "outputs": [],
   "source": [
    "# Дополните аргументы и код функции\n",
    "def sum_2(x,y):\n",
    "    result = x+y\n",
    "    return result\n",
    "\n",
    "# Передайте аргументы 42 и 73 в функцию\n",
    "print(sum_2(42, 73))"
   ]
  },
  {
   "cell_type": "code",
   "execution_count": null,
   "metadata": {},
   "outputs": [],
   "source": [
    "def power(x,y):\n",
    "    result = x**y\n",
    "    return result\n",
    "\n",
    "print(power(2,3))"
   ]
  },
  {
   "cell_type": "code",
   "execution_count": null,
   "metadata": {},
   "outputs": [],
   "source": [
    "def get_median(list):\n",
    "    list_new = sorted(list)\n",
    "    print(list_new, len(list_new))\n",
    "    if len(list_new)%2 ==0:\n",
    "        index_low = int(len(list_new)/2 - 1)\n",
    "        index_high = int(len(list_new)/2)\n",
    "        median = (list_new[index_low]+list_new[index_high])/2\n",
    "        return median \n",
    "    else:\n",
    "        index_med = int(len(list_new)//2)\n",
    "        median = list_new[index_med]\n",
    "        return median\n",
    "    \n",
    "# get_median([3,3,7,9,9,1,4,5,7,5,11])\n",
    "get_median([5,2,1,3])\n"
   ]
  },
  {
   "cell_type": "code",
   "execution_count": null,
   "metadata": {},
   "outputs": [],
   "source": [
    "4%2==0"
   ]
  },
  {
   "cell_type": "code",
   "execution_count": null,
   "metadata": {},
   "outputs": [],
   "source": [
    "def to_euro(price):  \n",
    "    exchange_rate = 70  \n",
    "    rounded = round(price/exchange_rate, 2)  \n",
    "    return '€' + str(rounded)  \n",
    "  \n",
    "def db_to_euro(db):  \n",
    "\n",
    "        \n",
    "    return [to_euro(item['price']) for item in db]  \n",
    "  \n",
    "ticket_db = [{'price': 400}, {'price': 200}, {'price': 150}]  \n",
    "guide_db = [{'price': 50}, {'price': 40}]  \n",
    "snack_db = [{'price': 100}, {'price': 95}, {'price': 150}]  \n",
    "\n",
    "for item in ticket_db:\n",
    "    print(item)\n",
    "    result = to_euro(item['price'])\n",
    "    print(result)\n",
    "\n",
    "tickets_euro = db_to_euro(ticket_db)  \n",
    "guides_euro = db_to_euro(guide_db)  \n",
    "snacks_euro = db_to_euro(snack_db)  \n",
    "  \n",
    "print(tickets_euro, guides_euro, snacks_euro)  "
   ]
  },
  {
   "cell_type": "code",
   "execution_count": null,
   "metadata": {},
   "outputs": [],
   "source": [
    "user_db = [{'orders': 12}, {'orders': 30}, {'orders': 45}]\n",
    "\n",
    "# перепишите эту часть\n",
    "def avg_orders(db):\n",
    "    order_sum = sum([user['orders'] for user in db])\n",
    "    return order_sum/len(db)\n",
    "\n",
    "    \n",
    "print(avg_orders(user_db))"
   ]
  },
  {
   "cell_type": "code",
   "execution_count": null,
   "metadata": {},
   "outputs": [],
   "source": [
    "(30+12+45)/3\n"
   ]
  },
  {
   "cell_type": "code",
   "execution_count": null,
   "metadata": {},
   "outputs": [],
   "source": [
    "ticket_db = [{'price': 400}, {'price': 200}, {'price': 150}] \n",
    "import random\n",
    "\n",
    "\n",
    "# добавьте функцию get_euro_rate\n",
    "def get_euro_rate(price):\n",
    "    exchange_rate = random.randint(65, 85)\n",
    "    print('exchange_rate', exchange_rate)\n",
    "    rounded = round(price/exchange_rate, 2)  \n",
    "    return '€' + str(rounded)\n",
    "    \n",
    "# используйте get_euro_rate в следующей функции\n",
    "def to_euro(price):  \n",
    "    return [get_euro_rate(item['price']) for item in price]\n",
    "        \n",
    "tickets_euro = to_euro(ticket_db)\n",
    "print(tickets_euro)\n"
   ]
  },
  {
   "cell_type": "code",
   "execution_count": null,
   "metadata": {},
   "outputs": [],
   "source": [
    "import random\n",
    "\n",
    "print(random.randint(65,85))"
   ]
  },
  {
   "cell_type": "code",
   "execution_count": null,
   "metadata": {},
   "outputs": [],
   "source": [
    "from random import random\n",
    "# добавьте функцию get_euro_rate\n",
    "def get_euro_rate():  \n",
    "    return (65 + random() * 20)\n",
    "# используйте get_euro_rate в следующей функции\n",
    "def to_euro(price):  \n",
    "    exchange_rate = get_euro_rate()\n",
    "    rounded = round(price/exchange_rate, 2)  \n",
    "    return '€' + str(rounded)\n",
    "\n"
   ]
  },
  {
   "cell_type": "code",
   "execution_count": null,
   "metadata": {},
   "outputs": [],
   "source": [
    "from random import random\n",
    "(65 + random() * 20)"
   ]
  },
  {
   "cell_type": "code",
   "execution_count": null,
   "metadata": {},
   "outputs": [],
   "source": [
    "def sum(x,y):\n",
    "    return x+y\n",
    "\n",
    "summary = sum\n",
    "summa = sum\n",
    "print(summary(1,2))\n",
    "summa(3,2)\n",
    "\n"
   ]
  },
  {
   "cell_type": "code",
   "execution_count": null,
   "metadata": {},
   "outputs": [],
   "source": [
    "def apply_the_operation(operation, argument):  \n",
    "    print(\"I'm using\", operation)  \n",
    "    return operation(argument)  \n",
    "  \n",
    "def double_string(string):  \n",
    "    return string*2  \n",
    "  \n",
    "# передаём функцию double_string в apply_the_operation  \n",
    "apply_the_operation(double_string, 'hello')  \n",
    "# => I'm using <function double_string at 0x7f4c34265378>  \n",
    "# 'hellohello'  "
   ]
  },
  {
   "cell_type": "code",
   "execution_count": null,
   "metadata": {},
   "outputs": [],
   "source": [
    "all_the = sum\n",
    "magic = range\n",
    "print(all_the(magic(5)))"
   ]
  },
  {
   "cell_type": "code",
   "execution_count": null,
   "metadata": {},
   "outputs": [],
   "source": [
    "sum(range(0,5))"
   ]
  },
  {
   "cell_type": "code",
   "execution_count": null,
   "metadata": {},
   "outputs": [],
   "source": [
    "func = lambda x, y, z : 7*x+2*y-3\n",
    "func(1,2)"
   ]
  },
  {
   "cell_type": "code",
   "execution_count": null,
   "metadata": {},
   "outputs": [],
   "source": [
    "guests = [\"Boris\", \"Ivan\", \"Bob\"]  \n",
    "print(list(map(lambda name: \"Mr. \" + name, guests)))   \n"
   ]
  },
  {
   "cell_type": "code",
   "execution_count": null,
   "metadata": {},
   "outputs": [],
   "source": [
    "def polite_name(name):  \n",
    "    return 'Mr. ' + name   \n",
    "  \n",
    "guests = [\"Boris\", \"Ivan\", \"Bob\"]  \n",
    "print(list(map(polite_name, guests)))   \n"
   ]
  },
  {
   "cell_type": "code",
   "execution_count": null,
   "metadata": {},
   "outputs": [],
   "source": [
    "values = [1, 2, 3]\n",
    "vectors = [(10, 3), (4, 5), (6, 7)]\n",
    "print(list(map(lambda vec: (vec[0]**2 + vec[1]**2)**0.5, vectors)))"
   ]
  },
  {
   "cell_type": "code",
   "execution_count": null,
   "metadata": {
    "scrolled": true
   },
   "outputs": [],
   "source": [
    "values = [4, 8, 15, 16, 23, 42]\n",
    "mean = 18\n",
    "\n",
    "result = list(map(lambda x: x - mean, values))\n",
    "print(result)"
   ]
  },
  {
   "cell_type": "code",
   "execution_count": null,
   "metadata": {},
   "outputs": [],
   "source": [
    "a = [1,32,44,5,4,3,22,1]\n",
    "\n",
    "print(list(filter(lambda x: x <10, a)))"
   ]
  },
  {
   "cell_type": "code",
   "execution_count": null,
   "metadata": {},
   "outputs": [],
   "source": [
    "values = [4, 8, 15, 16, 23, 42]\n",
    "mean = 18\n",
    "\n",
    "result = list(filter(lambda x: x > mean, values))\n",
    "print(result)"
   ]
  },
  {
   "cell_type": "code",
   "execution_count": null,
   "metadata": {},
   "outputs": [],
   "source": [
    "values = [-7, -7, 7, 7]\n",
    "std = 42\n",
    "\n",
    "def count_std():\n",
    "    mean = sum(values)/len(values)\n",
    "    print(mean)\n",
    "#     std = (sum([(value-mean)**2 for value in values])/len(values))**0.5\n",
    "#     return std\n",
    "\n",
    "# def normalize(value):\n",
    "#     result = value/std\n",
    "#     return result \n",
    "\n",
    "# print(normalize(21))"
   ]
  },
  {
   "cell_type": "code",
   "execution_count": null,
   "metadata": {},
   "outputs": [],
   "source": [
    "rabbits = 0\n",
    "\n",
    "def count_rabbits(spotted):\n",
    "    global rabbits\n",
    "    rabbits += spotted\n",
    "\n",
    "    \n",
    "count_rabbits(3)\n",
    "count_rabbits(5)\n",
    "print(rabbits)"
   ]
  },
  {
   "cell_type": "code",
   "execution_count": 40,
   "metadata": {},
   "outputs": [
    {
     "data": {
      "text/plain": [
       "[-5, 5]"
      ]
     },
     "execution_count": 40,
     "metadata": {},
     "output_type": "execute_result"
    }
   ],
   "source": [
    "def normalize(numbers, mean = 0, std = 1):\n",
    "    a = []\n",
    "    for i in numbers:\n",
    "        x = (i - mean)/std\n",
    "        a.append(int(x))\n",
    "    return a\n",
    "\n",
    "normalize([10,20], mean = 15)\n"
   ]
  },
  {
   "cell_type": "code",
   "execution_count": 41,
   "metadata": {},
   "outputs": [
    {
     "data": {
      "text/plain": [
       "21"
      ]
     },
     "execution_count": 41,
     "metadata": {},
     "output_type": "execute_result"
    }
   ],
   "source": [
    "def sum_args(*args):\n",
    "    return sum(args)\n",
    "\n",
    "sum_args(10, 15, -4)\n",
    "        \n",
    "    "
   ]
  },
  {
   "cell_type": "code",
   "execution_count": 61,
   "metadata": {},
   "outputs": [
    {
     "name": "stdout",
     "output_type": "stream",
     "text": [
      "verbose True\n",
      "mode constant\n",
      "verbose mode\n"
     ]
    }
   ],
   "source": [
    "def show_keys(**kwargs):\n",
    "    for key, value in kwargs.items():\n",
    "        print(key, value)\n",
    "    print(' '.join(kwargs.keys()))\n",
    "\n",
    "show_keys(verbose=True, mode='constant')"
   ]
  },
  {
   "cell_type": "code",
   "execution_count": 55,
   "metadata": {},
   "outputs": [
    {
     "name": "stdout",
     "output_type": "stream",
     "text": [
      "abc abc\n",
      "c adad\n",
      "None\n"
     ]
    }
   ],
   "source": [
    "def func(**kwags):\n",
    "    for key,value in kwags.items():\n",
    "        print(key, value)\n",
    "\n",
    "x = func(abc = 'abc', c = 'adad')\n",
    "print(x)"
   ]
  },
  {
   "cell_type": "code",
   "execution_count": 79,
   "metadata": {},
   "outputs": [
    {
     "data": {
      "text/plain": [
       "3.4285714285714284"
      ]
     },
     "execution_count": 79,
     "metadata": {},
     "output_type": "execute_result"
    }
   ],
   "source": [
    "def count_letters(sentence, average=False):\n",
    "    if average == False:\n",
    "        sentence = sentence.replace(' ','')\n",
    "        return len(sentence)\n",
    "    else:\n",
    "        sentence = sentence.split(' ')\n",
    "        count = 0\n",
    "        letters = 0\n",
    "        for letter in sentence:\n",
    "            letters += len(letter)\n",
    "            count += 1\n",
    "        return (letters/count)\n",
    "        \n",
    "\n",
    "\n",
    "\n",
    "# count_letters(\"Beep boop\") # => 8\n",
    "# count_letters(\"Beep boop\", average=True) # => 4\n",
    "# count_letters(\"I will build my own theme park\") # => 24\n",
    "count_letters(\"I will build my own theme park\", average=True) # => 3.429"
   ]
  },
  {
   "cell_type": "code",
   "execution_count": 65,
   "metadata": {},
   "outputs": [
    {
     "ename": "SyntaxError",
     "evalue": "'return' outside function (<ipython-input-65-313438d22022>, line 5)",
     "output_type": "error",
     "traceback": [
      "\u001b[1;36m  File \u001b[1;32m\"<ipython-input-65-313438d22022>\"\u001b[1;36m, line \u001b[1;32m5\u001b[0m\n\u001b[1;33m    return len(sentence)\u001b[0m\n\u001b[1;37m    ^\u001b[0m\n\u001b[1;31mSyntaxError\u001b[0m\u001b[1;31m:\u001b[0m 'return' outside function\n"
     ]
    }
   ],
   "source": [
    "sentence = 'Beep boop'\n",
    "average = False\n",
    "if average == False:\n",
    "    sentence = sentence.replace(' ','')\n",
    "    return len(sentence)"
   ]
  },
  {
   "cell_type": "code",
   "execution_count": 106,
   "metadata": {},
   "outputs": [
    {
     "data": {
      "text/plain": [
       "'a'"
      ]
     },
     "execution_count": 106,
     "metadata": {},
     "output_type": "execute_result"
    }
   ],
   "source": [
    "words = [\"sofa\", \"suitcase\", \"valise\", \"picture\", \"basket\", \"carton\", \"doggie\"]\n",
    "list(map(lambda x: sorted(x)[0], words))[5] #сортировка по порядку слова basket (индекс 5) и вывод первого элемента"
   ]
  },
  {
   "cell_type": "code",
   "execution_count": 103,
   "metadata": {},
   "outputs": [
    {
     "data": {
      "text/plain": [
       "'4'"
      ]
     },
     "execution_count": 103,
     "metadata": {},
     "output_type": "execute_result"
    }
   ],
   "source": [
    "words = ['123','321','456']\n",
    "list(map(lambda x: sorted(x)[0], words))[2]"
   ]
  },
  {
   "cell_type": "code",
   "execution_count": 125,
   "metadata": {},
   "outputs": [
    {
     "data": {
      "text/plain": [
       "5"
      ]
     },
     "execution_count": 125,
     "metadata": {},
     "output_type": "execute_result"
    }
   ],
   "source": [
    "def always(n):\n",
    "    def ret():\n",
    "        return n\n",
    "    return ret\n",
    "    \n",
    "    \n",
    "\n",
    "five = always(5)\n",
    "five() "
   ]
  },
  {
   "cell_type": "code",
   "execution_count": 114,
   "metadata": {},
   "outputs": [
    {
     "name": "stdout",
     "output_type": "stream",
     "text": [
      "Hello\n"
     ]
    }
   ],
   "source": [
    "def sayhello():\n",
    "    print('Hello')\n",
    "    \n",
    "hi = sayhello\n",
    "hi()"
   ]
  },
  {
   "cell_type": "code",
   "execution_count": 126,
   "metadata": {},
   "outputs": [
    {
     "name": "stdout",
     "output_type": "stream",
     "text": [
      "Ivanov, Ivan\n"
     ]
    }
   ],
   "source": [
    "x = 'Ivan Ivanov'\n",
    "y, z = x.split()\n",
    "print(z, y, sep=', ')"
   ]
  },
  {
   "cell_type": "code",
   "execution_count": 127,
   "metadata": {},
   "outputs": [
    {
     "ename": "SyntaxError",
     "evalue": "invalid syntax (<ipython-input-127-ee591aa49014>, line 2)",
     "output_type": "error",
     "traceback": [
      "\u001b[1;36m  File \u001b[1;32m\"<ipython-input-127-ee591aa49014>\"\u001b[1;36m, line \u001b[1;32m2\u001b[0m\n\u001b[1;33m    ost =Num%\u001b[0m\n\u001b[1;37m             ^\u001b[0m\n\u001b[1;31mSyntaxError\u001b[0m\u001b[1;31m:\u001b[0m invalid syntax\n"
     ]
    }
   ],
   "source": [
    "Num = input(\"Enter a number: \")\n",
    "ost =Num%\n",
    "2\n",
    "if ost > 0:\n",
    "  print(\"You picked an odd number.\")\n",
    "else:\n",
    "  print(\"You picked an even number.\")"
   ]
  },
  {
   "cell_type": "code",
   "execution_count": null,
   "metadata": {},
   "outputs": [],
   "source": []
  },
  {
   "cell_type": "code",
   "execution_count": null,
   "metadata": {},
   "outputs": [],
   "source": []
  }
 ],
 "metadata": {
  "kernelspec": {
   "display_name": "Python 3",
   "language": "python",
   "name": "python3"
  },
  "language_info": {
   "codemirror_mode": {
    "name": "ipython",
    "version": 3
   },
   "file_extension": ".py",
   "mimetype": "text/x-python",
   "name": "python",
   "nbconvert_exporter": "python",
   "pygments_lexer": "ipython3",
   "version": "3.7.4"
  }
 },
 "nbformat": 4,
 "nbformat_minor": 2
}
