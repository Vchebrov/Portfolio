{
 "cells": [
  {
   "cell_type": "code",
   "execution_count": null,
   "metadata": {},
   "outputs": [],
   "source": [
    "# import numpy as np\n",
    "import pandas as pd\n",
    "# import seaborn as sns\n",
    "# import matplotlib.pyplot as plt\n",
    "import os\n",
    "from collections import Counter\n",
    "df = pd.read_csv('data.csv')\n",
    "df['profit'] = df.revenue - df.budget # в DF добавляем колонку с расчитанным доходом/расходом. Для дальнейшего использования\n",
    "df[df.profit == df.profit.max()]\n",
    "df.info()"
   ]
  },
  {
   "cell_type": "code",
   "execution_count": null,
   "metadata": {
    "scrolled": true
   },
   "outputs": [],
   "source": [
    "df = pd.read_csv('data.csv')\n",
    "df.info"
   ]
  },
  {
   "cell_type": "code",
   "execution_count": null,
   "metadata": {
    "scrolled": true
   },
   "outputs": [],
   "source": [
    "# У какого фильма из списка самый большой бюджет?\n",
    "\n",
    "\n",
    "df[df.budget == df.budget.max()]\n",
    "# ответ The Warrior's Way"
   ]
  },
  {
   "cell_type": "code",
   "execution_count": null,
   "metadata": {
    "scrolled": true
   },
   "outputs": [],
   "source": [
    "# Какой из фильмов самый длительный (в минутах)?\n",
    "\n",
    "df[df.runtime == df.runtime.max()]\n",
    "# ответ Gods and Generals"
   ]
  },
  {
   "cell_type": "code",
   "execution_count": null,
   "metadata": {
    "scrolled": true
   },
   "outputs": [],
   "source": [
    "# Какой из фильмов самый короткий (в минутах)?\n",
    "\n",
    "df[df.runtime == df.runtime.min()]\n",
    "# ответ Winnie the Pooh"
   ]
  },
  {
   "cell_type": "code",
   "execution_count": null,
   "metadata": {},
   "outputs": [],
   "source": [
    "# Какое число ближе к средней длительности фильма в датасете?\n",
    "\n",
    "df.runtime.mean()\n",
    "# ответ 110"
   ]
  },
  {
   "cell_type": "code",
   "execution_count": null,
   "metadata": {
    "scrolled": true
   },
   "outputs": [],
   "source": [
    "# Какое число ближе к медианной длительности фильма в датасете?\n",
    "\n",
    "df.runtime.median()\n",
    "# ответ 106"
   ]
  },
  {
   "cell_type": "code",
   "execution_count": null,
   "metadata": {
    "scrolled": true
   },
   "outputs": [],
   "source": [
    "# Какой самый прибыльный фильм?\n",
    "#  Внимание! Здесь и далее под «прибылью» или «убытками» понимается разность между сборами и бюджетом фильма.\n",
    "\n",
    "df['profit'] = df.revenue - df.budget # в DF добавляем колонку с расчитанным доходом/расходом. Для дальнейшего использования\n",
    "df[df.profit == df.profit.max()]\n",
    "\n",
    "# ответ Avatar"
   ]
  },
  {
   "cell_type": "code",
   "execution_count": null,
   "metadata": {
    "scrolled": true
   },
   "outputs": [],
   "source": [
    "# Какой фильм самый убыточный?\n",
    "\n",
    "df[df.profit == df.profit.min()]\n",
    "# ответ The Warrior's Way"
   ]
  },
  {
   "cell_type": "code",
   "execution_count": null,
   "metadata": {},
   "outputs": [],
   "source": [
    "# У скольких фильмов из датасета объем сборов оказался выше бюджета?\n",
    "\n",
    "df[df.profit > 0].original_title.count() #считаем количество фильмов с доходом больше 0\n",
    "\n",
    "# ответ 1478"
   ]
  },
  {
   "cell_type": "code",
   "execution_count": null,
   "metadata": {},
   "outputs": [],
   "source": [
    "# Какой фильм оказался самым кассовым в 2008 году?\n",
    "\n",
    "reven = df[df.release_year == 2008].revenue.max() # определяем размер максимальной кассы фильмов из 2008\n",
    "df[df.revenue == reven] # извлекаем данные по условию\n",
    "\n",
    "# ответ The Dark Knight"
   ]
  },
  {
   "cell_type": "code",
   "execution_count": null,
   "metadata": {
    "scrolled": true
   },
   "outputs": [],
   "source": [
    "# Самый убыточный фильм за период с 2012 по 2014 гг. (включительно)?\n",
    "\n",
    "df[df.profit == (df.query('2012 <= release_year <= 2014').profit.min())] # сортируем по году и максимальному убытку\n",
    "# ответ The Lone Ranger"
   ]
  },
  {
   "cell_type": "code",
   "execution_count": null,
   "metadata": {
    "scrolled": true
   },
   "outputs": [],
   "source": [
    "# Какого жанра фильмов больше всего?\n",
    "import collections\n",
    "\n",
    "genres = df.genres.str.split('|')\n",
    "\n",
    "genre = Counter()\n",
    "\n",
    "for gen in genres:\n",
    "    genre += Counter(gen)\n",
    "genre.most_common()\n",
    "# ответ ('Drama', 782)"
   ]
  },
  {
   "cell_type": "code",
   "execution_count": null,
   "metadata": {},
   "outputs": [],
   "source": [
    "# Какого жанра среди прибыльных фильмов больше всего?\n",
    "\n",
    "profit_movies = df[df.profit > 0]\n",
    "profit_movies\n",
    "genres = profit_movies.genres.str.split('|')\n",
    "genre = Counter()\n",
    "\n",
    "for gen in genres:\n",
    "    genre += Counter(gen)\n",
    "genre.most_common()\n",
    "# ответ ('Drama', 560)"
   ]
  },
  {
   "cell_type": "code",
   "execution_count": null,
   "metadata": {},
   "outputs": [],
   "source": [
    "# Кто из режиссеров снял больше всего фильмов?\n",
    "df['director'].value_counts()\n",
    "# ответ Steven Soderbergh  13"
   ]
  },
  {
   "cell_type": "code",
   "execution_count": null,
   "metadata": {},
   "outputs": [],
   "source": [
    "# Кто из режиссеров снял больше всего прибыльных фильмов?\n",
    "profit_movies = df[df.profit > 0]\n",
    "profit_movies\n",
    "profit_movies.director.value_counts()\n",
    "# ответ Ridley Scott 12"
   ]
  },
  {
   "cell_type": "code",
   "execution_count": null,
   "metadata": {
    "scrolled": true
   },
   "outputs": [],
   "source": [
    "# Кто из режиссеров принес больше всего прибыли?\n",
    "df1 = pd.pivot_table(df, values = 'profit', \n",
    "                     index = 'director', \n",
    "                     aggfunc = sum).sort_values('profit', ascending = False).head(1)\n",
    "df1.index\n",
    "# ответ Peter Jackson\t5202593685"
   ]
  },
  {
   "cell_type": "code",
   "execution_count": null,
   "metadata": {
    "scrolled": true
   },
   "outputs": [],
   "source": [
    "# Какой актер принес больше всего прибыли?\n",
    "df_cast = pd.DataFrame(df.cast.str.split('|').tolist()).stack().reset_index()\n",
    "df_cast.columns = ['row_index','row2','cast']\n",
    "df_cast['profit_cast'] = df_cast.row_index.apply(lambda x : df.iloc[x]['profit'])\n",
    "table = pd.pivot_table(df_cast, values = 'profit_cast', \n",
    "                       index = 'cast', \n",
    "                       aggfunc = sum).sort_values('profit_cast', ascending = False)\n",
    "table\n",
    "\n",
    "# ответ Emma Watson \n"
   ]
  },
  {
   "cell_type": "code",
   "execution_count": null,
   "metadata": {
    "scrolled": true
   },
   "outputs": [],
   "source": [
    "#  Какой актер принес меньше всего прибыли в 2012 году?\n",
    "df_year = df[df.release_year == 2012]\n",
    "# display(df_year)\n",
    "df_cast = pd.DataFrame(df_year.cast.str.split('|').tolist()).stack().reset_index()\n",
    "df_cast.columns = ['row_index','row2','cast']\n",
    "# display(df_cast)\n",
    "df_cast['Profit_cast'] = df_cast.row_index.apply(lambda x:df_year.iloc[x]['profit'])\n",
    "df_cast['Year'] = df_cast.row_index.apply(lambda x: df_year.iloc[x]['release_year'])\n",
    "# display(df_cast)\n",
    "\n",
    "table = pd.pivot_table(df_cast, values = 'Profit_cast', index = 'cast', aggfunc = sum).sort_values('Profit_cast', ascending = True)\n",
    "table\n",
    "\n",
    "# Ответ: Kirsten Dunst\t-68109207"
   ]
  },
  {
   "cell_type": "code",
   "execution_count": null,
   "metadata": {
    "scrolled": true
   },
   "outputs": [],
   "source": [
    "# Какой актер снялся в большем количестве высокобюджетных фильмов? \n",
    "# Примечание: в фильмах, где бюджет выше среднего по данной выборке\n",
    "# display(df.budget.mean())\n",
    "# display(df.budget.min())\n",
    "# display(df.budget.max())\n",
    "df_budget = df[df.budget > df.budget.mean()]\n",
    "# display(df_budget)\n",
    "df_cast = pd.DataFrame(df_budget.cast.str.split('|').tolist()).stack().reset_index()\n",
    "df_cast.columns = ['1','2','cast']\n",
    "df_cast.cast.value_counts()\n",
    "\n",
    "# ответ: Matt Damon  18"
   ]
  },
  {
   "cell_type": "code",
   "execution_count": null,
   "metadata": {},
   "outputs": [],
   "source": [
    "# В фильмах какого жанра больше всего снимался Nicolas Cage?\n",
    "\n",
    "df_cast = pd.DataFrame(df.cast.str.split('|').tolist()).stack().reset_index()\n",
    "df_cast.columns = ['raw_index','index','cast']\n",
    "\n",
    "df_cast['genre'] = df_cast.raw_index.apply(lambda x: df.iloc[x]['genres'])\n",
    "df_cage = df_cast[df_cast.cast == 'Nicolas Cage']\n",
    "display(df_cage)\n",
    "df_genre = pd.DataFrame(df_cage.genre.str.split('|').tolist()).stack().reset_index()\n",
    "\n",
    "df_genre.columns = ['1','2','genre']\n",
    "\n",
    "\n",
    "\n",
    "df_genre.genre.value_counts()\n",
    "\n",
    "# ответ: Action"
   ]
  },
  {
   "cell_type": "code",
   "execution_count": null,
   "metadata": {},
   "outputs": [],
   "source": [
    "# Какая студия сняла больше всего фильмов?\n",
    "\n",
    "df.head(1)\n",
    "df_company = pd.DataFrame(df.production_companies.str.split('|').tolist()).stack().reset_index()\n",
    "df_company.columns = ['1','2','company']\n",
    "\n",
    "df_company.company.value_counts()\n",
    "\n",
    "# ответ: Universal Pictures 173"
   ]
  },
  {
   "cell_type": "code",
   "execution_count": null,
   "metadata": {
    "scrolled": true
   },
   "outputs": [],
   "source": [
    "# Какая студия сняла больше всего фильмов в 2015 году?\n",
    "df_year = df[df.release_year == 2015]\n",
    "# display(df_year)\n",
    "df_company = pd.DataFrame(df_year.production_companies.str.split('|').tolist()).stack().reset_index()\n",
    "display(df_company)\n",
    "df_company.columns = ['1','2','company']\n",
    "df_company.company.value_counts()\n",
    "\n",
    "# ответ: Warner Bros.  12"
   ]
  },
  {
   "cell_type": "code",
   "execution_count": null,
   "metadata": {},
   "outputs": [],
   "source": [
    "# Какая студия заработала больше всего денег в жанре комедий за все время?\n",
    "# df.info()\n",
    "# \n",
    "\n",
    "# df_company = df\n",
    "df_company = pd.DataFrame(df.production_companies.str.split('|').tolist()).stack().reset_index()\n",
    "df_company.columns = ['common_index', 'index','company']\n",
    "df_company['genres'] = df_company.common_index.apply(lambda x: df.iloc[x]['genres'])\n",
    "df_genres = pd.DataFrame(df_company.genres.str.split('|').tolist()).stack().reset_index()\n",
    "df_genres.columns = ['common_index', 'index', 'genre']\n",
    "df_company.drop(['genres'], axis = 1, inplace = True)\n",
    "df_common = df_company.merge(df_genres, on = 'common_index')\n",
    "\n",
    "df_common[df_common.genre == 'Comedy'].company.value_counts()\n",
    "\n",
    "# Ответ: Universal Pictures"
   ]
  },
  {
   "cell_type": "code",
   "execution_count": null,
   "metadata": {},
   "outputs": [],
   "source": [
    "# Какая студия заработала больше всего денег в 2012 году?\n",
    "df_comp = df[df.release_year == 2012]\n",
    "df_company = pd.DataFrame(df_comp.production_companies.str.split('|').tolist()).stack().reset_index()\n",
    "\n",
    "df_company.columns = ['raw_index','index','company']\n",
    "\n",
    "\n",
    "df_company['profits'] = df_company.raw_index.apply(lambda x: df.iloc[x]['profit'])\n",
    "\n",
    "\n",
    "table = pd.pivot_table(df_company, values = 'profits', \n",
    "                       index = 'company', aggfunc = sum).sort_values('profits', ascending = False)\n",
    "\n",
    "table\n",
    "# ответ Columbia Pictures\t2501406608"
   ]
  },
  {
   "cell_type": "code",
   "execution_count": null,
   "metadata": {},
   "outputs": [],
   "source": [
    "# Самый убыточный фильм от Paramount Pictures?\n",
    "# display(df)\n",
    "df_paramount = pd.DataFrame(df.production_companies.str.split('|').tolist()).stack().reset_index()\n",
    "\n",
    "df_paramount.columns = ['raw_index','index','company']\n",
    "df_paramount['movie'] = df_paramount.raw_index.apply(lambda x: df.iloc[x]['original_title'])\n",
    "df_paramount['profit']=df_paramount.raw_index.apply(lambda x: df.iloc[x]['profit'])\n",
    "df_paramount\n",
    "df_paramount.query('company in [\"Paramount Pictures\"]').sort_values('profit',ascending = True)\n",
    "# df_paramount[df_paramount.company == 'Paramount Pictures']\n",
    "\n",
    "# ответ: K-19: The Widowmaker"
   ]
  },
  {
   "cell_type": "code",
   "execution_count": null,
   "metadata": {},
   "outputs": [],
   "source": [
    "# Какой самый прибыльный год (в какой год студии заработали больше всего)?\n",
    "# df.groupby(столбец_для_группировки)[столбцы_для_отображения].agg(['функция_1', 'функция_2'])\n",
    "\n",
    "group = pd.DataFrame(df.groupby('release_year')['profit'].agg([sum]))\n",
    "\n",
    "display(group)\n",
    "\n",
    "\n",
    "\n",
    "# ответ: 2015"
   ]
  },
  {
   "cell_type": "code",
   "execution_count": null,
   "metadata": {},
   "outputs": [],
   "source": [
    "# Какой самый прибыльный год для студии Warner Bros?\n",
    "# df.info()\n",
    "df_warner = pd.DataFrame(df.production_companies.str.split('|').tolist()).stack().reset_index()\n",
    "df_warner.columns = ['raw_index','index','company']\n",
    "\n",
    "df_warner['profit']=df_warner.raw_index.apply(lambda x: df.iloc[x]['profit'])\n",
    "df_warner['year'] = df_warner.raw_index.apply(lambda x: df.iloc[x]['release_year'])\n",
    "\n",
    "df_wb = df_warner[df_warner.company.str.contains('Warner Bros.')]\n",
    "\n",
    "\n",
    "\n",
    "group = pd.DataFrame(df_wb.groupby('year')['profit'].sum())\n",
    "# grouped=pd.DataFrame(group)\n",
    "# display(group)\n",
    "\n",
    "group[group.profit == group.profit.max()]\n",
    "\n"
   ]
  },
  {
   "cell_type": "code",
   "execution_count": 186,
   "metadata": {},
   "outputs": [
    {
     "name": "stderr",
     "output_type": "stream",
     "text": [
      "C:\\ProgramData\\Anaconda3\\lib\\site-packages\\ipykernel_launcher.py:6: SettingWithCopyWarning: \n",
      "A value is trying to be set on a copy of a slice from a DataFrame.\n",
      "Try using .loc[row_indexer,col_indexer] = value instead\n",
      "\n",
      "See the caveats in the documentation: http://pandas.pydata.org/pandas-docs/stable/user_guide/indexing.html#returning-a-view-versus-a-copy\n",
      "  \n",
      "C:\\ProgramData\\Anaconda3\\lib\\site-packages\\ipykernel_launcher.py:7: SettingWithCopyWarning: \n",
      "A value is trying to be set on a copy of a slice from a DataFrame.\n",
      "Try using .loc[row_indexer,col_indexer] = value instead\n",
      "\n",
      "See the caveats in the documentation: http://pandas.pydata.org/pandas-docs/stable/user_guide/indexing.html#returning-a-view-versus-a-copy\n",
      "  import sys\n"
     ]
    },
    {
     "data": {
      "text/plain": [
       "September    227\n",
       "December     191\n",
       "October      186\n",
       "August       161\n",
       "March        156\n",
       "April        149\n",
       "June         147\n",
       "November     146\n",
       "July         142\n",
       "May          140\n",
       "February     135\n",
       "January      110\n",
       "Name: month, dtype: int64"
      ]
     },
     "execution_count": 186,
     "metadata": {},
     "output_type": "execute_result"
    }
   ],
   "source": [
    "# В каком месяце за все годы суммарно вышло больше всего фильмов?\n",
    "\n",
    "df_release = df[['original_title','release_year','release_date']]\n",
    "\n",
    "\n",
    "df_release['release_date'] = pd.to_datetime(df_release.release_date)\n",
    "df_release['month'] = df_release.release_date.dt.strftime('%B')\n",
    "\n",
    "df_release['month'].value_counts()\n",
    "\n",
    "\n",
    "# ответ: сентябрь"
   ]
  },
  {
   "cell_type": "code",
   "execution_count": null,
   "metadata": {},
   "outputs": [],
   "source": [
    "# Сколько суммарно вышло фильмов летом (за июнь, июль, август)\n",
    "\n",
    "df_release = df[['original_title']]\n",
    "df['release_date'] = pd.to_datetime(df.release_date)\n",
    "\n",
    "df_release['month'] = df.release_date.dt.strftime('%B')\n",
    "\n",
    "len(df_release[(df_release.month == 'June') | ((df_release.month == 'July') | (df_release.month == 'August'))])\n",
    "\n",
    "# ответ: 450 "
   ]
  },
  {
   "cell_type": "code",
   "execution_count": null,
   "metadata": {},
   "outputs": [],
   "source": [
    "# Какой режиссер выпускает (суммарно по годам) больше всего фильмов зимой?\n",
    "# dt.strftime('%B')\n",
    "\n",
    "df_director = df\n",
    "df_director['release_date'] = pd.to_datetime(df_director.release_date)\n",
    "\n",
    "df_director['month'] = df_director.release_date.dt.strftime('%B')\n",
    "df_director.head(1)\n",
    "\n",
    "df_director = df_director.query('month in [\"December\",\"January\",\"February\"]')\n",
    "df_director['director'].value_counts()\n",
    "\n",
    "\n",
    "# ответ Peter Jackson"
   ]
  },
  {
   "cell_type": "code",
   "execution_count": null,
   "metadata": {},
   "outputs": [],
   "source": [
    "# Какой месяц чаще всего самый прибыльный в году?\n",
    "\n",
    "\n",
    "df_profit = df\n",
    "df_profit['release_date'] = pd.to_datetime(df.release_date)\n",
    "df_profit['month'] = df.release_date.dt.strftime('%B')\n",
    "df_profit\n",
    "table = pd.pivot_table(df_profit, values = 'profit', \n",
    "                       index = 'month', aggfunc = 'sum').sort_values('profit', ascending = False)\n",
    "\n",
    "table\n",
    "    \n",
    "# ответ: June"
   ]
  },
  {
   "cell_type": "code",
   "execution_count": null,
   "metadata": {},
   "outputs": [],
   "source": [
    "# Названия фильмов какой студии в среднем самые длинные по количеству символов?\n",
    "\n",
    "\n",
    "df_movie = pd.DataFrame(df.production_companies.str.split('|').tolist()).stack().reset_index()\n",
    "\n",
    "df_movie.columns = ['common_index','index','company']\n",
    "df_movie['title'] = df_movie.common_index.apply(lambda x: df.iloc[x]['original_title'])\n",
    "\n",
    "df_movie['lenght'] = df_movie.common_index.apply(lambda x: len(df.iloc[x]['original_title']))\n",
    "\n",
    "table = pd.pivot_table(df_movie, \n",
    "                       values = 'lenght', \n",
    "                       index = 'company', aggfunc = 'mean').sort_values('lenght',ascending = False)\n",
    "\n",
    "table\n",
    "\n",
    "# ответ: Four By Two Productions\t83.0"
   ]
  },
  {
   "cell_type": "code",
   "execution_count": null,
   "metadata": {
    "scrolled": true
   },
   "outputs": [],
   "source": [
    "# Названия фильмов какой студии в среднем самые длинные по количеству слов?\n",
    "\n",
    "df_movie = pd.DataFrame(df.production_companies.str.split('|').tolist()).stack().reset_index()\n",
    "df_movie.columns = ['common_index','index', 'company']\n",
    "df_movie['movie'] = df_movie.common_index.apply(lambda x: df.iloc[x]['original_title'])\n",
    "\n",
    "# movies = pd.DataFrame(df_movie['movie'])\n",
    "\n",
    "df_movie['numbers_of_words'] = df_movie.movie.apply(lambda x: len(x.split(' ')))\n",
    "\n",
    "# display(df_movie)\n",
    "\n",
    "df_movie[df_movie.numbers_of_words == df_movie.numbers_of_words.max()]\n",
    "\n",
    "table = pd.pivot_table(df_movie, values = 'numbers_of_words', \n",
    "                       index = 'company', aggfunc = 'mean').sort_values('numbers_of_words', ascending = False)\n",
    "table\n",
    "\n",
    "\n",
    "# ответ: Four By Two Productions\t12.0"
   ]
  },
  {
   "cell_type": "code",
   "execution_count": null,
   "metadata": {
    "scrolled": true
   },
   "outputs": [],
   "source": [
    "# Сколько разных слов используется в названиях фильмов (без учета регистра)?\n",
    "\n",
    "df_movie = pd.DataFrame(df.original_title.str.lower())\n",
    "\n",
    "df_movie = pd.DataFrame(df_movie.original_title.str.split(' ').tolist()).stack().reset_index()\n",
    "df_movie.columns = ['common_index', ' index', 'word']\n",
    "df_movie.word.nunique()\n",
    "\n",
    "# ответ: 2462"
   ]
  },
  {
   "cell_type": "code",
   "execution_count": null,
   "metadata": {},
   "outputs": [],
   "source": [
    "# Какие фильмы входят в 1 % лучших по рейтингу?\n",
    "df.head(1)\n",
    "df_ratings = df\n",
    "df_ratings = df_ratings[['original_title','vote_average']].sort_values('vote_average', ascending = False)\n",
    "df_ratings.columns = ['title','ratings']\n",
    "\n",
    "df_ratings[df_ratings['ratings'] > df_ratings.quantile(0.99, numeric_only=True)['ratings']]\n",
    "\n",
    "# df_ratings"
   ]
  },
  {
   "cell_type": "code",
   "execution_count": null,
   "metadata": {},
   "outputs": [],
   "source": [
    "# Какие актеры чаще всего снимаются в одном фильме вместе?\n",
    "\n",
    "import itertools as its\n",
    "df_actor = df\n",
    "\n",
    "df_actor['actor_list'] = pd.DataFrame(df.cast.str.split('|'))\n",
    "\n",
    "# df_actor['pairs_list']\n",
    "df_final = pd.DataFrame(df_actor['actor_list'].apply(lambda x: Counter(its.combinations(x, 2))))\n",
    "display(df_final.actor_list.sum().most_common())\n",
    "\n",
    "# ответ: ('Daniel Radcliffe', 'Rupert Grint'), 8)\n",
    "# df_list\n"
   ]
  },
  {
   "cell_type": "code",
   "execution_count": 173,
   "metadata": {
    "scrolled": true
   },
   "outputs": [
    {
     "data": {
      "text/plain": [
       "'all_movies'"
      ]
     },
     "metadata": {},
     "output_type": "display_data"
    },
    {
     "data": {
      "text/html": [
       "<div>\n",
       "<style scoped>\n",
       "    .dataframe tbody tr th:only-of-type {\n",
       "        vertical-align: middle;\n",
       "    }\n",
       "\n",
       "    .dataframe tbody tr th {\n",
       "        vertical-align: top;\n",
       "    }\n",
       "\n",
       "    .dataframe thead th {\n",
       "        text-align: right;\n",
       "    }\n",
       "</style>\n",
       "<table border=\"1\" class=\"dataframe\">\n",
       "  <thead>\n",
       "    <tr style=\"text-align: right;\">\n",
       "      <th></th>\n",
       "      <th>director</th>\n",
       "    </tr>\n",
       "  </thead>\n",
       "  <tbody>\n",
       "    <tr>\n",
       "      <td>Steven Soderbergh</td>\n",
       "      <td>13</td>\n",
       "    </tr>\n",
       "    <tr>\n",
       "      <td>Clint Eastwood</td>\n",
       "      <td>12</td>\n",
       "    </tr>\n",
       "    <tr>\n",
       "      <td>Ridley Scott</td>\n",
       "      <td>12</td>\n",
       "    </tr>\n",
       "    <tr>\n",
       "      <td>Robert Rodriguez</td>\n",
       "      <td>11</td>\n",
       "    </tr>\n",
       "    <tr>\n",
       "      <td>Peter Farrelly</td>\n",
       "      <td>10</td>\n",
       "    </tr>\n",
       "    <tr>\n",
       "      <td>Steven Spielberg</td>\n",
       "      <td>10</td>\n",
       "    </tr>\n",
       "    <tr>\n",
       "      <td>Shawn Levy</td>\n",
       "      <td>10</td>\n",
       "    </tr>\n",
       "    <tr>\n",
       "      <td>Bobby Farrelly</td>\n",
       "      <td>9</td>\n",
       "    </tr>\n",
       "    <tr>\n",
       "      <td>Tim Burton</td>\n",
       "      <td>9</td>\n",
       "    </tr>\n",
       "    <tr>\n",
       "      <td>Brett Ratner</td>\n",
       "      <td>8</td>\n",
       "    </tr>\n",
       "    <tr>\n",
       "      <td>M. Night Shyamalan</td>\n",
       "      <td>8</td>\n",
       "    </tr>\n",
       "    <tr>\n",
       "      <td>Gore Verbinski</td>\n",
       "      <td>8</td>\n",
       "    </tr>\n",
       "    <tr>\n",
       "      <td>Peter Jackson</td>\n",
       "      <td>8</td>\n",
       "    </tr>\n",
       "    <tr>\n",
       "      <td>Adam Shankman</td>\n",
       "      <td>8</td>\n",
       "    </tr>\n",
       "    <tr>\n",
       "      <td>Antoine Fuqua</td>\n",
       "      <td>8</td>\n",
       "    </tr>\n",
       "    <tr>\n",
       "      <td>Michael Bay</td>\n",
       "      <td>8</td>\n",
       "    </tr>\n",
       "    <tr>\n",
       "      <td>Ron Howard</td>\n",
       "      <td>8</td>\n",
       "    </tr>\n",
       "    <tr>\n",
       "      <td>Todd Phillips</td>\n",
       "      <td>8</td>\n",
       "    </tr>\n",
       "    <tr>\n",
       "      <td>Christopher Nolan</td>\n",
       "      <td>8</td>\n",
       "    </tr>\n",
       "  </tbody>\n",
       "</table>\n",
       "</div>"
      ],
      "text/plain": [
       "                    director\n",
       "Steven Soderbergh         13\n",
       "Clint Eastwood            12\n",
       "Ridley Scott              12\n",
       "Robert Rodriguez          11\n",
       "Peter Farrelly            10\n",
       "Steven Spielberg          10\n",
       "Shawn Levy                10\n",
       "Bobby Farrelly             9\n",
       "Tim Burton                 9\n",
       "Brett Ratner               8\n",
       "M. Night Shyamalan         8\n",
       "Gore Verbinski             8\n",
       "Peter Jackson              8\n",
       "Adam Shankman              8\n",
       "Antoine Fuqua              8\n",
       "Michael Bay                8\n",
       "Ron Howard                 8\n",
       "Todd Phillips              8\n",
       "Christopher Nolan          8"
      ]
     },
     "metadata": {},
     "output_type": "display_data"
    },
    {
     "data": {
      "text/plain": [
       "'profit_movies'"
      ]
     },
     "metadata": {},
     "output_type": "display_data"
    },
    {
     "data": {
      "text/html": [
       "<div>\n",
       "<style scoped>\n",
       "    .dataframe tbody tr th:only-of-type {\n",
       "        vertical-align: middle;\n",
       "    }\n",
       "\n",
       "    .dataframe tbody tr th {\n",
       "        vertical-align: top;\n",
       "    }\n",
       "\n",
       "    .dataframe thead th {\n",
       "        text-align: right;\n",
       "    }\n",
       "</style>\n",
       "<table border=\"1\" class=\"dataframe\">\n",
       "  <thead>\n",
       "    <tr style=\"text-align: right;\">\n",
       "      <th></th>\n",
       "      <th>director</th>\n",
       "    </tr>\n",
       "  </thead>\n",
       "  <tbody>\n",
       "    <tr>\n",
       "      <td>Ridley Scott</td>\n",
       "      <td>12</td>\n",
       "    </tr>\n",
       "    <tr>\n",
       "      <td>Clint Eastwood</td>\n",
       "      <td>10</td>\n",
       "    </tr>\n",
       "    <tr>\n",
       "      <td>Steven Spielberg</td>\n",
       "      <td>10</td>\n",
       "    </tr>\n",
       "    <tr>\n",
       "      <td>Steven Soderbergh</td>\n",
       "      <td>10</td>\n",
       "    </tr>\n",
       "    <tr>\n",
       "      <td>Shawn Levy</td>\n",
       "      <td>9</td>\n",
       "    </tr>\n",
       "    <tr>\n",
       "      <td>Tim Burton</td>\n",
       "      <td>9</td>\n",
       "    </tr>\n",
       "    <tr>\n",
       "      <td>Peter Farrelly</td>\n",
       "      <td>8</td>\n",
       "    </tr>\n",
       "    <tr>\n",
       "      <td>Robert Rodriguez</td>\n",
       "      <td>8</td>\n",
       "    </tr>\n",
       "    <tr>\n",
       "      <td>Brett Ratner</td>\n",
       "      <td>8</td>\n",
       "    </tr>\n",
       "    <tr>\n",
       "      <td>Antoine Fuqua</td>\n",
       "      <td>8</td>\n",
       "    </tr>\n",
       "    <tr>\n",
       "      <td>Christopher Nolan</td>\n",
       "      <td>8</td>\n",
       "    </tr>\n",
       "    <tr>\n",
       "      <td>Peter Jackson</td>\n",
       "      <td>8</td>\n",
       "    </tr>\n",
       "    <tr>\n",
       "      <td>Michael Bay</td>\n",
       "      <td>8</td>\n",
       "    </tr>\n",
       "  </tbody>\n",
       "</table>\n",
       "</div>"
      ],
      "text/plain": [
       "                   director\n",
       "Ridley Scott             12\n",
       "Clint Eastwood           10\n",
       "Steven Spielberg         10\n",
       "Steven Soderbergh        10\n",
       "Shawn Levy                9\n",
       "Tim Burton                9\n",
       "Peter Farrelly            8\n",
       "Robert Rodriguez          8\n",
       "Brett Ratner              8\n",
       "Antoine Fuqua             8\n",
       "Christopher Nolan         8\n",
       "Peter Jackson             8\n",
       "Michael Bay               8"
      ]
     },
     "metadata": {},
     "output_type": "display_data"
    },
    {
     "data": {
      "text/plain": [
       "'result'"
      ]
     },
     "metadata": {},
     "output_type": "display_data"
    },
    {
     "data": {
      "text/html": [
       "<div>\n",
       "<style scoped>\n",
       "    .dataframe tbody tr th:only-of-type {\n",
       "        vertical-align: middle;\n",
       "    }\n",
       "\n",
       "    .dataframe tbody tr th {\n",
       "        vertical-align: top;\n",
       "    }\n",
       "\n",
       "    .dataframe thead th {\n",
       "        text-align: right;\n",
       "    }\n",
       "</style>\n",
       "<table border=\"1\" class=\"dataframe\">\n",
       "  <thead>\n",
       "    <tr style=\"text-align: right;\">\n",
       "      <th></th>\n",
       "      <th>director</th>\n",
       "    </tr>\n",
       "  </thead>\n",
       "  <tbody>\n",
       "    <tr>\n",
       "      <td>Antoine Fuqua</td>\n",
       "      <td>1.0</td>\n",
       "    </tr>\n",
       "    <tr>\n",
       "      <td>Brett Ratner</td>\n",
       "      <td>1.0</td>\n",
       "    </tr>\n",
       "    <tr>\n",
       "      <td>Christopher Nolan</td>\n",
       "      <td>1.0</td>\n",
       "    </tr>\n",
       "    <tr>\n",
       "      <td>Michael Bay</td>\n",
       "      <td>1.0</td>\n",
       "    </tr>\n",
       "    <tr>\n",
       "      <td>Peter Jackson</td>\n",
       "      <td>1.0</td>\n",
       "    </tr>\n",
       "    <tr>\n",
       "      <td>Ridley Scott</td>\n",
       "      <td>1.0</td>\n",
       "    </tr>\n",
       "    <tr>\n",
       "      <td>Steven Spielberg</td>\n",
       "      <td>1.0</td>\n",
       "    </tr>\n",
       "    <tr>\n",
       "      <td>Tim Burton</td>\n",
       "      <td>1.0</td>\n",
       "    </tr>\n",
       "  </tbody>\n",
       "</table>\n",
       "</div>"
      ],
      "text/plain": [
       "                   director\n",
       "Antoine Fuqua           1.0\n",
       "Brett Ratner            1.0\n",
       "Christopher Nolan       1.0\n",
       "Michael Bay             1.0\n",
       "Peter Jackson           1.0\n",
       "Ridley Scott            1.0\n",
       "Steven Spielberg        1.0\n",
       "Tim Burton              1.0"
      ]
     },
     "metadata": {},
     "output_type": "display_data"
    }
   ],
   "source": [
    "# У какого из режиссеров самый высокий процент фильмов со сборами выше бюджета?\n",
    "# df.info()\n",
    "\n",
    "data_director = pd.DataFrame(df.director.str.split('|').tolist()).stack().reset_index()\n",
    "\n",
    "data_director.columns = ['common_index','index','director']\n",
    "\n",
    "data_director['movie'] = data_director.common_index.apply(lambda x: df.iloc[x]['original_title'])\n",
    "\n",
    "# data_director['movie'].value_counts()\n",
    "\n",
    "data_director['profit'] = data_director.common_index.apply(lambda x: df.iloc[x]['profit'])\n",
    "\n",
    "# display('data_director', data_director) # good\n",
    "\n",
    "\n",
    "all_movies = pd.DataFrame(data_director['director'].value_counts())\n",
    "\n",
    "all_movies = all_movies[all_movies.director > 7]\n",
    "\n",
    "\n",
    "display('all_movies',all_movies) # good\n",
    "\n",
    "data_sorted = data_director[data_director.profit >= 0]\n",
    "# display('data_sorted', data_sorted) # goof\n",
    "\n",
    "profit_movies = pd.DataFrame(data_sorted['director'].value_counts())\n",
    "\n",
    "\n",
    "profit_movies = profit_movies[profit_movies.director > 7]\n",
    "display('profit_movies',profit_movies)\n",
    "\n",
    "result = profit_movies.div(all_movies)\n",
    "\n",
    "display('result',result[result.director == result.director.max()])\n",
    "\n",
    "# ответ: Christopher Nolan"
   ]
  },
  {
   "cell_type": "code",
   "execution_count": null,
   "metadata": {
    "scrolled": true
   },
   "outputs": [],
   "source": [
    "df[df.director == 'Steven Soderbergh']"
   ]
  },
  {
   "cell_type": "code",
   "execution_count": null,
   "metadata": {},
   "outputs": [],
   "source": []
  },
  {
   "cell_type": "code",
   "execution_count": null,
   "metadata": {},
   "outputs": [],
   "source": []
  },
  {
   "cell_type": "code",
   "execution_count": null,
   "metadata": {},
   "outputs": [],
   "source": []
  },
  {
   "cell_type": "code",
   "execution_count": null,
   "metadata": {},
   "outputs": [],
   "source": []
  },
  {
   "cell_type": "code",
   "execution_count": null,
   "metadata": {},
   "outputs": [],
   "source": []
  },
  {
   "cell_type": "code",
   "execution_count": null,
   "metadata": {},
   "outputs": [],
   "source": []
  },
  {
   "cell_type": "code",
   "execution_count": null,
   "metadata": {},
   "outputs": [],
   "source": []
  },
  {
   "cell_type": "code",
   "execution_count": null,
   "metadata": {},
   "outputs": [],
   "source": []
  }
 ],
 "metadata": {
  "kernelspec": {
   "display_name": "Python 3",
   "language": "python",
   "name": "python3"
  },
  "language_info": {
   "codemirror_mode": {
    "name": "ipython",
    "version": 3
   },
   "file_extension": ".py",
   "mimetype": "text/x-python",
   "name": "python",
   "nbconvert_exporter": "python",
   "pygments_lexer": "ipython3",
   "version": "3.7.6"
  }
 },
 "nbformat": 4,
 "nbformat_minor": 4
}
