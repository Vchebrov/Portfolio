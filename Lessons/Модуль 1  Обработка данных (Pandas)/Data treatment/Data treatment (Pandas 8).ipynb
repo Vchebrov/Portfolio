{
 "cells": [
  {
   "cell_type": "code",
   "execution_count": null,
   "metadata": {},
   "outputs": [],
   "source": [
    "# Основные тезисы раздела 8. Предобработка данных\n",
    "#     read_csv с дополнительными параметрами\n",
    "#     df.columns\n",
    "#     df.column.unique()\n",
    "#     df.info()\n",
    "#     df[df.column > X]\n",
    "#     df.query('X<A<Y & B==Z')\n",
    "#     df[df.column.str.contains(\"string\")]\n",
    "#     df[~df.column.str.contains(\"string\")]\n",
    "#     df.apply(lambda x)\n",
    "#     df.apply (func)\n",
    "#     df['new_column'] = df.old_column.apply(func)"
   ]
  },
  {
   "cell_type": "code",
   "execution_count": null,
   "metadata": {
    "scrolled": true
   },
   "outputs": [],
   "source": [
    "import pandas as pd\n",
    "\n",
    "log = pd.read_csv('log.xls', header = None)\n",
    "log.columns = ['user_id','time','bet','win']\n",
    "log.user_id.unique()\n"
   ]
  },
  {
   "cell_type": "code",
   "execution_count": null,
   "metadata": {},
   "outputs": [],
   "source": [
    "users = pd.read_csv('users.xls', encoding='koi8_r', sep='\\t')\n",
    "users.columns = ['user_id','email','geo']\n",
    "users"
   ]
  },
  {
   "cell_type": "code",
   "execution_count": null,
   "metadata": {},
   "outputs": [],
   "source": [
    "log_win  = log[log.win > 0]\n",
    "win_count = log_win.user_id.count()"
   ]
  },
  {
   "cell_type": "code",
   "execution_count": null,
   "metadata": {},
   "outputs": [],
   "source": [
    "#                                               Функция Query\n",
    "# sample.query('Age>20')\n",
    "# sample.query('Age==25')\n",
    "# sample.query('City in [\"Рига\",\"Сочи\"]')\n",
    "# sample.query('City in [\"Рига\", \"Сочи\",\"Чебоксары\", \"Сургут\"] & 21<Age<50 & Profession!=\"Менеджер\"')\n",
    "\n",
    "# найдите тех, у кого ставка меньше 2000, а выигрыш больше 0. Сохраните в новый датафрейм log2.\n",
    "log2 = log.query('bet<2000 & win>0')\n",
    "log2"
   ]
  },
  {
   "cell_type": "code",
   "execution_count": null,
   "metadata": {},
   "outputs": [],
   "source": [
    "#                                   Функции str.match и str.contains\n",
    "\n",
    "# str.match (\"abc\") — ищет строки, которые начинаются c abc,\n",
    "# str.contains (\"abc\") — ищет строки, в которых есть abc.\n",
    "\n",
    "# Обе функции не могут работать с NaN, необходимо использовать параметр na = False:\n",
    "\n"
   ]
  },
  {
   "cell_type": "code",
   "execution_count": 13,
   "metadata": {},
   "outputs": [
    {
     "data": {
      "text/html": [
       "<div>\n",
       "<style scoped>\n",
       "    .dataframe tbody tr th:only-of-type {\n",
       "        vertical-align: middle;\n",
       "    }\n",
       "\n",
       "    .dataframe tbody tr th {\n",
       "        vertical-align: top;\n",
       "    }\n",
       "\n",
       "    .dataframe thead th {\n",
       "        text-align: right;\n",
       "    }\n",
       "</style>\n",
       "<table border=\"1\" class=\"dataframe\">\n",
       "  <thead>\n",
       "    <tr style=\"text-align: right;\">\n",
       "      <th></th>\n",
       "      <th>user_id</th>\n",
       "      <th>time</th>\n",
       "      <th>bet</th>\n",
       "      <th>win</th>\n",
       "    </tr>\n",
       "  </thead>\n",
       "  <tbody>\n",
       "    <tr>\n",
       "      <th>0</th>\n",
       "      <td>Запись пользователя № - user_919</td>\n",
       "      <td>2019-01-01 14:06:51</td>\n",
       "      <td>NaN</td>\n",
       "      <td>NaN</td>\n",
       "    </tr>\n",
       "    <tr>\n",
       "      <th>1</th>\n",
       "      <td>Запись пользователя № - user_973</td>\n",
       "      <td>2019-01-01 14:51:16</td>\n",
       "      <td>NaN</td>\n",
       "      <td>NaN</td>\n",
       "    </tr>\n",
       "    <tr>\n",
       "      <th>2</th>\n",
       "      <td>Запись пользователя № - user_903</td>\n",
       "      <td>2019-01-01 16:31:16</td>\n",
       "      <td>NaN</td>\n",
       "      <td>NaN</td>\n",
       "    </tr>\n",
       "    <tr>\n",
       "      <th>3</th>\n",
       "      <td>Запись пользователя № - user_954</td>\n",
       "      <td>2019-01-01 17:17:51</td>\n",
       "      <td>NaN</td>\n",
       "      <td>NaN</td>\n",
       "    </tr>\n",
       "    <tr>\n",
       "      <th>4</th>\n",
       "      <td>Запись пользователя № - user_954</td>\n",
       "      <td>2019-01-01 21:31:18</td>\n",
       "      <td>NaN</td>\n",
       "      <td>NaN</td>\n",
       "    </tr>\n",
       "    <tr>\n",
       "      <th>...</th>\n",
       "      <td>...</td>\n",
       "      <td>...</td>\n",
       "      <td>...</td>\n",
       "      <td>...</td>\n",
       "    </tr>\n",
       "    <tr>\n",
       "      <th>991</th>\n",
       "      <td>Запись пользователя № - user_965</td>\n",
       "      <td>2019-04-20 12:55:41</td>\n",
       "      <td>800.0</td>\n",
       "      <td>6927.0</td>\n",
       "    </tr>\n",
       "    <tr>\n",
       "      <th>992</th>\n",
       "      <td>Запись пользователя № - user_967</td>\n",
       "      <td>2019-04-20 14:59:36</td>\n",
       "      <td>10154.0</td>\n",
       "      <td>NaN</td>\n",
       "    </tr>\n",
       "    <tr>\n",
       "      <th>993</th>\n",
       "      <td>Запись пользователя № - user_973</td>\n",
       "      <td>2019-04-20 17:09:56</td>\n",
       "      <td>10254.0</td>\n",
       "      <td>NaN</td>\n",
       "    </tr>\n",
       "    <tr>\n",
       "      <th>994</th>\n",
       "      <td>Запись пользователя № - user_977</td>\n",
       "      <td>2019-04-20 18:10:07</td>\n",
       "      <td>10354.0</td>\n",
       "      <td>NaN</td>\n",
       "    </tr>\n",
       "    <tr>\n",
       "      <th>995</th>\n",
       "      <td>Запись пользователя № - user_984</td>\n",
       "      <td>2019-04-20 9:59:58</td>\n",
       "      <td>9754.0</td>\n",
       "      <td>NaN</td>\n",
       "    </tr>\n",
       "  </tbody>\n",
       "</table>\n",
       "<p>985 rows × 4 columns</p>\n",
       "</div>"
      ],
      "text/plain": [
       "                              user_id                 time      bet     win\n",
       "0    Запись пользователя № - user_919  2019-01-01 14:06:51      NaN     NaN\n",
       "1    Запись пользователя № - user_973  2019-01-01 14:51:16      NaN     NaN\n",
       "2    Запись пользователя № - user_903  2019-01-01 16:31:16      NaN     NaN\n",
       "3    Запись пользователя № - user_954  2019-01-01 17:17:51      NaN     NaN\n",
       "4    Запись пользователя № - user_954  2019-01-01 21:31:18      NaN     NaN\n",
       "..                                ...                  ...      ...     ...\n",
       "991  Запись пользователя № - user_965  2019-04-20 12:55:41    800.0  6927.0\n",
       "992  Запись пользователя № - user_967  2019-04-20 14:59:36  10154.0     NaN\n",
       "993  Запись пользователя № - user_973  2019-04-20 17:09:56  10254.0     NaN\n",
       "994  Запись пользователя № - user_977  2019-04-20 18:10:07  10354.0     NaN\n",
       "995  Запись пользователя № - user_984   2019-04-20 9:59:58   9754.0     NaN\n",
       "\n",
       "[985 rows x 4 columns]"
      ]
     },
     "execution_count": 13,
     "metadata": {},
     "output_type": "execute_result"
    }
   ],
   "source": [
    "new_log = log[~log.user_id.str.contains('error', na = False)]\n",
    "new_log"
   ]
  },
  {
   "cell_type": "code",
   "execution_count": null,
   "metadata": {},
   "outputs": [],
   "source": [
    "#                                           Преобразование данных\n",
    "\n",
    "# df.column_name.apply(func)\n",
    "\n",
    "# Apply вызывает свою функцию для каждого элемента колонки. Функции, с которыми работает apply, бывают двух видов:\n",
    "# лямбда-функции (можно задать внутри apply),\n",
    "# обычные именные функции (определяются через def).\n",
    "\n",
    "# функция apply не изменяет DataFrame к которому применяется"
   ]
  },
  {
   "cell_type": "code",
   "execution_count": null,
   "metadata": {},
   "outputs": [],
   "source": [
    "log = pd.read_csv('log.xls', header=None)\n",
    "log.columns = ['user_id','time','bet','win']\n",
    "\n",
    "def id_error(x):\n",
    "    if x == '#error':\n",
    "        return ''\n",
    "    else:\n",
    "        return x[x.find('user'):]\n",
    "\n",
    "log['user_id'] = log.user_id.apply(id_error)\n",
    "log"
   ]
  },
  {
   "cell_type": "code",
   "execution_count": null,
   "metadata": {},
   "outputs": [],
   "source": [
    "log = pd.read_csv('log.xls', header=None)\n",
    "log.columns = ['user_id','time','bet','win']\n",
    "t = log.time[0]\n",
    "t = log.time[0][1:]\n",
    "# log.time = log.time.apply(lambda x: str(x).replace('[',''))\n",
    "log.time = log.time.apply(lambda x:str(x).replace('[','') if ('[' in str(x)) else x)\n",
    "log.time\n"
   ]
  },
  {
   "cell_type": "code",
   "execution_count": null,
   "metadata": {},
   "outputs": [],
   "source": [
    "log.query('error in user_id')"
   ]
  },
  {
   "cell_type": "code",
   "execution_count": null,
   "metadata": {},
   "outputs": [],
   "source": [
    "# прочитаем файл в переменную log;\n",
    "# добавим названия колонок user_id, time, bet, win;\n",
    "# удалим строки, которые содержат значения user_id с ошибками;\n",
    "# оставим в user_id только значения идентификатора;\n",
    "# уберём начальную скобку из поля time.\n",
    "\n",
    "import pandas as pd\n",
    "log = pd.read_csv('log.xls', header = None)\n",
    "\n",
    "log.columns = ['user_id','time','bet','win']\n",
    "\n",
    "def error_id(user_id):\n",
    "    if user_id =='#error':\n",
    "        return ''\n",
    "    else:\n",
    "        return user_id[user_id.find('user'):]\n",
    "\n",
    "\n",
    "log['user_id'] = log.user_id.apply(error_id)\n",
    "log['time'] = log.time.apply(lambda x: str(x).replace('[','') if ('[') in str(x) else x)\n",
    "log.loc[log.user_id == '0']\n",
    "log = log.drop(log.loc[log.user_id == ''].index)\n",
    "log"
   ]
  },
  {
   "cell_type": "code",
   "execution_count": null,
   "metadata": {},
   "outputs": [],
   "source": []
  },
  {
   "cell_type": "code",
   "execution_count": null,
   "metadata": {},
   "outputs": [],
   "source": []
  }
 ],
 "metadata": {
  "kernelspec": {
   "display_name": "Python 3",
   "language": "python",
   "name": "python3"
  },
  "language_info": {
   "codemirror_mode": {
    "name": "ipython",
    "version": 3
   },
   "file_extension": ".py",
   "mimetype": "text/x-python",
   "name": "python",
   "nbconvert_exporter": "python",
   "pygments_lexer": "ipython3",
   "version": "3.7.4"
  }
 },
 "nbformat": 4,
 "nbformat_minor": 4
}
