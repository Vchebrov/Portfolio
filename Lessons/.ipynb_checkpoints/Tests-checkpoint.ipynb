{
 "cells": [
  {
   "cell_type": "code",
   "execution_count": null,
   "metadata": {},
   "outputs": [],
   "source": [
    "# Пример создания и операций над DataFrame\n",
    "import pandas as pd\n",
    "\n",
    "df = pd.DataFrame({'Letters':('a','b', 'c', 'd', 'e', 'f', 'g'),\n",
    "                  'Digits':(1,2,3,4,5,6,7),\n",
    "                  'Opposite':(7,6,5,4,3,2,1)})\n",
    "\n",
    "df.index = ('First', 'Second', 'Third', 'Four', 'Fifth', 'Six', 'Seventh')\n",
    "\n",
    "display(df)\n",
    "# print(type(df))\n",
    "\n",
    "# df.loc['First'] # вывод данных всей строки с индексом First\n",
    "df.iloc[1] # вывод строки по номерному индексу\n",
    "\n",
    "data = df[df.Digits > 2].Opposite # вывод колонки Opposite по условию значений колонки Digits>2 \n",
    "display(data)\n",
    "\n",
    "group = df.groupby(['Digits']).Opposite.sum()\n",
    "display(group)"
   ]
  },
  {
   "cell_type": "code",
   "execution_count": null,
   "metadata": {},
   "outputs": [],
   "source": []
  }
 ],
 "metadata": {
  "kernelspec": {
   "display_name": "Python 3",
   "language": "python",
   "name": "python3"
  },
  "language_info": {
   "codemirror_mode": {
    "name": "ipython",
    "version": 3
   },
   "file_extension": ".py",
   "mimetype": "text/x-python",
   "name": "python",
   "nbconvert_exporter": "python",
   "pygments_lexer": "ipython3",
   "version": "3.7.6"
  }
 },
 "nbformat": 4,
 "nbformat_minor": 4
}
