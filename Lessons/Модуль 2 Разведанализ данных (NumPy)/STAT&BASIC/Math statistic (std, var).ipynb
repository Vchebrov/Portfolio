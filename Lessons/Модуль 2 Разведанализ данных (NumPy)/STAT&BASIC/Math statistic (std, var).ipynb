{
 "cells": [
  {
   "cell_type": "code",
   "execution_count": 4,
   "metadata": {},
   "outputs": [
    {
     "data": {
      "text/plain": [
       "x         2.0\n",
       "P(X=x)    0.1\n",
       "Name: 1, dtype: float64"
      ]
     },
     "execution_count": 4,
     "metadata": {},
     "output_type": "execute_result"
    }
   ],
   "source": [
    "import pandas as pd\n",
    "import numpy as np\n",
    "\n",
    "data = pd.DataFrame({'x':[1,2,3,4,5,6,7,8],\n",
    "                  'P(X=x)':[0.05,0.1,0.3,0.25,0.15,0.07,0.05,0.03]})\n",
    "data.iloc[1]"
   ]
  },
  {
   "cell_type": "code",
   "execution_count": 5,
   "metadata": {},
   "outputs": [
    {
     "data": {
      "text/plain": [
       "x         2.44949\n",
       "P(X=x)    0.10057\n",
       "dtype: float64"
      ]
     },
     "execution_count": 5,
     "metadata": {},
     "output_type": "execute_result"
    }
   ],
   "source": [
    "np.std(data,ddof=1)"
   ]
  },
  {
   "cell_type": "code",
   "execution_count": 6,
   "metadata": {},
   "outputs": [
    {
     "ename": "NameError",
     "evalue": "name 'df' is not defined",
     "output_type": "error",
     "traceback": [
      "\u001b[1;31m---------------------------------------------------------------------------\u001b[0m",
      "\u001b[1;31mNameError\u001b[0m                                 Traceback (most recent call last)",
      "\u001b[1;32m<ipython-input-6-6d1e7db5fe15>\u001b[0m in \u001b[0;36m<module>\u001b[1;34m\u001b[0m\n\u001b[0;32m      1\u001b[0m \u001b[0ma\u001b[0m \u001b[1;33m=\u001b[0m \u001b[1;33m[\u001b[0m\u001b[1;33m]\u001b[0m\u001b[1;33m\u001b[0m\u001b[1;33m\u001b[0m\u001b[0m\n\u001b[0;32m      2\u001b[0m \u001b[1;33m\u001b[0m\u001b[0m\n\u001b[1;32m----> 3\u001b[1;33m \u001b[1;32mfor\u001b[0m \u001b[0mi\u001b[0m \u001b[1;32min\u001b[0m \u001b[0mrange\u001b[0m\u001b[1;33m(\u001b[0m\u001b[0mlen\u001b[0m\u001b[1;33m(\u001b[0m\u001b[0mdf\u001b[0m\u001b[1;33m)\u001b[0m\u001b[1;33m)\u001b[0m\u001b[1;33m:\u001b[0m\u001b[1;33m\u001b[0m\u001b[1;33m\u001b[0m\u001b[0m\n\u001b[0m\u001b[0;32m      4\u001b[0m     \u001b[0ma\u001b[0m\u001b[1;33m.\u001b[0m\u001b[0mappend\u001b[0m\u001b[1;33m(\u001b[0m\u001b[0mdf\u001b[0m\u001b[1;33m[\u001b[0m\u001b[1;34m'x'\u001b[0m\u001b[1;33m]\u001b[0m\u001b[1;33m.\u001b[0m\u001b[0miloc\u001b[0m\u001b[1;33m[\u001b[0m\u001b[0mi\u001b[0m\u001b[1;33m]\u001b[0m\u001b[1;33m*\u001b[0m\u001b[0mdf\u001b[0m\u001b[1;33m[\u001b[0m\u001b[1;34m'P(X=x)'\u001b[0m\u001b[1;33m]\u001b[0m\u001b[1;33m.\u001b[0m\u001b[0miloc\u001b[0m\u001b[1;33m[\u001b[0m\u001b[0mi\u001b[0m\u001b[1;33m]\u001b[0m\u001b[1;33m)\u001b[0m\u001b[1;33m\u001b[0m\u001b[1;33m\u001b[0m\u001b[0m\n\u001b[0;32m      5\u001b[0m \u001b[0msum\u001b[0m\u001b[1;33m(\u001b[0m\u001b[0ma\u001b[0m\u001b[1;33m)\u001b[0m\u001b[1;33m\u001b[0m\u001b[1;33m\u001b[0m\u001b[0m\n",
      "\u001b[1;31mNameError\u001b[0m: name 'df' is not defined"
     ]
    }
   ],
   "source": [
    "a = []\n",
    "\n",
    "for i in range(len(df)):\n",
    "    a.append(df['x'].iloc[i]*df['P(X=x)'].iloc[i])\n",
    "sum(a)\n",
    "    "
   ]
  },
  {
   "cell_type": "code",
   "execution_count": null,
   "metadata": {},
   "outputs": [],
   "source": [
    "200*2.4"
   ]
  },
  {
   "cell_type": "code",
   "execution_count": null,
   "metadata": {},
   "outputs": [],
   "source": [
    "1*0.05+2*0.1+3*0.3+4*0.25+5*0.15+6*0.07+7*0.05+8*0.03"
   ]
  },
  {
   "cell_type": "code",
   "execution_count": null,
   "metadata": {},
   "outputs": [],
   "source": [
    "np.sqrt(17.79)"
   ]
  },
  {
   "cell_type": "code",
   "execution_count": null,
   "metadata": {},
   "outputs": [],
   "source": [
    "df = pd.DataFrame({'x':[1,2,3,4,5,6,7,8]})\n",
    "np.std(df,ddof=1)\n",
    "np.median(df)"
   ]
  },
  {
   "cell_type": "code",
   "execution_count": null,
   "metadata": {},
   "outputs": [],
   "source": [
    "a = []\n",
    "l = len(df['x'])-1\n",
    "x_med = np.mean(df['x'])\n",
    "for x in df['x']:\n",
    "    a.append((x-x_med)**2)\n",
    "print('std', np.sqrt(sum(a)/l))\n",
    "print('var',sum(a)/l)\n"
   ]
  },
  {
   "cell_type": "code",
   "execution_count": null,
   "metadata": {},
   "outputs": [],
   "source": [
    "data = pd.DataFrame({'x':[1,2,3,4,5,6,7,8],\n",
    "                  'P(X=x)':[0.05,0.1,0.3,0.25,0.15,0.07,0.05,0.03]})"
   ]
  },
  {
   "cell_type": "code",
   "execution_count": null,
   "metadata": {},
   "outputs": [],
   "source": [
    "# Дисперсия\n",
    "a = []\n",
    "b=[]\n",
    "l = len(data['x'])\n",
    "\n",
    "for i in range(len(df)):\n",
    "    a.append(data['x'].iloc[i]*data['P(X=x)'].iloc[i])\n",
    "s = sum(a)\n",
    "s\n",
    "for i in range(l):\n",
    "#     print('(({}-{})**2)*{})'.format(df['x'].iloc[i],s,df['P(X=x)'].iloc[i]))\n",
    "    b.append(((df['x'].iloc[i]-s)**2)*df['P(X=x)'].iloc[i]) #формула дисперсии\n",
    "#     print(((df['x'].iloc[i]-s)**2)*df['P(X=x)'].iloc[i])\n",
    "sum(b)"
   ]
  },
  {
   "cell_type": "code",
   "execution_count": null,
   "metadata": {},
   "outputs": [],
   "source": [
    "# Задание. Найти дисперсию и стандартное отклонение\n",
    "data = pd.DataFrame({'x':[2,3,4,5],\n",
    "                  'P(X=x)':[0.1,0.2,0.6,0.1]})\n",
    "\n",
    "a = []\n",
    "b=[]\n",
    "l = len(data['x'])\n",
    "\n",
    "for i in range(len(df)):\n",
    "    a.append(data['x'].iloc[i]*data['P(X=x)'].iloc[i])\n",
    "s = sum(a)\n",
    "s\n",
    "for i in range(l):\n",
    "#     print('(({}-{})**2)*{})'.format(df['x'].iloc[i],s,df['P(X=x)'].iloc[i]))\n",
    "    b.append(((df['x'].iloc[i]-s)**2)*df['P(X=x)'].iloc[i]) #формула дисперсии\n",
    "#     print(((df['x'].iloc[i]-s)**2)*df['P(X=x)'].iloc[i])\n",
    "v = sum(b)\n",
    "st = np.sqrt(v)\n",
    "st**2"
   ]
  },
  {
   "cell_type": "code",
   "execution_count": 26,
   "metadata": {},
   "outputs": [
    {
     "name": "stdout",
     "output_type": "stream",
     "text": [
      "((400-426.0)**2)*0.1)\n",
      "67.60000000000001\n",
      "((410-426.0)**2)*0.1)\n",
      "25.6\n",
      "((420-426.0)**2)*0.3)\n",
      "10.799999999999999\n",
      "((430-426.0)**2)*0.2)\n",
      "3.2\n",
      "((440-426.0)**2)*0.2)\n",
      "39.2\n",
      "((450-426.0)**2)*0.1)\n",
      "57.6\n",
      "var = 204.00000000000003, std = 14.2828568570857, E(x) = 426.0\n",
      "st x         18.708287\n",
      "P(X=x)     0.081650\n",
      "dtype: float64\n"
     ]
    }
   ],
   "source": [
    "data = pd.DataFrame({'x':[400,410,420,430,440,450],\n",
    "                  'P(X=x)':[0.1,0.1,0.3,0.2,0.2,0.1]})\n",
    "\n",
    "a = []\n",
    "b=[]\n",
    "l = len(data['x'])\n",
    "\n",
    "for i in range(l):\n",
    "#     print(data['P(X=x)'].iloc[i])\n",
    "    a.append(data['x'].iloc[i]*data['P(X=x)'].iloc[i])\n",
    "    \n",
    "s = sum(a) #математическое ожидание\n",
    "s\n",
    "for i in range(l):\n",
    "    \n",
    "    print('(({}-{})**2)*{})'.format(data['x'].iloc[i],s,data['P(X=x)'].iloc[i]))\n",
    "    b.append(((data['x'].iloc[i]-s)**2)*data['P(X=x)'].iloc[i]) #формула дисперсии\n",
    "    print(((data['x'].iloc[i]-s)**2)*data['P(X=x)'].iloc[i])\n",
    "v = sum(b) #дисперсия\n",
    "v\n",
    "st = np.sqrt(v) #стандартное отклонение\n",
    "print('var = {}, std = {}, E(x) = {}'.format(v,st,s))\n"
   ]
  },
  {
   "cell_type": "code",
   "execution_count": 36,
   "metadata": {},
   "outputs": [
    {
     "data": {
      "text/plain": [
       "425.0"
      ]
     },
     "execution_count": 36,
     "metadata": {},
     "output_type": "execute_result"
    }
   ],
   "source": [
    "data = pd.DataFrame({'x':[400,410,420,430,440,450],\n",
    "                  'P(X=x)':[0.1,0.1,0.3,0.2,0.2,0.1]})\n",
    "\n",
    "a = []\n",
    "a.append(data['x'])\n",
    "np.mean(a)\n"
   ]
  },
  {
   "cell_type": "code",
   "execution_count": 82,
   "metadata": {},
   "outputs": [
    {
     "name": "stdout",
     "output_type": "stream",
     "text": [
      "E(X) 2.8\n",
      "E(X) 2.8\n",
      "E(X) 2.8\n",
      "E(X) 2.8\n",
      "VarX 1.16\n",
      "E(Y) 0.0\n",
      "VarY 1.4\n",
      "E(U) 9.4\n",
      "VarU 10.440000000000001\n",
      "E(S) 5.0\n",
      "VarS 1.4\n",
      "E(U-S) 4.4\n",
      "Var(U-S) 11.840000000000002\n"
     ]
    },
    {
     "data": {
      "text/plain": [
       "X    2.50\n",
       "P    0.25\n",
       "dtype: float64"
      ]
     },
     "execution_count": 82,
     "metadata": {},
     "output_type": "execute_result"
    }
   ],
   "source": [
    "df_x = pd.DataFrame({'X':[1,2,3,4],\n",
    "                    'P':[0.2,0.1,0.4,0.3]})\n",
    "\n",
    "df_y = pd.DataFrame({'Y':[-1,0,1,2],\n",
    "                    'P':[0.5,0.2,0.1,0.2]})\n",
    "a = []\n",
    "for i in range(len(df_x)):\n",
    "    a.append(df_x['X'].iloc[i]*3+1)\n",
    "a\n",
    "df_u = pd.DataFrame({'U':a,\n",
    "                    'P':[0.2,0.1,0.4,0.3]})\n",
    "df_u\n",
    "\n",
    "b = []\n",
    "\n",
    "for n in range(len(df_y)):\n",
    "    b.append(5-df_y['Y'].iloc[n])\n",
    "\n",
    "df_s = pd.DataFrame({'S':b,\n",
    "                    'P':[0.5,0.2,0.1,0.2]})\n",
    "\n",
    "df_s\n",
    "l = 4\n",
    "\n",
    "Ex = 0\n",
    "Varx = 0\n",
    "\n",
    "Ey = 0\n",
    "Vary = 0\n",
    "\n",
    "Eu = 0\n",
    "Es = 0\n",
    "\n",
    "Varu = 0\n",
    "Vars = 0\n",
    "\n",
    "Eu_s = 0\n",
    "Varu_s = 0\n",
    "\n",
    "for i in range(l):\n",
    "#     print(data['P(X=x)'].iloc[i])\n",
    "#     c.append(df_x['X'].iloc[i]*data['P'].iloc[i])\n",
    "    Ex +=df_x['X'].iloc[i]*df_x['P'].iloc[i]\n",
    "    Ey +=df_y['Y'].iloc[i]*df_y['P'].iloc[i]\n",
    "    Eu +=df_u['U'].iloc[i]*df_u['P'].iloc[i]\n",
    "    Es +=df_s['S'].iloc[i]*df_s['P'].iloc[i]\n",
    "    \n",
    "for i in range(l): \n",
    "    Varx +=((df_x['X'].iloc[i]-Ex)**2)*df_x['P'].iloc[i]\n",
    "    Vary +=((df_y['Y'].iloc[i]-Ey)**2)*df_y['P'].iloc[i]\n",
    "    Varu +=((df_u['U'].iloc[i]-Eu)**2)*df_u['P'].iloc[i]\n",
    "    Vars +=((df_s['S'].iloc[i]-Es)**2)*df_s['P'].iloc[i]\n",
    "\n",
    "    print('E(X)',Ex)\n",
    "print('VarX',Varx)\n",
    "\n",
    "print('E(Y)',Ey)\n",
    "print('VarY',Vary)\n",
    "\n",
    "print('E(U)',Eu)\n",
    "print('VarU',Varu)\n",
    "\n",
    "print('E(S)',Es)\n",
    "print('VarS',Vars)\n",
    "\n",
    "print('E(U-S)',Eu - Es)\n",
    "print('Var(U-S)',Varu+Vars)\n"
   ]
  },
  {
   "cell_type": "code",
   "execution_count": null,
   "metadata": {},
   "outputs": [],
   "source": []
  },
  {
   "cell_type": "code",
   "execution_count": null,
   "metadata": {},
   "outputs": [],
   "source": []
  }
 ],
 "metadata": {
  "kernelspec": {
   "display_name": "Python 3",
   "language": "python",
   "name": "python3"
  },
  "language_info": {
   "codemirror_mode": {
    "name": "ipython",
    "version": 3
   },
   "file_extension": ".py",
   "mimetype": "text/x-python",
   "name": "python",
   "nbconvert_exporter": "python",
   "pygments_lexer": "ipython3",
   "version": "3.7.6"
  }
 },
 "nbformat": 4,
 "nbformat_minor": 4
}
