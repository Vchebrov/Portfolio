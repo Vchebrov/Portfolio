{
 "cells": [
  {
   "cell_type": "code",
   "execution_count": 1,
   "metadata": {},
   "outputs": [],
   "source": [
    "import pandas as pd\n",
    "import numpy as np\n",
    "\n",
    "import pandas as pd\n",
    "df = pd.DataFrame({\n",
    "    'mens': [80.2, 80.8, 57.5, 98, 50.5, 73.8, 77.4, 59.7, 77.9, 52.6],\n",
    "    'womens': [57.9, 57.3, 72.8, 48.2, 59.5, 48.3, 61.2, 53.9, 53.9, 70.7]\n",
    "})\n"
   ]
  },
  {
   "cell_type": "code",
   "execution_count": null,
   "metadata": {},
   "outputs": [],
   "source": [
    "round(np.mean(df['men']) - np.mean(df['women']))\n"
   ]
  },
  {
   "cell_type": "code",
   "execution_count": null,
   "metadata": {},
   "outputs": [],
   "source": [
    "a = [2,7,4,3,6,4,1,2]\n",
    "b = [5,2,4,8,1,6,7]\n",
    "# a.sort()\n",
    "b.sort()\n",
    "# np.median(a)\n",
    "# np.median(b)\n",
    "# 2, 3.5, 5\n",
    "# 2, 5 ,7"
   ]
  },
  {
   "cell_type": "code",
   "execution_count": null,
   "metadata": {},
   "outputs": [],
   "source": [
    "np.median(df['men'])\n",
    "np.median(df['women'])"
   ]
  },
  {
   "cell_type": "code",
   "execution_count": null,
   "metadata": {},
   "outputs": [],
   "source": [
    "patients = df\n",
    "np.median(patients)"
   ]
  },
  {
   "cell_type": "code",
   "execution_count": null,
   "metadata": {},
   "outputs": [],
   "source": [
    "df.quantile(q = 0.75, axis = 0, numeric_only = True, interpolation = 'midpoint')"
   ]
  },
  {
   "cell_type": "code",
   "execution_count": null,
   "metadata": {},
   "outputs": [],
   "source": [
    "df.max() - df.min()"
   ]
  },
  {
   "cell_type": "code",
   "execution_count": null,
   "metadata": {},
   "outputs": [],
   "source": [
    "round(df.quantile(q = 0.75, axis = 0, numeric_only = True, interpolation = 'midpoint') -\n",
    "  df.quantile(q = 0.25, axis = 0, numeric_only = True, interpolation = 'midpoint'),1)"
   ]
  },
  {
   "cell_type": "code",
   "execution_count": null,
   "metadata": {},
   "outputs": [],
   "source": [
    "a = df.quantile(q = 0.75, axis = 0, numeric_only = True, interpolation = 'midpoint')"
   ]
  },
  {
   "cell_type": "code",
   "execution_count": null,
   "metadata": {},
   "outputs": [],
   "source": [
    "b = df.quantile(q = 0.25, axis = 0, numeric_only = True, interpolation = 'midpoint')"
   ]
  },
  {
   "cell_type": "code",
   "execution_count": null,
   "metadata": {},
   "outputs": [],
   "source": [
    "round((a-b),1)"
   ]
  },
  {
   "cell_type": "code",
   "execution_count": null,
   "metadata": {},
   "outputs": [],
   "source": [
    "round(df.quantile(q = 0.75, axis = 0, numeric_only = True, interpolation = 'midpoint') - \n",
    "      df.quantile(q = 0.25, axis = 0, numeric_only = True, interpolation = 'midpoint'),1)"
   ]
  },
  {
   "cell_type": "code",
   "execution_count": null,
   "metadata": {},
   "outputs": [],
   "source": [
    "round(np.std(df),1)\n",
    "# round(np.var(df),1)"
   ]
  },
  {
   "cell_type": "code",
   "execution_count": null,
   "metadata": {},
   "outputs": [],
   "source": [
    "\n",
    "df_men = df['mens']\n",
    "display(df_men)\n",
    "round(np.std(df_men),1)"
   ]
  },
  {
   "cell_type": "code",
   "execution_count": null,
   "metadata": {},
   "outputs": [],
   "source": [
    "a = []\n",
    "x_med = np.median(df['mens'])\n",
    "print(x_med)\n",
    "for i in df['mens']:\n",
    "    a.append((i - x_med)**2)\n",
    "    y = ((np.sqrt((sum(a))/len(df['mens']-1))))\n",
    "    z = y**2\n",
    "print('std',y)\n",
    "print('var',z)\n"
   ]
  },
  {
   "cell_type": "code",
   "execution_count": null,
   "metadata": {},
   "outputs": [],
   "source": [
    "a = []\n",
    "x_med = np.median(df['womens'])\n",
    "l = (len(df['womens'])-1)\n",
    "print(x_med)\n",
    "for i in df['womens']:\n",
    "    a.append((i - x_med)**2)\n",
    "y = ((np.sqrt((sum(a))/l)))\n",
    "z = y**2\n",
    "print('std',y)\n",
    "print('var',z)\n",
    "np.std(df['womens'])\n"
   ]
  },
  {
   "cell_type": "code",
   "execution_count": 21,
   "metadata": {},
   "outputs": [
    {
     "name": "stdout",
     "output_type": "stream",
     "text": [
      "std 8.27110767806962\n",
      "var 68.41122222222224\n"
     ]
    }
   ],
   "source": [
    "a = []\n",
    "l = len(df['womens'])-1\n",
    "x_med = np.mean(df['womens'])\n",
    "for x in df['womens']:\n",
    "    a.append((x-x_med)**2)\n",
    "print('std', np.sqrt(sum(a)/l))\n",
    "print('var',sum(a)/l)\n",
    "\n"
   ]
  },
  {
   "cell_type": "code",
   "execution_count": 20,
   "metadata": {},
   "outputs": [
    {
     "name": "stdout",
     "output_type": "stream",
     "text": [
      "std 15.182533824541057\n",
      "var 230.5093333333333\n"
     ]
    }
   ],
   "source": [
    "a = []\n",
    "l = len(df['mens'])-1\n",
    "x_med = np.mean(df['mens'])\n",
    "for x in df['mens']:\n",
    "    a.append((x-x_med)**2)\n",
    "print('std', np.sqrt(sum(a)/l))\n",
    "print('var',sum(a)/l)\n"
   ]
  },
  {
   "cell_type": "code",
   "execution_count": 16,
   "metadata": {},
   "outputs": [
    {
     "name": "stdout",
     "output_type": "stream",
     "text": [
      "58.05 79.625\n",
      "q1_less 25.687499999999993\n",
      "q3_more 111.98750000000001\n"
     ]
    }
   ],
   "source": [
    "df_m = df['mens']\n",
    "df_w = df['womens']\n",
    "q1 = df_m.quantile(q = 0.25, interpolation = 'linear')\n",
    "q3 = df_m.quantile(q = 0.75, interpolation = 'linear')\n",
    "print(q1,q3)\n",
    "print('q1_less', q1 - 1.5*(q3 - q1))\n",
    "print('q3_more', q3 + 1.5*(q3 - q1))\n",
    "\n",
    "for i in df_w:\n",
    "    if i < (q1 - 1.5*(q3 - q1)):\n",
    "        print('less',i)\n",
    "    elif i > (q3 + 1.5*(q3 - q1)):\n",
    "        print('more',i)\n",
    "    "
   ]
  },
  {
   "cell_type": "code",
   "execution_count": 17,
   "metadata": {},
   "outputs": [
    {
     "name": "stdout",
     "output_type": "stream",
     "text": [
      "53.9 60.775000000000006\n",
      "q1_less 43.58749999999999\n",
      "q3_more 71.08750000000002\n",
      "more 72.8\n"
     ]
    }
   ],
   "source": [
    "df_w = df['womens']\n",
    "q1 = df_w.quantile(q = 0.25, interpolation = 'linear')\n",
    "q3 = df_w.quantile(q = 0.75, interpolation = 'linear')\n",
    "print(q1,q3)\n",
    "print('q1_less', q1 - 1.5*(q3 - q1))\n",
    "print('q3_more', q3 + 1.5*(q3 - q1))\n",
    "\n",
    "for i in df_w:\n",
    "    if i < (q1 - 1.5*(q3 - q1)):\n",
    "        print('less',i)\n",
    "    elif i > (q3 + 1.5*(q3 - q1)):\n",
    "        print('more',i)"
   ]
  },
  {
   "cell_type": "code",
   "execution_count": 48,
   "metadata": {},
   "outputs": [
    {
     "name": "stdout",
     "output_type": "stream",
     "text": [
      "min -12.1\n"
     ]
    },
    {
     "data": {
      "text/plain": [
       "2.3"
      ]
     },
     "execution_count": 48,
     "metadata": {},
     "output_type": "execute_result"
    }
   ],
   "source": [
    "import pandas as pd\n",
    "df = pd.DataFrame({\n",
    "    'year': [2007, 2008, 2009, 2010, 2011, 2012, 2013, 2014, 2015, 2016, 2017, 2018],\n",
    "    'temp': [-4.7, -6.1, -5.5, -3.3, -7.1, -3.1, -5.2, -7.3, -12.1, -6.6, -5.9, -6.3]\n",
    "})\n",
    "\n",
    "round(np.mean(df['temp']),1)\n",
    "round(np.median(df['temp']),1)\n",
    "round(np.std(df['temp'],ddof = 1),1)\n",
    "round((df['temp'].max()-df['temp'].min()),1)\n",
    "q1 = df['temp'].quantile(q = 0.75, interpolation = 'midpoint')\n",
    "q2 = df['temp'].quantile(q = 0.25, interpolation = 'midpoint')\n",
    "iqr = 1.5*(q1 - q2)\n",
    "round((q1 - q2),1)\n",
    "\n",
    "for i in df['temp']:\n",
    "    if i < (q2 - iqr):\n",
    "        print('min',i)\n",
    "    elif i > (q1 + iqr):\n",
    "        print('max', i)\n",
    "\n",
    "df[df['temp'] == -12.1]\n",
    "q1 - q2\n",
    "round(np.std(df['temp'],ddof = 1),1)"
   ]
  },
  {
   "cell_type": "code",
   "execution_count": null,
   "metadata": {},
   "outputs": [],
   "source": []
  }
 ],
 "metadata": {
  "kernelspec": {
   "display_name": "Python 3",
   "language": "python",
   "name": "python3"
  },
  "language_info": {
   "codemirror_mode": {
    "name": "ipython",
    "version": 3
   },
   "file_extension": ".py",
   "mimetype": "text/x-python",
   "name": "python",
   "nbconvert_exporter": "python",
   "pygments_lexer": "ipython3",
   "version": "3.7.6"
  }
 },
 "nbformat": 4,
 "nbformat_minor": 4
}
