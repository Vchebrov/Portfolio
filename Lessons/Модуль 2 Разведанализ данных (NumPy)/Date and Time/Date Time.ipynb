{
 "cells": [
  {
   "cell_type": "code",
   "execution_count": 1,
   "metadata": {},
   "outputs": [],
   "source": [
    "import datetime\n",
    "from datetime import datetime,timedelta"
   ]
  },
  {
   "cell_type": "code",
   "execution_count": 47,
   "metadata": {},
   "outputs": [
    {
     "data": {
      "text/plain": [
       "datetime.datetime(2019, 5, 5, 21, 0)"
      ]
     },
     "execution_count": 47,
     "metadata": {},
     "output_type": "execute_result"
    }
   ],
   "source": [
    "# создаем строковую переменную с датой\n",
    "date_string = '05.05.2019 21:00'\n",
    "\n",
    "# распознаем дату в строке\n",
    "dt = datetime.strptime(date_string,'%d.%m.%Y %H:%M')\n",
    "dt.hour # получить час\n",
    "dt.month #получить месяц\n"
   ]
  },
  {
   "cell_type": "code",
   "execution_count": 14,
   "metadata": {},
   "outputs": [
    {
     "data": {
      "text/plain": [
       "'2019-05-05'"
      ]
     },
     "execution_count": 14,
     "metadata": {},
     "output_type": "execute_result"
    }
   ],
   "source": [
    "#перевод даты в строку\n",
    "dt = datetime(2019,5,5,21,0)\n",
    "dt.strftime('%Y-%m-%d')"
   ]
  },
  {
   "cell_type": "code",
   "execution_count": 16,
   "metadata": {},
   "outputs": [
    {
     "data": {
      "text/plain": [
       "'2019-04-01'"
      ]
     },
     "execution_count": 16,
     "metadata": {},
     "output_type": "execute_result"
    }
   ],
   "source": [
    "dtt = datetime(2019, 4, 1, 18, 59, 44)\n",
    "dtt.strftime('%Y-%m-%d')\n"
   ]
  },
  {
   "cell_type": "code",
   "execution_count": 42,
   "metadata": {},
   "outputs": [
    {
     "data": {
      "text/plain": [
       "'07.07.2019'"
      ]
     },
     "execution_count": 42,
     "metadata": {},
     "output_type": "execute_result"
    }
   ],
   "source": [
    "date_string = '2019-07-07T18:59:33'\n",
    "df= datetime.strptime(date_string,'%Y-%m-%dT%H:%M:%S')\n",
    "df\n",
    "day = str(df.day)\n",
    "year = str(df.year)\n",
    "month = str(df.month)\n",
    "date_format = '0'+day+'.'+'0'+month+'.'+year\n",
    "date_format\n",
    "# date_format = df_n.strftime('%d.%m.%Y')\n"
   ]
  },
  {
   "cell_type": "code",
   "execution_count": 49,
   "metadata": {},
   "outputs": [
    {
     "data": {
      "text/plain": [
       "[datetime.datetime(2019, 7, 7, 18, 59, 6),\n",
       " datetime.datetime(2019, 7, 7, 19, 0, 2),\n",
       " datetime.datetime(2019, 7, 7, 19, 1, 4)]"
      ]
     },
     "execution_count": 49,
     "metadata": {},
     "output_type": "execute_result"
    }
   ],
   "source": [
    "dt_list = ['2019-07-07T18:59:06', '2019-07-07T19:00:02', '2019-07-07T19:01:04']\n",
    "l = len(dt_list)\n",
    "datetime_list = []\n",
    "for i in range(l):\n",
    "    datetime_list.append(datetime.strptime(dt_list[i],'%Y-%m-%dT%H:%M:%S'))\n",
    "\n",
    "datetime_list"
   ]
  },
  {
   "cell_type": "code",
   "execution_count": 58,
   "metadata": {},
   "outputs": [
    {
     "data": {
      "text/plain": [
       "12"
      ]
     },
     "execution_count": 58,
     "metadata": {},
     "output_type": "execute_result"
    }
   ],
   "source": [
    "l = len(datetime_list)\n",
    "report_seconds = []\n",
    "for i in range(l):\n",
    "    report_seconds.append(datetime_list[i].second)\n",
    "sum(report_seconds)"
   ]
  },
  {
   "cell_type": "code",
   "execution_count": 72,
   "metadata": {},
   "outputs": [
    {
     "data": {
      "text/plain": [
       "datetime.datetime(2018, 12, 22, 0, 0)"
      ]
     },
     "execution_count": 72,
     "metadata": {},
     "output_type": "execute_result"
    }
   ],
   "source": [
    "start_date = '2019-01-01'\n",
    "start_date_datetime = datetime.strptime(start_date, '%Y-%m-%d')\n",
    "start_date_datetime + timedelta(days = -10)"
   ]
  },
  {
   "cell_type": "code",
   "execution_count": 75,
   "metadata": {},
   "outputs": [
    {
     "name": "stdout",
     "output_type": "stream",
     "text": [
      "2019-01-01 00:00:00 2019-01-07 00:00:00\n",
      "2019-01-01\n",
      "2019-01-02\n",
      "2019-01-03\n",
      "2019-01-04\n",
      "2019-01-05\n",
      "2019-01-06\n",
      "2019-01-07\n"
     ]
    }
   ],
   "source": [
    "# Представим, что нам необходимо из огромной таблицы с данными за год выбрать (или узнать) \n",
    "# показатели за новогодние праздники с 1 по 7 января. Научимся на этом шаге перебирать \n",
    "# необходимые даты. \n",
    "\n",
    "# Начальную и конечную дату будем задавать в удобном для человека строковом виде:\n",
    "start_date = '2019-01-01'\n",
    "end_date = '2019-01-07'\n",
    "\n",
    "# Поскольку нам надо в цикле работать с датами, то переведем строковые \n",
    "# переменные в формат datetime:\n",
    "start_date_datetime = datetime.strptime(start_date, '%Y-%m-%d')\n",
    "end_date_datetime = datetime.strptime(end_date, '%Y-%m-%d')\n",
    "print(start_date_datetime, end_date_datetime) \n",
    "\n",
    "# Заведём переменную current_day, которая в цикле будет изменяться от 1 до 7 января \n",
    "# и иметь тип datetime. \n",
    "# В первом шаге цикла эта переменная будет равна 1 января\n",
    "\n",
    "current_day = start_date_datetime\n",
    "current_day = start_date_datetime\n",
    "while current_day <= end_date_datetime:\n",
    "    print(current_day.strftime('%Y-%m-%d')) #для удобства\n",
    "    current_day += timedelta(days=1)"
   ]
  },
  {
   "cell_type": "code",
   "execution_count": null,
   "metadata": {},
   "outputs": [],
   "source": []
  }
 ],
 "metadata": {
  "kernelspec": {
   "display_name": "Python 3",
   "language": "python",
   "name": "python3"
  },
  "language_info": {
   "codemirror_mode": {
    "name": "ipython",
    "version": 3
   },
   "file_extension": ".py",
   "mimetype": "text/x-python",
   "name": "python",
   "nbconvert_exporter": "python",
   "pygments_lexer": "ipython3",
   "version": "3.7.6"
  }
 },
 "nbformat": 4,
 "nbformat_minor": 4
}
