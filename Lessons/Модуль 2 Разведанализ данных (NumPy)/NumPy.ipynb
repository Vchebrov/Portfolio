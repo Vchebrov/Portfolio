{
 "cells": [
  {
   "cell_type": "code",
   "execution_count": 2,
   "metadata": {},
   "outputs": [],
   "source": [
    "import numpy as np\n",
    "import pandas as pd"
   ]
  },
  {
   "cell_type": "code",
   "execution_count": null,
   "metadata": {},
   "outputs": [],
   "source": [
    "# создание массива\n",
    "arr1 = np.array([1,2,3])\n",
    "arr1"
   ]
  },
  {
   "cell_type": "code",
   "execution_count": null,
   "metadata": {},
   "outputs": [],
   "source": [
    "# все данные должны быть одного типа. Можно сразу задать, через dtype\n",
    "arr1 = np.array([1,2,3], dtype = float)\n",
    "arr1.dtype"
   ]
  },
  {
   "cell_type": "code",
   "execution_count": null,
   "metadata": {},
   "outputs": [],
   "source": [
    "# для создания многомерного массива:\n",
    "arr2 = np.array([[1,1,1],[2,2,2],[3,3,3]])\n",
    "arr2"
   ]
  },
  {
   "cell_type": "code",
   "execution_count": null,
   "metadata": {},
   "outputs": [],
   "source": [
    "# проверка формы массива\n",
    "arr2.shape"
   ]
  },
  {
   "cell_type": "code",
   "execution_count": null,
   "metadata": {},
   "outputs": [],
   "source": [
    "# образение к элементу двумерного массива по индексам\n",
    "arr2[1,1]"
   ]
  },
  {
   "cell_type": "code",
   "execution_count": null,
   "metadata": {},
   "outputs": [],
   "source": [
    "# для выполнения математичекиз действий с количественными показателями из DF Pandas, их можно выгрузить в np.array\n",
    "df = pd.DataFrame([[1,2,3],[2,2,2],[3,3,3]])\n",
    "# с помощью функции values преобразовываем численые показатели в массив\n",
    "x = df.values\n",
    "type(x)\n",
    "x"
   ]
  },
  {
   "cell_type": "code",
   "execution_count": null,
   "metadata": {},
   "outputs": [],
   "source": [
    "# так же можно получить массив из Series\n",
    "\n",
    "s = pd.Series([1,2,3])\n",
    "s.values"
   ]
  },
  {
   "cell_type": "code",
   "execution_count": null,
   "metadata": {},
   "outputs": [],
   "source": [
    "# иногда для решения какой либо задачи требуется заранее создать массив заданного размера. \n",
    "# Для этого используются специальные функции, заполняющие массив нулями или единицами\n",
    "\n",
    "# np.empty(5) # одномерный массив из пяти элементов, память для которого выделена, но не инициализирована\n",
    "\n",
    "# np.zeros((10, 7)) # массив размером 10x7, заполненный нулями \n",
    "\n",
    "# np.ones((3,3,3)) # массив размером 3х3х3, заполненный единицами \n",
    "\n",
    "# np.eye(3) # единичная матрица (элементы главной диагонали равны 1, остальные — 0) размера 3х3\n",
    "\n",
    "# np.full((3, 5), 3.14)  # массив 3x5 заполненный числом 3.14\n",
    "\n",
    "# np.arange(0, 21, 7)  # одномерный массив, заполненный числами в диапазоне от 0 до 20 с шагом 7\n",
    "\n",
    "# np.linspace(0, 1, 5)  # массив из пяти чисел, равномерно распределённых в интервале между 0 и 1 включительно\n",
    "\n",
    "# массив размера 3х3, заполненный случайными числами из диапазона от 0 до 9 (включительно)\n",
    "# np.random.randint(0, 10, (3, 3))  "
   ]
  },
  {
   "cell_type": "code",
   "execution_count": null,
   "metadata": {},
   "outputs": [],
   "source": [
    "np.arange(1, 14, 2)"
   ]
  },
  {
   "cell_type": "code",
   "execution_count": null,
   "metadata": {},
   "outputs": [],
   "source": [
    "# обращение по индексу к элементам одномерных массивов\n",
    "my_array = np.array([x for x in range(10)])\n",
    "my_array[5] #элемент массива с индексом 5\n",
    "my_array[-1] #первый с конца элемент массива\n",
    "my_array[3:6] #срез с 3 по 6 элементы\n",
    "my_array[1:8:3] #срез с 1 по 8 с шагом 3\n"
   ]
  },
  {
   "cell_type": "code",
   "execution_count": null,
   "metadata": {},
   "outputs": [],
   "source": [
    "# обращение по индексу к элементам двумерных массивов\n",
    "my_array = np.array([[x for x in range(10)],[x for x in range(10,20)]])\n",
    "my_array[1][2]\n",
    "my_array[1,2]"
   ]
  },
  {
   "cell_type": "code",
   "execution_count": null,
   "metadata": {},
   "outputs": [],
   "source": [
    "my_array = np.array([[1,2,3,4], [10,11,12,13], [45,46,47,48]])\n",
    "my_array[:3]\n",
    "# array([[ 1,  2,  3,  4],\n",
    "#        [10, 11, 12, 13],\n",
    "#        [45, 46, 47, 48]])"
   ]
  },
  {
   "cell_type": "code",
   "execution_count": null,
   "metadata": {},
   "outputs": [],
   "source": [
    "# задание 9.3\n",
    "\n",
    "first_line = [x*y for x in range(2, 100, 6) for y in range (7, 1, -2)]\n",
    "second_line = [x ** 0.5 for x in range(1000, 1101, 2)]\n",
    "third_line = [x**2 for x in range(51)]\n",
    "\n",
    "big_secret = np.array([first_line, second_line, third_line, second_line, first_line])\n",
    "\n",
    "big_secret\n",
    "  \n",
    "# # 1. Чему равна сумма элементов последнего столбца массива? Ответ округлите до двух цифр после запятой:\n",
    "\n",
    "# last_list = []\n",
    "# for i in range(0,5):\n",
    "#     print(big_secret[i][-1])\n",
    "#     last_list.append(big_secret[i][-1])\n",
    "# sum(last_list) \n",
    "\n",
    "\n",
    "# 2. Выделите из каждой строки массива big_secret первые 5 элементов. \n",
    "# Чему равна сумма элементов главной диагонали получившейся матрицы? \n",
    "# Округлите ответ до двух цифр после запятой:\n",
    "# count = 0\n",
    "# for i in range(0,5):\n",
    "#     print(big_secret[i][0:5])\n",
    "#     count += big_secret[i][0:5][i]\n",
    "\n",
    "# count\n",
    "    \n",
    "# 3. Выделите из каждой строки массива big_secret последние 5 элементов. Чему равно произведение элементов главной диагонали получившейся матрицы? \n",
    "# Введите полученный результат без изменений и округлений.\n",
    "\n",
    "# count = 1\n",
    "# for i in range(0,5):\n",
    "#     print(big_secret[i][-5:])\n",
    "#     count *= big_secret[i][-5:][i]\n",
    "\n",
    "# count\n",
    "   \n",
    "\n",
    "\n"
   ]
  },
  {
   "cell_type": "code",
   "execution_count": null,
   "metadata": {},
   "outputs": [],
   "source": [
    "              # Функции добавления элементов в массив\n",
    "\n",
    "import numpy as np\n",
    "a = np.array([1, 2, 3, 4]) \n",
    "\n",
    "# добавление элемента в конец массива\n",
    "np.append(a, 0)\n",
    "# array([1, 2, 3, 4, 0]) результат\n",
    "\n",
    "# добавление нескольких элементов в конец массива\n",
    "np.append(a, [5, 6, 7, 8, 9])\n",
    "# # array([1, 2, 3, 4, 5, 6, 7, 8, 9]) результат\n",
    " \n",
    "\n",
    "b = np.array([[2, 3], [5, 7]]) #двумерный массив\n",
    "\n",
    "# добавление элемента в двумерный массив\n",
    "np.append(b, [[11, 13]], axis = 0)\n",
    "# # array([[ 2,  3], #результат\n",
    "# #        [ 5,  7],\n",
    "# #        [11, 13]])\n",
    "\n",
    "# np.append(b, [[11, 13]], axis = 1)     #  Приведет к ошибке\n",
    " \n",
    "# #  Ошибка вызвана тем что формы массивов должны \n",
    "# ... #  совпадать по всем осям, кроме той, что указана в axis:\n",
    "# # ... b.shape, np.array([[11, 13]]).shape\n",
    "# # ((2, 2), (1, 2))\n",
    "\n",
    "# np.append(b, [[11], [13]], axis = 1)\n",
    "# # array([[ 2,  3, 11],\n",
    "# #        [ 5,  7, 13]])\n",
    "\n",
    "# np.append(b, [[11, 17], [13, 19]], axis = 1)\n",
    "# # array([[ 2,  3, 11, 17],\n",
    "# #        [ 5,  7, 13, 19]])\n",
    "\n",
    "# np.append(b, [[11, 17, 23], [13, 19, 29]], axis = 1)\n",
    "# # array([[ 2,  3, 11, 17, 23],\n",
    "# #        [ 5,  7, 13, 19, 29]])"
   ]
  },
  {
   "cell_type": "code",
   "execution_count": null,
   "metadata": {},
   "outputs": [],
   "source": [
    "# изменение среза массива вносит изменение в сам массив, двже если срез сделан отдельной переменной\n",
    "my_array = np.random.randint(1,100,(4,6))\n",
    "my_slice = my_array[1:3,2:4]\n",
    "my_slice[:] = 0\n",
    "my_array"
   ]
  },
  {
   "cell_type": "code",
   "execution_count": null,
   "metadata": {},
   "outputs": [],
   "source": [
    "# задания\n",
    "\n",
    "first_line = [x*y for x in range(2, 100, 6) for y in range (7, 1, -2)]\n",
    "second_line = [x ** 0.5 for x in range(1000, 1101, 2)]\n",
    "third_line = [x**2 for x in range(51)]\n",
    "\n",
    "big_secret = np.array([first_line, second_line, third_line, second_line, first_line])\n",
    "\n",
    "\n",
    "# print(len(big_secret[0]))\n",
    "\n",
    "# Замените на 1 все элементы, у которых оба индекса нечётные, и на -1 все элементы, у которых оба индекса чётные.\n",
    "for i in range(0,5):\n",
    "    for y in range(len(big_secret[i])):\n",
    "#         print(big_secret[i, y])\n",
    "#         print(i,y)\n",
    "        if i%2 == 0 and y%2 == 0:\n",
    "            big_secret[i,y] = -1\n",
    "        elif i%2 != 0 and y%2 != 0:\n",
    "            big_secret[i,y] = 1\n",
    "        else:\n",
    "            pass\n",
    "\n",
    "big_secret\n",
    "\n",
    "# 1. Выделите из каждой строки обновлённого массива big_secret первые 5 элементов. \n",
    "# Чему равна сумма элементов главной диагонали получившейся матрицы? Введите полученный ответ без изменений.\n",
    "\n",
    "# count = 0\n",
    "# for i in range(0,5):\n",
    "#     print(big_secret[i][0:5])\n",
    "#     count += big_secret[i][0:5][i]\n",
    "\n",
    "# count\n",
    "\n",
    "# 2. Выделите из каждой строки обновлённого массива big_secret последние 5 элементов. \n",
    "# Чему равно произведение элементов главной диагонали получившейся матрицы? \n",
    "# Введите полученный результат без изменений.\n",
    "\n",
    "count = 1\n",
    "for i in range(0,5):\n",
    "    print(big_secret[i][-5:])\n",
    "    count *= big_secret[i][-5:][i]\n",
    "\n",
    "count\n"
   ]
  },
  {
   "cell_type": "code",
   "execution_count": null,
   "metadata": {},
   "outputs": [],
   "source": [
    "                        # методы и функции применяемые к массивам\n",
    "# транспонирование\n",
    "arr = np.array([[1,1,1,1],[2,2,2,2]]).T\n",
    "arr\n",
    "\n",
    "# изменение размерности массива\n",
    "arr = np.random.randint(0,10,10)\n",
    "arr\n",
    "arr.reshape((5,2))\n",
    "\n",
    "# преобразование многомерного массива в одномерный\n",
    "arr = np.array([[1,1,1,1,1],[2,2,2,2,2],[3,3,3,3,3,]])\n",
    "arr\n",
    "arr.flatten()\n",
    "\n",
    "# функции сравнения и выделения нужных элементов по условию\n",
    "arr = np.random.randint(0,10,(3,4))\n",
    "\n",
    "arr<5 # заполнения массива булевыми значениями соответствия условию\n",
    "arr[arr<5] #\n",
    "\n",
    "# маска используется для выбора определенных столбцов или строк и сокрытия всего остального\n",
    "mask = np.array([1, 0, 1, 0], dtype=bool)\n",
    "arr[:, mask]\n",
    "\n",
    "# сортировка двумерных массивов\n",
    "arr = np.random.randint(1,10,(3,10))\n",
    "np.sort(arr, axis = 0) # axis = 0 используется для столбцов\n",
    "np.sort(arr, axis = 1) # axis = 1 используется для строк"
   ]
  },
  {
   "cell_type": "code",
   "execution_count": 80,
   "metadata": {},
   "outputs": [
    {
     "data": {
      "text/plain": [
       "115.12148016521353"
      ]
     },
     "execution_count": 80,
     "metadata": {},
     "output_type": "execute_result"
    }
   ],
   "source": [
    "# Упражнения 9.4\n",
    "\n",
    "first = [x**(1/2) for x in range(100)]\n",
    "second = [x**(1/3) for x in range(100, 200)]\n",
    "third = [x/y for x in range(200,300,2) for y in [3,5]]\n",
    "\n",
    "great_secret = np.array([first, second, third]).T\n",
    "# 1. Сколько столбцов содержит массив great_secret?\n",
    "\n",
    "# 2. Чему равна сумма косинусов первой строки\n",
    "sum(np.cos(great_secret[0]))\n",
    "\n",
    "# 3. Чему равна сумма элементов массива great_secret, значение которых больше 50?\n",
    "sum(great_secret[great_secret>50])\n",
    "\n",
    "# 4. Переведите массив great_secret в одномерную форму. \n",
    "# Какое значение в получившемся массиве имеет элемент с индексом 150? \n",
    "\n",
    "great_secret.flatten()[150]\n",
    "\n",
    "# 5. Отсортируйте значения столбцов массива great_secret по возрастанию. \n",
    "# Чему равна сумма элементов последней строки отсортированного массива? \n",
    "\n",
    "sort = np.sort(great_secret, axis = 0)\n",
    "\n",
    "sum(sort[len(sort)-1])\n",
    "#  9.94987437,  5.83827246, 99.33333333]"
   ]
  },
  {
   "cell_type": "code",
   "execution_count": 12,
   "metadata": {},
   "outputs": [
    {
     "data": {
      "text/html": [
       "<div>\n",
       "<style scoped>\n",
       "    .dataframe tbody tr th:only-of-type {\n",
       "        vertical-align: middle;\n",
       "    }\n",
       "\n",
       "    .dataframe tbody tr th {\n",
       "        vertical-align: top;\n",
       "    }\n",
       "\n",
       "    .dataframe thead th {\n",
       "        text-align: right;\n",
       "    }\n",
       "</style>\n",
       "<table border=\"1\" class=\"dataframe\">\n",
       "  <thead>\n",
       "    <tr style=\"text-align: right;\">\n",
       "      <th></th>\n",
       "      <th>id</th>\n",
       "      <th>Рост</th>\n",
       "      <th>Масса тела</th>\n",
       "      <th>Средний балл</th>\n",
       "    </tr>\n",
       "  </thead>\n",
       "  <tbody>\n",
       "    <tr>\n",
       "      <td>0</td>\n",
       "      <td>1</td>\n",
       "      <td>135</td>\n",
       "      <td>34</td>\n",
       "      <td>4</td>\n",
       "    </tr>\n",
       "    <tr>\n",
       "      <td>1</td>\n",
       "      <td>2</td>\n",
       "      <td>160</td>\n",
       "      <td>43</td>\n",
       "      <td>5</td>\n",
       "    </tr>\n",
       "    <tr>\n",
       "      <td>2</td>\n",
       "      <td>3</td>\n",
       "      <td>163</td>\n",
       "      <td>40</td>\n",
       "      <td>4.3</td>\n",
       "    </tr>\n",
       "    <tr>\n",
       "      <td>3</td>\n",
       "      <td>4</td>\n",
       "      <td>147</td>\n",
       "      <td>44</td>\n",
       "      <td>5</td>\n",
       "    </tr>\n",
       "    <tr>\n",
       "      <td>4</td>\n",
       "      <td>5</td>\n",
       "      <td>138</td>\n",
       "      <td>41</td>\n",
       "      <td>4.7</td>\n",
       "    </tr>\n",
       "    <tr>\n",
       "      <td>5</td>\n",
       "      <td>6</td>\n",
       "      <td>149</td>\n",
       "      <td>54</td>\n",
       "      <td>3.9</td>\n",
       "    </tr>\n",
       "    <tr>\n",
       "      <td>6</td>\n",
       "      <td>7</td>\n",
       "      <td>136</td>\n",
       "      <td>39</td>\n",
       "      <td>4.2</td>\n",
       "    </tr>\n",
       "    <tr>\n",
       "      <td>7</td>\n",
       "      <td>8</td>\n",
       "      <td>154</td>\n",
       "      <td>48</td>\n",
       "      <td>4.9</td>\n",
       "    </tr>\n",
       "    <tr>\n",
       "      <td>8</td>\n",
       "      <td>9</td>\n",
       "      <td>137</td>\n",
       "      <td>35</td>\n",
       "      <td>3.7</td>\n",
       "    </tr>\n",
       "    <tr>\n",
       "      <td>9</td>\n",
       "      <td>10</td>\n",
       "      <td>165</td>\n",
       "      <td>60</td>\n",
       "      <td>4.6</td>\n",
       "    </tr>\n",
       "  </tbody>\n",
       "</table>\n",
       "</div>"
      ],
      "text/plain": [
       "   id Рост Масса тела Средний балл\n",
       "0   1  135         34            4\n",
       "1   2  160         43            5\n",
       "2   3  163         40          4.3\n",
       "3   4  147         44            5\n",
       "4   5  138         41          4.7\n",
       "5   6  149         54          3.9\n",
       "6   7  136         39          4.2\n",
       "7   8  154         48          4.9\n",
       "8   9  137         35          3.7\n",
       "9  10  165         60          4.6"
      ]
     },
     "execution_count": 12,
     "metadata": {},
     "output_type": "execute_result"
    }
   ],
   "source": [
    "f = pd.DataFrame({'id':['1','2','3','4','5','6','7','8','9','10'],\n",
    "                  'Рост':['135','160','163','147','138','149','136','154','137','165'],\n",
    "                  'Масса тела': ['34','43','40','44','41','54','39','48','35','60'],\n",
    "                  'Средний балл':['4','5','4.3','5','4.7','3.9','4.2','4.9','3.7','4.6']})\n",
    "\n",
    "students = np.array(df, dtype = float)\n",
    "f"
   ]
  },
  {
   "cell_type": "code",
   "execution_count": 17,
   "metadata": {},
   "outputs": [
    {
     "data": {
      "text/plain": [
       "1.7999999999999972"
      ]
     },
     "execution_count": 17,
     "metadata": {},
     "output_type": "execute_result"
    }
   ],
   "source": [
    "\n",
    "df = pd.DataFrame({'id':['1','2','3','4','5','6','7','8','9','10'],\n",
    "                  'Рост':['135','160','163','147','138','149','136','154','137','165'],\n",
    "                  'Масса тела': ['34','43','40','44','41','54','39','48','35','60'],\n",
    "                  'Средний балл':['4','5','4.3','5','4.7','3.9','4.2','4.9','3.7','4.6']})\n",
    "\n",
    "students = np.array(df, dtype = float)\n",
    "\n",
    "# students[:,-1] #срез последнего столблца\n",
    "\n",
    "# среднее значение успеваемости учеников\n",
    "# np.mean(students[:,-1])\n",
    "# 4.430000000000001\n",
    "\n",
    "# значение медианы успеваемости\n",
    "np.median(students[:,-1])\n",
    "# 4.449999999999999\n",
    "\n",
    "# задания\n",
    "# чему равно медианное значение массы тела\n",
    "np.median(students[:,-2])\n",
    "\n",
    "# На сколько среднее арифметическое массы тела школьников больше медианного значения для этого же показателя? \n",
    "# Дайте ответ в килограммах с точностью до одной десятой кг.\n",
    "\n",
    "abs(np.median(students[:,-2]) - np.mean(students[:,-2]))"
   ]
  },
  {
   "cell_type": "code",
   "execution_count": 20,
   "metadata": {},
   "outputs": [
    {
     "data": {
      "text/plain": [
       "array([[1.        , 0.29801325],\n",
       "       [0.29801325, 1.        ]])"
      ]
     },
     "execution_count": 20,
     "metadata": {},
     "output_type": "execute_result"
    }
   ],
   "source": [
    "# коэффициент корреляции для массы и роста\n",
    "\n",
    "np.corrcoef(students[:,1], students[:,2])\n",
    "\n",
    "# задание\n",
    "\n",
    "# 1. Между какой парой признаков в массиве students наблюдается минимальная корреляция?\n",
    "\n",
    "np.corrcoef(students[:,2], students[:,3])"
   ]
  },
  {
   "cell_type": "code",
   "execution_count": null,
   "metadata": {},
   "outputs": [],
   "source": []
  }
 ],
 "metadata": {
  "kernelspec": {
   "display_name": "Python 3",
   "language": "python",
   "name": "python3"
  },
  "language_info": {
   "codemirror_mode": {
    "name": "ipython",
    "version": 3
   },
   "file_extension": ".py",
   "mimetype": "text/x-python",
   "name": "python",
   "nbconvert_exporter": "python",
   "pygments_lexer": "ipython3",
   "version": "3.7.4"
  }
 },
 "nbformat": 4,
 "nbformat_minor": 2
}
