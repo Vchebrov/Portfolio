{
 "cells": [
  {
   "cell_type": "code",
   "execution_count": 1,
   "metadata": {},
   "outputs": [],
   "source": [
    "import numpy as np\n",
    "import pandas as pd\n",
    "from sklearn.metrics import log_loss"
   ]
  },
  {
   "cell_type": "code",
   "execution_count": 194,
   "metadata": {},
   "outputs": [],
   "source": [
    "yp = np.array([0.2,0.1])\n",
    "yt = np.array([0,1])"
   ]
  },
  {
   "cell_type": "code",
   "execution_count": 196,
   "metadata": {},
   "outputs": [
    {
     "data": {
      "text/plain": [
       "2.525728644308255"
      ]
     },
     "execution_count": 196,
     "metadata": {},
     "output_type": "execute_result"
    }
   ],
   "source": [
    "loss= -(yt*np.log(yp) + (1 - yt)*np.log(1 - yp))\n",
    "sum(loss)"
   ]
  },
  {
   "cell_type": "code",
   "execution_count": 201,
   "metadata": {},
   "outputs": [],
   "source": [
    "yp = np.array([0.3])\n",
    "yt = np.array([0])"
   ]
  },
  {
   "cell_type": "code",
   "execution_count": 202,
   "metadata": {},
   "outputs": [
    {
     "data": {
      "text/plain": [
       "0.35667494393873245"
      ]
     },
     "execution_count": 202,
     "metadata": {},
     "output_type": "execute_result"
    }
   ],
   "source": [
    "loss= -(yt*np.log(yp) + (1 - yt)*np.log(1 - yp))\n",
    "sum(loss)"
   ]
  },
  {
   "cell_type": "code",
   "execution_count": 210,
   "metadata": {},
   "outputs": [],
   "source": [
    "yp = np.array([0.5,0.9])\n",
    "yt = np.array([1,0])"
   ]
  },
  {
   "cell_type": "code",
   "execution_count": 212,
   "metadata": {},
   "outputs": [
    {
     "data": {
      "text/plain": [
       "2.9957322735539913"
      ]
     },
     "execution_count": 212,
     "metadata": {},
     "output_type": "execute_result"
    }
   ],
   "source": [
    "loss= -(yt*np.log(yp) + (1 - yt)*np.log(1 - yp))\n",
    "sum(loss)"
   ]
  },
  {
   "cell_type": "code",
   "execution_count": 217,
   "metadata": {},
   "outputs": [
    {
     "data": {
      "text/plain": [
       "5.878135861800979"
      ]
     },
     "execution_count": 217,
     "metadata": {},
     "output_type": "execute_result"
    }
   ],
   "source": [
    "(2.525728644308255+0.35667494393873245+2.9957322735539913)"
   ]
  },
  {
   "cell_type": "code",
   "execution_count": 216,
   "metadata": {},
   "outputs": [
    {
     "data": {
      "text/plain": [
       "0.0"
      ]
     },
     "execution_count": 216,
     "metadata": {},
     "output_type": "execute_result"
    }
   ],
   "source": [
    "np.log(1)"
   ]
  },
  {
   "cell_type": "code",
   "execution_count": 238,
   "metadata": {},
   "outputs": [
    {
     "name": "stderr",
     "output_type": "stream",
     "text": [
      "D:\\All_about_Python\\Anaconda\\lib\\site-packages\\ipykernel_launcher.py:4: RuntimeWarning: divide by zero encountered in log\n",
      "  after removing the cwd from sys.path.\n",
      "D:\\All_about_Python\\Anaconda\\lib\\site-packages\\ipykernel_launcher.py:4: RuntimeWarning: invalid value encountered in multiply\n",
      "  after removing the cwd from sys.path.\n"
     ]
    },
    {
     "data": {
      "text/plain": [
       "array([[0.22314355, 0.        , 2.30258509],\n",
       "       [0.35667494, 0.        , 0.        ],\n",
       "       [0.69314718, 0.        , 2.30258509]])"
      ]
     },
     "execution_count": 238,
     "metadata": {},
     "output_type": "execute_result"
    }
   ],
   "source": [
    "import numpy as np\n",
    "y_pred = np.array([[0.2,0,0.1],[0.3,0,0],[0.5,1,0.9]])\n",
    "y_true = np.array([[0,0,1],[0,0,0],[1,1,0]]) \n",
    "logloss = -1 * (y_true * np.log(y_pred) + (1 - y_true) * np.log(1 - y_pred)) \n",
    "mask = np.isnan(logloss) #ищем значения nan\n",
    "logloss[mask] = 0 #заменяем на 0,т.к. при сложении с nan получается nan\n",
    "logloss #2.34     #[0.22314355, 1.60943791, 0, 0.51082562]\n"
   ]
  },
  {
   "cell_type": "code",
   "execution_count": 226,
   "metadata": {},
   "outputs": [],
   "source": [
    "y_pred = np.array([[0.2,0,0.1],[0.3,0,0],[0.5,1,0.9]])\n",
    "y_true = np.array([[0,0,1],[0,0,0],[1,1,0]]) "
   ]
  },
  {
   "cell_type": "code",
   "execution_count": 237,
   "metadata": {},
   "outputs": [
    {
     "data": {
      "text/plain": [
       "1.1808989813119528"
      ]
     },
     "execution_count": 237,
     "metadata": {},
     "output_type": "execute_result"
    }
   ],
   "source": [
    "log_loss(y_true, y_pred,eps=1e-15)"
   ]
  },
  {
   "cell_type": "code",
   "execution_count": 240,
   "metadata": {},
   "outputs": [
    {
     "data": {
      "text/plain": [
       "array([1.27296568, 0.        , 4.60517019])"
      ]
     },
     "execution_count": 240,
     "metadata": {},
     "output_type": "execute_result"
    }
   ],
   "source": [
    "sum(logloss)"
   ]
  },
  {
   "cell_type": "code",
   "execution_count": 242,
   "metadata": {},
   "outputs": [
    {
     "name": "stdout",
     "output_type": "stream",
     "text": [
      "2.525728644308255\n",
      "0.35667494393873245\n",
      "2.9957322735539913\n"
     ]
    }
   ],
   "source": [
    "for i in range(0,3):\n",
    "    print(sum(logloss[i]))"
   ]
  },
  {
   "cell_type": "code",
   "execution_count": 246,
   "metadata": {},
   "outputs": [
    {
     "data": {
      "text/plain": [
       "1.959378620600326"
      ]
     },
     "execution_count": 246,
     "metadata": {},
     "output_type": "execute_result"
    }
   ],
   "source": [
    "(2.525728644308255+2.9957322735539913+0.35667494393873245)/3"
   ]
  },
  {
   "cell_type": "code",
   "execution_count": 2,
   "metadata": {},
   "outputs": [],
   "source": [
    "y_pred = np.array([[0.2,0,0.1],[0.3,0,0],[0.5,1,0.9]])\n",
    "y_true = np.array([[0,0,1],[0,0,0],[1,1,0]]) "
   ]
  },
  {
   "cell_type": "code",
   "execution_count": 3,
   "metadata": {},
   "outputs": [],
   "source": [
    "def mult_logloss(y_true, y_pred):\n",
    "    n, m = y_true.shape[0], y_true.shape[1]\n",
    "    sum_ = []\n",
    "    for i in range(n):\n",
    "        for j in range(m):\n",
    "            if y_true[i][j] != 0 and y_pred[i][j] != 0:\n",
    "                sum_.append(y_true[i][j] * np.log(y_pred[i][j]))\n",
    "    sum_ = np.nansum(sum_)\n",
    "    loss = -(sum_ / n)\n",
    "    return loss"
   ]
  },
  {
   "cell_type": "code",
   "execution_count": 4,
   "metadata": {},
   "outputs": [
    {
     "data": {
      "text/plain": [
       "0.9985774245179969"
      ]
     },
     "execution_count": 4,
     "metadata": {},
     "output_type": "execute_result"
    }
   ],
   "source": [
    "mult_logloss(y_true, y_pred)"
   ]
  },
  {
   "cell_type": "code",
   "execution_count": null,
   "metadata": {},
   "outputs": [],
   "source": []
  }
 ],
 "metadata": {
  "kernelspec": {
   "display_name": "Python 3",
   "language": "python",
   "name": "python3"
  },
  "language_info": {
   "codemirror_mode": {
    "name": "ipython",
    "version": 3
   },
   "file_extension": ".py",
   "mimetype": "text/x-python",
   "name": "python",
   "nbconvert_exporter": "python",
   "pygments_lexer": "ipython3",
   "version": "3.7.6"
  }
 },
 "nbformat": 4,
 "nbformat_minor": 4
}
