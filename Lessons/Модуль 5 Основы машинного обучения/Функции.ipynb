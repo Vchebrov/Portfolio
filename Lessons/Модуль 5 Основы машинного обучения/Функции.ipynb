{
 "cells": [
  {
   "cell_type": "code",
   "execution_count": 1,
   "metadata": {},
   "outputs": [
    {
     "data": {
      "text/plain": [
       "<Figure size 640x480 with 1 Axes>"
      ]
     },
     "metadata": {},
     "output_type": "display_data"
    }
   ],
   "source": [
    "#  импортируем необходимые библиотеки для работы с массивами чисел и для визуализации\n",
    "import numpy as np\n",
    "import matplotlib.pyplot as plt\n",
    "\n",
    "# х - аргумент в нашей функции. \n",
    "# передадим начало и конец числового отрезка нашей функции и шаг аргумента:\n",
    "x = np.arange(-10, 10.01, 0.01) # массив значений аргумента\n",
    "\n",
    "# построение графика параболы\n",
    "plt.plot(x, x**2) \n",
    "\n",
    "# включим сетку на графике \n",
    "plt.grid(True)\n",
    "\n",
    "# показать график\n",
    "plt.show() "
   ]
  },
  {
   "cell_type": "code",
   "execution_count": 3,
   "metadata": {},
   "outputs": [
    {
     "data": {
      "text/plain": [
       "array([-0.85714286,  0.        ,  0.07142857, -0.21428571,  0.21428571,\n",
       "        0.        ,  0.64285714,  1.42857143])"
      ]
     },
     "execution_count": 3,
     "metadata": {},
     "output_type": "execute_result"
    }
   ],
   "source": [
    "f = np.array([8, 2, 8, 3, 5, 6, 5, 15])\n",
    "np.gradient(f, 7)"
   ]
  },
  {
   "cell_type": "code",
   "execution_count": 5,
   "metadata": {},
   "outputs": [
    {
     "data": {
      "text/plain": [
       "array([-6. ,  0. ,  0.5, -1.5,  1.5,  0. ,  4.5, 10. ])"
      ]
     },
     "execution_count": 5,
     "metadata": {},
     "output_type": "execute_result"
    }
   ],
   "source": [
    "np.gradient(f)"
   ]
  },
  {
   "cell_type": "markdown",
   "metadata": {},
   "source": [
    "Общий интерфейс для решения задач как условной, так и безусловной оптимизации в пакете scipy.optimize предоставляется функцией minimize(). Однако известно, что универсального способа для решения всех задач не существует, поэтому выбор подходящего метода как всегда ложится на плечи исследователя.\n",
    "\n",
    "Подходящий алгоритм оптимизации задаётся с помощью аргумента функции minimize(..., method=\"\").\n",
    "\n",
    "Функция minimize из пакета scipy.optimize предоставляет общий интерфейс для решения задач условной и безусловной минимизации скалярных функций нескольких переменных. Чтобы продемонстрировать её работу, нам понадобится подходящая функция нескольких переменных, которую мы будем минимизировать.\n",
    "\n",
    "Для этих целей прекрасно подойдет функция Розенброка \n",
    "\n",
    "Несмотря на то, что функция Розенброка и её матрицы Якоби и Гессе (первой и второй производной соответственно) уже определены в пакете scipy.optimize, определим её самостоятельно."
   ]
  },
  {
   "cell_type": "code",
   "execution_count": 1,
   "metadata": {},
   "outputs": [],
   "source": [
    "import numpy as np\n",
    "\n",
    "def rosen(x):\n",
    "# Функция Розенброка\n",
    "    return np.sum(100.0*(x[1:]-x[:-1]**2.0)**2.0 + (1-x[:-1])**2.0, axis=0)"
   ]
  },
  {
   "cell_type": "markdown",
   "metadata": {},
   "source": [
    "Для наглядности отрисуем в 3D значения функции Розенброка от двух переменных."
   ]
  },
  {
   "cell_type": "code",
   "execution_count": 2,
   "metadata": {},
   "outputs": [
    {
     "data": {
      "text/plain": [
       "<Figure size 1500x1000 with 1 Axes>"
      ]
     },
     "metadata": {},
     "output_type": "display_data"
    }
   ],
   "source": [
    "from mpl_toolkits.mplot3d import Axes3D\n",
    "import matplotlib.pyplot as plt\n",
    "from matplotlib import cm\n",
    "from matplotlib.ticker import LinearLocator, FormatStrFormatter\n",
    "\n",
    "# Настраиваем 3D график\n",
    "fig = plt.figure(figsize=[15, 10])\n",
    "ax = fig.gca(projection='3d')\n",
    "\n",
    "# Задаем угол обзора\n",
    "ax.view_init(45, 30)\n",
    "\n",
    "# Создаем данные для графика\n",
    "X = np.arange(-2, 2, 0.1)\n",
    "Y = np.arange(-1, 3, 0.1)\n",
    "X, Y = np.meshgrid(X, Y)\n",
    "Z = rosen(np.array([X,Y]))\n",
    "\n",
    "# Рисуем поверхность\n",
    "surf = ax.plot_surface(X, Y, Z, cmap=cm.coolwarm)\n",
    "plt.show()"
   ]
  },
  {
   "cell_type": "markdown",
   "metadata": {},
   "source": [
    "Метод Пауэлла\n",
    "\n",
    "Алгоритмом оптимизации, в котором вычисляются только значения функций, является метод Пауэлла. Чтобы использовать его, нужно установить method = 'powell' в функции minim."
   ]
  },
  {
   "cell_type": "code",
   "execution_count": 3,
   "metadata": {},
   "outputs": [
    {
     "name": "stdout",
     "output_type": "stream",
     "text": [
      "Optimization terminated successfully.\n",
      "         Current function value: 0.000000\n",
      "         Iterations: 19\n",
      "         Function evaluations: 1622\n",
      "[1. 1. 1. 1. 1.]\n"
     ]
    }
   ],
   "source": [
    "from scipy.optimize import minimize \n",
    "x0 = np.array([1.3, 0.7, 0.8, 1.9, 1.2])\n",
    "res = minimize(rosen, x0, method='powell',\n",
    "    options={'xtol': 1e-8, 'disp': True})\n",
    "print(res.x)"
   ]
  },
  {
   "cell_type": "markdown",
   "metadata": {},
   "source": [
    "Симплекс-метод Нелдера-Мида (Nelder-Mead)\n",
    "Пусть имеется начальная точка x0 в 5-мерном пространстве. Найдём ближайшую к ней точку минимума функции Розенброка с помощью алгоритма симплекса Nelder-Mead (алгоритм указан в качестве значения параметра method):"
   ]
  },
  {
   "cell_type": "code",
   "execution_count": 4,
   "metadata": {},
   "outputs": [
    {
     "name": "stdout",
     "output_type": "stream",
     "text": [
      "Optimization terminated successfully.\n",
      "         Current function value: 0.000000\n",
      "         Iterations: 339\n",
      "         Function evaluations: 571\n",
      "[1. 1. 1. 1. 1.]\n"
     ]
    }
   ],
   "source": [
    "from scipy.optimize import minimize\n",
    "x0 = np.array([1.3, 0.7, 0.8, 1.9, 1.2])\n",
    "res = minimize(rosen, x0, method='nelder-mead',\n",
    "    options={'xtol': 1e-8, 'disp': True})\n",
    "print(res.x)"
   ]
  },
  {
   "cell_type": "markdown",
   "metadata": {},
   "source": [
    "Симплекс-метод является самым простым способом свести к минимуму явно определенную и довольно гладкую функцию. Он не требует вычисления производных функции, достаточно задать только её значения. Метод Нелдера-Мида является хорошим выбором для простых задач минимизации. Однако, поскольку он не использует оценки градиента, для поиска минимума может потребоваться больше времени."
   ]
  },
  {
   "cell_type": "code",
   "execution_count": null,
   "metadata": {},
   "outputs": [],
   "source": []
  }
 ],
 "metadata": {
  "kernelspec": {
   "display_name": "Python 3",
   "language": "python",
   "name": "python3"
  },
  "language_info": {
   "codemirror_mode": {
    "name": "ipython",
    "version": 3
   },
   "file_extension": ".py",
   "mimetype": "text/x-python",
   "name": "python",
   "nbconvert_exporter": "python",
   "pygments_lexer": "ipython3",
   "version": "3.7.3"
  }
 },
 "nbformat": 4,
 "nbformat_minor": 2
}
