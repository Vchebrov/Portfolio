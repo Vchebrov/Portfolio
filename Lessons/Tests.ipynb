{
 "cells": [
  {
   "cell_type": "code",
   "execution_count": 18,
   "metadata": {},
   "outputs": [
    {
     "name": "stdout",
     "output_type": "stream",
     "text": [
      "____________________________Вывод DataFrame_________________________________________\n"
     ]
    },
    {
     "data": {
      "text/html": [
       "<div>\n",
       "<style scoped>\n",
       "    .dataframe tbody tr th:only-of-type {\n",
       "        vertical-align: middle;\n",
       "    }\n",
       "\n",
       "    .dataframe tbody tr th {\n",
       "        vertical-align: top;\n",
       "    }\n",
       "\n",
       "    .dataframe thead th {\n",
       "        text-align: right;\n",
       "    }\n",
       "</style>\n",
       "<table border=\"1\" class=\"dataframe\">\n",
       "  <thead>\n",
       "    <tr style=\"text-align: right;\">\n",
       "      <th></th>\n",
       "      <th>Letters</th>\n",
       "      <th>Digits</th>\n",
       "      <th>Opposite</th>\n",
       "    </tr>\n",
       "  </thead>\n",
       "  <tbody>\n",
       "    <tr>\n",
       "      <th>First</th>\n",
       "      <td>a</td>\n",
       "      <td>1</td>\n",
       "      <td>7</td>\n",
       "    </tr>\n",
       "    <tr>\n",
       "      <th>Second</th>\n",
       "      <td>b</td>\n",
       "      <td>2</td>\n",
       "      <td>6</td>\n",
       "    </tr>\n",
       "    <tr>\n",
       "      <th>Third</th>\n",
       "      <td>c</td>\n",
       "      <td>3</td>\n",
       "      <td>5</td>\n",
       "    </tr>\n",
       "    <tr>\n",
       "      <th>Four</th>\n",
       "      <td>d</td>\n",
       "      <td>4</td>\n",
       "      <td>4</td>\n",
       "    </tr>\n",
       "    <tr>\n",
       "      <th>Fifth</th>\n",
       "      <td>e</td>\n",
       "      <td>5</td>\n",
       "      <td>3</td>\n",
       "    </tr>\n",
       "    <tr>\n",
       "      <th>Six</th>\n",
       "      <td>f</td>\n",
       "      <td>6</td>\n",
       "      <td>2</td>\n",
       "    </tr>\n",
       "    <tr>\n",
       "      <th>Seventh</th>\n",
       "      <td>g</td>\n",
       "      <td>7</td>\n",
       "      <td>1</td>\n",
       "    </tr>\n",
       "    <tr>\n",
       "      <th>Eight</th>\n",
       "      <td>a</td>\n",
       "      <td>1</td>\n",
       "      <td>7</td>\n",
       "    </tr>\n",
       "    <tr>\n",
       "      <th>Nine</th>\n",
       "      <td>b</td>\n",
       "      <td>2</td>\n",
       "      <td>6</td>\n",
       "    </tr>\n",
       "    <tr>\n",
       "      <th>Ten</th>\n",
       "      <td>c</td>\n",
       "      <td>3</td>\n",
       "      <td>5</td>\n",
       "    </tr>\n",
       "    <tr>\n",
       "      <th>Eleven</th>\n",
       "      <td>d</td>\n",
       "      <td>4</td>\n",
       "      <td>4</td>\n",
       "    </tr>\n",
       "  </tbody>\n",
       "</table>\n",
       "</div>"
      ],
      "text/plain": [
       "        Letters  Digits  Opposite\n",
       "First         a       1         7\n",
       "Second        b       2         6\n",
       "Third         c       3         5\n",
       "Four          d       4         4\n",
       "Fifth         e       5         3\n",
       "Six           f       6         2\n",
       "Seventh       g       7         1\n",
       "Eight         a       1         7\n",
       "Nine          b       2         6\n",
       "Ten           c       3         5\n",
       "Eleven        d       4         4"
      ]
     },
     "metadata": {},
     "output_type": "display_data"
    },
    {
     "name": "stdout",
     "output_type": "stream",
     "text": [
      "______________________вывод строки по номерному индексу___________________________\n"
     ]
    },
    {
     "data": {
      "text/plain": [
       "Letters     b\n",
       "Digits      2\n",
       "Opposite    6\n",
       "Name: Second, dtype: object"
      ]
     },
     "metadata": {},
     "output_type": "display_data"
    },
    {
     "name": "stdout",
     "output_type": "stream",
     "text": [
      "_______________вывод колонки Opposite по условию значений колонки Digits>2_____________\n"
     ]
    },
    {
     "data": {
      "text/plain": [
       "Third      5\n",
       "Four       4\n",
       "Fifth      3\n",
       "Six        2\n",
       "Seventh    1\n",
       "Ten        5\n",
       "Eleven     4\n",
       "Name: Opposite, dtype: int64"
      ]
     },
     "metadata": {},
     "output_type": "display_data"
    },
    {
     "name": "stdout",
     "output_type": "stream",
     "text": [
      "_______________Группировка по Letters и вывод суммы значений Opposite_____________\n"
     ]
    },
    {
     "data": {
      "text/plain": [
       "Letters\n",
       "a    14\n",
       "b    12\n",
       "c    10\n",
       "d     8\n",
       "e     3\n",
       "f     2\n",
       "g     1\n",
       "Name: Opposite, dtype: int64"
      ]
     },
     "metadata": {},
     "output_type": "display_data"
    },
    {
     "name": "stdout",
     "output_type": "stream",
     "text": [
      "_______________Сводная таблица_____________\n"
     ]
    },
    {
     "data": {
      "text/html": [
       "<div>\n",
       "<style scoped>\n",
       "    .dataframe tbody tr th:only-of-type {\n",
       "        vertical-align: middle;\n",
       "    }\n",
       "\n",
       "    .dataframe tbody tr th {\n",
       "        vertical-align: top;\n",
       "    }\n",
       "\n",
       "    .dataframe thead tr th {\n",
       "        text-align: left;\n",
       "    }\n",
       "\n",
       "    .dataframe thead tr:last-of-type th {\n",
       "        text-align: right;\n",
       "    }\n",
       "</style>\n",
       "<table border=\"1\" class=\"dataframe\">\n",
       "  <thead>\n",
       "    <tr>\n",
       "      <th></th>\n",
       "      <th>Opposite</th>\n",
       "    </tr>\n",
       "    <tr>\n",
       "      <th>Letters</th>\n",
       "      <th>c</th>\n",
       "    </tr>\n",
       "    <tr>\n",
       "      <th>Digits</th>\n",
       "      <th></th>\n",
       "    </tr>\n",
       "  </thead>\n",
       "  <tbody>\n",
       "    <tr>\n",
       "      <th>3</th>\n",
       "      <td>5</td>\n",
       "    </tr>\n",
       "  </tbody>\n",
       "</table>\n",
       "</div>"
      ],
      "text/plain": [
       "        Opposite\n",
       "Letters        c\n",
       "Digits          \n",
       "3              5"
      ]
     },
     "execution_count": 18,
     "metadata": {},
     "output_type": "execute_result"
    }
   ],
   "source": [
    "# Пример создания и операций над DataFrame\n",
    "import pandas as pd\n",
    "\n",
    "df = pd.DataFrame({'Letters':('a','b', 'c', 'd', 'e', 'f', 'g','a','b','c','d'),\n",
    "                  'Digits':(1,2,3,4,5,6,7,1,2,3,4),\n",
    "                  'Opposite':(7,6,5,4,3,2,1,7,6,5,4)})\n",
    "\n",
    "df.index = ('First', 'Second', 'Third', 'Four', 'Fifth', 'Six', 'Seventh', 'Eight', 'Nine', 'Ten', 'Eleven')\n",
    "\n",
    "print('____________________________Вывод DataFrame_________________________________________')\n",
    "display(df)\n",
    "\n",
    "\n",
    "# df.loc['First'] # вывод данных всей строки с индексом First\n",
    "print('______________________вывод строки по номерному индексу___________________________')\n",
    "display(df.iloc[1]) # вывод строки по номерному индексу\n",
    "\n",
    "print('_______________вывод колонки Opposite по условию значений колонки Digits>2_____________')\n",
    "data = df[df.Digits > 2].Opposite # вывод колонки Opposite по условию значений колонки Digits>2 \n",
    "display(data)\n",
    "\n",
    "print('_______________Группировка по Letters и вывод суммы значений Opposite_____________')\n",
    "group = df.groupby(['Letters']).Opposite.sum()\n",
    "display(group)\n",
    "\n",
    "print('_______________Сводная таблица_____________')\n",
    "df.loc[df.Digits.isin(['3'])].pivot_table(values = ['Opposite'], index = 'Digits', columns = 'Letters')"
   ]
  },
  {
   "cell_type": "code",
   "execution_count": null,
   "metadata": {},
   "outputs": [],
   "source": []
  }
 ],
 "metadata": {
  "kernelspec": {
   "display_name": "Python 3",
   "language": "python",
   "name": "python3"
  },
  "language_info": {
   "codemirror_mode": {
    "name": "ipython",
    "version": 3
   },
   "file_extension": ".py",
   "mimetype": "text/x-python",
   "name": "python",
   "nbconvert_exporter": "python",
   "pygments_lexer": "ipython3",
   "version": "3.7.6"
  }
 },
 "nbformat": 4,
 "nbformat_minor": 4
}
