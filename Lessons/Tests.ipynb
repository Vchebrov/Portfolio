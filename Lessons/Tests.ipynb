{
 "cells": [
  {
   "cell_type": "code",
   "execution_count": 34,
   "metadata": {},
   "outputs": [
    {
     "data": {
      "text/html": [
       "<div>\n",
       "<style scoped>\n",
       "    .dataframe tbody tr th:only-of-type {\n",
       "        vertical-align: middle;\n",
       "    }\n",
       "\n",
       "    .dataframe tbody tr th {\n",
       "        vertical-align: top;\n",
       "    }\n",
       "\n",
       "    .dataframe thead th {\n",
       "        text-align: right;\n",
       "    }\n",
       "</style>\n",
       "<table border=\"1\" class=\"dataframe\">\n",
       "  <thead>\n",
       "    <tr style=\"text-align: right;\">\n",
       "      <th></th>\n",
       "      <th>Letters</th>\n",
       "      <th>Digits</th>\n",
       "      <th>Opposite</th>\n",
       "    </tr>\n",
       "  </thead>\n",
       "  <tbody>\n",
       "    <tr>\n",
       "      <th>First</th>\n",
       "      <td>a</td>\n",
       "      <td>1</td>\n",
       "      <td>7</td>\n",
       "    </tr>\n",
       "    <tr>\n",
       "      <th>Second</th>\n",
       "      <td>b</td>\n",
       "      <td>2</td>\n",
       "      <td>6</td>\n",
       "    </tr>\n",
       "    <tr>\n",
       "      <th>Third</th>\n",
       "      <td>c</td>\n",
       "      <td>3</td>\n",
       "      <td>5</td>\n",
       "    </tr>\n",
       "    <tr>\n",
       "      <th>Four</th>\n",
       "      <td>d</td>\n",
       "      <td>4</td>\n",
       "      <td>4</td>\n",
       "    </tr>\n",
       "    <tr>\n",
       "      <th>Fifth</th>\n",
       "      <td>e</td>\n",
       "      <td>5</td>\n",
       "      <td>3</td>\n",
       "    </tr>\n",
       "    <tr>\n",
       "      <th>Six</th>\n",
       "      <td>f</td>\n",
       "      <td>6</td>\n",
       "      <td>2</td>\n",
       "    </tr>\n",
       "    <tr>\n",
       "      <th>Seventh</th>\n",
       "      <td>g</td>\n",
       "      <td>7</td>\n",
       "      <td>1</td>\n",
       "    </tr>\n",
       "  </tbody>\n",
       "</table>\n",
       "</div>"
      ],
      "text/plain": [
       "        Letters  Digits  Opposite\n",
       "First         a       1         7\n",
       "Second        b       2         6\n",
       "Third         c       3         5\n",
       "Four          d       4         4\n",
       "Fifth         e       5         3\n",
       "Six           f       6         2\n",
       "Seventh       g       7         1"
      ]
     },
     "metadata": {},
     "output_type": "display_data"
    },
    {
     "data": {
      "text/plain": [
       "Third      5\n",
       "Four       4\n",
       "Fifth      3\n",
       "Six        2\n",
       "Seventh    1\n",
       "Name: Opposite, dtype: int64"
      ]
     },
     "metadata": {},
     "output_type": "display_data"
    },
    {
     "data": {
      "text/plain": [
       "Digits\n",
       "1    7\n",
       "2    6\n",
       "3    5\n",
       "4    4\n",
       "5    3\n",
       "6    2\n",
       "7    1\n",
       "Name: Opposite, dtype: int64"
      ]
     },
     "metadata": {},
     "output_type": "display_data"
    }
   ],
   "source": [
    "# Пример создания и операций над DataFrame\n",
    "import pandas as pd\n",
    "\n",
    "df = pd.DataFrame({'Letters':('a','b', 'c', 'd', 'e', 'f', 'g'),\n",
    "                  'Digits':(1,2,3,4,5,6,7),\n",
    "                  'Opposite':(7,6,5,4,3,2,1)})\n",
    "\n",
    "df.index = ('First', 'Second', 'Third', 'Four', 'Fifth', 'Six', 'Seventh')\n",
    "\n",
    "display(df)\n",
    "# print(type(df))\n",
    "\n",
    "# df.loc['First'] # вывод данных всей строки с индексом First\n",
    "df.iloc[1] # вывод строки по номерному индексу\n",
    "\n",
    "data = df[df.Digits > 2].Opposite # вывод колонки Opposite по условию значений колонки Digits>2 \n",
    "display(data)\n",
    "\n",
    "group = df.groupby(['Digits']).Opposite.sum()\n",
    "display(group)"
   ]
  },
  {
   "cell_type": "code",
   "execution_count": null,
   "metadata": {},
   "outputs": [],
   "source": []
  }
 ],
 "metadata": {
  "kernelspec": {
   "display_name": "Python 3",
   "language": "python",
   "name": "python3"
  },
  "language_info": {
   "codemirror_mode": {
    "name": "ipython",
    "version": 3
   },
   "file_extension": ".py",
   "mimetype": "text/x-python",
   "name": "python",
   "nbconvert_exporter": "python",
   "pygments_lexer": "ipython3",
   "version": "3.7.6"
  }
 },
 "nbformat": 4,
 "nbformat_minor": 4
}
