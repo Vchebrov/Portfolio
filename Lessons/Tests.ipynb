{
 "cells": [
  {
   "cell_type": "code",
   "execution_count": null,
   "metadata": {
    "scrolled": true
   },
   "outputs": [],
   "source": [
    "# Пример создания и операций над DataFrame\n",
    "import pandas as pd\n",
    "\n",
    "df = pd.DataFrame({'Letters':('a','b', 'c', 'd', 'e', 'f', 'g','a','b','c','d'),\n",
    "                  'Digits':(1,2,3,4,5,6,7,1,2,3,4),\n",
    "                  'Opposite':(7,6,5,4,3,2,1,7,6,5,4)})\n",
    "\n",
    "df.index = ('First', 'Second', 'Third', 'Four', 'Fifth', 'Six', 'Seventh', 'Eight', 'Nine', 'Ten', 'Eleven')\n",
    "\n",
    "print('____________________________Вывод DataFrame_________________________________________')\n",
    "display(df)\n",
    "\n",
    "\n",
    "# df.loc['First'] # вывод данных всей строки с индексом First\n",
    "print('______________________вывод строки по номерному индексу___________________________')\n",
    "display(df.iloc[0]) # вывод строки по номерному индексу\n",
    "\n",
    "print('______________________вывод строки по индексу___________________________')\n",
    "display(df.loc['First']) # вывод данных всей строки с индексом First\n",
    "\n",
    "\n",
    "print('_______________вывод колонки Opposite по условию значений колонки Digits>2_____________')\n",
    "data = df[df.Digits > 2].Opposite # вывод колонки Opposite по условию значений колонки Digits>2 \n",
    "display(data)\n",
    "\n",
    "print('_______________Группировка по Letters и вывод суммы значений Opposite_____________')\n",
    "group = df.groupby(['Letters']).Opposite.sum()\n",
    "display(group)\n",
    "\n",
    "print('_______________Сводная таблица_____________')\n",
    "df.loc[df.Digits.isin(['3'])].pivot_table(values = ['Opposite'], index = 'Digits', columns = 'Letters')"
   ]
  },
  {
   "cell_type": "code",
   "execution_count": null,
   "metadata": {},
   "outputs": [],
   "source": []
  }
 ],
 "metadata": {
  "kernelspec": {
   "display_name": "Python 3",
   "language": "python",
   "name": "python3"
  },
  "language_info": {
   "codemirror_mode": {
    "name": "ipython",
    "version": 3
   },
   "file_extension": ".py",
   "mimetype": "text/x-python",
   "name": "python",
   "nbconvert_exporter": "python",
   "pygments_lexer": "ipython3",
   "version": "3.7.6"
  }
 },
 "nbformat": 4,
 "nbformat_minor": 4
}
