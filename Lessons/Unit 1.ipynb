{
 "cells": [
  {
   "cell_type": "code",
   "execution_count": null,
   "metadata": {},
   "outputs": [],
   "source": [
    "import pandas as pd\n",
    "import numpy as np"
   ]
  },
  {
   "cell_type": "code",
   "execution_count": null,
   "metadata": {},
   "outputs": [],
   "source": [
    "import pandas as pd\n",
    "\n",
    "data = pd.Series([\"Январь\", \"Февраль\", \"Март\", \"Апрель\"],\n",
    "                 index = ['Первый',2,3,4])\n",
    "display(data)"
   ]
  },
  {
   "cell_type": "code",
   "execution_count": null,
   "metadata": {},
   "outputs": [],
   "source": [
    "data.iloc[2]"
   ]
  },
  {
   "cell_type": "code",
   "execution_count": null,
   "metadata": {},
   "outputs": [],
   "source": [
    "data = pd.Series(list(range(10, 1001)))\n",
    "print(data.loc[10] + data.loc[23] - data.loc[245] + data.iloc[122])\n",
    "print(len(data)-1)"
   ]
  },
  {
   "cell_type": "code",
   "execution_count": null,
   "metadata": {},
   "outputs": [],
   "source": [
    "import pandas as pd\n",
    "df = pd.DataFrame({'col1': [1, 2], 'col2': [3, 4], 'col3': [5,6]})\n",
    "display(df)"
   ]
  },
  {
   "cell_type": "code",
   "execution_count": null,
   "metadata": {},
   "outputs": [],
   "source": [
    "df = pd.DataFrame([ [1,2,3], [2,3,4] ],\n",
    "                  columns = ['foo', 'bar', 'baz'], \n",
    "                  index = ['foobar', 'foobaz'])\n",
    "display(df)"
   ]
  },
  {
   "cell_type": "code",
   "execution_count": null,
   "metadata": {},
   "outputs": [],
   "source": [
    "df = pd.DataFrame([[1,2],[3,4]], columns = ['first', 'second'])\n",
    "display(df)"
   ]
  },
  {
   "cell_type": "code",
   "execution_count": null,
   "metadata": {},
   "outputs": [],
   "source": [
    "\n",
    "\n"
   ]
  },
  {
   "cell_type": "code",
   "execution_count": null,
   "metadata": {},
   "outputs": [],
   "source": [
    "df = pd.read_csv('data_sf.xls')\n",
    "\n",
    "# s = df['Nationality'].nunique()\n",
    "# display(s)\n",
    "# s.loc[s>1000]\n",
    "display(df.groupby(['Club'])['Wage'].sum().sort_values(ascending=False).head())\n",
    "\n"
   ]
  },
  {
   "cell_type": "code",
   "execution_count": null,
   "metadata": {},
   "outputs": [],
   "source": [
    "pd.read_csv('StudentsPerformance.xls')"
   ]
  },
  {
   "cell_type": "code",
   "execution_count": null,
   "metadata": {},
   "outputs": [],
   "source": [
    "letters = ['a','b', 'c']\n",
    "numbers = [1,2,3]\n",
    "np.arr = np.array(numbers)\n",
    "print(np.arr)\n",
    "dict = {'a': 1, 'b': 2, 'c': 3}\n",
    "print(dict)\n",
    "pd.Series(dict)\n",
    "life_long_avarage = pd.Series([84.7,84.5,83.7],['HK','Jap','Sing'])\n",
    "life_long_avarage1 = pd.Series([84.7,84.5,83.7],['USA','Jap','Sing'])\n",
    "print(life_long_avarage)\n",
    "life_long_avarage['HK']\n",
    "life_long_avarage + life_long_avarage1"
   ]
  },
  {
   "cell_type": "code",
   "execution_count": null,
   "metadata": {},
   "outputs": [],
   "source": [
    "football = pd.read_csv('data_sf.xls')\n",
    "\n",
    "# display(football.describe())\n",
    "# football.describe(include = ['object'])\n",
    "# football.info()\n",
    "# football.std()\n",
    "# football['Wage']\n",
    "# football.Wage.sum()\n",
    "# football[football.Age>20]\n",
    "# football[football.Age.mean() > football.Age]\n",
    "# football[(football.Club == 'Juventus')& (football.Age.mean()>football.Age)].Wage.mean()\n",
    "# football[(football.Wage < football.Wage.mean())].SprintSpeed.mean()\n",
    "# football[football.Wage == football.Wage.max()].Position\n",
    "# football[football.Nationality == 'Brazil'].Penalties.sum()\n",
    "# football[football.HeadingAccuracy > 50].Age.mean()\n",
    "# football[(football.Composure > (90/100)*(football.Composure.max()))&(football.Reactions > (90/100)\n",
    "#                                                                      *(football.Reactions.max()))].Age.min()\n",
    "\n",
    "# x = football[(football.Age == football.Age.max())].Reactions.mean()\n",
    "# print(x)\n",
    "# y = football[(football.Age == football.Age.min())].Reactions.mean()\n",
    "# print(x-y)\n",
    "\n",
    "\n",
    "# x = football[(football.Value > football.Value.mean())].Nationality\n",
    "# import collections\n",
    "# a = []\n",
    "# c = collections.Counter()\n",
    "\n",
    "# for i in x:\n",
    "#     c[i] +=1\n",
    "# print(c)\n",
    "\n",
    "# football[football.Nationality == 'Russia']\n",
    "\n",
    "# x = float(football[football.GKReflexes == football.GKReflexes.max()].Wage)\n",
    "# print(x)\n",
    "# y = float(football[football.GKHandling == football.GKHandling.max()].Wage)\n",
    "# print(x/y)\n",
    "\n",
    "# x = (football[football.Aggression == football.Aggression.max()].ShotPower)\n",
    "# y = (football[football.Aggression == football.Aggression.min()].ShotPower)\n",
    "# # print(x)\n",
    "# # print(y)\n",
    "# a = []\n",
    "# for i in y:\n",
    "# #     print(i)\n",
    "#     a.append(i)\n",
    "# print(a)\n",
    "# print(x/(sum(a)/len(a)))\n"
   ]
  },
  {
   "cell_type": "code",
   "execution_count": null,
   "metadata": {
    "scrolled": true
   },
   "outputs": [],
   "source": [
    "df = pd.read_csv('data_sf.xls')\n",
    "small_df = df[df.columns[1:8]].head(25)\n",
    "# small_df\n",
    "s = small_df['Nationality'].value_counts() # value_counts подсчитывает для каждого значения в серии количество раз, которое это значение встречается.\n",
    "# display(s)\n",
    "# print(s.index) # вывод индексов серии\n",
    "# for key,value in s.items(): # по аналогии со словарем можно вывести ключи и значения\n",
    "#     print(key,value)\n",
    "# print(len(s)) # получим количество уникальных значений исходной серии, \n",
    "# s['Italy'] # аналогично словарю вызов значения по ключу  \n",
    "# s.loc[s>1] # можно отфильтровать по значению\n",
    "\n"
   ]
  },
  {
   "cell_type": "code",
   "execution_count": null,
   "metadata": {},
   "outputs": [],
   "source": [
    "# df = pd.read_csv('data_sf.xls')\n",
    "\n",
    "\n",
    "\n",
    "# s = df['Club'].value_counts() # вывод подсчёта количества\n",
    "# print(s)\n",
    "# s = df['Club'].value_counts(normalize = True) #вывод подсчёта количества в процентах\n",
    "# print(s)\n",
    "# count = 0\n",
    "# for key in s.keys():\n",
    "# #     print(key)\n",
    "#     count += 1\n",
    "# print(count)\n",
    "\n",
    "# df['Position'].value_counts(normalize = True)\n",
    "\n",
    "# df['Age'].value_counts()\n",
    "\n",
    "# df['Wage'].value_counts(bins = 4) # параметр bins делит на указанное число равных промежутков\n",
    "#######################################################\n",
    "# small_df = df[df.columns[0:7]].head(25)\n",
    "# # print(small_df)\n",
    "\n",
    "# s = small_df['Wage'].value_counts(bins=4)\n",
    "\n",
    "# display(s)\n",
    "\n",
    "# print(s.index)\n",
    "\n",
    "# print(s.index[3])\n",
    "\n",
    "# display(s.index[3].left)\n",
    "\n",
    "# display(s.index[3].right)\n",
    "\n",
    "# small_df['Wage'] > s.index[3].left\n",
    "\n",
    "# small_df.loc[(small_df['Wage'] > s.index[3].left) & (small_df['Wage'] <= s.index[3].right)]\n",
    "###################################################################################################\n",
    "\n",
    "# df['FKAccuracy'].value_counts(normalize = True, bins = 5)\n",
    "\n",
    "# df['Nationality'].nunique() # nunique выдает количество уникальных наименований\n",
    "# df['Nationality'].unique() # unique выдает уникальные наименования\n",
    "# s = df['Nationality'].value_counts()\n",
    "# s_df = s.reset_index() # для преобразования серии в DataFrame используется reset_index()\n",
    "# s_df.columns = ['Nationality','Players Count'] #добавляем колонки\n",
    "# display(s_df)\n",
    "\n",
    "\n"
   ]
  },
  {
   "cell_type": "code",
   "execution_count": null,
   "metadata": {},
   "outputs": [],
   "source": [
    "df = pd.read_csv('data_sf.xls')\n",
    "s = df[(df.Nationality == 'Spain')]\n",
    "\n",
    "s['Wage'].value_counts(bins = 4, normalize = True)\n"
   ]
  },
  {
   "cell_type": "code",
   "execution_count": null,
   "metadata": {},
   "outputs": [],
   "source": [
    "import pandas as pd\n",
    "\n",
    "df = pd.read_csv('data_sf.xls')\n",
    "# display(df)\n",
    "short_df = df[(df.Club == 'Manchester United')].Nationality.nunique()\n",
    "display(short_df)"
   ]
  },
  {
   "cell_type": "code",
   "execution_count": null,
   "metadata": {},
   "outputs": [],
   "source": [
    "import pandas as pd\n",
    "\n",
    "df = pd.read_csv('data_sf.xls')\n",
    "\n",
    "s = df[(df.Club == 'Juventus') & (df.Nationality == 'Brazil')].Name.unique()\n",
    "display(s)"
   ]
  },
  {
   "cell_type": "code",
   "execution_count": null,
   "metadata": {},
   "outputs": [],
   "source": [
    "import pandas as pd\n",
    "\n",
    "df = pd.read_csv('data_sf.xls')\n",
    "s = df[(df.Age > 35)].Club.value_counts()\n",
    "# s = df[df.Age > 35].Club.value_counts()\n",
    "display(s)\n",
    "\n"
   ]
  },
  {
   "cell_type": "code",
   "execution_count": null,
   "metadata": {},
   "outputs": [],
   "source": [
    "import pandas as pd\n",
    "\n",
    "df = pd.read_csv('data_sf.xls')\n",
    "\n",
    "s = df[(df.Nationality == 'Spain')].Nationality.value_counts()\n",
    "new = df[(df.Nationality == 'Spain')&(df.Age == 21)].Age.value_counts()\n",
    "display(new)\n",
    "\n",
    "# display((int(new)/int(s))*100)"
   ]
  },
  {
   "cell_type": "code",
   "execution_count": null,
   "metadata": {},
   "outputs": [],
   "source": [
    "df = pd.read_csv('data_sf.xls')\n",
    "\n",
    "s = df.groupby(['Position'])['Wage'].sum().sort_values(ascending=False)\n",
    "display(s)"
   ]
  },
  {
   "cell_type": "code",
   "execution_count": null,
   "metadata": {},
   "outputs": [],
   "source": [
    "df = pd.read_csv('data_sf.xls')\n",
    "\n",
    "s = df.groupby(['Position'])[['Wage', 'Value']].mean().sort_values(['Value'], ascending = False)\n",
    "\n",
    "display(s)"
   ]
  },
  {
   "cell_type": "code",
   "execution_count": null,
   "metadata": {},
   "outputs": [],
   "source": []
  },
  {
   "cell_type": "code",
   "execution_count": null,
   "metadata": {},
   "outputs": [],
   "source": []
  },
  {
   "cell_type": "code",
   "execution_count": null,
   "metadata": {},
   "outputs": [],
   "source": []
  },
  {
   "cell_type": "code",
   "execution_count": null,
   "metadata": {},
   "outputs": [],
   "source": []
  },
  {
   "cell_type": "code",
   "execution_count": null,
   "metadata": {},
   "outputs": [],
   "source": []
  }
 ],
 "metadata": {
  "kernelspec": {
   "display_name": "Python 3",
   "language": "python",
   "name": "python3"
  },
  "language_info": {
   "codemirror_mode": {
    "name": "ipython",
    "version": 3
   },
   "file_extension": ".py",
   "mimetype": "text/x-python",
   "name": "python",
   "nbconvert_exporter": "python",
   "pygments_lexer": "ipython3",
   "version": "3.7.6"
  }
 },
 "nbformat": 4,
 "nbformat_minor": 2
}
