{
 "cells": [
  {
   "cell_type": "markdown",
   "metadata": {},
   "source": [
    "## Парсинг"
   ]
  },
  {
   "cell_type": "code",
   "execution_count": 234,
   "metadata": {},
   "outputs": [
    {
     "name": "stdout",
     "output_type": "stream",
     "text": [
      "['all_auto_ru_09_09_2020.csv', 'all_auto_ru_09_09_2020.csv.zip', 'all_car_brands_and_their_models_from_auto_ru.csv', 'baseline-sf-dst-car-price-prediction-v15.ipynb', 'sf-dst-car-price-prediction.zip', 'test.csv']\n"
     ]
    }
   ],
   "source": [
    "import pandas as pd\n",
    "from collections import defaultdict\n",
    "import requests, json\n",
    "import time\n",
    "import os\n",
    "print(os.listdir('./data'))\n",
    "PATH_to_file = './data/'"
   ]
  },
  {
   "cell_type": "code",
   "execution_count": 235,
   "metadata": {},
   "outputs": [
    {
     "name": "stdout",
     "output_type": "stream",
     "text": [
      "Кол-во марок:  262\n"
     ]
    },
    {
     "data": {
      "text/html": [
       "<div>\n",
       "<style scoped>\n",
       "    .dataframe tbody tr th:only-of-type {\n",
       "        vertical-align: middle;\n",
       "    }\n",
       "\n",
       "    .dataframe tbody tr th {\n",
       "        vertical-align: top;\n",
       "    }\n",
       "\n",
       "    .dataframe thead th {\n",
       "        text-align: right;\n",
       "    }\n",
       "</style>\n",
       "<table border=\"1\" class=\"dataframe\">\n",
       "  <thead>\n",
       "    <tr style=\"text-align: right;\">\n",
       "      <th></th>\n",
       "      <th>Models</th>\n",
       "    </tr>\n",
       "    <tr>\n",
       "      <th>Mark</th>\n",
       "      <th></th>\n",
       "    </tr>\n",
       "  </thead>\n",
       "  <tbody>\n",
       "    <tr>\n",
       "      <th>AC</th>\n",
       "      <td>['378_GT', 'ACE', 'ACECA', 'COBRA']</td>\n",
       "    </tr>\n",
       "    <tr>\n",
       "      <th>ACURA</th>\n",
       "      <td>['CL', 'CSX', 'EL', 'ILX', 'INTEGRA', 'LEGEND'...</td>\n",
       "    </tr>\n",
       "  </tbody>\n",
       "</table>\n",
       "</div>"
      ],
      "text/plain": [
       "                                                  Models\n",
       "Mark                                                    \n",
       "AC                   ['378_GT', 'ACE', 'ACECA', 'COBRA']\n",
       "ACURA  ['CL', 'CSX', 'EL', 'ILX', 'INTEGRA', 'LEGEND'..."
      ]
     },
     "metadata": {},
     "output_type": "display_data"
    }
   ],
   "source": [
    "df_marks_and_models = pd.read_csv(PATH_to_file+'all_car_brands_and_their_models_from_auto_ru.csv', index_col=0)\n",
    "print('Кол-во марок: ', df_marks_and_models.shape[0])\n",
    "display(df_marks_and_models.head(2))"
   ]
  },
  {
   "cell_type": "code",
   "execution_count": 236,
   "metadata": {},
   "outputs": [],
   "source": [
    "# test_df = pd.read_csv(PATH_to_file+'test.csv')\n",
    "# test_df.head()"
   ]
  },
  {
   "cell_type": "code",
   "execution_count": 237,
   "metadata": {},
   "outputs": [],
   "source": [
    "# car_dict = {}\n",
    "# model = []\n",
    "# brand = []\n",
    "# car_dict = defaultdict(list)\n",
    "\n",
    "# for index in test_df.index:\n",
    "#     model.append(test_df.model_name.iloc[index])\n",
    "#     brand.append(test_df.brand.iloc[index])\n",
    "\n",
    "# for k,v in zip(brand,model):\n",
    "#     car_dict[k].append(v)\n",
    "    \n",
    "# car_dict = dict(car_dict)  \n",
    "\n",
    "# for key,values in car_dict.items():\n",
    "#     car_dict[key] = list(set(car_dict[key]))\n",
    "\n"
   ]
  },
  {
   "cell_type": "code",
   "execution_count": 238,
   "metadata": {},
   "outputs": [],
   "source": [
    "# keys = []\n",
    "# values = []\n",
    "# for key,value in car_dict.items():\n",
    "#     keys.append(key)\n",
    "#     values.append(len(car_dict[key]))\n",
    "\n",
    "# dict_of_num_cars_of_models = dict(zip(keys,values))\n",
    "# dict_of_num_cars_of_models"
   ]
  },
  {
   "cell_type": "code",
   "execution_count": 239,
   "metadata": {},
   "outputs": [],
   "source": [
    "# for k,v in dict_of_num_cars_of_models.items():\n",
    "#     print(k)\n",
    "# dict_of_num_cars_of_models.keys()"
   ]
  },
  {
   "cell_type": "code",
   "execution_count": 240,
   "metadata": {},
   "outputs": [],
   "source": [
    "dict_of_num_cars_of_models ={'AC':2, 'Acura':94, 'Alfa Romeo':65, 'Alpina':10, \n",
    "                             'AMC':2, 'Ariel':1, 'Asia':1, 'Aston Martin':25, \n",
    "                             'Audi':4093, 'Austin Healey':1, 'Bajaj':3, \n",
    "                             'Bentley':104, 'BMW':7423, 'Borgward':1, \n",
    "                             'Brilliance':10, 'Buick':17, 'BYD':22, \n",
    "                             'Cadillac':321, 'Changan':100, 'Chery':593, \n",
    "                             'Chevrolet':3670, 'Chrysler':316, 'Citroen':1142, \n",
    "                             'Dacia':9, 'Daewoo':1024, 'Daihatsu':47, \n",
    "                             'Daimler':5, 'Datsun':212, 'Delage':1, 'Derways':2, \n",
    "                             'DKW':1, 'Dodge':413, 'DongFeng':25, 'Doninvest':2, \n",
    "                             'DS':3, 'DW Hower':8, 'Eagle':1, 'Excalibur':1, \n",
    "                             'FAW':66, 'Ferrari':29, 'Fiat':206, 'Ford':4812, \n",
    "                             'Foton':2, 'GAC':14, 'Geely':302, 'Genesis':54, \n",
    "                             'GMC':26, 'Great Wall':420, 'Hafei':6, 'Haima':12, \n",
    "                             'Haval':110, 'Hawtai':4, 'Heinkel':1, 'Honda':1179, \n",
    "                             'HuangHai':1, 'Hummer':70, 'Hyundai':5712, \n",
    "                             'Infiniti':1041, 'Innocenti':1, 'Iran Khodro':21, \n",
    "                             'Isuzu':43, 'JAC':8, 'Jaguar':308, 'Jeep':466, 'JMC':1, \n",
    "                             'Kia':5595, 'LADA (ВАЗ)':8935, 'Lamborghini':14, \n",
    "                             'Lancia':8, 'Land Rover':1616, 'Lexus':985, \n",
    "                             'Lifan':295, 'Lincoln':62, 'Lotus':1, 'Luxgen':9, \n",
    "                             'Mahindra':1, 'Maserati':54, 'Maybach':7, \n",
    "                             'Mazda':2311, 'McLaren':5, 'Mercedes-Benz':8005, \n",
    "                             'Mercury':16, 'Metrocab':2, 'MG':10, 'MINI':313, \n",
    "                             'Mitsubishi':3935, 'Mitsuoka':3, 'Nissan':5776, \n",
    "                             'Oldsmobile':10, 'Opel':3131, 'Packard':2, \n",
    "                             'Peugeot':1636, 'Plymouth':13, 'Pontiac':38, \n",
    "                             'Porsche':714, 'Proton':3, 'PUCH':1, 'Ravon':112, \n",
    "                             'Renault':2771, 'Rolls-Royce':55, 'Rover':69, \n",
    "                             'Saab':147, 'Saturn':9, 'Scion':9, 'SEAT':77, \n",
    "                             'Shanghai Maple':1, 'Skoda':2810, 'Smart':89, \n",
    "                             'SsangYong':718, 'Subaru':934, 'Suzuki':878, \n",
    "                             'Tatra':5, 'Tesla':43, 'Tianma':2, 'Toyota':4648, \n",
    "                             'Triumph':1, 'Vauxhall':1, 'Volkswagen':7109, \n",
    "                             'Volvo':2069, 'Vortex':91, 'Wartburg':1, 'Willys':2, \n",
    "                             'Zotye':15, 'ZX':4, 'ГАЗ':935, 'Гоночный болид':2, \n",
    "                             'ЗАЗ':231, 'ЗИЛ':2, 'ИЖ':129, 'ЛуАЗ':45, \n",
    "                             'Москвич':198, 'СМЗ':4, 'ТагАЗ':68, 'УАЗ':1107}"
   ]
  },
  {
   "cell_type": "code",
   "execution_count": 241,
   "metadata": {},
   "outputs": [],
   "source": [
    "# уберем модели с кол-вом объявлений ниже 300 и повысим регистр индексов \n",
    "list_keys_to_delete = []\n",
    "for mark in dict_of_num_cars_of_models.keys():\n",
    "    if dict_of_num_cars_of_models[mark] < 300:\n",
    "        list_keys_to_delete.append(mark)\n",
    "    \n",
    "for key in list_keys_to_delete: del dict_of_num_cars_of_models[key]\n",
    "\n",
    "for mark in list(dict_of_num_cars_of_models.keys()):\n",
    "    mark_up = mark.upper()\n",
    "    dict_of_num_cars_of_models[mark_up]=dict_of_num_cars_of_models.pop(mark)"
   ]
  },
  {
   "cell_type": "code",
   "execution_count": 242,
   "metadata": {},
   "outputs": [
    {
     "name": "stdout",
     "output_type": "stream",
     "text": [
      "AUDI,BMW,CADILLAC,CHERY,CHEVROLET,CHRYSLER,CITROEN,DAEWOO,DODGE,FORD,GEELY,GREAT WALL,HONDA,HYUNDAI,INFINITI,JAGUAR,JEEP,KIA,LADA (ВАЗ),LAND ROVER,LEXUS,MAZDA,MERCEDES-BENZ,MINI,MITSUBISHI,NISSAN,OPEL,PEUGEOT,PORSCHE,RENAULT,SKODA,SSANGYONG,SUBARU,SUZUKI,TOYOTA,VOLKSWAGEN,VOLVO,ГАЗ,УАЗ\n"
     ]
    }
   ],
   "source": [
    "# посмотрим на список получившихся моделей\n",
    "print(*dict_of_num_cars_of_models, sep=',')"
   ]
  },
  {
   "cell_type": "code",
   "execution_count": 243,
   "metadata": {},
   "outputs": [],
   "source": [
    "for key in ['LADA (ВАЗ)','ГАЗ','УАЗ']: del dict_of_num_cars_of_models[key]"
   ]
  },
  {
   "cell_type": "code",
   "execution_count": 244,
   "metadata": {},
   "outputs": [
    {
     "name": "stdout",
     "output_type": "stream",
     "text": [
      "всего марок с кол-вом объявлений более 300:= 36\n",
      "список марок, которые нужно проверить := GREAT WALL LAND ROVER MERCEDES-BENZ SSANGYONG\n"
     ]
    }
   ],
   "source": [
    "# проверим что названия моделей совпадаю с названиями каталога сайта auto.Ru\n",
    "list_marks_df = list(df_marks_and_models.index)\n",
    "list_marks_to_check = []\n",
    "for mark in dict_of_num_cars_of_models.keys():\n",
    "    if mark not in list_marks_df:\n",
    "        list_marks_to_check.append(mark)\n",
    "print(f'всего марок с кол-вом объявлений более 300:= {len(dict_of_num_cars_of_models)}')\n",
    "print('список марок, которые нужно проверить :=', *list_marks_to_check)"
   ]
  },
  {
   "cell_type": "code",
   "execution_count": 245,
   "metadata": {},
   "outputs": [],
   "source": [
    "# запишем список релевантных марок для парсинга\n",
    "list_of_relevant_marks = list(dict_of_num_cars_of_models.keys())"
   ]
  },
  {
   "cell_type": "code",
   "execution_count": 246,
   "metadata": {},
   "outputs": [
    {
     "name": "stdout",
     "output_type": "stream",
     "text": [
      "примерное кол-во строк после парсинга должно быть := 89189\n"
     ]
    }
   ],
   "source": [
    "sum_of_ads = sum(dict_of_num_cars_of_models.values())\n",
    "print(f\"примерное кол-во строк после парсинга должно быть := {sum_of_ads}\")"
   ]
  },
  {
   "cell_type": "markdown",
   "metadata": {},
   "source": [
    "## Подготовка парсинга"
   ]
  },
  {
   "cell_type": "code",
   "execution_count": 247,
   "metadata": {},
   "outputs": [],
   "source": [
    "HEADERS = {\n",
    "    'Accept': '*/*',\n",
    "    'Accept-Encoding': 'gzip, deflate, br',\n",
    "    'Accept-Language': 'ru-RU,ru;q=0.8,en-US;q=0.5,en;q=0.3',\n",
    "    'Connection': 'keep-alive',\n",
    "    'Content-Length': '137',\n",
    "    'content-type': 'application/json',\n",
    "    'Cookie': '_csrf_token=1c0ed592ec162073ac34d79ce511f0e50d195f763abd8c24; autoru_sid=a%3Ag5e3b198b299o5jhpv6nlk0ro4daqbpf.fa3630dbc880ea80147c661111fb3270%7C1580931467355.604800.8HnYnADZ6dSuzP1gctE0Fw.cd59AHgDSjoJxSYHCHfDUoj-f2orbR5pKj6U0ddu1G4; autoruuid=g5e3b198b299o5jhpv6nlk0ro4daqbpf.fa3630dbc880ea80147c661111fb3270; suid=48a075680eac323f3f9ad5304157467a.bc50c5bde34519f174ccdba0bd791787; from_lifetime=1580933172327; from=yandex; X-Vertis-DC=myt; crookie=bp+bI7U7P7sm6q0mpUwAgWZrbzx3jePMKp8OPHqMwu9FdPseXCTs3bUqyAjp1fRRTDJ9Z5RZEdQLKToDLIpc7dWxb90=; cmtchd=MTU4MDkzMTQ3MjU0NQ==; yandexuid=1758388111580931457; bltsr=1; ',\n",
    "    'Host': 'auto.ru',\n",
    "    'origin': 'https://auto.ru/cars/all/',\n",
    "    'Referer': 'https://auto.ru/cars/all/',\n",
    "    'User-Agent': 'Mozilla/5.0 (Windows NT 10.0; Win64; x64; rv:72.0) Gecko/20100101 Firefox/72.0',\n",
    "    'x-client-app-version': '202002.03.092255',\n",
    "    'x-client-date': '1580933207763',\n",
    "    'x-csrf-token': '1c0ed592ec162073ac34d79ce511f0e50d195f763abd8c24',\n",
    "    'x-page-request-id': '60142cd4f0c0edf51f96fd0134c6f02a',\n",
    "    'x-requested-with': 'fetch'\n",
    "}"
   ]
  },
  {
   "cell_type": "code",
   "execution_count": 248,
   "metadata": {},
   "outputs": [],
   "source": [
    "url = \"https://auto.ru/-/ajax/desktop/listing/\""
   ]
  },
  {
   "cell_type": "code",
   "execution_count": 249,
   "metadata": {},
   "outputs": [
    {
     "name": "stdout",
     "output_type": "stream",
     "text": [
      "Кол-во столбцов теста: 32\n",
      "Названия столбцов теста: ['bodyType', 'brand', 'car_url', 'color', 'complectation_dict', 'description', 'engineDisplacement', 'enginePower', 'equipment_dict', 'fuelType', 'image', 'mileage', 'modelDate', 'model_info', 'model_name', 'name', 'numberOfDoors', 'parsing_unixtime', 'priceCurrency', 'productionDate', 'sell_id', 'super_gen', 'vehicleConfiguration', 'vehicleTransmission', 'vendor', 'Владельцы', 'Владение', 'ПТС', 'Привод', 'Руль', 'Состояние', 'Таможня']\n"
     ]
    },
    {
     "data": {
      "text/html": [
       "<div>\n",
       "<style scoped>\n",
       "    .dataframe tbody tr th:only-of-type {\n",
       "        vertical-align: middle;\n",
       "    }\n",
       "\n",
       "    .dataframe tbody tr th {\n",
       "        vertical-align: top;\n",
       "    }\n",
       "\n",
       "    .dataframe thead th {\n",
       "        text-align: right;\n",
       "    }\n",
       "</style>\n",
       "<table border=\"1\" class=\"dataframe\">\n",
       "  <thead>\n",
       "    <tr style=\"text-align: right;\">\n",
       "      <th></th>\n",
       "      <th>bodyType</th>\n",
       "      <th>brand</th>\n",
       "      <th>car_url</th>\n",
       "      <th>color</th>\n",
       "      <th>complectation_dict</th>\n",
       "      <th>description</th>\n",
       "      <th>engineDisplacement</th>\n",
       "      <th>enginePower</th>\n",
       "      <th>equipment_dict</th>\n",
       "      <th>fuelType</th>\n",
       "      <th>image</th>\n",
       "      <th>mileage</th>\n",
       "      <th>modelDate</th>\n",
       "      <th>model_info</th>\n",
       "      <th>model_name</th>\n",
       "      <th>name</th>\n",
       "      <th>numberOfDoors</th>\n",
       "      <th>parsing_unixtime</th>\n",
       "      <th>priceCurrency</th>\n",
       "      <th>productionDate</th>\n",
       "      <th>sell_id</th>\n",
       "      <th>super_gen</th>\n",
       "      <th>vehicleConfiguration</th>\n",
       "      <th>vehicleTransmission</th>\n",
       "      <th>vendor</th>\n",
       "      <th>Владельцы</th>\n",
       "      <th>Владение</th>\n",
       "      <th>ПТС</th>\n",
       "      <th>Привод</th>\n",
       "      <th>Руль</th>\n",
       "      <th>Состояние</th>\n",
       "      <th>Таможня</th>\n",
       "    </tr>\n",
       "  </thead>\n",
       "  <tbody>\n",
       "    <tr>\n",
       "      <th>0</th>\n",
       "      <td>лифтбек</td>\n",
       "      <td>SKODA</td>\n",
       "      <td>https://auto.ru/cars/used/sale/skoda/octavia/1...</td>\n",
       "      <td>синий</td>\n",
       "      <td>NaN</td>\n",
       "      <td>Все автомобили, представленные в продаже, прох...</td>\n",
       "      <td>1.2 LTR</td>\n",
       "      <td>105 N12</td>\n",
       "      <td>{\"engine-proof\":true,\"tinted-glass\":true,\"airb...</td>\n",
       "      <td>бензин</td>\n",
       "      <td>https://autoru.naydex.net/o9DBXQ270/5ac010hAY0...</td>\n",
       "      <td>74000</td>\n",
       "      <td>2013</td>\n",
       "      <td>{\"code\":\"OCTAVIA\",\"name\":\"Octavia\",\"ru_name\":\"...</td>\n",
       "      <td>OCTAVIA</td>\n",
       "      <td>1.2 AMT (105 л.с.)</td>\n",
       "      <td>5</td>\n",
       "      <td>1603226273</td>\n",
       "      <td>RUB</td>\n",
       "      <td>2014</td>\n",
       "      <td>1100575026</td>\n",
       "      <td>{\"id\":\"10373605\",\"displacement\":1197,\"engine_t...</td>\n",
       "      <td>LIFTBACK ROBOT 1.2</td>\n",
       "      <td>роботизированная</td>\n",
       "      <td>EUROPEAN</td>\n",
       "      <td>3 или более</td>\n",
       "      <td>NaN</td>\n",
       "      <td>Оригинал</td>\n",
       "      <td>передний</td>\n",
       "      <td>Левый</td>\n",
       "      <td>Не требует ремонта</td>\n",
       "      <td>Растаможен</td>\n",
       "    </tr>\n",
       "    <tr>\n",
       "      <th>1</th>\n",
       "      <td>лифтбек</td>\n",
       "      <td>SKODA</td>\n",
       "      <td>https://auto.ru/cars/used/sale/skoda/octavia/1...</td>\n",
       "      <td>чёрный</td>\n",
       "      <td>NaN</td>\n",
       "      <td>ЛОТ: 01217195\\nАвтопрага Север\\nДанный автомоб...</td>\n",
       "      <td>1.6 LTR</td>\n",
       "      <td>110 N12</td>\n",
       "      <td>{\"cruise-control\":true,\"asr\":true,\"esp\":true,\"...</td>\n",
       "      <td>бензин</td>\n",
       "      <td>https://autoru.naydex.net/o9DBXQ270/5ac010hAY0...</td>\n",
       "      <td>60563</td>\n",
       "      <td>2017</td>\n",
       "      <td>{\"code\":\"OCTAVIA\",\"name\":\"Octavia\",\"ru_name\":\"...</td>\n",
       "      <td>OCTAVIA</td>\n",
       "      <td>1.6 MT (110 л.с.)</td>\n",
       "      <td>5</td>\n",
       "      <td>1603226277</td>\n",
       "      <td>RUB</td>\n",
       "      <td>2017</td>\n",
       "      <td>1100549428</td>\n",
       "      <td>{\"id\":\"20913311\",\"displacement\":1598,\"engine_t...</td>\n",
       "      <td>LIFTBACK MECHANICAL 1.6</td>\n",
       "      <td>механическая</td>\n",
       "      <td>EUROPEAN</td>\n",
       "      <td>1 владелец</td>\n",
       "      <td>NaN</td>\n",
       "      <td>Оригинал</td>\n",
       "      <td>передний</td>\n",
       "      <td>Левый</td>\n",
       "      <td>Не требует ремонта</td>\n",
       "      <td>Растаможен</td>\n",
       "    </tr>\n",
       "  </tbody>\n",
       "</table>\n",
       "</div>"
      ],
      "text/plain": [
       "  bodyType  brand                                            car_url   color  \\\n",
       "0  лифтбек  SKODA  https://auto.ru/cars/used/sale/skoda/octavia/1...   синий   \n",
       "1  лифтбек  SKODA  https://auto.ru/cars/used/sale/skoda/octavia/1...  чёрный   \n",
       "\n",
       "  complectation_dict                                        description  \\\n",
       "0                NaN  Все автомобили, представленные в продаже, прох...   \n",
       "1                NaN  ЛОТ: 01217195\\nАвтопрага Север\\nДанный автомоб...   \n",
       "\n",
       "  engineDisplacement enginePower  \\\n",
       "0            1.2 LTR     105 N12   \n",
       "1            1.6 LTR     110 N12   \n",
       "\n",
       "                                      equipment_dict fuelType  \\\n",
       "0  {\"engine-proof\":true,\"tinted-glass\":true,\"airb...   бензин   \n",
       "1  {\"cruise-control\":true,\"asr\":true,\"esp\":true,\"...   бензин   \n",
       "\n",
       "                                               image  mileage  modelDate  \\\n",
       "0  https://autoru.naydex.net/o9DBXQ270/5ac010hAY0...    74000       2013   \n",
       "1  https://autoru.naydex.net/o9DBXQ270/5ac010hAY0...    60563       2017   \n",
       "\n",
       "                                          model_info model_name  \\\n",
       "0  {\"code\":\"OCTAVIA\",\"name\":\"Octavia\",\"ru_name\":\"...    OCTAVIA   \n",
       "1  {\"code\":\"OCTAVIA\",\"name\":\"Octavia\",\"ru_name\":\"...    OCTAVIA   \n",
       "\n",
       "                 name  numberOfDoors  parsing_unixtime priceCurrency  \\\n",
       "0  1.2 AMT (105 л.с.)              5        1603226273           RUB   \n",
       "1   1.6 MT (110 л.с.)              5        1603226277           RUB   \n",
       "\n",
       "   productionDate     sell_id  \\\n",
       "0            2014  1100575026   \n",
       "1            2017  1100549428   \n",
       "\n",
       "                                           super_gen     vehicleConfiguration  \\\n",
       "0  {\"id\":\"10373605\",\"displacement\":1197,\"engine_t...       LIFTBACK ROBOT 1.2   \n",
       "1  {\"id\":\"20913311\",\"displacement\":1598,\"engine_t...  LIFTBACK MECHANICAL 1.6   \n",
       "\n",
       "  vehicleTransmission    vendor    Владельцы Владение       ПТС    Привод  \\\n",
       "0    роботизированная  EUROPEAN  3 или более      NaN  Оригинал  передний   \n",
       "1        механическая  EUROPEAN   1 владелец      NaN  Оригинал  передний   \n",
       "\n",
       "    Руль           Состояние     Таможня  \n",
       "0  Левый  Не требует ремонта  Растаможен  \n",
       "1  Левый  Не требует ремонта  Растаможен  "
      ]
     },
     "execution_count": 249,
     "metadata": {},
     "output_type": "execute_result"
    }
   ],
   "source": [
    "# посмотрим какие столбцы нам нужны \n",
    "test = pd.read_csv(PATH_to_file+'test.csv')\n",
    "print('Кол-во столбцов теста:', test.shape[1])\n",
    "print('Названия столбцов теста:', list(test.columns))\n",
    "\n",
    "# вывод всех столбцов датафрейма\n",
    "pd.set_option('display.max_columns', None)\n",
    "test.head(2)"
   ]
  },
  {
   "cell_type": "code",
   "execution_count": 250,
   "metadata": {},
   "outputs": [
    {
     "name": "stdout",
     "output_type": "stream",
     "text": [
      "{'availability': 'IN_STOCK', 'category': 'cars', 'color_hex': '0000CC', 'delivery_info': {}, 'description': 'Премиальная акустическая система объемного звука Bang & Olufsen с 16 динамиками\\nАдаптивный круиз-контроль\\nСигнализация схода с полосы движения\\nПроекция на лобовое стекло\\n\\nАвтомобиль в идеальном внешнем и техническом состоянии.\\nОбслуживание автомобиля исключительно у официального дилера, все ТО согласно регламенту.\\nСЕМЬ регистрационных действий, ТРИ Владельца за все время эксплуатации.\\n\\n\"Royal Motors Club\"  предоставляет полный спектр услуг по продажам автомобилей с пробегом:\\n- Выгодные условия кредитования, одобрение по двум документам.\\n- Trade In – обмен любого Вашего авто на представленный в нашей компании это\\n   быстро, выгодно, безопасно!\\n-  Мы осуществили все необходимые проверки и даем гарантию юридической\\n   чистоты всех наших автомобилей.\\n - Оптимальные программы по авто-страхованию ( ОСАГО, КАСКО)\\n\\nАвтомобиль прошел комплексную диагностику и предпродажную подготовку в детейлинг центре \"Royal Detailing Club\".\\n\\nСистема старт-стоп\\nЭлектроусилитель руля\\nСветодиодные фары\\nCветодиодные задние фонари\\nДатчики дождя\\nЭлектропривод боковых зеркал\\nЭлектроподогрев зеркал\\nОкраска кузова металлик\\nРегулируемая рулевая колонка\\nТелескопическая регулировка руля\\nУправление аудиосистемой на руле\\nЦветной многофункциональный дисплей\\nПроекционная система показаний спидометра\\nКнопка запуска двигателя\\nКожаная обивка салона\\nСпортивные сиденья\\nРазделительный подлокотник спереди\\nЭлектропривод передних сидений\\nЭлектроподогрев передних сидений\\nПамять расположения сиденья\\nЦентральный замок\\nКлюч ДУ (дистанционный ключ)\\nЭлектрические стеклоподъемники\\nОбогрев рулевого колеса\\nПодушка безопасности водительская\\nПодушка безопасности переднего пассажира\\nПодушка безопасности боковая\\nКрепление ISOFIX\\nАнтиблокировочная система (ABS)\\nСистема распределения тормозного усилия (EBD)\\nВспомогательная система торможения (BAS)\\nСистема электронного контроля устойчивости (ESP)\\nАнтипробуксовочная система (TCS)\\nПереключатель режимов движения\\nАссистент сохранения полосы движения\\nКруиз-контроль\\nСистема управления дальним светом\\nСистема ночного видения с функцией распознавания пешеходов\\nСистема контроля давления в шинах\\nПарктроник\\nПередний парктроник\\nЗадний парктроник\\nАудио системы\\nCD-плейер\\nDVD-чейнджер\\nПоддержка MP3\\nHands free\\nДополнительное оборудование аудиосистемы\\t6 динамиков, разъем для подключения внешнего аудиоустройства\\nСистема навигации\\nКамера заднего обзора\\nПодсветка при посадке в салон\\nСохранность автомобиля\\nИммобилайзер\\nСигнализация\\nСпутниковая противоугонная система', 'discount_options': {}, 'documents': {'owners_number': 3, 'custom_cleared': True, 'year': 2012, 'vin': 'WBS**************', 'pts': 'DUPLICATE', 'vin_resolution': 'OK'}, 'is_favorite': False, 'old_category_id': 15, 'owner_expenses': {'transport_tax': {'tax_by_year': 84000, 'year': 2020, 'rid': 213, 'rate': 150, 'horse_power': 560, 'holding_period_month': 12, 'boost': 1}, 'osago_insurance': [{'insurance_company': 'TINKOFF', 'price': 6309}]}, 'section': 'used', 'seller_type': 'COMMERCIAL', 'status': 'ACTIVE', 'tags': ['big', 'vin_service_history', 'prestige', 'allowed_for_credit', 'fast', 'vin_offers_history', 'options', 'style', 'handling', 'vin_resolution_ok', 'vin_checked', 'sport', 'low_mileage', 'dealer_quarantine_calls', 'equitable_price'], 'multiposting': {'classifieds': []}, 'additional_info': {'hidden': False, 'is_on_moderation': False, 'exchange': True, 'update_date': '1606915953000', 'creation_date': '1606118553000', 'mobile_autoservices_url': 'https://m.auto.ru/autoservice/all_works/BMW/?geo_id=213', 'hot_info': {'is_hot': False, 'start_time': '2020-09-20T17:03:09Z', 'end_time': '2020-09-20T17:03:09Z'}, 'fresh_date': '1606118553000', 'counters_start_date': '1606118553000', 'chat_only': False, 'dealer_card_promo': 'DONT_SHOW', 'review_summary': {}, 'price_stats': {}, 'booking': {}, 'days_in_stock': 73, 'days_on_sale': 73}, 'counters': {}, 'grouping_info': None, 'hash': '85d2bd89', 'id': '1100897820', 'price_info': {'price': 2500000, 'currency': 'RUR', 'EUR': 27381, 'RUR': 2500000, 'USD': 33062, 'with_nds': False}, 'price_history': [{'EUR': 27381, 'RUR': 2500000, 'USD': 33062, 'create_timestamp': 1606118553000}], 'recall_info': {}, 'saleId': '1100897820-85d2bd89', 'salon': {'actual_stock': True, 'client_id': '16636', 'code': 'royalmotors_moskva', 'dealer_id': '20866551', 'offer_counters': {'cars_all': 56, 'moto_all': 6, 'trucks_all': 1}, 'name': 'RoyalMotors', 'phones': [{'phone': '+7 968 010-64-44'}], 'place': {'address': 'Кутузовский проспект, 2/1 здание конгресс парка минус 3 этаж', 'coord': {'latitude': 55.75168, 'longitude': 37.566386}, 'geobase_id': '213', 'region_info': {'id': '213', 'name': 'Москва', 'genitive': 'Москвы', 'dative': 'Москве', 'accusative': 'Москву', 'prepositional': 'Москве', 'preposition': 'в', 'latitude': 55.753215, 'longitude': 37.622504, 'parent_ids': ['213', '1', '3', '225', '10001', '10000']}, 'metro': [{'rid': '20449', 'name': 'Киевская', 'distance': 776.8141951715876, 'location': {'latitude': 55.744596, 'longitude': 37.567545}, 'lines': [{'name': 'Арбатско-Покровская линия', 'color': '#0042a5'}, {'name': 'Кольцевая линия', 'color': '#794835'}, {'name': 'Филёвская линия', 'color': '#099dd4'}]}, {'rid': '20511', 'name': 'Краснопресненская', 'distance': 1165.6047017733522, 'location': {'latitude': 55.760211, 'longitude': 37.577211}, 'lines': [{'name': 'Кольцевая линия', 'color': '#794835'}]}]}, 'registration_date': '2015-03-13T14:02:58Z', 'salon_id': '10950', 'is_official': False}, 'seller': {'location': {'address': 'Кутузовский проспект, 2/1 здание конгресс парка минус 3 этаж', 'coord': {'latitude': 55.751678, 'longitude': 37.566387}, 'geobase_id': '213', 'region_info': {'id': '213', 'name': 'Москва', 'genitive': 'Москвы', 'dative': 'Москве', 'accusative': 'Москву', 'prepositional': 'Москве', 'preposition': 'в', 'latitude': 55.753215, 'longitude': 37.622504, 'parent_ids': ['213', '1', '3', '225', '10001', '10000']}, 'metro': [{'rid': '20449', 'name': 'Киевская', 'distance': 776.8141951715876, 'location': {'latitude': 55.744596, 'longitude': 37.567545}, 'lines': [{'name': 'Арбатско-Покровская линия', 'color': '#0042a5'}, {'name': 'Кольцевая линия', 'color': '#794835'}, {'name': 'Филёвская линия', 'color': '#099dd4'}]}, {'rid': '20511', 'name': 'Краснопресненская', 'distance': 1165.6047017733522, 'location': {'latitude': 55.760211, 'longitude': 37.577211}, 'lines': [{'name': 'Кольцевая линия', 'color': '#794835'}]}], 'timezone_info': {'abbr': 'MSK', 'dst': False, 'name': 'Europe/Moscow', 'offset': 10800}}, 'name': 'RoyalMotors', 'phones': [], 'redirect_phones': False, 'chats_enabled': False, 'call_hours': {'call_hour_start': 10, 'call_hour_end': 21, 'call_minute_end': 0, 'call_minute_start': 0}}, 'service_prices': [], 'services': [], 'state': {'mileage': 67000, 'state_not_beaten': True, 'image_urls': [{'sizes': {'small': '//avatars.mds.yandex.net/get-autoru-vos/1980279/c14499f2f221bf15d7cfbb1255af96fd/small', 'thumb_m': '//avatars.mds.yandex.net/get-autoru-vos/1980279/c14499f2f221bf15d7cfbb1255af96fd/thumb_m', '320x240': '//avatars.mds.yandex.net/get-autoru-vos/1980279/c14499f2f221bf15d7cfbb1255af96fd/320x240', '456x342': '//avatars.mds.yandex.net/get-autoru-vos/1980279/c14499f2f221bf15d7cfbb1255af96fd/456x342', '456x342n': '//avatars.mds.yandex.net/get-autoru-vos/1980279/c14499f2f221bf15d7cfbb1255af96fd/456x342n', '1200x900': '//avatars.mds.yandex.net/get-autoru-vos/1980279/c14499f2f221bf15d7cfbb1255af96fd/1200x900', '1200x900n': '//avatars.mds.yandex.net/get-autoru-vos/1980279/c14499f2f221bf15d7cfbb1255af96fd/1200x900n'}, 'preview': 'data:image/jpeg;base64,/9j/4AAQSkZJRgABAgAAAQABAAD/2wBDAAMCAgMCAgMDAwMEAwMEBQgFBQQEBQoHBwYIDAoMDAsKCwsNDhIQDQ4RDgsLEBYQERMUFRUVDA8XGBYUGBIUFRT/2wBDAQMEBAUEBQkFBQkUDQsNFBQUFBQUFBQUFBQUFBQUFBQUFBQUFBQUFBQUFBQUFBQUFBQUFBQUFBQUFBQUFBQUFBT/wAARCAASABgDASIAAhEBAxEB/8QAHwAAAQUBAQEBAQEAAAAAAAAAAAECAwQFBgcICQoL/8QAtRAAAgEDAwIEAwUFBAQAAAF9AQIDAAQRBRIhMUEGE1FhByJxFDKBkaEII0KxwRVS0fAkM2JyggkKFhcYGRolJicoKSo0NTY3ODk6Q0RFRkdISUpTVFVWV1hZWmNkZWZnaGlqc3R1dnd4eXqDhIWGh4iJipKTlJWWl5iZmqKjpKWmp6ipqrKztLW2t7i5usLDxMXGx8jJytLT1NXW19jZ2uHi4+Tl5ufo6erx8vP09fb3+Pn6/8QAHwEAAwEBAQEBAQEBAQAAAAAAAAECAwQFBgcICQoL/8QAtREAAgECBAQDBAcFBAQAAQJ3AAECAxEEBSExBhJBUQdhcRMiMoEIFEKRobHBCSMzUvAVYnLRChYkNOEl8RcYGRomJygpKjU2Nzg5OkNERUZHSElKU1RVVldYWVpjZGVmZ2hpanN0dXZ3eHl6goOEhYaHiImKkpOUlZaXmJmaoqOkpaanqKmqsrO0tba3uLm6wsPExcbHyMnK0tPU1dbX2Nna4uPk5ebn6Onq8vP09fb3+Pn6/9oADAMBAAIRAxEAPwDxDxB8V/Ev26V59a1C6i5+X7SU/HNc03xcvrK5jW41jU/tkxUR232hyCxJzyBnn36Y711vi/8AZV+KI1+2nsrayvrGJcrby3CBd3P3lwN/J6k9OK427/Y/+Kup3DTS22kaa0jBpRFMkYyCcFdinH0GB7cV0Qp05JOU7fIlyd7JHaXvxB8daELadr7WdGhkjGzzZnxIRnJBIH5dqKq+Hf2R/H9m6LqPiAy2CAlLX7Y7oHPBOGGOnoKKzqKEZWg7opPTVH2TfXM3nj96/X+8a5zU7qbzn/fSdf7xoorMDMnu59q/vpP++zRRRQB//9k='}, {'sizes': {'small': '//avatars.mds.yandex.net/get-autoru-vos/2101836/3b20521465a715231d4cebfe91373bad/small', 'thumb_m': '//avatars.mds.yandex.net/get-autoru-vos/2101836/3b20521465a715231d4cebfe91373bad/thumb_m', '320x240': '//avatars.mds.yandex.net/get-autoru-vos/2101836/3b20521465a715231d4cebfe91373bad/320x240', '456x342': '//avatars.mds.yandex.net/get-autoru-vos/2101836/3b20521465a715231d4cebfe91373bad/456x342', '456x342n': '//avatars.mds.yandex.net/get-autoru-vos/2101836/3b20521465a715231d4cebfe91373bad/456x342n', '1200x900': '//avatars.mds.yandex.net/get-autoru-vos/2101836/3b20521465a715231d4cebfe91373bad/1200x900', '1200x900n': '//avatars.mds.yandex.net/get-autoru-vos/2101836/3b20521465a715231d4cebfe91373bad/1200x900n'}, 'preview': 'data:image/jpeg;base64,/9j/4AAQSkZJRgABAgAAAQABAAD/2wBDAAMCAgMCAgMDAwMEAwMEBQgFBQQEBQoHBwYIDAoMDAsKCwsNDhIQDQ4RDgsLEBYQERMUFRUVDA8XGBYUGBIUFRT/2wBDAQMEBAUEBQkFBQkUDQsNFBQUFBQUFBQUFBQUFBQUFBQUFBQUFBQUFBQUFBQUFBQUFBQUFBQUFBQUFBQUFBQUFBT/wAARCAASABgDASIAAhEBAxEB/8QAHwAAAQUBAQEBAQEAAAAAAAAAAAECAwQFBgcICQoL/8QAtRAAAgEDAwIEAwUFBAQAAAF9AQIDAAQRBRIhMUEGE1FhByJxFDKBkaEII0KxwRVS0fAkM2JyggkKFhcYGRolJicoKSo0NTY3ODk6Q0RFRkdISUpTVFVWV1hZWmNkZWZnaGlqc3R1dnd4eXqDhIWGh4iJipKTlJWWl5iZmqKjpKWmp6ipqrKztLW2t7i5usLDxMXGx8jJytLT1NXW19jZ2uHi4+Tl5ufo6erx8vP09fb3+Pn6/8QAHwEAAwEBAQEBAQEBAQAAAAAAAAECAwQFBgcICQoL/8QAtREAAgECBAQDBAcFBAQAAQJ3AAECAxEEBSExBhJBUQdhcRMiMoEIFEKRobHBCSMzUvAVYnLRChYkNOEl8RcYGRomJygpKjU2Nzg5OkNERUZHSElKU1RVVldYWVpjZGVmZ2hpanN0dXZ3eHl6goOEhYaHiImKkpOUlZaXmJmaoqOkpaanqKmqsrO0tba3uLm6wsPExcbHyMnK0tPU1dbX2Nna4uPk5ebn6Onq8vP09fb3+Pn6/9oADAMBAAIRAxEAPwDwXUNch0y3uEazsZFLlzPcx5ZRk8Ak4A49O5rCtPin4WiuLkrptkl4wBEckM7Rx8AEgNwBwDyT9eTUHjPwV4o0qE3qaDLrHluCbU28rBxuPZQDxuz+FeWt4J8Srq4lj8O67JD5pfyJdOm8sp1Cluvb079e9awhGSu5WJlKz2PfB4jh1OxjiXT7CD5lbz7aMq5wrDGckYOcnjqBRWH4T8HeK9Z02K7k0N9Kednc2phdFjyzYABGQMY60Vm1Z2LTP1RubK3KP+4i6f3BWNNp1ruz9mhzn/nmKKKQiT7Hbqq4gjH0QUUUUAf/2Q=='}, {'sizes': {'small': '//avatars.mds.yandex.net/get-autoru-vos/2192078/8ec721e1d4c8451801185fbeef4ee4b6/small', 'thumb_m': '//avatars.mds.yandex.net/get-autoru-vos/2192078/8ec721e1d4c8451801185fbeef4ee4b6/thumb_m', '320x240': '//avatars.mds.yandex.net/get-autoru-vos/2192078/8ec721e1d4c8451801185fbeef4ee4b6/320x240', '456x342': '//avatars.mds.yandex.net/get-autoru-vos/2192078/8ec721e1d4c8451801185fbeef4ee4b6/456x342', '456x342n': '//avatars.mds.yandex.net/get-autoru-vos/2192078/8ec721e1d4c8451801185fbeef4ee4b6/456x342n', '1200x900': '//avatars.mds.yandex.net/get-autoru-vos/2192078/8ec721e1d4c8451801185fbeef4ee4b6/1200x900', '1200x900n': '//avatars.mds.yandex.net/get-autoru-vos/2192078/8ec721e1d4c8451801185fbeef4ee4b6/1200x900n'}, 'preview': 'data:image/jpeg;base64,/9j/4AAQSkZJRgABAgAAAQABAAD/2wBDAAMCAgMCAgMDAwMEAwMEBQgFBQQEBQoHBwYIDAoMDAsKCwsNDhIQDQ4RDgsLEBYQERMUFRUVDA8XGBYUGBIUFRT/2wBDAQMEBAUEBQkFBQkUDQsNFBQUFBQUFBQUFBQUFBQUFBQUFBQUFBQUFBQUFBQUFBQUFBQUFBQUFBQUFBQUFBQUFBT/wAARCAASABgDASIAAhEBAxEB/8QAHwAAAQUBAQEBAQEAAAAAAAAAAAECAwQFBgcICQoL/8QAtRAAAgEDAwIEAwUFBAQAAAF9AQIDAAQRBRIhMUEGE1FhByJxFDKBkaEII0KxwRVS0fAkM2JyggkKFhcYGRolJicoKSo0NTY3ODk6Q0RFRkdISUpTVFVWV1hZWmNkZWZnaGlqc3R1dnd4eXqDhIWGh4iJipKTlJWWl5iZmqKjpKWmp6ipqrKztLW2t7i5usLDxMXGx8jJytLT1NXW19jZ2uHi4+Tl5ufo6erx8vP09fb3+Pn6/8QAHwEAAwEBAQEBAQEBAQAAAAAAAAECAwQFBgcICQoL/8QAtREAAgECBAQDBAcFBAQAAQJ3AAECAxEEBSExBhJBUQdhcRMiMoEIFEKRobHBCSMzUvAVYnLRChYkNOEl8RcYGRomJygpKjU2Nzg5OkNERUZHSElKU1RVVldYWVpjZGVmZ2hpanN0dXZ3eHl6goOEhYaHiImKkpOUlZaXmJmaoqOkpaanqKmqsrO0tba3uLm6wsPExcbHyMnK0tPU1dbX2Nna4uPk5ebn6Onq8vP09fb3+Pn6/9oADAMBAAIRAxEAPwCvr3x58XW99P52uTtHtO0W9vbRkNngnMRyOvFc5J+0/qmlW7T3nim9wHALfZ7fy0yAMFvJIJDZ9Oo4FWfiD+wl8QvFGrGYanZrboqrCk6gmPnJyAAGJz1OTj6CuRn/AOCd/jaTAfWNPjwP4IePyrspU6EledSz9L/qZTlNP3Y3+Z6vof7TPiTUoXn0fxPBNbfwbrWznYcc5Ii9fYUVzfw5/Yc8SeFGl+066Ar/AHorYKEbjGTuBJ7nrgZ6UVnU9mn7juvNG0Xpqj7cvbmY7v3r/wDfRrAu55D/AMtH/wC+jRRXOIpmeQn/AFjf99GiiigD/9k='}, {'sizes': {'small': '//avatars.mds.yandex.net/get-autoru-vos/2174341/09d6c5272e01b4bc047cd56fa7ff18a1/small', 'thumb_m': '//avatars.mds.yandex.net/get-autoru-vos/2174341/09d6c5272e01b4bc047cd56fa7ff18a1/thumb_m', '320x240': '//avatars.mds.yandex.net/get-autoru-vos/2174341/09d6c5272e01b4bc047cd56fa7ff18a1/320x240', '456x342': '//avatars.mds.yandex.net/get-autoru-vos/2174341/09d6c5272e01b4bc047cd56fa7ff18a1/456x342', '456x342n': '//avatars.mds.yandex.net/get-autoru-vos/2174341/09d6c5272e01b4bc047cd56fa7ff18a1/456x342n', '1200x900': '//avatars.mds.yandex.net/get-autoru-vos/2174341/09d6c5272e01b4bc047cd56fa7ff18a1/1200x900', '1200x900n': '//avatars.mds.yandex.net/get-autoru-vos/2174341/09d6c5272e01b4bc047cd56fa7ff18a1/1200x900n'}, 'preview': 'data:image/jpeg;base64,/9j/4AAQSkZJRgABAgAAAQABAAD/2wBDAAMCAgMCAgMDAwMEAwMEBQgFBQQEBQoHBwYIDAoMDAsKCwsNDhIQDQ4RDgsLEBYQERMUFRUVDA8XGBYUGBIUFRT/2wBDAQMEBAUEBQkFBQkUDQsNFBQUFBQUFBQUFBQUFBQUFBQUFBQUFBQUFBQUFBQUFBQUFBQUFBQUFBQUFBQUFBQUFBT/wAARCAASABgDASIAAhEBAxEB/8QAHwAAAQUBAQEBAQEAAAAAAAAAAAECAwQFBgcICQoL/8QAtRAAAgEDAwIEAwUFBAQAAAF9AQIDAAQRBRIhMUEGE1FhByJxFDKBkaEII0KxwRVS0fAkM2JyggkKFhcYGRolJicoKSo0NTY3ODk6Q0RFRkdISUpTVFVWV1hZWmNkZWZnaGlqc3R1dnd4eXqDhIWGh4iJipKTlJWWl5iZmqKjpKWmp6ipqrKztLW2t7i5usLDxMXGx8jJytLT1NXW19jZ2uHi4+Tl5ufo6erx8vP09fb3+Pn6/8QAHwEAAwEBAQEBAQEBAQAAAAAAAAECAwQFBgcICQoL/8QAtREAAgECBAQDBAcFBAQAAQJ3AAECAxEEBSExBhJBUQdhcRMiMoEIFEKRobHBCSMzUvAVYnLRChYkNOEl8RcYGRomJygpKjU2Nzg5OkNERUZHSElKU1RVVldYWVpjZGVmZ2hpanN0dXZ3eHl6goOEhYaHiImKkpOUlZaXmJmaoqOkpaanqKmqsrO0tba3uLm6wsPExcbHyMnK0tPU1dbX2Nna4uPk5ebn6Onq8vP09fb3+Pn6/9oADAMBAAIRAxEAPwDwfxH8Z9es9R3XvifU7lQCzQyajIpYcjOQ2ev8q5/R/jfeahOxt9S1m5nONsX2ucJwxzg5BOQR+Vdzrn7H3xF0zxOutaBqdhDd5Yiaa8fdHlQoCjYR/L8a5bUf2NvidrF6Z9S1jTfMckyMl4+WySc8RgZ5/lXXCnh3FOU2n6EycuiNy1+M3iZWjltPEOr6agQLtXUJjuYEgtkn1/lRUnhj9j3xRpdzD/aPieO6s4UYR2nmuVUnrjORj8KKwmoqTUHdfcUnpqj6k1C6n8wfvpOv941zup3k4nOJ5P8Avs0UVmBlPeTmX/Xydf75ooooA//Z'}, {'sizes': {'small': '//avatars.mds.yandex.net/get-autoru-vos/1906423/b64a29d9a00ffbe969fbbd1683782fc9/small', 'thumb_m': '//avatars.mds.yandex.net/get-autoru-vos/1906423/b64a29d9a00ffbe969fbbd1683782fc9/thumb_m', '320x240': '//avatars.mds.yandex.net/get-autoru-vos/1906423/b64a29d9a00ffbe969fbbd1683782fc9/320x240', '456x342': '//avatars.mds.yandex.net/get-autoru-vos/1906423/b64a29d9a00ffbe969fbbd1683782fc9/456x342', '456x342n': '//avatars.mds.yandex.net/get-autoru-vos/1906423/b64a29d9a00ffbe969fbbd1683782fc9/456x342n', '1200x900': '//avatars.mds.yandex.net/get-autoru-vos/1906423/b64a29d9a00ffbe969fbbd1683782fc9/1200x900', '1200x900n': '//avatars.mds.yandex.net/get-autoru-vos/1906423/b64a29d9a00ffbe969fbbd1683782fc9/1200x900n'}, 'preview': 'data:image/jpeg;base64,/9j/4AAQSkZJRgABAgAAAQABAAD/2wBDAAMCAgMCAgMDAwMEAwMEBQgFBQQEBQoHBwYIDAoMDAsKCwsNDhIQDQ4RDgsLEBYQERMUFRUVDA8XGBYUGBIUFRT/2wBDAQMEBAUEBQkFBQkUDQsNFBQUFBQUFBQUFBQUFBQUFBQUFBQUFBQUFBQUFBQUFBQUFBQUFBQUFBQUFBQUFBQUFBT/wAARCAASABgDASIAAhEBAxEB/8QAHwAAAQUBAQEBAQEAAAAAAAAAAAECAwQFBgcICQoL/8QAtRAAAgEDAwIEAwUFBAQAAAF9AQIDAAQRBRIhMUEGE1FhByJxFDKBkaEII0KxwRVS0fAkM2JyggkKFhcYGRolJicoKSo0NTY3ODk6Q0RFRkdISUpTVFVWV1hZWmNkZWZnaGlqc3R1dnd4eXqDhIWGh4iJipKTlJWWl5iZmqKjpKWmp6ipqrKztLW2t7i5usLDxMXGx8jJytLT1NXW19jZ2uHi4+Tl5ufo6erx8vP09fb3+Pn6/8QAHwEAAwEBAQEBAQEBAQAAAAAAAAECAwQFBgcICQoL/8QAtREAAgECBAQDBAcFBAQAAQJ3AAECAxEEBSExBhJBUQdhcRMiMoEIFEKRobHBCSMzUvAVYnLRChYkNOEl8RcYGRomJygpKjU2Nzg5OkNERUZHSElKU1RVVldYWVpjZGVmZ2hpanN0dXZ3eHl6goOEhYaHiImKkpOUlZaXmJmaoqOkpaanqKmqsrO0tba3uLm6wsPExcbHyMnK0tPU1dbX2Nna4uPk5ebn6Onq8vP09fb3+Pn6/9oADAMBAAIRAxEAPwD50uNbi0qCZWsrGYF93nXMe5l56A5xjj07msq0+KHhS3nmxZacL2T92sTLK6I2McKcjsOpPU9Oaq+Ovhv4zfSbk2+nXdywIPlwxPuYbu2RXns/hLxpPtQeDL2NkbCkaZEBj3IiyT710UqdOabnO3yv/X9aCk2rWR7oNei1GySD+zrC3IZWM9vEVc7QwxnOMHOTx1Aorn/BPgnxneaNBNe6bNbXEhYsk0bKw+ZuuB7g0Vi7J2Luj9Vbmytzn9xF/wB8CsefTrXP/HtD/wB+xRRSRANZ26ooEEYGOyCiiihjP//Z'}], 'images_count': 22}, 'sub_category': 'cars', 'vehicle_info': {'configuration': {'id': '7899864', 'body_type': 'COUPE', 'doors_count': 2, 'auto_class': 'E', 'human_name': 'Купе', 'trunk_volume_min': 460, 'body_type_group': 'COUPE', 'main_photo': {'sizes': {'orig': '//avatars.mds.yandex.net/get-verba/216201/2a000001609ce74d7ae08b36fbd163791168/orig', 'wizardv3mr': '//avatars.mds.yandex.net/get-verba/216201/2a000001609ce74d7ae08b36fbd163791168/wizardv3mr', 'cattouch': '//avatars.mds.yandex.net/get-verba/216201/2a000001609ce74d7ae08b36fbd163791168/cattouch'}}, 'tags': ['big', 'style']}, 'complectation': {'id': '7928504', 'name': 'M6', 'available_options': ['cruise-control', 'sport-seats', 'multi-wheel', 'xenon', 'airbag-passenger', 'lock', 'electro-mirrors', 'mirrors-heat', 'volume-sensor', 'leather', 'seat-memory', 'start-stop-function', 'computer', 'high-beam-assist', 'light-cleaner', 'airbag-side', 'abs', 'wheel-leather', 'climate-control-1', 'auto-mirrors', 'esp', 'usb', 'audiopreparation', 'ashtray-and-cigarette-lighter', 'front-centre-armrest', 'servo', 'park-assist-f', '19-inch-wheels', 'condition', 'music-super', 'park-assist-r', 'airbag-driver', 'isofix', 'electro-window-front', 'light-sensor', 'hcc', 'airbag-curtain', 'passenger-seat-electric', 'alarm', 'paint-metallic', 'start-button', 'rain-sensor', 'tyre-pressure', 'audiosystem-cd', 'front-seats-heat', 'bluetooth', 'wheel-configuration2', 'wheel-configuration1', 'immo', '12v-socket'], 'vendor_colors': [{'body_color_id': 20616407, 'mark_color_id': 21387542, 'name_ru': 'Синий Сан-Марино', 'hex_codes': ['152455'], 'color_type': 'METALLIC', 'stock_color': {'hex_code': '0000CC', 'name_ru': 'синий'}, 'photos': [{'name': '34-front', 'sizes': {'orig': '//avatars.mds.yandex.net/get-verba/787013/2a0000016099e0e0d716205312d77ba09f4c/orig', 'wizardv3mr': '//avatars.mds.yandex.net/get-verba/787013/2a0000016099e0e0d716205312d77ba09f4c/wizardv3mr', 'wizardv3': '//avatars.mds.yandex.net/get-verba/787013/2a0000016099e0e0d716205312d77ba09f4c/wizardv3', 'cattouch': '//avatars.mds.yandex.net/get-verba/787013/2a0000016099e0e0d716205312d77ba09f4c/cattouch', 'small': '//avatars.mds.yandex.net/get-verba/787013/2a0000016099e0e0d716205312d77ba09f4c/small', '320x240': '//avatars.mds.yandex.net/get-verba/787013/2a0000016099e0e0d716205312d77ba09f4c/320x240', '1200x900': '//avatars.mds.yandex.net/get-verba/787013/2a0000016099e0e0d716205312d77ba09f4c/1200x900', '1200x900n': '//avatars.mds.yandex.net/get-verba/787013/2a0000016099e0e0d716205312d77ba09f4c/1200x900n', 'thumb_m': '//avatars.mds.yandex.net/get-verba/787013/2a0000016099e0e0d716205312d77ba09f4c/thumb_m', 'full': '//avatars.mds.yandex.net/get-verba/787013/2a0000016099e0e0d716205312d77ba09f4c/full', '832x624': '//avatars.mds.yandex.net/get-verba/787013/2a0000016099e0e0d716205312d77ba09f4c/832x624', '456x342': '//avatars.mds.yandex.net/get-verba/787013/2a0000016099e0e0d716205312d77ba09f4c/456x342', '120x90': '//avatars.mds.yandex.net/get-verba/787013/2a0000016099e0e0d716205312d77ba09f4c/120x90', '92x69': '//avatars.mds.yandex.net/get-verba/787013/2a0000016099e0e0d716205312d77ba09f4c/92x69', 'islandoff': '//avatars.mds.yandex.net/get-verba/787013/2a0000016099e0e0d716205312d77ba09f4c/islandoff', 'thumb_s': '//avatars.mds.yandex.net/get-verba/787013/2a0000016099e0e0d716205312d77ba09f4c/thumb_s', 'thumb_s_2x': '//avatars.mds.yandex.net/get-verba/787013/2a0000016099e0e0d716205312d77ba09f4c/thumb_s_2x'}}, {'name': '34-back', 'sizes': {'orig': '//avatars.mds.yandex.net/get-verba/216201/2a000001609d2e863af04c07e2c01146fbe8/orig', 'wizardv3mr': '//avatars.mds.yandex.net/get-verba/216201/2a000001609d2e863af04c07e2c01146fbe8/wizardv3mr', 'wizardv3': '//avatars.mds.yandex.net/get-verba/216201/2a000001609d2e863af04c07e2c01146fbe8/wizardv3', 'cattouch': '//avatars.mds.yandex.net/get-verba/216201/2a000001609d2e863af04c07e2c01146fbe8/cattouch', 'small': '//avatars.mds.yandex.net/get-verba/216201/2a000001609d2e863af04c07e2c01146fbe8/small', '320x240': '//avatars.mds.yandex.net/get-verba/216201/2a000001609d2e863af04c07e2c01146fbe8/320x240', '1200x900': '//avatars.mds.yandex.net/get-verba/216201/2a000001609d2e863af04c07e2c01146fbe8/1200x900', '1200x900n': '//avatars.mds.yandex.net/get-verba/216201/2a000001609d2e863af04c07e2c01146fbe8/1200x900n', 'thumb_m': '//avatars.mds.yandex.net/get-verba/216201/2a000001609d2e863af04c07e2c01146fbe8/thumb_m', 'full': '//avatars.mds.yandex.net/get-verba/216201/2a000001609d2e863af04c07e2c01146fbe8/full', '832x624': '//avatars.mds.yandex.net/get-verba/216201/2a000001609d2e863af04c07e2c01146fbe8/832x624', '456x342': '//avatars.mds.yandex.net/get-verba/216201/2a000001609d2e863af04c07e2c01146fbe8/456x342', '120x90': '//avatars.mds.yandex.net/get-verba/216201/2a000001609d2e863af04c07e2c01146fbe8/120x90', '92x69': '//avatars.mds.yandex.net/get-verba/216201/2a000001609d2e863af04c07e2c01146fbe8/92x69', 'islandoff': '//avatars.mds.yandex.net/get-verba/216201/2a000001609d2e863af04c07e2c01146fbe8/islandoff', 'thumb_s': '//avatars.mds.yandex.net/get-verba/216201/2a000001609d2e863af04c07e2c01146fbe8/thumb_s', 'thumb_s_2x': '//avatars.mds.yandex.net/get-verba/216201/2a000001609d2e863af04c07e2c01146fbe8/thumb_s_2x'}}, {'name': 'side', 'sizes': {'orig': '//avatars.mds.yandex.net/get-verba/937147/2a000001609d4fa10116ea7dc20dcb433ae5/orig', 'wizardv3mr': '//avatars.mds.yandex.net/get-verba/937147/2a000001609d4fa10116ea7dc20dcb433ae5/wizardv3mr', 'wizardv3': '//avatars.mds.yandex.net/get-verba/937147/2a000001609d4fa10116ea7dc20dcb433ae5/wizardv3', 'cattouch': '//avatars.mds.yandex.net/get-verba/937147/2a000001609d4fa10116ea7dc20dcb433ae5/cattouch', 'small': '//avatars.mds.yandex.net/get-verba/937147/2a000001609d4fa10116ea7dc20dcb433ae5/small', '320x240': '//avatars.mds.yandex.net/get-verba/937147/2a000001609d4fa10116ea7dc20dcb433ae5/320x240', '1200x900': '//avatars.mds.yandex.net/get-verba/937147/2a000001609d4fa10116ea7dc20dcb433ae5/1200x900', '1200x900n': '//avatars.mds.yandex.net/get-verba/937147/2a000001609d4fa10116ea7dc20dcb433ae5/1200x900n', 'thumb_m': '//avatars.mds.yandex.net/get-verba/937147/2a000001609d4fa10116ea7dc20dcb433ae5/thumb_m', 'full': '//avatars.mds.yandex.net/get-verba/937147/2a000001609d4fa10116ea7dc20dcb433ae5/full', '832x624': '//avatars.mds.yandex.net/get-verba/937147/2a000001609d4fa10116ea7dc20dcb433ae5/832x624', '456x342': '//avatars.mds.yandex.net/get-verba/937147/2a000001609d4fa10116ea7dc20dcb433ae5/456x342', '120x90': '//avatars.mds.yandex.net/get-verba/937147/2a000001609d4fa10116ea7dc20dcb433ae5/120x90', '92x69': '//avatars.mds.yandex.net/get-verba/937147/2a000001609d4fa10116ea7dc20dcb433ae5/92x69', 'islandoff': '//avatars.mds.yandex.net/get-verba/937147/2a000001609d4fa10116ea7dc20dcb433ae5/islandoff', 'thumb_s': '//avatars.mds.yandex.net/get-verba/937147/2a000001609d4fa10116ea7dc20dcb433ae5/thumb_s', 'thumb_s_2x': '//avatars.mds.yandex.net/get-verba/937147/2a000001609d4fa10116ea7dc20dcb433ae5/thumb_s_2x'}}, {'name': 'front', 'sizes': {'orig': '//avatars.mds.yandex.net/get-verba/216201/2a000001609bda6075185d52cb16d2161b63/orig', 'wizardv3mr': '//avatars.mds.yandex.net/get-verba/216201/2a000001609bda6075185d52cb16d2161b63/wizardv3mr', 'wizardv3': '//avatars.mds.yandex.net/get-verba/216201/2a000001609bda6075185d52cb16d2161b63/wizardv3', 'cattouch': '//avatars.mds.yandex.net/get-verba/216201/2a000001609bda6075185d52cb16d2161b63/cattouch', 'small': '//avatars.mds.yandex.net/get-verba/216201/2a000001609bda6075185d52cb16d2161b63/small', '320x240': '//avatars.mds.yandex.net/get-verba/216201/2a000001609bda6075185d52cb16d2161b63/320x240', '1200x900': '//avatars.mds.yandex.net/get-verba/216201/2a000001609bda6075185d52cb16d2161b63/1200x900', '1200x900n': '//avatars.mds.yandex.net/get-verba/216201/2a000001609bda6075185d52cb16d2161b63/1200x900n', 'thumb_m': '//avatars.mds.yandex.net/get-verba/216201/2a000001609bda6075185d52cb16d2161b63/thumb_m', 'full': '//avatars.mds.yandex.net/get-verba/216201/2a000001609bda6075185d52cb16d2161b63/full', '832x624': '//avatars.mds.yandex.net/get-verba/216201/2a000001609bda6075185d52cb16d2161b63/832x624', '456x342': '//avatars.mds.yandex.net/get-verba/216201/2a000001609bda6075185d52cb16d2161b63/456x342', '120x90': '//avatars.mds.yandex.net/get-verba/216201/2a000001609bda6075185d52cb16d2161b63/120x90', '92x69': '//avatars.mds.yandex.net/get-verba/216201/2a000001609bda6075185d52cb16d2161b63/92x69', 'islandoff': '//avatars.mds.yandex.net/get-verba/216201/2a000001609bda6075185d52cb16d2161b63/islandoff', 'thumb_s': '//avatars.mds.yandex.net/get-verba/216201/2a000001609bda6075185d52cb16d2161b63/thumb_s', 'thumb_s_2x': '//avatars.mds.yandex.net/get-verba/216201/2a000001609bda6075185d52cb16d2161b63/thumb_s_2x'}}, {'name': 'back', 'sizes': {'orig': '//avatars.mds.yandex.net/get-verba/1030388/2a000001609d629f7f376013915c2e2cb425/orig', 'wizardv3mr': '//avatars.mds.yandex.net/get-verba/1030388/2a000001609d629f7f376013915c2e2cb425/wizardv3mr', 'wizardv3': '//avatars.mds.yandex.net/get-verba/1030388/2a000001609d629f7f376013915c2e2cb425/wizardv3', 'cattouch': '//avatars.mds.yandex.net/get-verba/1030388/2a000001609d629f7f376013915c2e2cb425/cattouch', 'small': '//avatars.mds.yandex.net/get-verba/1030388/2a000001609d629f7f376013915c2e2cb425/small', '320x240': '//avatars.mds.yandex.net/get-verba/1030388/2a000001609d629f7f376013915c2e2cb425/320x240', '1200x900': '//avatars.mds.yandex.net/get-verba/1030388/2a000001609d629f7f376013915c2e2cb425/1200x900', '1200x900n': '//avatars.mds.yandex.net/get-verba/1030388/2a000001609d629f7f376013915c2e2cb425/1200x900n', 'thumb_m': '//avatars.mds.yandex.net/get-verba/1030388/2a000001609d629f7f376013915c2e2cb425/thumb_m', 'full': '//avatars.mds.yandex.net/get-verba/1030388/2a000001609d629f7f376013915c2e2cb425/full', '832x624': '//avatars.mds.yandex.net/get-verba/1030388/2a000001609d629f7f376013915c2e2cb425/832x624', '456x342': '//avatars.mds.yandex.net/get-verba/1030388/2a000001609d629f7f376013915c2e2cb425/456x342', '120x90': '//avatars.mds.yandex.net/get-verba/1030388/2a000001609d629f7f376013915c2e2cb425/120x90', '92x69': '//avatars.mds.yandex.net/get-verba/1030388/2a000001609d629f7f376013915c2e2cb425/92x69', 'islandoff': '//avatars.mds.yandex.net/get-verba/1030388/2a000001609d629f7f376013915c2e2cb425/islandoff', 'thumb_s': '//avatars.mds.yandex.net/get-verba/1030388/2a000001609d629f7f376013915c2e2cb425/thumb_s', 'thumb_s_2x': '//avatars.mds.yandex.net/get-verba/1030388/2a000001609d629f7f376013915c2e2cb425/thumb_s_2x'}}], 'main_color': False}]}, 'equipment': {'asr': True, 'esp': True, 'sport-seats': True, 'usb': True, 'multi-wheel': True, 'xenon': True, 'ashtray-and-cigarette-lighter': True, 'lane-keeping-assist': True, 'airbag-passenger': True, 'front-centre-armrest': True, 'navigation': True, 'bas': True, 'rear-camera': True, 'lock': True, 'servo': True, 'electro-mirrors': True, 'feedback-alarm': True, 'mirrors-heat': True, 'volume-sensor': True, 'park-assist-f': True, 'leather': True, 'seat-memory': True, '19-inch-wheels': True, 'wheel-heat': True, 'led-lights': True, 'music-super': True, 'park-assist-r': True, 'start-stop-function': True, 'airbag-driver': True, 'isofix': True, 'projection-display': True, 'electro-window-front': True, 'light-sensor': True, 'hcc': True, 'airbag-curtain': True, 'high-beam-assist': True, 'computer': True, 'passenger-seat-electric': True, 'alarm': True, 'light-cleaner': True, 'paint-metallic': True, 'start-button': True, 'rain-sensor': True, 'airbag-side': True, 'tyre-pressure': True, 'night-vision': True, 'auto-cruise': True, 'abs': True, 'front-seats-heat': True, 'bluetooth': True, 'wheel-leather': True, 'wheel-configuration2': True, 'wheel-configuration1': True, 'immo': True, 'climate-control-1': True, 'auto-mirrors': True, '12v-socket': True}, 'mark_info': {'code': 'BMW', 'name': 'BMW', 'ru_name': 'БМВ', 'logo': {'name': 'mark-logo', 'sizes': {'logo': '//avatars.mds.yandex.net/get-verba/997355/2a00000170a99124c3a521a92b8cd4846660/logo', 'big-logo': '//avatars.mds.yandex.net/get-verba/997355/2a00000170a99124c3a521a92b8cd4846660/dealer_logo'}}}, 'model_info': {'code': 'M6', 'name': 'M6', 'ru_name': 'М6', 'morphology': {}, 'nameplate': {'code': '', 'name': '', 'semantic_url': ''}}, 'steering_wheel': 'LEFT', 'super_gen': {'id': '7899764', 'name': 'III (F06/F13/F12)', 'ru_name': '3 (F06/F13/F12)', 'year_from': 2012, 'year_to': 2018, 'price_segment': 'PREMIUM'}, 'tech_param': {'id': '7900064', 'displacement': 4395, 'engine_type': 'GASOLINE', 'gear_type': 'REAR_DRIVE', 'transmission': 'ROBOT', 'power': 560, 'power_kvt': 412, 'human_name': '4.4 AMT (560 л.с.)', 'acceleration': 4.2, 'clearance_min': 107, 'fuel_rate': 9.9}, 'vendor': 'EUROPEAN'}, 'lk_summary': '4.4\\xa0AMT (560\\xa0л.с.), купе, задний, бензин'}\n"
     ]
    }
   ],
   "source": [
    "# сделаем тестовый вызов запроса для BMW модели M6 и выведем его на экран, чтобы по нему можно было сделать функцию для создания 23 необходимых столбцов\n",
    "model = 'M6'\n",
    "param = {\n",
    "                'catalog_filter' : [{\"mark\": 'BMW', \"model\": model}],\n",
    "                'section': \"used\",\n",
    "                'category': \"cars\",\n",
    "                'sort': \"fresh_relevance_1-desc\",\n",
    "                \"top_days\":\"600\",\n",
    "                \"geo_radius\":200,\n",
    "                \"geo_id\":[213],\n",
    "                'page': 1\n",
    "            }\n",
    "\n",
    "response = requests.post(url, json=param, headers = HEADERS)\n",
    "data = response.json()\n",
    "for elem in data['offers']:\n",
    "    print(elem)\n",
    "    break"
   ]
  },
  {
   "cell_type": "code",
   "execution_count": 251,
   "metadata": {},
   "outputs": [
    {
     "data": {
      "text/plain": [
       "False"
      ]
     },
     "execution_count": 251,
     "metadata": {},
     "output_type": "execute_result"
    }
   ],
   "source": [
    "# строка для проверки содержания элемента запроса\n",
    "elem['additional_info']['hidden']"
   ]
  },
  {
   "cell_type": "code",
   "execution_count": 252,
   "metadata": {},
   "outputs": [],
   "source": [
    "def utils_clean_values_dict(d_dict):\n",
    "    for elem in d_dict:\n",
    "        d_dict[elem] = 0\n",
    "    return"
   ]
  },
  {
   "cell_type": "code",
   "execution_count": 253,
   "metadata": {},
   "outputs": [],
   "source": [
    "dict_columns = {'bodyType':0, 'brand':0, 'color':0, 'fuelType':0, 'modelDate':0, \n",
    "                'name':0, 'numberOfDoors':0, 'productionDate':0, \n",
    "                'vehicleConfiguration':0, 'vehicleTransmission':0, \n",
    "                'engineDisplacement':0, 'enginePower':0, 'description':0, \n",
    "                'mileage':0, 'Комплектация':0, 'Привод':0, 'Руль':0, \n",
    "                'Состояние':0, 'Владельцы':0, 'ПТС':0, 'Таможня':0, \n",
    "                'Владение':0, 'price':0}\n",
    "\n",
    "model = 'M6'\n",
    "# создаем функцию для обработки 23 необходимых столбцов\n",
    "def from_elem_to_dict(d_elem, d_dict):\n",
    "    utils_clean_values_dict(d_dict)\n",
    "    \n",
    "    try: d_dict['bodyType'] = d_elem['vehicle_info']['configuration']['human_name']\n",
    "    except: d_dict['bodyType'] = None\n",
    "\n",
    "    try: d_dict['brand'] = d_elem['vehicle_info']['mark_info']['code']\n",
    "    except: d_dict['brand'] = None\n",
    "\n",
    "    try: d_dict['color'] = d_elem['color_hex']\n",
    "    except: d_dict['color'] = None\n",
    "\n",
    "    try: d_dict['fuelType'] = d_elem['lk_summary'].split()[-1]\n",
    "    except: d_dict['fuelType'] = None\n",
    "\n",
    "    try: d_dict['modelDate'] = d_elem['vehicle_info']['super_gen']['year_from']\n",
    "    except: d_dict['modelDate'] = None\n",
    "\n",
    "    try: d_dict['name'] =  d_elem['vehicle_info']['tech_param']['human_name']\n",
    "    except: d_dict['name'] = None\n",
    "\n",
    "    try: d_dict['numberOfDoors'] = d_elem['vehicle_info']['configuration']['doors_count']\n",
    "    except: d_dict['numberOfDoors'] = None\n",
    "\n",
    "    try: d_dict['productionDate'] = d_elem['documents']['year']\n",
    "    except: d_dict['productionDate'] = None\n",
    "\n",
    "    try: d_dict['vehicleTransmission'] = d_elem['vehicle_info']['tech_param']['transmission']\n",
    "    except: d_dict['vehicleTransmission'] = None\n",
    "\n",
    "    try: d_dict['engineDisplacement'] = d_elem['vehicle_info']['tech_param']['human_name'].split()[0]\n",
    "    except: d_dict['engineDisplacement'] = None\n",
    "\n",
    "    try: d_dict['vehicleConfiguration'] = elem['vehicle_info']['configuration']['body_type']+' '+d_dict['vehicleTransmission']+' '+d_dict['engineDisplacement']\n",
    "    except: d_dict['vehicleConfiguration'] = None\n",
    "\n",
    "    try: d_dict['enginePower'] = d_elem['vehicle_info']['tech_param']['power']\n",
    "    except: d_dict['enginePower'] = None\n",
    "\n",
    "    try: d_dict['description'] = d_elem['description']\n",
    "    except: d_dict['description'] = None\n",
    "\n",
    "    try: d_dict['mileage'] = d_elem['state']['mileage']\n",
    "    except: d_dict['mileage'] = None\n",
    "\n",
    "    try: d_dict['Комплектация'] = d_elem['vehicle_info']['complectation']\n",
    "    except: d_dict['Комплектация'] = None\n",
    "\n",
    "    try: d_dict['Привод'] = d_elem['lk_summary'].split(', ')[-2]\n",
    "    except: d_dict['Привод'] = None\n",
    "\n",
    "    try: d_dict['Руль'] = d_elem['vehicle_info']['steering_wheel']\n",
    "    except: d_dict['Руль'] = None\n",
    "\n",
    "    # 'Состояние' не найдено\n",
    "    d_dict['Состояние'] = None\n",
    "\n",
    "    try: d_dict['Владельцы'] = d_elem['documents']['owners_number']\n",
    "    except: d_dict['Владельцы'] = None\n",
    "\n",
    "    try: d_dict['ПТС'] = d_elem['documents']['pts']\n",
    "    except: d_dict['ПТС'] = None\n",
    "\n",
    "    try: d_dict['Таможня'] = d_elem['documents']['custom_cleared']\n",
    "    except: d_dict['Таможня'] = None\n",
    "\n",
    "    try: d_dict['Владение'] =  d_elem['documents']['purchase_date']\n",
    "    except: d_dict['Владение'] = None\n",
    "\n",
    "\n",
    "    try: d_dict['price'] = d_elem['price_info']['RUR']\n",
    "    except: d_dict['price'] = None\n",
    "\n",
    "    # дата размещения объявления решил добавить \n",
    "    try: d_dict['start_date'] =  d_elem['additional_info']['hot_info']['start_time']\n",
    "    except: d_dict['start_date'] = None\n",
    "\n",
    "    # статус объявления \n",
    "    try: d_dict['hidden'] =  d_elemelem['additional_info']['hidden']\n",
    "    except: d_dict['hidden'] = None\n",
    "\n",
    "    # модель \n",
    "    d_dict['model'] =  model\n",
    "\n",
    "    return\n",
    "\n",
    "from_elem_to_dict(elem, dict_columns)"
   ]
  },
  {
   "cell_type": "code",
   "execution_count": 254,
   "metadata": {},
   "outputs": [
    {
     "data": {
      "text/plain": [
       "['AUDI',\n",
       " 'BMW',\n",
       " 'CADILLAC',\n",
       " 'CHERY',\n",
       " 'CHEVROLET',\n",
       " 'CHRYSLER',\n",
       " 'CITROEN',\n",
       " 'DAEWOO',\n",
       " 'DODGE',\n",
       " 'FORD',\n",
       " 'GEELY',\n",
       " 'HONDA',\n",
       " 'HYUNDAI',\n",
       " 'INFINITI',\n",
       " 'JAGUAR',\n",
       " 'JEEP',\n",
       " 'KIA',\n",
       " 'LEXUS',\n",
       " 'MAZDA',\n",
       " 'MINI',\n",
       " 'MITSUBISHI',\n",
       " 'NISSAN',\n",
       " 'OPEL',\n",
       " 'PEUGEOT',\n",
       " 'PORSCHE',\n",
       " 'RENAULT',\n",
       " 'SKODA',\n",
       " 'SUBARU',\n",
       " 'SUZUKI',\n",
       " 'TOYOTA',\n",
       " 'VOLKSWAGEN',\n",
       " 'VOLVO']"
      ]
     },
     "execution_count": 254,
     "metadata": {},
     "output_type": "execute_result"
    }
   ],
   "source": [
    "list_of_relevant_marks.remove('GREAT WALL')\n",
    "list_of_relevant_marks.remove('LAND ROVER')\n",
    "list_of_relevant_marks.remove('MERCEDES-BENZ')\n",
    "list_of_relevant_marks.remove('SSANGYONG')\n",
    "list_of_relevant_marks"
   ]
  },
  {
   "cell_type": "markdown",
   "metadata": {},
   "source": [
    "## Парсинг"
   ]
  },
  {
   "cell_type": "code",
   "execution_count": 255,
   "metadata": {
    "scrolled": true
   },
   "outputs": [
    {
     "name": "stderr",
     "output_type": "stream",
     "text": [
      "C:\\Anaconda3\\lib\\site-packages\\ipykernel_launcher.py:5: DeprecationWarning: time.clock has been deprecated in Python 3.3 and will be removed from Python 3.8: use time.perf_counter or time.process_time instead\n",
      "  \"\"\"\n",
      "C:\\Anaconda3\\lib\\site-packages\\ipykernel_launcher.py:8: DeprecationWarning: time.clock has been deprecated in Python 3.3 and will be removed from Python 3.8: use time.perf_counter or time.process_time instead\n",
      "  \n",
      "C:\\Anaconda3\\lib\\site-packages\\ipykernel_launcher.py:37: DeprecationWarning: time.clock has been deprecated in Python 3.3 and will be removed from Python 3.8: use time.perf_counter or time.process_time instead\n",
      "C:\\Anaconda3\\lib\\site-packages\\ipykernel_launcher.py:40: DeprecationWarning: time.clock has been deprecated in Python 3.3 and will be removed from Python 3.8: use time.perf_counter or time.process_time instead\n"
     ]
    },
    {
     "name": "stdout",
     "output_type": "stream",
     "text": [
      "1.AUDI          ушло:295 сек., стр. 3660 из 4093 89.42%,  всего стр. 3660, прогноз 102 мин.\n",
      "2.BMW           ушло:454 сек., стр. 5840 из 7423 78.67%,  всего стр. 9500, прогноз 84 мин.\n",
      "3.CADILLAC      ушло:47 сек., стр. 345 из 321 107.48%,    всего стр. 9845, прогноз 86 мин.\n",
      "4.CHERY         ушло:41 сек., стр. 403 из 593 67.96%,     всего стр. 10248, прогноз 86 мин.\n",
      "5.CHEVROLET     ушло:206 сек., стр. 2594 из 3670 70.68%,  всего стр. 12842, прогноз 79 мин.\n",
      "6.CHRYSLER      ушло:43 сек., стр. 243 из 316 76.9%,      всего стр. 13085, прогноз 80 мин.\n",
      "7.CITROEN       ушло:101 сек., стр. 914 из 1142 80.04%,   всего стр. 13999, прогноз 80 мин.\n",
      "8.DAEWOO        ушло:78 сек., стр. 659 из 1024 64.36%,    всего стр. 14658, прогноз 80 мин.\n",
      "9.DODGE         ушло:79 сек., стр. 293 из 413 70.94%,     всего стр. 14951, прогноз 83 мин.\n",
      "10.FORD         ушло:414 сек., стр. 3344 из 4812 69.49%,  всего стр. 18295, прогноз 80 мин.\n",
      "11.GEELY        ушло:49 сек., стр. 209 из 302 69.21%,     всего стр. 18504, прогноз 81 мин.\n",
      "12.HONDA        ушло:199 сек., стр. 845 из 1179 71.67%,   всего стр. 19349, прогноз 84 мин.\n",
      "13.HYUNDAI      ушло:531 сек., стр. 4537 из 5712 79.43%,  всего стр. 23886, прогноз 79 мин.\n",
      "14.INFINITI     ушло:116 сек., стр. 701 из 1041 67.34%,   всего стр. 24587, прогноз 79 мин.\n",
      "15.JAGUAR       ушло:59 сек., стр. 275 из 308 89.29%,     всего стр. 24862, прогноз 79 мин.\n",
      "16.JEEP         ушло:65 сек., стр. 416 из 466 89.27%,     всего стр. 25278, прогноз 79 мин.\n",
      "17.KIA          ушло:615 сек., стр. 4346 из 5595 77.68%,  всего стр. 29624, прогноз 74 мин.\n",
      "18.LEXUS        ушло:139 сек., стр. 982 из 985 99.7%,     всего стр. 30606, прогноз 74 мин.\n",
      "19.MAZDA        ушло:291 сек., стр. 1824 из 2311 78.93%,  всего стр. 32430, прогноз 72 мин.\n",
      "20.MINI         ушло:61 сек., стр. 402 из 313 128.43%,    всего стр. 32832, прогноз 72 мин.\n",
      "21.MITSUBISHI   ушло:398 сек., стр. 3055 из 3935 77.64%,  всего стр. 35887, прогноз 67 мин.\n",
      "22.NISSAN       ушло:609 сек., стр. 4408 из 5776 76.32%,  всего стр. 40295, прогноз 59 мин.\n",
      "23.OPEL         ушло:301 сек., стр. 2253 из 3131 71.96%,  всего стр. 42548, прогноз 54 мин.\n",
      "24.PEUGEOT      ушло:195 сек., стр. 1228 из 1636 75.06%,  всего стр. 43776, прогноз 52 мин.\n",
      "25.PORSCHE      ушло:94 сек., стр. 580 из 714 81.23%,     всего стр. 44356, прогноз 51 мин.\n",
      "26.RENAULT      ушло:411 сек., стр. 3115 из 2771 112.41%, всего стр. 47471, прогноз 47 мин.\n",
      "27.SKODA        ушло:313 сек., стр. 2561 из 2810 91.14%,  всего стр. 50032, прогноз 43 мин.\n",
      "28.SUBARU       ушло:138 сек., стр. 701 из 934 75.05%,    всего стр. 50733, прогноз 42 мин.\n",
      "29.SUZUKI       ушло:170 сек., стр. 872 из 878 99.32%,    всего стр. 51605, прогноз 41 мин.\n",
      "30.TOYOTA       ушло:650 сек., стр. 3026 из 4648 65.1%,   всего стр. 54631, прогноз 34 мин.\n",
      "31.VOLKSWAGEN   ушло:709 сек., стр. 5493 из 7109 77.27%,  всего стр. 60124, прогноз 22 мин.\n",
      "32.VOLVO        ушло:264 сек., стр. 1734 из 2069 83.81%,  всего стр. 61858, прогноз 18 мин.\n",
      "Всего спарсили := 61858 строк, на это ушло: 135 мин., \n"
     ]
    },
    {
     "name": "stderr",
     "output_type": "stream",
     "text": [
      "C:\\Anaconda3\\lib\\site-packages\\ipykernel_launcher.py:53: DeprecationWarning: time.clock has been deprecated in Python 3.3 and will be removed from Python 3.8: use time.perf_counter or time.process_time instead\n"
     ]
    }
   ],
   "source": [
    "auto_ru = {}\n",
    "\n",
    "iter_of_ads, iter_of_marks, old_iter_of_ads, sum_ads, sum_ads_from_dict = 0,0,0,0,0\n",
    "space = ' '\n",
    "start_time_global = time.clock()\n",
    "\n",
    "for mark in list_of_relevant_marks:\n",
    "    start_time = time.clock()\n",
    "    list_of_models = json.loads(df_marks_and_models.loc[mark, 'Models'].replace(\"'\", '\"'))\n",
    "    for model in list_of_models:\n",
    "        for num_page in range(1, 200):\n",
    "            param = {\n",
    "                'catalog_filter' : [{\"mark\": mark, \"model\": model}],\n",
    "                'section': \"all\",\n",
    "                'category': \"cars\",\n",
    "                'sort': \"fresh_relevance_1-desc\",\n",
    "                \"top_days\":\"900\",\n",
    "                \"geo_radius\":200,\n",
    "                \"geo_id\":[213],\n",
    "                'page': num_page\n",
    "            }\n",
    "            response = requests.post(url, json=param, headers = HEADERS)\n",
    "            data = response.json()\n",
    "\n",
    "            if data['offers'] != []:\n",
    "                for elem in data['offers']:\n",
    "                    from_elem_to_dict(elem, dict_columns)\n",
    "                    auto_ru[iter_of_ads] = dict_columns.copy()\n",
    "                    iter_of_ads += 1\n",
    "            else:\n",
    "                break\n",
    "    iter_of_marks +=1\n",
    "    temp_1 = iter_of_ads-old_iter_of_ads\n",
    "    temp_2 = dict_of_num_cars_of_models[mark]\n",
    "    temp_3 = temp_1/temp_2\n",
    "    temp_4 = space*abs(13-len(mark)-len(str(iter_of_marks)))\n",
    "    temp_5 = int(time.clock() - start_time)\n",
    "    temp_8 = round(temp_3*100,2)\n",
    "    temp_7 = space*abs(18-len(str(temp_1))-len(str(temp_2))-len(str(temp_8))-len(str(temp_5)))\n",
    "    temp_9 = int(time.clock() - start_time_global)\n",
    "    \n",
    "\n",
    "    sum_ads += temp_1\n",
    "    sum_ads_from_dict += temp_2\n",
    "    temp_def = sum_ads/sum_ads_from_dict\n",
    "    temp_6 = (sum_of_ads*temp_def - iter_of_ads)*temp_9/sum_ads\n",
    "\n",
    "\n",
    "    print (f'{iter_of_marks}.{mark} {temp_4} ушло:{temp_5} сек., стр. {temp_1} из {temp_2} {temp_8}%,{temp_7}всего стр. {iter_of_ads}, прогноз {int(temp_6/60)} мин.')\n",
    "\n",
    "    old_iter_of_ads=iter_of_ads\n",
    "\n",
    "print (f'Всего спарсили := {iter_of_ads} строк, на это ушло: {int((time.clock() - start_time_global)/60)} мин., ')"
   ]
  },
  {
   "cell_type": "code",
   "execution_count": 256,
   "metadata": {},
   "outputs": [
    {
     "name": "stdout",
     "output_type": "stream",
     "text": [
      "кол-во строк датасета:= 61858\n"
     ]
    }
   ],
   "source": [
    "# запись датасета\n",
    "df_auto_ru = pd.DataFrame(auto_ru).T\n",
    "df_auto_ru.to_csv(PATH_to_file+'all_auto_ru_02_12_2020.csv', index=False)\n",
    "print(f'кол-во строк датасета:= {len(df_auto_ru)}')"
   ]
  },
  {
   "cell_type": "code",
   "execution_count": null,
   "metadata": {},
   "outputs": [],
   "source": []
  }
 ],
 "metadata": {
  "kernelspec": {
   "display_name": "Python 3",
   "language": "python",
   "name": "python3"
  },
  "language_info": {
   "codemirror_mode": {
    "name": "ipython",
    "version": 3
   },
   "file_extension": ".py",
   "mimetype": "text/x-python",
   "name": "python",
   "nbconvert_exporter": "python",
   "pygments_lexer": "ipython3",
   "version": "3.7.3"
  }
 },
 "nbformat": 4,
 "nbformat_minor": 4
}
