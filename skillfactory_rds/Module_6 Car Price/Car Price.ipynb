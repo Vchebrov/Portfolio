{
 "cells": [
  {
   "cell_type": "code",
   "execution_count": 1,
   "metadata": {},
   "outputs": [],
   "source": [
    "import pandas as pd\n",
    "PATH_to_file = './data/'\n",
    "RANDOM_SEED = 42"
   ]
  },
  {
   "cell_type": "markdown",
   "metadata": {},
   "source": [
    "### 1. Парсинг выполнен в отдельном ноутбуке. Данные от 2.12.2020"
   ]
  },
  {
   "cell_type": "markdown",
   "metadata": {},
   "source": [
    "В этом разделе выполним предобработку тренировочного набора данных и объединение его с тестовым, для EDA и Feature Engineering "
   ]
  },
  {
   "cell_type": "code",
   "execution_count": 2,
   "metadata": {},
   "outputs": [],
   "source": [
    "# тренировочная выборка, полученная парсингом\n",
    "df = pd.read_csv(PATH_to_file + 'all_auto_ru_02_12_2020.csv')"
   ]
  },
  {
   "cell_type": "markdown",
   "metadata": {},
   "source": [
    "Посмотрим наименование и количество столбцов"
   ]
  },
  {
   "cell_type": "code",
   "execution_count": 3,
   "metadata": {},
   "outputs": [
    {
     "name": "stdout",
     "output_type": "stream",
     "text": [
      "Index(['bodyType', 'brand', 'color', 'fuelType', 'modelDate', 'name',\n",
      "       'numberOfDoors', 'productionDate', 'vehicleConfiguration',\n",
      "       'vehicleTransmission', 'engineDisplacement', 'enginePower',\n",
      "       'description', 'mileage', 'Комплектация', 'Привод', 'Руль', 'Состояние',\n",
      "       'Владельцы', 'ПТС', 'Таможня', 'Владение', 'price', 'start_date',\n",
      "       'hidden', 'model'],\n",
      "      dtype='object')\n"
     ]
    },
    {
     "data": {
      "text/plain": [
       "26"
      ]
     },
     "execution_count": 3,
     "metadata": {},
     "output_type": "execute_result"
    }
   ],
   "source": [
    "print(df.columns)\n",
    "len(df.columns)"
   ]
  },
  {
   "cell_type": "markdown",
   "metadata": {},
   "source": [
    "Загрузим тестовую выборку, чтоб сверить количество и наименование признаков"
   ]
  },
  {
   "cell_type": "code",
   "execution_count": 4,
   "metadata": {},
   "outputs": [],
   "source": [
    "test = pd.read_csv(PATH_to_file + 'test.csv')"
   ]
  },
  {
   "cell_type": "markdown",
   "metadata": {},
   "source": [
    "Проверим общие колонки и, возможно, с разным наименованием, но одним содержанием"
   ]
  },
  {
   "cell_type": "code",
   "execution_count": 5,
   "metadata": {},
   "outputs": [],
   "source": [
    "df_col = df.columns\n",
    "test_col = test.columns"
   ]
  },
  {
   "cell_type": "code",
   "execution_count": 6,
   "metadata": {},
   "outputs": [
    {
     "name": "stdout",
     "output_type": "stream",
     "text": [
      "Количество общих столбцов и их наименование =  21 ['bodyType', 'brand', 'color', 'description', 'engineDisplacement', 'enginePower', 'fuelType', 'mileage', 'modelDate', 'name', 'numberOfDoors', 'productionDate', 'vehicleConfiguration', 'vehicleTransmission', 'Владельцы', 'Владение', 'ПТС', 'Привод', 'Руль', 'Состояние', 'Таможня']\n",
      "            \n",
      "Количество столбцов содержащихся только в выборке Test и наименованиев =  11 ['car_url', 'complectation_dict', 'equipment_dict', 'image', 'model_info', 'model_name', 'parsing_unixtime', 'priceCurrency', 'sell_id', 'super_gen', 'vendor']\n"
     ]
    }
   ],
   "source": [
    "common_col = []\n",
    "t_col = []\n",
    "count = 0\n",
    "t = 0\n",
    "for col in test_col:\n",
    "    if col in df_col:\n",
    "        common_col.append(col)\n",
    "        count +=1\n",
    "    else:\n",
    "        t_col.append(col)\n",
    "        t +=1\n",
    "print('Количество общих столбцов и их наименование = ',count, common_col)\n",
    "print('            ')\n",
    "print('Количество столбцов содержащихся только в выборке Test и наименованиев = ', t, t_col)"
   ]
  },
  {
   "cell_type": "markdown",
   "metadata": {},
   "source": [
    "Посмотрим, какие столбцы не попали в категорию общих."
   ]
  },
  {
   "cell_type": "code",
   "execution_count": 7,
   "metadata": {},
   "outputs": [],
   "source": [
    "df_compare = df.drop(common_col, axis = 1)"
   ]
  },
  {
   "cell_type": "code",
   "execution_count": 8,
   "metadata": {},
   "outputs": [
    {
     "data": {
      "text/html": [
       "<div>\n",
       "<style scoped>\n",
       "    .dataframe tbody tr th:only-of-type {\n",
       "        vertical-align: middle;\n",
       "    }\n",
       "\n",
       "    .dataframe tbody tr th {\n",
       "        vertical-align: top;\n",
       "    }\n",
       "\n",
       "    .dataframe thead th {\n",
       "        text-align: right;\n",
       "    }\n",
       "</style>\n",
       "<table border=\"1\" class=\"dataframe\">\n",
       "  <thead>\n",
       "    <tr style=\"text-align: right;\">\n",
       "      <th></th>\n",
       "      <th>Комплектация</th>\n",
       "      <th>price</th>\n",
       "      <th>start_date</th>\n",
       "      <th>hidden</th>\n",
       "      <th>model</th>\n",
       "    </tr>\n",
       "  </thead>\n",
       "  <tbody>\n",
       "    <tr>\n",
       "      <th>0</th>\n",
       "      <td>{'id': '0'}</td>\n",
       "      <td>200000.0</td>\n",
       "      <td>2020-11-08T17:23:26Z</td>\n",
       "      <td>NaN</td>\n",
       "      <td>100</td>\n",
       "    </tr>\n",
       "    <tr>\n",
       "      <th>1</th>\n",
       "      <td>{'id': '0'}</td>\n",
       "      <td>125000.0</td>\n",
       "      <td>2020-10-16T16:28:14Z</td>\n",
       "      <td>NaN</td>\n",
       "      <td>100</td>\n",
       "    </tr>\n",
       "    <tr>\n",
       "      <th>2</th>\n",
       "      <td>{'id': '0'}</td>\n",
       "      <td>185000.0</td>\n",
       "      <td>2020-11-28T09:37:37Z</td>\n",
       "      <td>NaN</td>\n",
       "      <td>100</td>\n",
       "    </tr>\n",
       "    <tr>\n",
       "      <th>3</th>\n",
       "      <td>{'id': '0'}</td>\n",
       "      <td>100000.0</td>\n",
       "      <td>2020-09-13T12:59:14Z</td>\n",
       "      <td>NaN</td>\n",
       "      <td>100</td>\n",
       "    </tr>\n",
       "    <tr>\n",
       "      <th>4</th>\n",
       "      <td>{'id': '0'}</td>\n",
       "      <td>65000.0</td>\n",
       "      <td>2020-11-18T09:00:59Z</td>\n",
       "      <td>NaN</td>\n",
       "      <td>100</td>\n",
       "    </tr>\n",
       "  </tbody>\n",
       "</table>\n",
       "</div>"
      ],
      "text/plain": [
       "  Комплектация     price            start_date  hidden model\n",
       "0  {'id': '0'}  200000.0  2020-11-08T17:23:26Z     NaN   100\n",
       "1  {'id': '0'}  125000.0  2020-10-16T16:28:14Z     NaN   100\n",
       "2  {'id': '0'}  185000.0  2020-11-28T09:37:37Z     NaN   100\n",
       "3  {'id': '0'}  100000.0  2020-09-13T12:59:14Z     NaN   100\n",
       "4  {'id': '0'}   65000.0  2020-11-18T09:00:59Z     NaN   100"
      ]
     },
     "execution_count": 8,
     "metadata": {},
     "output_type": "execute_result"
    }
   ],
   "source": [
    "df_compare.head()"
   ]
  },
  {
   "cell_type": "code",
   "execution_count": 9,
   "metadata": {},
   "outputs": [],
   "source": [
    "test_compare = test.drop(common_col, axis = 1)"
   ]
  },
  {
   "cell_type": "code",
   "execution_count": 10,
   "metadata": {},
   "outputs": [
    {
     "data": {
      "text/html": [
       "<div>\n",
       "<style scoped>\n",
       "    .dataframe tbody tr th:only-of-type {\n",
       "        vertical-align: middle;\n",
       "    }\n",
       "\n",
       "    .dataframe tbody tr th {\n",
       "        vertical-align: top;\n",
       "    }\n",
       "\n",
       "    .dataframe thead th {\n",
       "        text-align: right;\n",
       "    }\n",
       "</style>\n",
       "<table border=\"1\" class=\"dataframe\">\n",
       "  <thead>\n",
       "    <tr style=\"text-align: right;\">\n",
       "      <th></th>\n",
       "      <th>car_url</th>\n",
       "      <th>complectation_dict</th>\n",
       "      <th>equipment_dict</th>\n",
       "      <th>image</th>\n",
       "      <th>model_info</th>\n",
       "      <th>model_name</th>\n",
       "      <th>parsing_unixtime</th>\n",
       "      <th>priceCurrency</th>\n",
       "      <th>sell_id</th>\n",
       "      <th>super_gen</th>\n",
       "      <th>vendor</th>\n",
       "    </tr>\n",
       "  </thead>\n",
       "  <tbody>\n",
       "    <tr>\n",
       "      <th>0</th>\n",
       "      <td>https://auto.ru/cars/used/sale/skoda/octavia/1...</td>\n",
       "      <td>NaN</td>\n",
       "      <td>{\"engine-proof\":true,\"tinted-glass\":true,\"airb...</td>\n",
       "      <td>https://autoru.naydex.net/o9DBXQ270/5ac010hAY0...</td>\n",
       "      <td>{\"code\":\"OCTAVIA\",\"name\":\"Octavia\",\"ru_name\":\"...</td>\n",
       "      <td>OCTAVIA</td>\n",
       "      <td>1603226273</td>\n",
       "      <td>RUB</td>\n",
       "      <td>1100575026</td>\n",
       "      <td>{\"id\":\"10373605\",\"displacement\":1197,\"engine_t...</td>\n",
       "      <td>EUROPEAN</td>\n",
       "    </tr>\n",
       "    <tr>\n",
       "      <th>1</th>\n",
       "      <td>https://auto.ru/cars/used/sale/skoda/octavia/1...</td>\n",
       "      <td>NaN</td>\n",
       "      <td>{\"cruise-control\":true,\"asr\":true,\"esp\":true,\"...</td>\n",
       "      <td>https://autoru.naydex.net/o9DBXQ270/5ac010hAY0...</td>\n",
       "      <td>{\"code\":\"OCTAVIA\",\"name\":\"Octavia\",\"ru_name\":\"...</td>\n",
       "      <td>OCTAVIA</td>\n",
       "      <td>1603226277</td>\n",
       "      <td>RUB</td>\n",
       "      <td>1100549428</td>\n",
       "      <td>{\"id\":\"20913311\",\"displacement\":1598,\"engine_t...</td>\n",
       "      <td>EUROPEAN</td>\n",
       "    </tr>\n",
       "    <tr>\n",
       "      <th>2</th>\n",
       "      <td>https://auto.ru/cars/used/sale/skoda/superb/11...</td>\n",
       "      <td>{\"id\":\"20026336\",\"name\":\"Ambition\",\"available_...</td>\n",
       "      <td>{\"cruise-control\":true,\"tinted-glass\":true,\"es...</td>\n",
       "      <td>https://avatars.mds.yandex.net/get-autoru-vos/...</td>\n",
       "      <td>{\"code\":\"SUPERB\",\"name\":\"Superb\",\"ru_name\":\"Су...</td>\n",
       "      <td>SUPERB</td>\n",
       "      <td>1603226280</td>\n",
       "      <td>RUB</td>\n",
       "      <td>1100658222</td>\n",
       "      <td>{\"id\":\"20026323\",\"nameplate\":\"DSG\",\"displaceme...</td>\n",
       "      <td>EUROPEAN</td>\n",
       "    </tr>\n",
       "    <tr>\n",
       "      <th>3</th>\n",
       "      <td>https://auto.ru/cars/used/sale/skoda/octavia/1...</td>\n",
       "      <td>{\"id\":\"20803582\",\"name\":\"Ambition\",\"available_...</td>\n",
       "      <td>{\"cruise-control\":true,\"roller-blind-for-rear-...</td>\n",
       "      <td>https://autoru.naydex.net/o9DBXQ270/5ac010hAY0...</td>\n",
       "      <td>{\"code\":\"OCTAVIA\",\"name\":\"Octavia\",\"ru_name\":\"...</td>\n",
       "      <td>OCTAVIA</td>\n",
       "      <td>1603226284</td>\n",
       "      <td>RUB</td>\n",
       "      <td>1100937408</td>\n",
       "      <td>{\"id\":\"20105521\",\"displacement\":1598,\"engine_t...</td>\n",
       "      <td>EUROPEAN</td>\n",
       "    </tr>\n",
       "    <tr>\n",
       "      <th>4</th>\n",
       "      <td>https://auto.ru/cars/used/sale/skoda/octavia/1...</td>\n",
       "      <td>NaN</td>\n",
       "      <td>{\"cruise-control\":true,\"asr\":true,\"esp\":true,\"...</td>\n",
       "      <td>https://autoru.naydex.net/o9DBXQ270/5ac010hAY0...</td>\n",
       "      <td>{\"code\":\"OCTAVIA\",\"name\":\"Octavia\",\"ru_name\":\"...</td>\n",
       "      <td>OCTAVIA</td>\n",
       "      <td>1603226288</td>\n",
       "      <td>RUB</td>\n",
       "      <td>1101037972</td>\n",
       "      <td>{\"id\":\"4561004\",\"displacement\":1798,\"engine_ty...</td>\n",
       "      <td>EUROPEAN</td>\n",
       "    </tr>\n",
       "  </tbody>\n",
       "</table>\n",
       "</div>"
      ],
      "text/plain": [
       "                                             car_url  \\\n",
       "0  https://auto.ru/cars/used/sale/skoda/octavia/1...   \n",
       "1  https://auto.ru/cars/used/sale/skoda/octavia/1...   \n",
       "2  https://auto.ru/cars/used/sale/skoda/superb/11...   \n",
       "3  https://auto.ru/cars/used/sale/skoda/octavia/1...   \n",
       "4  https://auto.ru/cars/used/sale/skoda/octavia/1...   \n",
       "\n",
       "                                  complectation_dict  \\\n",
       "0                                                NaN   \n",
       "1                                                NaN   \n",
       "2  {\"id\":\"20026336\",\"name\":\"Ambition\",\"available_...   \n",
       "3  {\"id\":\"20803582\",\"name\":\"Ambition\",\"available_...   \n",
       "4                                                NaN   \n",
       "\n",
       "                                      equipment_dict  \\\n",
       "0  {\"engine-proof\":true,\"tinted-glass\":true,\"airb...   \n",
       "1  {\"cruise-control\":true,\"asr\":true,\"esp\":true,\"...   \n",
       "2  {\"cruise-control\":true,\"tinted-glass\":true,\"es...   \n",
       "3  {\"cruise-control\":true,\"roller-blind-for-rear-...   \n",
       "4  {\"cruise-control\":true,\"asr\":true,\"esp\":true,\"...   \n",
       "\n",
       "                                               image  \\\n",
       "0  https://autoru.naydex.net/o9DBXQ270/5ac010hAY0...   \n",
       "1  https://autoru.naydex.net/o9DBXQ270/5ac010hAY0...   \n",
       "2  https://avatars.mds.yandex.net/get-autoru-vos/...   \n",
       "3  https://autoru.naydex.net/o9DBXQ270/5ac010hAY0...   \n",
       "4  https://autoru.naydex.net/o9DBXQ270/5ac010hAY0...   \n",
       "\n",
       "                                          model_info model_name  \\\n",
       "0  {\"code\":\"OCTAVIA\",\"name\":\"Octavia\",\"ru_name\":\"...    OCTAVIA   \n",
       "1  {\"code\":\"OCTAVIA\",\"name\":\"Octavia\",\"ru_name\":\"...    OCTAVIA   \n",
       "2  {\"code\":\"SUPERB\",\"name\":\"Superb\",\"ru_name\":\"Су...     SUPERB   \n",
       "3  {\"code\":\"OCTAVIA\",\"name\":\"Octavia\",\"ru_name\":\"...    OCTAVIA   \n",
       "4  {\"code\":\"OCTAVIA\",\"name\":\"Octavia\",\"ru_name\":\"...    OCTAVIA   \n",
       "\n",
       "   parsing_unixtime priceCurrency     sell_id  \\\n",
       "0        1603226273           RUB  1100575026   \n",
       "1        1603226277           RUB  1100549428   \n",
       "2        1603226280           RUB  1100658222   \n",
       "3        1603226284           RUB  1100937408   \n",
       "4        1603226288           RUB  1101037972   \n",
       "\n",
       "                                           super_gen    vendor  \n",
       "0  {\"id\":\"10373605\",\"displacement\":1197,\"engine_t...  EUROPEAN  \n",
       "1  {\"id\":\"20913311\",\"displacement\":1598,\"engine_t...  EUROPEAN  \n",
       "2  {\"id\":\"20026323\",\"nameplate\":\"DSG\",\"displaceme...  EUROPEAN  \n",
       "3  {\"id\":\"20105521\",\"displacement\":1598,\"engine_t...  EUROPEAN  \n",
       "4  {\"id\":\"4561004\",\"displacement\":1798,\"engine_ty...  EUROPEAN  "
      ]
     },
     "execution_count": 10,
     "metadata": {},
     "output_type": "execute_result"
    }
   ],
   "source": [
    "test_compare.head()"
   ]
  },
  {
   "cell_type": "markdown",
   "metadata": {},
   "source": [
    "Для формирования общего датасета, согласно сравнения, необходимо сделать следующие модификация датасетов:\n",
    "\n",
    "#### Переименовать в df:\n",
    "- Комплектация - complectation_dict\n",
    "\n",
    "#### Убрать из df:\n",
    "- hidden\n",
    "- start_date\n",
    "\n",
    "#### Добавить в df: \n",
    "- VENDOR\n",
    "- train = 1\n",
    "\n",
    "#### Убрать из test:\n",
    "- parsing_unixtime\n",
    "- car_url\n",
    "- priceCurrency\n",
    "- image\n",
    "- sell_id\n",
    "- super_gen\n",
    "\n",
    "#### Переименовать в test:\n",
    "- models_name - model\n",
    "#### Добавить в test:\n",
    "- train = 0\n",
    "\n",
    "#### Price - целевая переменная "
   ]
  },
  {
   "cell_type": "markdown",
   "metadata": {},
   "source": [
    "### Чистим датасеты от лишних столбцов"
   ]
  },
  {
   "cell_type": "code",
   "execution_count": 11,
   "metadata": {},
   "outputs": [],
   "source": [
    "df = df.rename({'Комплектация':'complectation_dict'}, axis='columns')"
   ]
  },
  {
   "cell_type": "code",
   "execution_count": 12,
   "metadata": {},
   "outputs": [],
   "source": [
    "df = df.drop(['hidden', 'start_date'], axis = 1)"
   ]
  },
  {
   "cell_type": "markdown",
   "metadata": {},
   "source": [
    "Разметим датасеты, добавив столбец train"
   ]
  },
  {
   "cell_type": "code",
   "execution_count": 13,
   "metadata": {},
   "outputs": [],
   "source": [
    "df['train'] = 1\n",
    "test['train'] = 0"
   ]
  },
  {
   "cell_type": "code",
   "execution_count": 14,
   "metadata": {},
   "outputs": [],
   "source": [
    "test = test.rename({'model_name':'model'}, axis='columns')"
   ]
  },
  {
   "cell_type": "code",
   "execution_count": 15,
   "metadata": {},
   "outputs": [],
   "source": [
    "test = test.drop(['parsing_unixtime', 'car_url', 'priceCurrency', 'image', \n",
    "                  'sell_id', 'super_gen','model_info','equipment_dict'], axis = 1)"
   ]
  },
  {
   "cell_type": "code",
   "execution_count": 16,
   "metadata": {},
   "outputs": [],
   "source": [
    "df_col = df.columns\n",
    "test_col = test.columns"
   ]
  },
  {
   "cell_type": "code",
   "execution_count": 17,
   "metadata": {},
   "outputs": [
    {
     "name": "stdout",
     "output_type": "stream",
     "text": [
      "24 ['bodyType', 'brand', 'color', 'complectation_dict', 'description', 'engineDisplacement', 'enginePower', 'fuelType', 'mileage', 'modelDate', 'model', 'name', 'numberOfDoors', 'productionDate', 'vehicleConfiguration', 'vehicleTransmission', 'Владельцы', 'Владение', 'ПТС', 'Привод', 'Руль', 'Состояние', 'Таможня', 'train']\n",
      "1 ['vendor']\n"
     ]
    }
   ],
   "source": [
    "common_col = []\n",
    "t_col = []\n",
    "count = 0\n",
    "t = 0\n",
    "for col in test_col:\n",
    "    if col in df_col:\n",
    "        common_col.append(col)\n",
    "        count +=1\n",
    "    else:\n",
    "        t_col.append(col)\n",
    "        t +=1\n",
    "print(count, common_col)\n",
    "print(t, t_col)"
   ]
  },
  {
   "cell_type": "markdown",
   "metadata": {},
   "source": [
    "Остался один столбец vendor, который отсутвует в тренировочном датасете. Добавим его"
   ]
  },
  {
   "cell_type": "code",
   "execution_count": 18,
   "metadata": {},
   "outputs": [],
   "source": [
    "vendors = {'BMW':'EUROPEAN',\n",
    " 'VOLKSWAGEN':'EUROPEAN',\n",
    " 'MERCEDES': 'EUROPEAN',\n",
    " 'HYUNDAI':'KOREA',\n",
    " 'NISSAN':'JAPANESE',\n",
    " 'KIA':'KOREA',\n",
    " 'AUDI':'EUROPEAN',\n",
    " 'FORD':'USA',\n",
    " 'RENAULT':'EUROPEAN',\n",
    " 'MITSUBISHI':'JAPANESE',\n",
    " 'TOYOTA':'JAPANESE',\n",
    " 'CHEVROLET':'USA',\n",
    " 'SKODA':'EUROPEAN',\n",
    " 'OPEL':'EUROPEAN',\n",
    " 'MAZDA':'JAPANESE',\n",
    " 'VOLVO':'EUROPEAN',\n",
    " 'PEUGEOT':'EUROPEAN',\n",
    " 'LEXUS':'JAPANESE',\n",
    " 'CITROEN':'EUROPEAN',\n",
    " 'SUZUKI':'JAPANESE',\n",
    " 'HONDA':'JAPANESE',\n",
    " 'SUBARU':'JAPANESE',\n",
    " 'INFINITI':'JAPANESE',\n",
    " 'DAEWOO':'KOREA',\n",
    " 'PORSCHE':'EUROPEAN',\n",
    " 'JEEP':'USA',\n",
    " 'CHERY':'CHINA',\n",
    " 'MINI':'EUROPEAN',\n",
    " 'CADILLAC':'USA',\n",
    " 'DODGE':'USA',\n",
    " 'JAGUAR':'EUROPEAN',\n",
    " 'CHRYSLER':'USA',\n",
    " 'GEELY':'CHINA'}\n",
    "\n",
    "df['vendor'] = df['brand']\n",
    "for brand in df.brand:\n",
    "    df['vendor'] = df['vendor'].replace(brand, vendors[brand])"
   ]
  },
  {
   "cell_type": "code",
   "execution_count": 19,
   "metadata": {},
   "outputs": [],
   "source": [
    "# test['price'] = 0"
   ]
  },
  {
   "cell_type": "markdown",
   "metadata": {},
   "source": [
    "Объединим датасеты"
   ]
  },
  {
   "cell_type": "markdown",
   "metadata": {},
   "source": [
    "В тренировочном датасете 227 пропусков в цене. Уберем их"
   ]
  },
  {
   "cell_type": "code",
   "execution_count": 20,
   "metadata": {},
   "outputs": [
    {
     "data": {
      "text/plain": [
       "0"
      ]
     },
     "execution_count": 20,
     "metadata": {},
     "output_type": "execute_result"
    }
   ],
   "source": [
    "df['price'] = df['price'].fillna(0)\n",
    "df = df[df['price'] != 0]\n",
    "df['price'].isna().sum()"
   ]
  },
  {
   "cell_type": "code",
   "execution_count": 21,
   "metadata": {},
   "outputs": [],
   "source": [
    "data = test.append(df, sort=False).reset_index(drop=True)"
   ]
  },
  {
   "cell_type": "code",
   "execution_count": 22,
   "metadata": {},
   "outputs": [
    {
     "data": {
      "text/plain": [
       "0"
      ]
     },
     "execution_count": 22,
     "metadata": {},
     "output_type": "execute_result"
    }
   ],
   "source": [
    "df['price'].isna().sum()"
   ]
  },
  {
   "cell_type": "code",
   "execution_count": 23,
   "metadata": {
    "scrolled": true
   },
   "outputs": [
    {
     "name": "stdout",
     "output_type": "stream",
     "text": [
      "<class 'pandas.core.frame.DataFrame'>\n",
      "RangeIndex: 96317 entries, 0 to 96316\n",
      "Data columns (total 26 columns):\n",
      " #   Column                Non-Null Count  Dtype  \n",
      "---  ------                --------------  -----  \n",
      " 0   bodyType              96315 non-null  object \n",
      " 1   brand                 96317 non-null  object \n",
      " 2   color                 96317 non-null  object \n",
      " 3   complectation_dict    68049 non-null  object \n",
      " 4   description           94463 non-null  object \n",
      " 5   engineDisplacement    96315 non-null  object \n",
      " 6   enginePower           96315 non-null  object \n",
      " 7   fuelType              96317 non-null  object \n",
      " 8   mileage               96317 non-null  int64  \n",
      " 9   modelDate             96315 non-null  float64\n",
      " 10  model                 96317 non-null  object \n",
      " 11  name                  96315 non-null  object \n",
      " 12  numberOfDoors         96315 non-null  float64\n",
      " 13  productionDate        96317 non-null  int64  \n",
      " 14  vehicleConfiguration  96315 non-null  object \n",
      " 15  vehicleTransmission   96315 non-null  object \n",
      " 16  vendor                96317 non-null  object \n",
      " 17  Владельцы             84911 non-null  object \n",
      " 18  Владение              27959 non-null  object \n",
      " 19  ПТС                   95983 non-null  object \n",
      " 20  Привод                96315 non-null  object \n",
      " 21  Руль                  96317 non-null  object \n",
      " 22  Состояние             34686 non-null  object \n",
      " 23  Таможня               96317 non-null  object \n",
      " 24  train                 96317 non-null  int64  \n",
      " 25  price                 61631 non-null  float64\n",
      "dtypes: float64(3), int64(3), object(20)\n",
      "memory usage: 11.8+ MB\n"
     ]
    }
   ],
   "source": [
    "data.info()"
   ]
  },
  {
   "cell_type": "markdown",
   "metadata": {},
   "source": [
    "Всего получилось 96316 строк в общем датасете. Большая часть данных типа Object, что в большинстве своем носит, скорее всего, категориальный характер данных.\n",
    "\n"
   ]
  },
  {
   "cell_type": "markdown",
   "metadata": {},
   "source": [
    "### 2. EDA & Feature engineering"
   ]
  },
  {
   "cell_type": "markdown",
   "metadata": {},
   "source": [
    "Проверким столбцы на пропуски"
   ]
  },
  {
   "cell_type": "code",
   "execution_count": 24,
   "metadata": {},
   "outputs": [
    {
     "name": "stdout",
     "output_type": "stream",
     "text": [
      "bodyType 2\n",
      "brand 0\n",
      "color 0\n",
      "complectation_dict 28268\n",
      "description 1854\n",
      "engineDisplacement 2\n",
      "enginePower 2\n",
      "fuelType 0\n",
      "mileage 0\n",
      "modelDate 2\n",
      "model 0\n",
      "name 2\n",
      "numberOfDoors 2\n",
      "productionDate 0\n",
      "vehicleConfiguration 2\n",
      "vehicleTransmission 2\n",
      "vendor 0\n",
      "Владельцы 11406\n",
      "Владение 68358\n",
      "ПТС 334\n",
      "Привод 2\n",
      "Руль 0\n",
      "Состояние 61631\n",
      "Таможня 0\n",
      "train 0\n",
      "price 34686\n"
     ]
    }
   ],
   "source": [
    "def nan_check(col):\n",
    "    return data[col].isna().sum()\n",
    "\n",
    "column = data.columns\n",
    "for i in column:\n",
    "    print(i, nan_check(i))"
   ]
  },
  {
   "cell_type": "code",
   "execution_count": 25,
   "metadata": {
    "scrolled": true
   },
   "outputs": [],
   "source": [
    "def fillna(col):\n",
    "    data[col] = data[col].fillna('None')\n"
   ]
  },
  {
   "cell_type": "markdown",
   "metadata": {},
   "source": [
    "Отметим пропуски меткой None"
   ]
  },
  {
   "cell_type": "code",
   "execution_count": 26,
   "metadata": {},
   "outputs": [],
   "source": [
    "column = data.columns\n",
    "for i in column:\n",
    "    fillna(i)"
   ]
  },
  {
   "cell_type": "markdown",
   "metadata": {},
   "source": [
    "Для столбцов, в которых по 2 пропуска, будем удалять целиком строки."
   ]
  },
  {
   "cell_type": "code",
   "execution_count": 27,
   "metadata": {},
   "outputs": [],
   "source": [
    "df = data[(data['bodyType']!='None')&(data['engineDisplacement']!='None')&\n",
    "     (data['enginePower']!='None')&(data['modelDate']!='None')&\n",
    "     (data['name']!='None')&(data['numberOfDoors']!='None')&\n",
    "     (data['vehicleConfiguration']!='None')&(data['vehicleTransmission']!='None')&\n",
    "    (data['Привод']!='None')]"
   ]
  },
  {
   "cell_type": "markdown",
   "metadata": {},
   "source": [
    "Добавим столбец с рейтингм продажи автомобилей за октябрь 2020 года"
   ]
  },
  {
   "cell_type": "code",
   "execution_count": 28,
   "metadata": {},
   "outputs": [
    {
     "name": "stderr",
     "output_type": "stream",
     "text": [
      "C:\\Anaconda3\\lib\\site-packages\\ipykernel_launcher.py:35: SettingWithCopyWarning: \n",
      "A value is trying to be set on a copy of a slice from a DataFrame.\n",
      "Try using .loc[row_indexer,col_indexer] = value instead\n",
      "\n",
      "See the caveats in the documentation: https://pandas.pydata.org/pandas-docs/stable/user_guide/indexing.html#returning-a-view-versus-a-copy\n",
      "C:\\Anaconda3\\lib\\site-packages\\ipykernel_launcher.py:37: SettingWithCopyWarning: \n",
      "A value is trying to be set on a copy of a slice from a DataFrame.\n",
      "Try using .loc[row_indexer,col_indexer] = value instead\n",
      "\n",
      "See the caveats in the documentation: https://pandas.pydata.org/pandas-docs/stable/user_guide/indexing.html#returning-a-view-versus-a-copy\n"
     ]
    }
   ],
   "source": [
    "brand_rating = {'BMW':'0',\n",
    " 'VOLKSWAGEN':'6',\n",
    " 'MERCEDES':'0',\n",
    " 'HYUNDAI':'3',\n",
    " 'NISSAN':'8',\n",
    " 'KIA':'2',\n",
    " 'AUDI':'18',\n",
    " 'FORD':'48',\n",
    " 'RENAULT':'4',\n",
    " 'MITSUBISHI':'11',\n",
    " 'TOYOTA':'7',\n",
    " 'CHEVROLET':'41',\n",
    " 'SKODA':'5',\n",
    " 'OPEL':'37',\n",
    " 'MAZDA':'12',\n",
    " 'VOLVO':'19',\n",
    " 'PEUGEOT':'27',\n",
    " 'LEXUS':'14',\n",
    " 'CITROEN':'29',\n",
    " 'SUZUKI':'21',\n",
    " 'HONDA':'35',\n",
    " 'SUBARU':'24',\n",
    " 'INFINITI':'30',\n",
    " 'DAEWOO':'0',\n",
    " 'PORSCHE':'26',\n",
    " 'JEEP':'34',\n",
    " 'CHERY':'17',\n",
    " 'MINI':'0',\n",
    " 'CADILLAC':'33',\n",
    " 'DODGE':'0',\n",
    " 'JAGUAR':'38',\n",
    " 'CHRYSLER':'47',\n",
    " 'GEELY':'13'}\n",
    "\n",
    "df['brand_rating'] = df['brand']\n",
    "for brand in data.brand:\n",
    "    df['brand_rating'] = df['brand_rating'].replace(brand, brand_rating[brand])"
   ]
  },
  {
   "cell_type": "markdown",
   "metadata": {},
   "source": [
    "Сохраним подгтовленный датасет в файл, чтоб не тратить время на обработку"
   ]
  },
  {
   "cell_type": "code",
   "execution_count": 29,
   "metadata": {},
   "outputs": [],
   "source": [
    "df.to_csv(PATH_to_file+'for_EDA.csv', index=False)"
   ]
  },
  {
   "cell_type": "markdown",
   "metadata": {},
   "source": [
    "### 2.1 Проверим каждый столбец отдельно"
   ]
  },
  {
   "cell_type": "code",
   "execution_count": 5,
   "metadata": {},
   "outputs": [],
   "source": [
    "import pandas as pd\n",
    "from datetime import datetime, date, time\n",
    "\n",
    "PATH_to_file = './data/'\n",
    "RANDOM_SEED = 42\n",
    "now = datetime.now()"
   ]
  },
  {
   "cell_type": "code",
   "execution_count": 6,
   "metadata": {},
   "outputs": [
    {
     "name": "stderr",
     "output_type": "stream",
     "text": [
      "C:\\Anaconda3\\lib\\site-packages\\IPython\\core\\interactiveshell.py:3147: DtypeWarning: Columns (6,23,25) have mixed types.Specify dtype option on import or set low_memory=False.\n",
      "  interactivity=interactivity, compiler=compiler, result=result)\n"
     ]
    }
   ],
   "source": [
    "df = pd.read_csv(PATH_to_file+'for_EDA.csv')"
   ]
  },
  {
   "cell_type": "markdown",
   "metadata": {},
   "source": [
    "#### BodyType"
   ]
  },
  {
   "cell_type": "markdown",
   "metadata": {},
   "source": [
    "Посмотрим форму представления признака"
   ]
  },
  {
   "cell_type": "code",
   "execution_count": null,
   "metadata": {},
   "outputs": [],
   "source": [
    "df['bodyType'].unique()"
   ]
  },
  {
   "cell_type": "markdown",
   "metadata": {},
   "source": [
    "Представим в форме наименования кузова"
   ]
  },
  {
   "cell_type": "code",
   "execution_count": 8,
   "metadata": {},
   "outputs": [],
   "source": [
    "df['bodyType'] = df['bodyType'].apply(lambda x: (x.split(' ')[0]).lower())"
   ]
  },
  {
   "cell_type": "code",
   "execution_count": 9,
   "metadata": {},
   "outputs": [
    {
     "data": {
      "text/plain": [
       "0            лифтбек\n",
       "1            лифтбек\n",
       "2            лифтбек\n",
       "3            лифтбек\n",
       "4            лифтбек\n",
       "            ...     \n",
       "96310    внедорожник\n",
       "96311    внедорожник\n",
       "96312    внедорожник\n",
       "96313    внедорожник\n",
       "96314    внедорожник\n",
       "Name: bodyType, Length: 96315, dtype: object"
      ]
     },
     "execution_count": 9,
     "metadata": {},
     "output_type": "execute_result"
    }
   ],
   "source": [
    "df['bodyType']"
   ]
  },
  {
   "cell_type": "markdown",
   "metadata": {},
   "source": [
    "#### Brand"
   ]
  },
  {
   "cell_type": "markdown",
   "metadata": {},
   "source": [
    "В столбце brand никаких сюрпризов"
   ]
  },
  {
   "cell_type": "code",
   "execution_count": 10,
   "metadata": {},
   "outputs": [
    {
     "data": {
      "text/plain": [
       "array(['SKODA', 'AUDI', 'HONDA', 'VOLVO', 'BMW', 'NISSAN', 'INFINITI',\n",
       "       'MERCEDES', 'TOYOTA', 'LEXUS', 'VOLKSWAGEN', 'MITSUBISHI',\n",
       "       'CADILLAC', 'CHERY', 'CHEVROLET', 'CHRYSLER', 'CITROEN', 'DAEWOO',\n",
       "       'DODGE', 'FORD', 'GEELY', 'HYUNDAI', 'JAGUAR', 'JEEP', 'KIA',\n",
       "       'MAZDA', 'MINI', 'OPEL', 'PEUGEOT', 'PORSCHE', 'RENAULT', 'SUBARU',\n",
       "       'SUZUKI'], dtype=object)"
      ]
     },
     "execution_count": 10,
     "metadata": {},
     "output_type": "execute_result"
    }
   ],
   "source": [
    "df['brand'].unique()"
   ]
  },
  {
   "cell_type": "markdown",
   "metadata": {},
   "source": [
    "#### Описание (description)"
   ]
  },
  {
   "cell_type": "code",
   "execution_count": 12,
   "metadata": {},
   "outputs": [
    {
     "data": {
      "text/plain": [
       "'ЛОТ: 01217195\\nАвтопрага Север\\nДанный автомобиль прошел диагностику по 147 пунктам и имеет сертификат технической гарантии.\\n\\n\\nВы можете получить скидку на данный автомобиль до 50000 рублей. Подробности уточняйте у менеджеров отдела продаж.\\n\\nГК FAVORIT MOTORS строит свою работу на принципах открытости и честности! Нам доверяют более 25 лет.\\n\\n- Автомобиль продается официальным дилером FAVORIT MOTORS.\\n- Покупка и обслуживание у официального дилера.\\n- Проведена предпродажная подготовка,\\n- Гарантия юридической чистоты.\\n- Круглосуточная техническая поддержка с бесплатным эвакуатором.\\n\\n- Автомобиль можно приобрести за наличный расчет, безналичным платежом, а также мы примем вашу машину по рыночной стоимости в рамках программы трейд-ин и при необходимости — выплатим за нее кредит.\\n\\n- Возможна покупка в кредит: специальные предложения по кредитованию и страхованию.\\n- Оформление кредита по двум документам.\\n- КАСКО не обязательно.\\n\\nПриглашаем на бесплатный тест-драйв!\\n\\nГруппа компаний FAVORIT MOTORS — один из крупнейших российских холдингов, официальный дилер известных мировых брендов , которые обслуживаются в технических центрах ГК FAVORIT MOTORS в рамках официального сервиса.\\n\\nМы предлагаем полный комплекс услуг по предпродажной подготовке и последующему сервису.\\n\\nГруппа компаний FAVORIT MOTORS занимает лидирующее положение в рейтинге продаж автомобилей с пробегом по Москве и области. Это подтверждают специализированные исследования рынка за последние пять лет, указывающие на самый крупный объем реализации.\\n\\n\\n\\nВ комплектации автомобиля\\n • Тип обивки салона: Ткань\\n • Цвет салона: Темный\\n • Светодиодные дневные ходовые огни\\n • Тип фар: Галогеновые\\n • Легкосплавные диски: 16\\n • Штатная сигнализация\\n • Иммобилайзер\\n • Бортовой компьютер\\n • Система контроля давления в шинах\\n • Датчик дождя\\n • Круиз-контроль: Пассивный\\n • Обогрев лобового стекла\\n • Обогрев зеркал\\n • Усилитель руля\\n • Центральный замок\\n • Противотуманные фары\\n • Датчик света\\n • Обогрев руля\\n • Обогрев передних сидений\\n • Климат: Климат-контроль 2- зонный\\n • Электропривод зеркал\\n • Стеклоподъемники: Электро все\\n • Сиденье водителя: Ручная регулировка по высоте\\n • Сиденье пассажира: Ручная регулировка\\n • Регулировка руля: В двух плоскостях\\n • Антиблокировочная система (ABS)\\n • Антипробуксовочная система\\n • Система курсовой устойчивости\\n • Подушки безопасности: Передние и боковые\\n • Задний парковочный радар\\n • Система крепления isofix\\n • Фронтальный видеомонитор\\n • BlueTooth\\n • USB\\n • Тип открытия задней двери: Подъемная\\n • Тип передних тормозов: Дисковые\\n • Тип задних тормозов: Дисковые\\n • Тип гарантии: На гарантии'"
      ]
     },
     "execution_count": 12,
     "metadata": {},
     "output_type": "execute_result"
    }
   ],
   "source": [
    "df['description'][1]"
   ]
  },
  {
   "cell_type": "markdown",
   "metadata": {},
   "source": [
    "Достаточно длинное описание. Нет типовой формы, поэтому каждое описание разное. Что либо полезное выделить тяжело. В каждом упоминается trad-in и возможность оформления кредита.\n",
    "\n",
    "Возьмем за признак длину описания"
   ]
  },
  {
   "cell_type": "code",
   "execution_count": 17,
   "metadata": {},
   "outputs": [],
   "source": [
    "df['description'] = df['description'].apply(lambda x: len(x))"
   ]
  },
  {
   "cell_type": "markdown",
   "metadata": {},
   "source": [
    "#### Двигатель (engineDisplacement)"
   ]
  },
  {
   "cell_type": "code",
   "execution_count": null,
   "metadata": {},
   "outputs": [],
   "source": [
    "df['engineDisplacement'].unique()"
   ]
  },
  {
   "cell_type": "markdown",
   "metadata": {},
   "source": [
    "Наименования двигателей вряд ли имеют решающее значение. Рассмотренный столбец удалим"
   ]
  },
  {
   "cell_type": "code",
   "execution_count": 20,
   "metadata": {},
   "outputs": [],
   "source": [
    "df = df.drop('engineDisplacement', axis = 1)"
   ]
  },
  {
   "cell_type": "markdown",
   "metadata": {},
   "source": [
    "#### Мощность (enginePower)"
   ]
  },
  {
   "cell_type": "markdown",
   "metadata": {},
   "source": [
    "Мощность двигателя, как правило играет важную роль. Забегая вперед скажу, что мощность мы возьмём из столбца Name"
   ]
  },
  {
   "cell_type": "code",
   "execution_count": null,
   "metadata": {},
   "outputs": [],
   "source": [
    "df['enginePower'].unique()"
   ]
  },
  {
   "cell_type": "markdown",
   "metadata": {},
   "source": [
    "#### Тип топлива (fuelType)"
   ]
  },
  {
   "cell_type": "code",
   "execution_count": 25,
   "metadata": {},
   "outputs": [
    {
     "data": {
      "text/plain": [
       "array(['бензин', 'дизель', 'гибрид', 'электро', 'газ'], dtype=object)"
      ]
     },
     "execution_count": 25,
     "metadata": {},
     "output_type": "execute_result"
    }
   ],
   "source": [
    "df['fuelType'].unique()"
   ]
  },
  {
   "cell_type": "markdown",
   "metadata": {},
   "source": [
    "Здесь всё хорошо, в чистом виде категориальный признак"
   ]
  },
  {
   "cell_type": "markdown",
   "metadata": {},
   "source": [
    "#### Пробег (mileage)"
   ]
  },
  {
   "cell_type": "code",
   "execution_count": 26,
   "metadata": {},
   "outputs": [
    {
     "data": {
      "text/plain": [
       "array([ 74000,  60563,  88000, ..., 179067,  81782, 194620], dtype=int64)"
      ]
     },
     "execution_count": 26,
     "metadata": {},
     "output_type": "execute_result"
    }
   ],
   "source": [
    "df['mileage'].unique()"
   ]
  },
  {
   "cell_type": "markdown",
   "metadata": {},
   "source": [
    "Числовой столбец со значениями пробега"
   ]
  },
  {
   "cell_type": "markdown",
   "metadata": {},
   "source": [
    "#### Год выпуска модели (modelDate )"
   ]
  },
  {
   "cell_type": "code",
   "execution_count": 27,
   "metadata": {},
   "outputs": [
    {
     "data": {
      "text/plain": [
       "array([2013., 2017., 2008., 2009., 2016., 2012., 2015., 2010., 2006.,\n",
       "       2000., 2007., 1994., 2004., 1999., 2005., 1976., 2001., 1969.,\n",
       "       1996., 1998., 1989., 1934., 2014., 2011., 2018., 1986., 1997.,\n",
       "       1990., 2019., 2002., 1991., 1987., 1980., 1982., 1938., 1988.,\n",
       "       2003., 1983., 1978., 1979., 1984., 1992., 1995., 1993., 1985.,\n",
       "       1974., 1966., 1977., 1981., 1972., 1968., 1975., 1949., 1937.,\n",
       "       1936., 1973., 1959., 1958., 2020., 1965., 1971., 1904., 1963.,\n",
       "       1955., 1951., 1960., 1967., 1970., 1957., 1942., 1927., 1908.,\n",
       "       1932., 1948., 1950.])"
      ]
     },
     "execution_count": 27,
     "metadata": {},
     "output_type": "execute_result"
    }
   ],
   "source": [
    "df['modelDate'].unique()"
   ]
  },
  {
   "cell_type": "code",
   "execution_count": 31,
   "metadata": {},
   "outputs": [],
   "source": [
    "df['modelDate'] = df['modelDate'].apply(lambda x: int(x))"
   ]
  },
  {
   "cell_type": "markdown",
   "metadata": {},
   "source": [
    "Столбец с датами начала выпуска модели. Преобразуем в целочисленные и добавим столбец давности начала производства в месяцах"
   ]
  },
  {
   "cell_type": "code",
   "execution_count": 33,
   "metadata": {},
   "outputs": [],
   "source": [
    "df['modelDate'] = pd.to_datetime(df['modelDate'], format = '%Y')\n",
    "df['model_age'] = (now - df['modelDate'])"
   ]
  },
  {
   "cell_type": "code",
   "execution_count": 35,
   "metadata": {},
   "outputs": [],
   "source": [
    "df['model_age'] = df['model_age'].apply(lambda x: int(int(str(x).split(' ')[0])/30))"
   ]
  },
  {
   "cell_type": "markdown",
   "metadata": {},
   "source": [
    "Столбец modelDate больше не нужен - удаляем"
   ]
  },
  {
   "cell_type": "code",
   "execution_count": 38,
   "metadata": {},
   "outputs": [],
   "source": [
    "df = df.drop('modelDate', axis = 1)"
   ]
  },
  {
   "cell_type": "markdown",
   "metadata": {},
   "source": [
    "#### Модель (model)"
   ]
  },
  {
   "cell_type": "code",
   "execution_count": 41,
   "metadata": {},
   "outputs": [
    {
     "data": {
      "text/plain": [
       "array(['OCTAVIA', 'SUPERB', 'OCTAVIA_RS', ..., 'TANK', 'KARMANN_GHIA',\n",
       "       'TYPE_2'], dtype=object)"
      ]
     },
     "execution_count": 41,
     "metadata": {},
     "output_type": "execute_result"
    }
   ],
   "source": [
    "df['model'].unique()"
   ]
  },
  {
   "cell_type": "markdown",
   "metadata": {},
   "source": [
    "#### Имя (name)"
   ]
  },
  {
   "cell_type": "markdown",
   "metadata": {},
   "source": [
    "Посмотрим представление данных"
   ]
  },
  {
   "cell_type": "code",
   "execution_count": 42,
   "metadata": {},
   "outputs": [
    {
     "data": {
      "text/plain": [
       "'1.6 MT (110 л.с.)'"
      ]
     },
     "execution_count": 42,
     "metadata": {},
     "output_type": "execute_result"
    }
   ],
   "source": [
    "df['name'][1]"
   ]
  },
  {
   "cell_type": "code",
   "execution_count": 43,
   "metadata": {},
   "outputs": [],
   "source": [
    "df['name'] = df['name'].apply(lambda x: x.split('(')[1])\n",
    "df['name'] = df['name'].apply(lambda x: x.split(')'))"
   ]
  },
  {
   "cell_type": "markdown",
   "metadata": {},
   "source": [
    "Добавим столбец мощности"
   ]
  },
  {
   "cell_type": "code",
   "execution_count": 48,
   "metadata": {},
   "outputs": [],
   "source": [
    "df['HP'] = df['name'].apply(lambda x: x[0].split(' ')[0])\n",
    "df['HP'] = df['HP'].apply(lambda x: int(x))"
   ]
  },
  {
   "cell_type": "markdown",
   "metadata": {},
   "source": [
    "#### Количество дверей (numberOfDoors)"
   ]
  },
  {
   "cell_type": "code",
   "execution_count": 52,
   "metadata": {},
   "outputs": [
    {
     "data": {
      "text/plain": [
       "array([5., 4., 2., 3., 0.])"
      ]
     },
     "execution_count": 52,
     "metadata": {},
     "output_type": "execute_result"
    }
   ],
   "source": [
    "df['numberOfDoors'].unique()"
   ]
  },
  {
   "cell_type": "markdown",
   "metadata": {},
   "source": [
    "Оставим, как катeгориальный признак"
   ]
  },
  {
   "cell_type": "markdown",
   "metadata": {},
   "source": [
    "#### Дата выпуска (productionDate)"
   ]
  },
  {
   "cell_type": "code",
   "execution_count": 53,
   "metadata": {},
   "outputs": [
    {
     "data": {
      "text/plain": [
       "array([2014, 2017, 2012, 2011, 2019, 2018, 2010, 2020, 2016, 2013, 2006,\n",
       "       2007, 2015, 2005, 2008, 2009, 1997, 2004, 2002, 1987, 2003, 2001,\n",
       "       1976, 2000, 1998, 1995, 1999, 1993, 1939, 1996, 1984, 1990, 1991,\n",
       "       1992, 1989, 1982, 1985, 1994, 1938, 1981, 1988, 1983, 1980, 1986,\n",
       "       1978, 1970, 1979, 1977, 1972, 1975, 1969, 1950, 1953, 1949, 1937,\n",
       "       1959, 1968, 1936, 1904, 1974, 1967, 1961, 1960, 1965, 1963, 1957,\n",
       "       1952, 1973, 1948, 1955, 1964, 1951, 1943, 1927, 1928, 1923, 1932,\n",
       "       1956, 1971], dtype=int64)"
      ]
     },
     "execution_count": 53,
     "metadata": {},
     "output_type": "execute_result"
    }
   ],
   "source": [
    "df['productionDate'].unique()"
   ]
  },
  {
   "cell_type": "markdown",
   "metadata": {},
   "source": [
    "#### Конфигурация (vehicleConfiguration)"
   ]
  },
  {
   "cell_type": "code",
   "execution_count": 55,
   "metadata": {},
   "outputs": [
    {
     "data": {
      "text/plain": [
       "1699"
      ]
     },
     "execution_count": 55,
     "metadata": {},
     "output_type": "execute_result"
    }
   ],
   "source": [
    "df['vehicleConfiguration'].nunique()"
   ]
  },
  {
   "cell_type": "code",
   "execution_count": null,
   "metadata": {},
   "outputs": [],
   "source": [
    "df[df['vehicleConfiguration'] == 'None']"
   ]
  },
  {
   "cell_type": "markdown",
   "metadata": {},
   "source": [
    "Во всём датасете 1699 различных конфигураций автомобилей. Оставим, как категория"
   ]
  },
  {
   "cell_type": "markdown",
   "metadata": {},
   "source": [
    "#### Трансмиссия (vehicleTransmission)"
   ]
  },
  {
   "cell_type": "code",
   "execution_count": 59,
   "metadata": {},
   "outputs": [
    {
     "data": {
      "text/plain": [
       "array(['ROBOT', 'MECHANICAL', 'AUTOMATIC', 'VARIATOR'], dtype=object)"
      ]
     },
     "execution_count": 59,
     "metadata": {},
     "output_type": "execute_result"
    }
   ],
   "source": [
    "df['vehicleTransmission'].unique()"
   ]
  },
  {
   "cell_type": "code",
   "execution_count": 58,
   "metadata": {},
   "outputs": [],
   "source": [
    "df['vehicleTransmission'] = df['vehicleTransmission'].replace('роботизированная','ROBOT')\n",
    "df['vehicleTransmission'] = df['vehicleTransmission'].replace('механическая','MECHANICAL')\n",
    "df['vehicleTransmission'] = df['vehicleTransmission'].replace('автоматическая','AUTOMATIC')\n",
    "df['vehicleTransmission'] = df['vehicleTransmission'].replace('вариатор','VARIATOR')"
   ]
  },
  {
   "cell_type": "markdown",
   "metadata": {},
   "source": [
    "Категориальный признак"
   ]
  },
  {
   "cell_type": "markdown",
   "metadata": {},
   "source": [
    "#### Владельцы"
   ]
  },
  {
   "cell_type": "code",
   "execution_count": 61,
   "metadata": {},
   "outputs": [
    {
     "data": {
      "text/plain": [
       "3.0            21898\n",
       "3 или более    15957\n",
       "1.0            14873\n",
       "2.0            13452\n",
       "None           11406\n",
       "1 владелец      9459\n",
       "2 владельца     9270\n",
       "Name: Владельцы, dtype: int64"
      ]
     },
     "execution_count": 61,
     "metadata": {},
     "output_type": "execute_result"
    }
   ],
   "source": [
    "df['Владельцы'].value_counts()"
   ]
  },
  {
   "cell_type": "markdown",
   "metadata": {},
   "source": [
    "У 11406 отсутсвует упоминание о владельцах"
   ]
  },
  {
   "cell_type": "code",
   "execution_count": 64,
   "metadata": {},
   "outputs": [
    {
     "data": {
      "text/plain": [
       "2020    11191\n",
       "2019      208\n",
       "2018        7\n",
       "Name: productionDate, dtype: int64"
      ]
     },
     "execution_count": 64,
     "metadata": {},
     "output_type": "execute_result"
    }
   ],
   "source": [
    "df[df['Владельцы'] == 'None']['productionDate'].value_counts()"
   ]
  },
  {
   "cell_type": "markdown",
   "metadata": {},
   "source": [
    "Видим, что 11191 является 2020 года выпуска, таким образом является новой. Можно добавить иникатор новой машины"
   ]
  },
  {
   "cell_type": "code",
   "execution_count": 67,
   "metadata": {},
   "outputs": [],
   "source": [
    "df['owners'] = df['Владельцы'].apply(lambda x: (str(x))[0])\n",
    "df['owners'] = df['owners'].replace('N',0)\n",
    "df['owners'] = df['owners'].apply(lambda x: int(x))"
   ]
  },
  {
   "cell_type": "code",
   "execution_count": 68,
   "metadata": {},
   "outputs": [
    {
     "data": {
      "text/plain": [
       "array([3, 1, 2, 0], dtype=int64)"
      ]
     },
     "execution_count": 68,
     "metadata": {},
     "output_type": "execute_result"
    }
   ],
   "source": [
    "df['owners'].unique()"
   ]
  },
  {
   "cell_type": "markdown",
   "metadata": {},
   "source": [
    "Удалим ставший ненужным столбец Владельцы"
   ]
  },
  {
   "cell_type": "code",
   "execution_count": 69,
   "metadata": {},
   "outputs": [],
   "source": [
    "df = df.drop('Владельцы', axis = 1)"
   ]
  },
  {
   "cell_type": "markdown",
   "metadata": {},
   "source": [
    "#### Владение"
   ]
  },
  {
   "cell_type": "code",
   "execution_count": null,
   "metadata": {},
   "outputs": [],
   "source": []
  }
 ],
 "metadata": {
  "kernelspec": {
   "display_name": "Python 3",
   "language": "python",
   "name": "python3"
  },
  "language_info": {
   "codemirror_mode": {
    "name": "ipython",
    "version": 3
   },
   "file_extension": ".py",
   "mimetype": "text/x-python",
   "name": "python",
   "nbconvert_exporter": "python",
   "pygments_lexer": "ipython3",
   "version": "3.7.3"
  }
 },
 "nbformat": 4,
 "nbformat_minor": 4
}
