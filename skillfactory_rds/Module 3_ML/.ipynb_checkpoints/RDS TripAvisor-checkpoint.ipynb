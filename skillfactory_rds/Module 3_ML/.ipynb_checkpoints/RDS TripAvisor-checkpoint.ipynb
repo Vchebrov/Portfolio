{
 "cells": [
  {
   "cell_type": "markdown",
   "metadata": {},
   "source": [
    "Представьте, что вы работаете DS в компании TripAdvisor. Одна из проблем компании — это нечестные рестораны, которые накручивают себе рейтинг. Одним из способов нахождения таких ресторанов является построение модели, которая предсказывает рейтинг ресторана. Если предсказания модели сильно отличаются от фактического результата, то, возможно, ресторан играет нечестно, и его стоит проверить.\n",
    "\n",
    "Вам поставлена задача создать такую модель. Готовы приступить?"
   ]
  },
  {
   "cell_type": "markdown",
   "metadata": {},
   "source": [
    "Первоначальная версия датасета состоит из десяти столбцов, содержащих следующую информацию:\n",
    "\n",
    "1. Restaurant_id — идентификационный номер ресторана / сети ресторанов;\n",
    "2. City — город, в котором находится ресторан;\n",
    "3. Cuisine Style — кухня или кухни, к которым можно отнести блюда, предлагаемые в ресторане;\n",
    "4. Ranking — место, которое занимает данный ресторан среди всех ресторанов своего города;\n",
    "5. Rating — рейтинг ресторана по данным TripAdvisor (именно это значение должна будет предсказывать модель);\n",
    "6. Price Range — диапазон цен в ресторане;\n",
    "7. Number of Reviews — количество отзывов о ресторане;\n",
    "8. Reviews — данные о двух отзывах, которые отображаются на сайте ресторана;\n",
    "9. URL_TA — URL страницы ресторана на TripAdvosor;\n",
    "10. ID_TA — идентификатор ресторана в базе данных TripAdvisor."
   ]
  },
  {
   "cell_type": "code",
   "execution_count": null,
   "metadata": {},
   "outputs": [],
   "source": [
    "import numpy as np \n",
    "import pandas as pd \n",
    "from datetime import datetime, date, time\n",
    "\n",
    "import matplotlib.pyplot as plt\n",
    "import seaborn as sns \n",
    "%matplotlib inline\n",
    "\n",
    "from sklearn.model_selection import train_test_split\n",
    "\n",
    "RANDOM_SEED = 42"
   ]
  },
  {
   "cell_type": "code",
   "execution_count": null,
   "metadata": {
    "scrolled": true
   },
   "outputs": [],
   "source": [
    "pd.set_option('display.max_rows', 50)  # показывать больше строк\n",
    "pd.set_option('display.max_columns', 50)\n",
    "df_train = pd.read_csv('main_task.csv')\n",
    "df_test = pd.read_csv('kaggle_task.csv')\n",
    "sample_submission = pd.read_csv('sample_submission.csv')\n",
    "# промаркируем тренировочный и тестовый сеты\n",
    "\n",
    "df_train['mark'] = 1\n",
    "df_test['mark'] = 0\n",
    "\n",
    "# пропущенные значения для тестового сета заменим на 0\n",
    "df_test['Rating'] = 0  \n",
    "\n",
    "# объединим сеты для общей обработки данных\n",
    "df = df_test.append(df_train, sort=False).reset_index(drop=True)\n",
    "df.head()"
   ]
  },
  {
   "cell_type": "code",
   "execution_count": null,
   "metadata": {
    "scrolled": false
   },
   "outputs": [],
   "source": [
    "# проверим наименования столбцов и заменим их на более краткие\n",
    "df.columns"
   ]
  },
  {
   "cell_type": "markdown",
   "metadata": {},
   "source": [
    "Назначим наименования столбцов для своего удобства"
   ]
  },
  {
   "cell_type": "code",
   "execution_count": null,
   "metadata": {},
   "outputs": [],
   "source": [
    "df.columns = ['id','city','cuisine','ranking','price','num_rew',\n",
    "             'reviews','url','id_ta','mark','rating']"
   ]
  },
  {
   "cell_type": "markdown",
   "metadata": {},
   "source": [
    "Проверим столбцы на пропуски в данных"
   ]
  },
  {
   "cell_type": "code",
   "execution_count": null,
   "metadata": {},
   "outputs": [],
   "source": [
    "df.info()"
   ]
  },
  {
   "cell_type": "markdown",
   "metadata": {},
   "source": [
    "В части столбцов есть пропуски. Суммарное количество строк 50000."
   ]
  },
  {
   "cell_type": "markdown",
   "metadata": {},
   "source": [
    "# Проверим столбцы отдельно."
   ]
  },
  {
   "cell_type": "markdown",
   "metadata": {},
   "source": [
    "# Restraunt_id"
   ]
  },
  {
   "cell_type": "code",
   "execution_count": null,
   "metadata": {},
   "outputs": [],
   "source": [
    "df.id.isna().value_counts()"
   ]
  },
  {
   "cell_type": "markdown",
   "metadata": {},
   "source": [
    "Пропусков нет, но тип данных не числовой. Преобразуем, удалив id_ и преобразовав в INT"
   ]
  },
  {
   "cell_type": "code",
   "execution_count": null,
   "metadata": {},
   "outputs": [],
   "source": [
    "df['id']=df.id.apply(lambda x: int(x[3:]))"
   ]
  },
  {
   "cell_type": "code",
   "execution_count": null,
   "metadata": {
    "scrolled": false
   },
   "outputs": [],
   "source": [
    "# df.head()#проверим изменения в столбце"
   ]
  },
  {
   "cell_type": "code",
   "execution_count": null,
   "metadata": {},
   "outputs": [],
   "source": [
    "# проверим длинну, чтоб убедиться в отсутствии потери данных\n",
    "len(df.id)\n"
   ]
  },
  {
   "cell_type": "markdown",
   "metadata": {},
   "source": [
    "# Проверим столбец City"
   ]
  },
  {
   "cell_type": "code",
   "execution_count": null,
   "metadata": {},
   "outputs": [],
   "source": [
    "df.city.isna().value_counts()"
   ]
  },
  {
   "cell_type": "markdown",
   "metadata": {},
   "source": [
    "Проверим правильность записи наименований городов"
   ]
  },
  {
   "cell_type": "code",
   "execution_count": null,
   "metadata": {},
   "outputs": [],
   "source": [
    "# df.city.value_counts()"
   ]
  },
  {
   "cell_type": "code",
   "execution_count": null,
   "metadata": {},
   "outputs": [],
   "source": [
    "df.city.describe()"
   ]
  },
  {
   "cell_type": "markdown",
   "metadata": {},
   "source": [
    "Согласно описанию солбца уникальных городов 31, Лондон наиболее часто упоминаемый"
   ]
  },
  {
   "cell_type": "markdown",
   "metadata": {},
   "source": [
    "Создадим словарь, содержащий наименования городов в качестве ключей и порядковый номер, в качестве числового признака"
   ]
  },
  {
   "cell_type": "code",
   "execution_count": null,
   "metadata": {},
   "outputs": [],
   "source": [
    "A = list(df.city.value_counts().keys())\n",
    "B = range(0, len(A))\n",
    "dict_city = dict(zip(A, B))\n",
    "dict_city"
   ]
  },
  {
   "cell_type": "markdown",
   "metadata": {},
   "source": [
    "Добавим в набор данных признак, основанный на порядковом номере города"
   ]
  },
  {
   "cell_type": "code",
   "execution_count": null,
   "metadata": {},
   "outputs": [],
   "source": [
    "df['City_ind'] = df['city'].replace(A, B)"
   ]
  },
  {
   "cell_type": "markdown",
   "metadata": {},
   "source": [
    "Приведем отзывы к количесту упоминаний городов"
   ]
  },
  {
   "cell_type": "code",
   "execution_count": null,
   "metadata": {
    "scrolled": true
   },
   "outputs": [],
   "source": [
    "A = list(df.city.value_counts().keys())\n",
    "df_city = pd.DataFrame()\n",
    "df_city['city'] = df['city']\n",
    "df_city['ranking'] = df['ranking']\n",
    "df_city = pd.DataFrame(df_city.groupby(['city']).max())\n",
    "df_rank = df_city['ranking']\n",
    "\n",
    "A = list(df_rank.keys())\n",
    "B = list(df_rank)\n",
    "\n",
    "df['city_rest'] = df['city'].replace(A, B)\n",
    "\n",
    "df['std_rank'] = df['ranking']/df['city_rest']\n",
    "\n",
    "df.head()\n",
    "A"
   ]
  },
  {
   "cell_type": "markdown",
   "metadata": {},
   "source": [
    "На основании данных переписи населения можем составить дополнительный числовой признак по количеству населения.\n",
    "\n",
    "Для этого созададим список с жителями, в соответствии с порядковым номером города\n",
    "\n",
    "P.S. В baseline приведен список с население, который сводится со списком городов. В итоге в списке А города по алфавиту и население некорректно по ним распределяется. Здесь население указано в соответствии с фактической последовательностью городов при загрузке их в список"
   ]
  },
  {
   "cell_type": "code",
   "execution_count": null,
   "metadata": {},
   "outputs": [],
   "source": [
    "\n",
    "B = [869709, 664046, 5575000, 3769000, 424428, 174383, 1752000, 602481,\n",
    "    1388000, 482005, 499480, 1899000, 631695, 769498, 504718, 342039,\n",
    "    8982000, 613894, 513275, 6642000, 1352000, 1472000, 214349, 681067,\n",
    "    2148000, 1309000, 2873000, 975904, 1897000, 1708000, 402762]\n",
    "dict_popul = dict(zip(A,B))\n",
    "df['population'] = df['city'].replace(A,B)\n",
    "df.head()\n"
   ]
  },
  {
   "cell_type": "markdown",
   "metadata": {},
   "source": [
    "По аналогии с городами добавим числовые признаки стран. Не будем выдумывать и воспользуемся кодом из Baseline\n",
    "\n",
    "Для понимания: присвоим новому столбцу строковые значения столбца city, потом заменим их, составим словарь с ключами-странами и значениями-индексами. Далее в новом столбце Country заменим наименования стран на числовые значения."
   ]
  },
  {
   "cell_type": "code",
   "execution_count": null,
   "metadata": {},
   "outputs": [],
   "source": [
    "df['country'] = df.city\n",
    "df['country'] = df['country'].replace('London', 'GreatBritain')\n",
    "df['country'] = df['country'].replace('Paris', 'France')\n",
    "df['country'] = df['country'].replace('Madrid', 'Spain')\n",
    "df['country'] = df['country'].replace('Barcelona', 'Spain')\n",
    "df['country'] = df['country'].replace('Berlin', 'Germany')\n",
    "df['country'] = df['country'].replace('Milan', 'Italy')\n",
    "df['country'] = df['country'].replace('Rome', 'Italy')\n",
    "df['country'] = df['country'].replace('Prague', 'CzechRepublic')\n",
    "df['country'] = df['country'].replace('Lisbon', 'Portugal')\n",
    "df['country'] = df['country'].replace('Vienna', 'Austria')\n",
    "df['country'] = df['country'].replace('Amsterdam', 'Netherlands')\n",
    "df['country'] = df['country'].replace('Brussels', 'Belgium')\n",
    "df['country'] = df['country'].replace('Hamburg', 'Germany')\n",
    "df['country'] = df['country'].replace('Munich', 'Germany')\n",
    "df['country'] = df['country'].replace('Lyon', 'France')\n",
    "df['country'] = df['country'].replace('Stockholm', 'Sweden')\n",
    "df['country'] = df['country'].replace('Budapest', 'Hungary')\n",
    "df['country'] = df['country'].replace('Warsaw', 'Poland')\n",
    "df['country'] = df['country'].replace('Dublin', 'Irland')\n",
    "df['country'] = df['country'].replace('Copenhagen', 'Denmark')\n",
    "df['country'] = df['country'].replace('Athens', 'Greece')\n",
    "df['country'] = df['country'].replace('Edinburgh', 'Scotland')\n",
    "df['country'] = df['country'].replace('Zurich', 'Switzeland')\n",
    "df['country'] = df['country'].replace('Oporto', 'Portugal')\n",
    "df['country'] = df['country'].replace('Geneva', 'Switzeland')\n",
    "df['country'] = df['country'].replace('Krakow', 'Poland')\n",
    "df['country'] = df['country'].replace('Oslo', 'Norway')\n",
    "df['country'] = df['country'].replace('Helsinki', 'Finland')\n",
    "df['country'] = df['country'].replace('Bratislava', 'Slovakia')\n",
    "df['country'] = df['country'].replace('Luxembourg', 'Luxembourg')\n",
    "df['country'] = df['country'].replace('Ljubljana', 'Slovenia')\n",
    "\n",
    "A = list(df.country.value_counts().keys())\n",
    "B = range(0, len(A))\n",
    "dict_country = dict(zip(A, B))\n",
    "# словарь со значениями стран\n",
    "\n",
    "\n",
    "df['country_ind'] = df['country'].replace(A, B)"
   ]
  },
  {
   "cell_type": "markdown",
   "metadata": {},
   "source": [
    "Добавим показатель турпотока в страны Европы. Возьмем статистические данные с открытых источников\n",
    "https://knoema.ru/atlas/topics/%d0%a2%d1%83%d1%80%d0%b8%d0%b7%d0%bc/%d0%9a%d0%bb%d1%8e%d1%87%d0%b5%d0%b2%d1%8b%d0%b5-%d0%bf%d0%be%d0%ba%d0%b0%d0%b7%d0%b0%d1%82%d0%b5%d0%bb%d0%b8-%d1%82%d1%83%d1%80%d0%b8%d0%b7%d0%bc%d0%b0/%d0%a7%d0%b8%d1%81%d0%bb%d0%be-%d0%bf%d1%80%d0%b8%d0%b1%d1%8b%d1%82%d0%b8%d0%b9"
   ]
  },
  {
   "cell_type": "code",
   "execution_count": null,
   "metadata": {},
   "outputs": [],
   "source": [
    "df['flow'] = df.country\n",
    "df['flow'] = df['flow'].replace('GreatBritain', 36316000)\n",
    "df['flow'] = df['flow'].replace('France', 89322000)\n",
    "df['flow'] = df['flow'].replace('Spain', 82773000)\n",
    "df['flow'] = df['flow'].replace('Spain', 82773000)\n",
    "df['flow'] = df['flow'].replace('Germany', 38881000)\n",
    "df['flow'] = df['flow'].replace('Italy', 61567200)\n",
    "df['flow'] = df['flow'].replace('Italy', 61567200)\n",
    "df['flow'] = df['flow'].replace('CzechRepublic', 10611000)\n",
    "df['flow'] = df['flow'].replace('Portugal', 16186000)\n",
    "df['flow'] = df['flow'].replace('Austria', 30816000)\n",
    "df['flow'] = df['flow'].replace('Netherlands', 18780000)\n",
    "df['flow'] = df['flow'].replace('Belgium', 9119000)\n",
    "df['flow'] = df['flow'].replace('Germany', 38881000 )\n",
    "df['flow'] = df['flow'].replace('Germany', 38881000)\n",
    "df['flow'] = df['flow'].replace('France', 89322000 )\n",
    "df['flow'] = df['flow'].replace('Sweden', 7440000)\n",
    "df['flow'] = df['flow'].replace('Hungary', 17552000)\n",
    "df['flow'] = df['flow'].replace('Poland', 19622000)\n",
    "df['flow'] = df['flow'].replace('Irland', 10926000)\n",
    "df['flow'] = df['flow'].replace('Denmark', 12749000)\n",
    "df['flow'] = df['flow'].replace('Greece', 30123000)\n",
    "df['flow'] = df['flow'].replace('Scotland', 36316000 )\n",
    "df['flow'] = df['flow'].replace('Switzeland', 10362000)\n",
    "df['flow'] = df['flow'].replace('Portugal', 16186000 )\n",
    "df['flow'] = df['flow'].replace('Switzeland', 10362000)\n",
    "df['flow'] = df['flow'].replace('Poland', 19622000)\n",
    "df['flow'] = df['flow'].replace('Norway', 5688000)\n",
    "df['flow'] = df['flow'].replace('Finland', 3224000 )\n",
    "df['flow'] = df['flow'].replace('Slovakia', 2256000)\n",
    "df['flow'] = df['flow'].replace('Luxembourg', 1018000 )\n",
    "df['flow'] = df['flow'].replace('Slovenia', 4425000 )\n",
    "\n",
    "\n",
    "\n"
   ]
  },
  {
   "cell_type": "markdown",
   "metadata": {},
   "source": [
    "# Cuisine Style"
   ]
  },
  {
   "cell_type": "markdown",
   "metadata": {},
   "source": [
    "Проверим столбец с кухнями"
   ]
  },
  {
   "cell_type": "code",
   "execution_count": null,
   "metadata": {
    "scrolled": true
   },
   "outputs": [],
   "source": [
    "df['cuisine'].isna().value_counts()"
   ]
  },
  {
   "cell_type": "markdown",
   "metadata": {},
   "source": [
    "Посмотрим образец формы предоставления информации с строках"
   ]
  },
  {
   "cell_type": "code",
   "execution_count": null,
   "metadata": {},
   "outputs": [],
   "source": [
    "df['cuisine'][1]"
   ]
  },
  {
   "cell_type": "markdown",
   "metadata": {},
   "source": [
    "Подсчитаем сколько различных кухонь в каждом ресторане, собрав их в списки и посчитав их длины"
   ]
  },
  {
   "cell_type": "code",
   "execution_count": null,
   "metadata": {
    "scrolled": true
   },
   "outputs": [],
   "source": [
    "# сделаем копию данных без пропусков, чтоб можно было подсчитать \n",
    "# среднее количество кухонь для заполнения пропусков \n",
    "df_cus = df['cuisine'].fillna(\"'No info'\")\n",
    "\n"
   ]
  },
  {
   "cell_type": "code",
   "execution_count": null,
   "metadata": {},
   "outputs": [],
   "source": [
    "df_cus = df_cus.apply(lambda x: x[1:-1])\n",
    "df_cus = df_cus.apply(lambda x: x.strip(\"'''\"))"
   ]
  },
  {
   "cell_type": "code",
   "execution_count": null,
   "metadata": {},
   "outputs": [],
   "source": [
    "df_cus = df_cus.apply(lambda x: x.split(','))"
   ]
  },
  {
   "cell_type": "markdown",
   "metadata": {},
   "source": [
    "Пройдем циклом по столбцу, соберем всё в список и создадим новый признак по количеству представленных кухонь для каждого ресторана. Для пропущенных значений установим значение 1 (длина списка со значением 'No info'), предполагая, что ресторан не делает акцент на кухне, тем самым не предполагает специфику в своей работе "
   ]
  },
  {
   "cell_type": "code",
   "execution_count": null,
   "metadata": {},
   "outputs": [],
   "source": [
    "\n",
    "cus_list = []\n",
    "for i in df_cus:\n",
    "    cus_list.append(len(i))\n",
    "cus_list\n",
    "\n",
    "np.mean(cus_list)"
   ]
  },
  {
   "cell_type": "code",
   "execution_count": null,
   "metadata": {},
   "outputs": [],
   "source": [
    "df['cus_number'] = cus_list"
   ]
  },
  {
   "cell_type": "markdown",
   "metadata": {},
   "source": [
    "Проверим, что ничего не потеряли"
   ]
  },
  {
   "cell_type": "code",
   "execution_count": null,
   "metadata": {},
   "outputs": [],
   "source": [
    "df['cus_number'].isna().value_counts()"
   ]
  },
  {
   "cell_type": "markdown",
   "metadata": {},
   "source": [
    "Воспользуемся кодом из Baseline, чтоб составить признаки по присутствию кухонь в каждом ресторане."
   ]
  },
  {
   "cell_type": "code",
   "execution_count": null,
   "metadata": {},
   "outputs": [],
   "source": [
    "\n",
    "df['cuisine'] = df['cuisine'].fillna('\"\"No_info\"')\n",
    "\n",
    "new = pd.DataFrame(df.cuisine.dropna())\n",
    "a = list(new.cuisine)\n",
    "b = list()\n",
    "\n",
    "def l(x):\n",
    "    i = 0\n",
    "    for g in x:\n",
    "        f = x[i].split(',')\n",
    "        v = 0\n",
    "        for g in f:\n",
    "            h = f[v][2:-1].replace(\"'\", '')\n",
    "            v = +1\n",
    "            b.append(h)\n",
    "        i += 1\n",
    "        \n",
    "l(a)\n",
    "\n",
    "from collections import Counter\n",
    "\n",
    "coun=Counter(b)\n",
    "coun=dict(coun)\n",
    "coun=pd.DataFrame({'count':coun}, columns=['count'])\n",
    "a=coun['count'].mean()\n",
    "\n",
    "b=list(coun.query('count > @a').index)\n",
    "b\n",
    "\n",
    "#оставляем только самые популярные кухни\n",
    "\n",
    "def find_item(cell):\n",
    "    if item in cell:\n",
    "        return 1\n",
    "    return 0\n",
    "\n",
    "\n",
    "for item in b:\n",
    "    df[item] = df['cuisine'].apply(find_item)\n",
    "\n",
    "df['cuisine'] = df['cuisine'].apply(lambda x: len(x))\n",
    "\n",
    "# len(df['cuisine'])"
   ]
  },
  {
   "cell_type": "markdown",
   "metadata": {},
   "source": [
    "# Ranking"
   ]
  },
  {
   "cell_type": "markdown",
   "metadata": {},
   "source": [
    "Преобразуем значения в рейтинге в INT"
   ]
  },
  {
   "cell_type": "code",
   "execution_count": null,
   "metadata": {},
   "outputs": [],
   "source": [
    "df['ranking'].isna().value_counts()"
   ]
  },
  {
   "cell_type": "code",
   "execution_count": null,
   "metadata": {},
   "outputs": [],
   "source": [
    "df['ranking'] = df['ranking'].apply(lambda x: int(x))"
   ]
  },
  {
   "cell_type": "code",
   "execution_count": null,
   "metadata": {},
   "outputs": [],
   "source": []
  },
  {
   "cell_type": "markdown",
   "metadata": {},
   "source": [
    "# Price"
   ]
  },
  {
   "cell_type": "markdown",
   "metadata": {},
   "source": [
    "Смотрим пропуски в данных"
   ]
  },
  {
   "cell_type": "code",
   "execution_count": null,
   "metadata": {
    "scrolled": true
   },
   "outputs": [],
   "source": [
    "df['price'].isna().value_counts()"
   ]
  },
  {
   "cell_type": "markdown",
   "metadata": {},
   "source": [
    "Проверим формат данных и наличие пропусков."
   ]
  },
  {
   "cell_type": "code",
   "execution_count": null,
   "metadata": {},
   "outputs": [],
   "source": [
    "df['price'].unique()"
   ]
  },
  {
   "cell_type": "markdown",
   "metadata": {},
   "source": [
    "Указанные диапазоны цен переведем в числовой формат. Пропуски заменим средней ценой"
   ]
  },
  {
   "cell_type": "code",
   "execution_count": null,
   "metadata": {},
   "outputs": [],
   "source": [
    "df['price'] = df['price'].replace('$',1)\n",
    "df['price'] = df['price'].replace('$$ - $$$',2)\n",
    "df['price'] = df['price'].replace('$$$$',3)"
   ]
  },
  {
   "cell_type": "markdown",
   "metadata": {},
   "source": [
    "Пропуски заполним средним значением цены"
   ]
  },
  {
   "cell_type": "code",
   "execution_count": null,
   "metadata": {},
   "outputs": [],
   "source": [
    "price_mean = round(df['price'].mean(),2)"
   ]
  },
  {
   "cell_type": "code",
   "execution_count": null,
   "metadata": {},
   "outputs": [],
   "source": [
    "df['price'] = df['price'].fillna(price_mean)"
   ]
  },
  {
   "cell_type": "code",
   "execution_count": null,
   "metadata": {
    "scrolled": true
   },
   "outputs": [],
   "source": [
    "df['price'].unique()"
   ]
  },
  {
   "cell_type": "markdown",
   "metadata": {},
   "source": [
    "Проверим количество строк"
   ]
  },
  {
   "cell_type": "code",
   "execution_count": null,
   "metadata": {
    "scrolled": true
   },
   "outputs": [],
   "source": [
    "df['price'].isna().value_counts()\n"
   ]
  },
  {
   "cell_type": "markdown",
   "metadata": {},
   "source": [
    "# Reviews"
   ]
  },
  {
   "cell_type": "code",
   "execution_count": null,
   "metadata": {},
   "outputs": [],
   "source": [
    "# df.head()"
   ]
  },
  {
   "cell_type": "markdown",
   "metadata": {},
   "source": [
    "Проверим данные. Обратим внимание, что пропуски здесь отражены, как пустые квадратные скобки [[], []]."
   ]
  },
  {
   "cell_type": "code",
   "execution_count": null,
   "metadata": {},
   "outputs": [],
   "source": [
    "df['reviews'].unique()"
   ]
  },
  {
   "cell_type": "code",
   "execution_count": null,
   "metadata": {},
   "outputs": [],
   "source": [
    "df['reviews'] = df.reviews.replace('[[], []]', 'No_info')"
   ]
  },
  {
   "cell_type": "markdown",
   "metadata": {},
   "source": [
    "Из отзывов выделим даты последних отзывов, чтоб соотнести их с нынешней датой, для определения давности последнего"
   ]
  },
  {
   "cell_type": "code",
   "execution_count": null,
   "metadata": {},
   "outputs": [],
   "source": [
    "df['last_rew'] = df['reviews']\n",
    "\n",
    "df['last_rew']=df['last_rew'].str[-27:-17]\n",
    "\n",
    "now = datetime.now()\n",
    "\n",
    "#base['Last_rew'][base.Last_rew.str.contains(\"]\")]=now\n",
    "df['last_rew'][df.last_rew.str.contains(\"]\")==True] = now\n",
    "df['last_rew'] = df['last_rew'].fillna(now)\n",
    "\n",
    "# приравниваем строки без даты к сегодня\n",
    "\n",
    "df['last_rew'] = [pd.to_datetime(i) for i in df.last_rew]"
   ]
  },
  {
   "cell_type": "code",
   "execution_count": null,
   "metadata": {},
   "outputs": [],
   "source": [
    "df['last_rew_date'] = abs(df['last_rew']-now)\n",
    "df['last_rew_date'] = [i.total_seconds() for i in df.last_rew_date]\n",
    "df['last_rew_date'] = df['last_rew_date']\n",
    "df['last_rew_date'] = df['last_rew_date'].fillna(0)\n",
    "\n",
    "\n",
    "\n",
    "# print('')\n",
    "# print(len(df.last_rew_date))\n",
    "print((df.last_rew_date[1]))"
   ]
  },
  {
   "cell_type": "markdown",
   "metadata": {},
   "source": [
    "# Number of reviews"
   ]
  },
  {
   "cell_type": "code",
   "execution_count": null,
   "metadata": {},
   "outputs": [],
   "source": [
    "df['num_rew'].isna().value_counts()"
   ]
  },
  {
   "cell_type": "markdown",
   "metadata": {},
   "source": [
    "Видим пропуски в данных. Пропущенные значения в количестве отзывов, но, фактически, имеющие таковые заменим на среднее значение"
   ]
  },
  {
   "cell_type": "code",
   "execution_count": null,
   "metadata": {},
   "outputs": [],
   "source": [
    "mean_rev = df['num_rew'].mean()\n",
    "mean_rev"
   ]
  },
  {
   "cell_type": "code",
   "execution_count": null,
   "metadata": {},
   "outputs": [],
   "source": [
    "df['num_rew'] = df['num_rew'].fillna('No_info')"
   ]
  },
  {
   "cell_type": "markdown",
   "metadata": {},
   "source": [
    "Сравним фактическое отсутвие информации с отсутвием/наличием отзывов в колонке reviews"
   ]
  },
  {
   "cell_type": "code",
   "execution_count": null,
   "metadata": {},
   "outputs": [],
   "source": [
    "df_rev = df[(df['num_rew'] == 'No_info') & (df['reviews'] == 'No_info')]\n",
    "rev_index = list(df_rev.index)\n"
   ]
  },
  {
   "cell_type": "code",
   "execution_count": null,
   "metadata": {},
   "outputs": [],
   "source": [
    "index_list = []\n",
    "for i in df_rev.index:\n",
    "    index_list.append(i)\n",
    "\n",
    "for i in index_list:\n",
    "    df['num_rew'][i] = 0\n",
    "    "
   ]
  },
  {
   "cell_type": "markdown",
   "metadata": {},
   "source": [
    "Отсутствующие значения заменим средним количеством отзывов"
   ]
  },
  {
   "cell_type": "code",
   "execution_count": null,
   "metadata": {},
   "outputs": [],
   "source": [
    "df['num_rew'] = df['num_rew'].replace('No_info',mean_rev)"
   ]
  },
  {
   "cell_type": "code",
   "execution_count": null,
   "metadata": {},
   "outputs": [],
   "source": [
    "type(np.array(df['num_rew']))"
   ]
  },
  {
   "cell_type": "code",
   "execution_count": null,
   "metadata": {},
   "outputs": [],
   "source": [
    "df['num_rew'].isna().value_counts()"
   ]
  },
  {
   "cell_type": "code",
   "execution_count": null,
   "metadata": {},
   "outputs": [],
   "source": [
    "df['population'].isna().value_counts()"
   ]
  },
  {
   "cell_type": "markdown",
   "metadata": {},
   "source": [
    "Добавим признак соотношения населения к количеству отзывов"
   ]
  },
  {
   "cell_type": "code",
   "execution_count": null,
   "metadata": {
    "scrolled": true
   },
   "outputs": [],
   "source": [
    "ratio_list = []\n",
    "for i in range(0, len(df.num_rew)):\n",
    "    ratio_list.append(df['num_rew'][i]/df['population'][i])\n",
    "\n"
   ]
  },
  {
   "cell_type": "code",
   "execution_count": null,
   "metadata": {},
   "outputs": [],
   "source": [
    "df['ratio_rev'] = ratio_list"
   ]
  },
  {
   "cell_type": "markdown",
   "metadata": {},
   "source": [
    "# ID_TA"
   ]
  },
  {
   "cell_type": "markdown",
   "metadata": {},
   "source": [
    "Иднетификатор с системе Trip Advisor. Переведем в INT"
   ]
  },
  {
   "cell_type": "code",
   "execution_count": null,
   "metadata": {},
   "outputs": [],
   "source": [
    "df['id_ta'] = df['id_ta'].str[1:]"
   ]
  },
  {
   "cell_type": "code",
   "execution_count": null,
   "metadata": {},
   "outputs": [],
   "source": [
    "for i in df.id_ta:\n",
    "    i = int(i)"
   ]
  },
  {
   "cell_type": "code",
   "execution_count": null,
   "metadata": {
    "scrolled": true
   },
   "outputs": [],
   "source": [
    "# df.head()"
   ]
  },
  {
   "cell_type": "markdown",
   "metadata": {},
   "source": [
    "# Копия сета для визуализации"
   ]
  },
  {
   "cell_type": "code",
   "execution_count": null,
   "metadata": {},
   "outputs": [],
   "source": [
    "data_vis = df"
   ]
  },
  {
   "cell_type": "markdown",
   "metadata": {},
   "source": [
    "# Дополнительные шаги для оптимизации модели"
   ]
  },
  {
   "cell_type": "markdown",
   "metadata": {},
   "source": [
    "Проверим, может в датасете есть сетевые рестораны и, если есть, добавим для них идентификатор"
   ]
  },
  {
   "cell_type": "code",
   "execution_count": null,
   "metadata": {
    "scrolled": false
   },
   "outputs": [],
   "source": [
    "net = df.id.value_counts()\n",
    "net_dict = dict(net)\n",
    "\n",
    "net_frame = pd.DataFrame({'count':net_dict}, columns = ['count'])\n",
    "\n",
    "id_index = net_frame.index\n",
    "id_key = net_frame.values\n",
    "\n",
    "df['net'] = df['id'].replace(id_index,id_key)\n",
    "\n",
    "# df.head()\n",
    "    "
   ]
  },
  {
   "cell_type": "code",
   "execution_count": null,
   "metadata": {
    "scrolled": true
   },
   "outputs": [],
   "source": [
    "df.loc[(df['net'] == 1), 'count'] = 0"
   ]
  },
  {
   "cell_type": "code",
   "execution_count": null,
   "metadata": {},
   "outputs": [],
   "source": [
    "df.loc[(df['net'] > 1), 'count'] = 1"
   ]
  },
  {
   "cell_type": "code",
   "execution_count": null,
   "metadata": {
    "scrolled": true
   },
   "outputs": [],
   "source": [
    "df['count'].value_counts()"
   ]
  },
  {
   "cell_type": "markdown",
   "metadata": {},
   "source": [
    "Используем значение соотношения общего турпотока к населению города, для примерной оценки приезжих по странам "
   ]
  },
  {
   "cell_type": "code",
   "execution_count": null,
   "metadata": {},
   "outputs": [],
   "source": [
    "data = df\n",
    "df['flow_pop'] = df['flow']/df['population']\n",
    "stand = np.std(df['flow_pop'])\n",
    "mean = np.mean(df['flow_pop'])\n",
    "df['std_flow'] = (df['flow_pop'] - mean)/stand\n",
    "\n"
   ]
  },
  {
   "cell_type": "markdown",
   "metadata": {},
   "source": [
    "Очистим данные, убрав ненужные нечисловые признаки"
   ]
  },
  {
   "cell_type": "code",
   "execution_count": null,
   "metadata": {},
   "outputs": [],
   "source": [
    "df = df.drop('id',axis = 1)\n",
    "df = df.drop('city',axis = 1)\n",
    "df = df.drop('url',axis = 1)\n",
    "df = df.drop('country',axis = 1)\n",
    "df = df.drop('last_rew',axis = 1)\n",
    "df = df.drop('reviews',axis = 1)\n",
    "df = df.drop('cuisine',axis = 1)\n",
    "# df = df.drop('population',axis = 1)\n",
    "# df = df.drop('flow_pop',axis = 1)\n",
    "# df = df.drop('flow',axis = 1)\n",
    "# df = df.drop('count',axis = 1)\n",
    "# df = df.drop('No_info',axis = 1)\n",
    "# df = df.drop('Europian',axis = 1)\n",
    "# df = df.drop('cus_number',axis = 1)\n",
    "# df = df.drop('Indian',axis = 1)\n",
    "# df = df.drop('French',axis = 1)"
   ]
  },
  {
   "cell_type": "markdown",
   "metadata": {},
   "source": [
    "# Визуализация признаков\n"
   ]
  },
  {
   "cell_type": "markdown",
   "metadata": {},
   "source": [
    "Смотрим распределение городских рейтингов в тренировочном наборею Окровенно плохих значительно меньше "
   ]
  },
  {
   "cell_type": "code",
   "execution_count": null,
   "metadata": {},
   "outputs": [],
   "source": [
    "plt.rcParams['figure.figsize'] = (10,7)\n",
    "df_train['Ranking'].hist(bins=100)\n",
    "df_train['Ranking'].describe()\n"
   ]
  },
  {
   "cell_type": "code",
   "execution_count": null,
   "metadata": {
    "scrolled": false
   },
   "outputs": [],
   "source": [
    "boxplot = df_train.boxplot(column = ['Ranking'])"
   ]
  },
  {
   "cell_type": "markdown",
   "metadata": {},
   "source": [
    "Проверим значения Rankings на выбросы."
   ]
  },
  {
   "cell_type": "code",
   "execution_count": null,
   "metadata": {},
   "outputs": [],
   "source": [
    "# median = df_train.Ranking.median()\n",
    "# IQR = df_train.Ranking.quantile(0.75) - df_train.Ranking.quantile(0.25)\n",
    "# perc25 = df_train.Ranking.quantile(0.25)\n",
    "# perc75 = df_train.Ranking.quantile(0.75)\n",
    "# print('25-й перцентиль: {},'.format(perc25), '75-й перцентиль: {},'.format(perc75),\n",
    "#       \"IQR: {}, \".format(IQR), \"Границы выбросов: [{f}, {l}].\".format(f=perc25 - 1.5*IQR, l=perc75 + 1.5*IQR))"
   ]
  },
  {
   "cell_type": "markdown",
   "metadata": {},
   "source": [
    "Согласно расчёту значения внутреннего рейтинга выше 11690 статистически являются выбросами.\n",
    "\n",
    "Уберем рестораны, являющиеся \"выбросами\" из общего датасета"
   ]
  },
  {
   "cell_type": "code",
   "execution_count": null,
   "metadata": {},
   "outputs": [],
   "source": [
    "# df = df[df['ranking'] <= 11690]\n"
   ]
  },
  {
   "cell_type": "markdown",
   "metadata": {},
   "source": [
    "Распределение по городам очевидно показывает преобладание в больших городах"
   ]
  },
  {
   "cell_type": "code",
   "execution_count": null,
   "metadata": {
    "scrolled": true
   },
   "outputs": [],
   "source": [
    "df_train['City'].value_counts(ascending=True).plot(kind='barh')"
   ]
  },
  {
   "cell_type": "markdown",
   "metadata": {},
   "source": [
    "Распределение внутренних рейтингов в Лондоне. "
   ]
  },
  {
   "cell_type": "markdown",
   "metadata": {},
   "source": [
    "Распределение рейтингов по городам. Очевидно, что города с большим населением имеют больше высоких оценок. Целесообразно для оценки использовать соотношение рейтинга к населению"
   ]
  },
  {
   "cell_type": "code",
   "execution_count": null,
   "metadata": {},
   "outputs": [],
   "source": [
    "data_vis.columns"
   ]
  },
  {
   "cell_type": "code",
   "execution_count": null,
   "metadata": {
    "scrolled": true
   },
   "outputs": [],
   "source": [
    "for x in (data_vis['city'].value_counts())[0:10].index:\n",
    "    data_vis['ranking'][data_vis['city'] == x].hist(bins=100)\n",
    "plt.show()"
   ]
  },
  {
   "cell_type": "markdown",
   "metadata": {},
   "source": [
    "Распределение отзывов для рейтинга 5. \n",
    "\n",
    "Преобладающее большинство ресторанов с рейтингом 5 имеют относительно небольшое количество отзывов. Из всего тренеровочного сета таких ресторанов 3879"
   ]
  },
  {
   "cell_type": "code",
   "execution_count": null,
   "metadata": {
    "scrolled": false
   },
   "outputs": [],
   "source": [
    "df['ranking'][df['rating'] == 5].hist(bins=100)"
   ]
  },
  {
   "cell_type": "code",
   "execution_count": null,
   "metadata": {},
   "outputs": [],
   "source": [
    "df_high = df_train[df_train['Rating'] == 5]\n",
    "df_high.Rating.value_counts()"
   ]
  },
  {
   "cell_type": "markdown",
   "metadata": {},
   "source": [
    "Распределение отзывов для рейтинга ниже 4"
   ]
  },
  {
   "cell_type": "code",
   "execution_count": null,
   "metadata": {},
   "outputs": [],
   "source": [
    "df_train['Ranking'][df_train['Rating'] < 4].hist(bins=100)"
   ]
  },
  {
   "cell_type": "code",
   "execution_count": null,
   "metadata": {},
   "outputs": [],
   "source": [
    "df.rating.isna().value_counts()"
   ]
  },
  {
   "cell_type": "code",
   "execution_count": null,
   "metadata": {},
   "outputs": [],
   "source": [
    "corr_matrix = df.corr(method = 'pearson')\n",
    "# corr_matrix"
   ]
  },
  {
   "cell_type": "code",
   "execution_count": null,
   "metadata": {},
   "outputs": [],
   "source": [
    "corr_matrix.rating.sort_values(ascending = False)"
   ]
  },
  {
   "cell_type": "markdown",
   "metadata": {},
   "source": [
    "Согласно корреляционной матрице наибольшее влияние оказывает сетевой формат ресторана. Очевидно, что благодаря охвату. Сам по себе сетевой признак (1 или 0) оказывает меньшее влияние."
   ]
  },
  {
   "cell_type": "code",
   "execution_count": null,
   "metadata": {},
   "outputs": [],
   "source": [
    "corr_matrix.rating.sort_values(ascending = False)[1:]"
   ]
  },
  {
   "cell_type": "code",
   "execution_count": null,
   "metadata": {},
   "outputs": [],
   "source": [
    "plt.figure(figsize=(30,30)) # размер графика\n",
    "sns.heatmap(data = corr_matrix, annot=True)"
   ]
  },
  {
   "cell_type": "code",
   "execution_count": null,
   "metadata": {},
   "outputs": [],
   "source": [
    "train_data = df.query('mark == 1').drop(['mark'], axis=1)\n",
    "test_data = df.query('mark == 0').drop(['mark'], axis=1)\n",
    "\n",
    "y = train_data.rating.values            # наш таргет\n",
    "X = train_data.drop(['rating'], axis=1)"
   ]
  },
  {
   "cell_type": "code",
   "execution_count": null,
   "metadata": {},
   "outputs": [],
   "source": [
    "X_train, X_test, y_train, y_test = train_test_split(X, y, test_size=0.2, random_state=RANDOM_SEED)"
   ]
  },
  {
   "cell_type": "code",
   "execution_count": null,
   "metadata": {},
   "outputs": [],
   "source": [
    "# Импортируем необходимые библиотеки:\n",
    "from sklearn.ensemble import RandomForestRegressor # инструмент для создания и обучения модели\n",
    "from sklearn import metrics # инструменты для оценки точности модели"
   ]
  },
  {
   "cell_type": "code",
   "execution_count": null,
   "metadata": {},
   "outputs": [],
   "source": [
    "# Создаём модель\n",
    "regr = RandomForestRegressor(n_estimators=100)\n",
    "\n",
    "# Обучаем модель на тестовом наборе данных\n",
    "regr.fit(X_train, y_train)\n",
    "\n",
    "# Используем обученную модель для предсказания рейтинга ресторанов в тестовой выборке.\n",
    "# Предсказанные значения записываем в переменную y_pred\n",
    "y_pred = regr.predict(X_test)"
   ]
  },
  {
   "cell_type": "code",
   "execution_count": null,
   "metadata": {},
   "outputs": [],
   "source": [
    "# Сравниваем предсказанные значения (y_pred) с реальными (y_test), и смотрим насколько они в среднем отличаются\n",
    "# Метрика называется Mean Absolute Error (MAE) и показывает среднее отклонение предсказанных значений от фактических.\n",
    "print('MAE:', metrics.mean_absolute_error(y_test, y_pred))"
   ]
  },
  {
   "cell_type": "code",
   "execution_count": null,
   "metadata": {},
   "outputs": [],
   "source": []
  },
  {
   "cell_type": "code",
   "execution_count": null,
   "metadata": {
    "scrolled": true
   },
   "outputs": [],
   "source": [
    "plt.rcParams['figure.figsize'] = (10,10)\n",
    "feat_importances = pd.Series(regr.feature_importances_, index=X.columns)\n",
    "feat_importances.nlargest(15).plot(kind='barh')"
   ]
  },
  {
   "cell_type": "markdown",
   "metadata": {},
   "source": [
    "Ниже указанны шаги, предпринятые для оптимизации модели. Изменения вносились в код выше.\n",
    "\n",
    "1. Первое приближение (MAE: 0.208358125)\n",
    "\n",
    "1.1 Согласно оценке в первом приближении наименьшее влияние на прогноз оказали кухни. Вполне ожидаемо город расположения имеет сильное влияние. Попробуем заменить идентификатор города на соотношение отзывов и населения\n",
    "\n",
    "1.2 Признак Ranking очевидно сильно влияет, так как выступает в роли привлекательности ресторана.\n",
    "\n",
    "2. Второе приближение. (MAE: 0.20872625) \n",
    "\n",
    "2.1 Добавим признак сетевых ресторанов. \n",
    "\n",
    "3. Третье приближение MAE: (0.20782499)\n",
    "\n",
    "3.1 Попробуем убрать незначительные признаки (убираем идентификаторы кухонь), оставив только более или менее выраженные\n",
    "\n",
    "4. Четвертое приближение (MAE: 0.203624375)\n",
    "\n",
    "4.1 Добавим нормализацию признака \"рейтинг\"\n",
    "\n",
    "5. Пятое приближение (MAE: 0.20099937 )\n",
    "\n",
    "Со всеми числовыми признаками"
   ]
  },
  {
   "cell_type": "code",
   "execution_count": null,
   "metadata": {
    "scrolled": true
   },
   "outputs": [],
   "source": []
  },
  {
   "cell_type": "code",
   "execution_count": null,
   "metadata": {},
   "outputs": [],
   "source": []
  },
  {
   "cell_type": "code",
   "execution_count": null,
   "metadata": {},
   "outputs": [],
   "source": []
  },
  {
   "cell_type": "markdown",
   "metadata": {},
   "source": [
    "# Submission\n"
   ]
  },
  {
   "cell_type": "code",
   "execution_count": null,
   "metadata": {},
   "outputs": [],
   "source": [
    "# test_data.sample(10)\n",
    "# test_data = test_data.drop(['rating'], axis=1)"
   ]
  },
  {
   "cell_type": "code",
   "execution_count": null,
   "metadata": {},
   "outputs": [],
   "source": [
    "# len(test_data)"
   ]
  },
  {
   "cell_type": "code",
   "execution_count": null,
   "metadata": {},
   "outputs": [],
   "source": [
    "# len(sample_submission)"
   ]
  },
  {
   "cell_type": "code",
   "execution_count": null,
   "metadata": {},
   "outputs": [],
   "source": [
    "# predict_submission = regr.predict(test_data)\n",
    "\n",
    "# len(predict_submission)"
   ]
  },
  {
   "cell_type": "code",
   "execution_count": null,
   "metadata": {},
   "outputs": [],
   "source": [
    "# def round_nearest(x, a):\n",
    "#     return round(x / a) * a\n",
    "\n",
    "# sample_submission['Rating'] = predict_submission.round(1)\n",
    "# sample_submission['Rating'] = round_nearest(sample_submission['Rating'], 0.5)\n",
    "\n",
    "\n",
    "# sample_submission.head(10)\n",
    "\n",
    "# sample_submission.to_csv('submission.csv', index=False)"
   ]
  },
  {
   "cell_type": "code",
   "execution_count": null,
   "metadata": {},
   "outputs": [],
   "source": [
    "# data = pd.read_csv('submission.csv')\n",
    "# data.head()"
   ]
  },
  {
   "cell_type": "code",
   "execution_count": null,
   "metadata": {},
   "outputs": [],
   "source": []
  }
 ],
 "metadata": {
  "kernelspec": {
   "display_name": "Python 3",
   "language": "python",
   "name": "python3"
  },
  "language_info": {
   "codemirror_mode": {
    "name": "ipython",
    "version": 3
   },
   "file_extension": ".py",
   "mimetype": "text/x-python",
   "name": "python",
   "nbconvert_exporter": "python",
   "pygments_lexer": "ipython3",
   "version": "3.7.4"
  }
 },
 "nbformat": 4,
 "nbformat_minor": 2
}
